{
 "cells": [
  {
   "cell_type": "code",
   "execution_count": 4,
   "metadata": {},
   "outputs": [
    {
     "name": "stdout",
     "output_type": "stream",
     "text": [
      "['b', 'ba', 'ban', 'bana', 'banan', 'banana', 'a', 'an', 'ana', 'anan', 'anana', 'n', 'na', 'nan', 'nana', 'a', 'an', 'ana', 'n', 'na', 'a']\n"
     ]
    },
    {
     "data": {
      "text/plain": [
       "'aananaananananabbabanbanabananbananannanannana'"
      ]
     },
     "execution_count": 4,
     "metadata": {},
     "output_type": "execute_result"
    }
   ],
   "source": [
    "name=\"banana\"\n",
    "k=10\n",
    "l=[]\n",
    "for i in range(len(name)):\n",
    "    for j in range(i,len(name)):\n",
    "        l.append(name[i:j+1])\n",
    "print(l)\n",
    "l=list(set(l))\n",
    "l.sort()\n",
    "l=\"\".join(l) \n",
    "l"
   ]
  },
  {
   "cell_type": "code",
   "execution_count": null,
   "metadata": {},
   "outputs": [],
   "source": [
    "l=list(set(l))\n",
    "l.sort()\n",
    "l=\"\".join(l)\n",
    "l[k-1]"
   ]
  },
  {
   "cell_type": "markdown",
   "metadata": {},
   "source": []
  },
  {
   "cell_type": "code",
   "execution_count": null,
   "metadata": {},
   "outputs": [],
   "source": [
    "def knapsack(n,W,wt,val):\n",
    "    if(n==0 or W==0):\n",
    "        return 0\n",
    "    if(wt[n-1]>W):\n",
    "        return knapsack(n-1,W,wt,val)\n",
    "    else:\n",
    "        return max(val[n-1] + knapsack(n-1,W-wt[n-1],wt,val),knapsack(n-1,W,wt,val))\n",
    "n=int(input())\n",
    "wt=list(map(int,input().split(\" \")))\n",
    "val=list(map(int,input().split(\" \")))\n",
    "W=int(input())\n",
    "profit=knapsack(n,W,wt,val)\n",
    "print(profit)"
   ]
  },
  {
   "cell_type": "code",
   "execution_count": null,
   "metadata": {},
   "outputs": [],
   "source": [
    "profit\n"
   ]
  },
  {
   "cell_type": "markdown",
   "metadata": {},
   "source": [
    "# 1.Reverse an array\n"
   ]
  },
  {
   "cell_type": "code",
   "execution_count": 2,
   "metadata": {},
   "outputs": [
    {
     "name": "stdout",
     "output_type": "stream",
     "text": [
      "1 2 3 4 5 6\n",
      "6,5,4,3,2,1\n",
      "3\n"
     ]
    }
   ],
   "source": [
    "arr=list(map(int,input().strip().split()))\n",
    "s=0\n",
    "e=len(arr)-1\n",
    "c=0\n",
    "while(s<e):\n",
    "    c+=1\n",
    "    #arr[s],arr[e]=arr[e],arr[s]\n",
    "    arr[s]=arr[s]+arr[e] #a=a+b\n",
    "    arr[e]=arr[s]-arr[e]\n",
    "    arr[s]=arr[s]-arr[e]\n",
    "    s+=1\n",
    "    e-=1\n",
    "print(\",\".join(map(str,arr)))\n",
    "print(c)"
   ]
  },
  {
   "cell_type": "markdown",
   "metadata": {},
   "source": [
    "# 2.Find the maximum and minimum element in an array\n"
   ]
  },
  {
   "cell_type": "markdown",
   "metadata": {},
   "source": [
    "# 1. By linear search"
   ]
  },
  {
   "cell_type": "code",
   "execution_count": null,
   "metadata": {},
   "outputs": [],
   "source": [
    "def linearminmax(arr,n):\n",
    "    mini=arr[0]\n",
    "    maxi=arr[0]\n",
    "    for i in range(1,n):\n",
    "        if(arr[i]>maxi):\n",
    "            maxi=arr[i]\n",
    "        elif(arr[i]<mini):\n",
    "            mini=arr[i]\n",
    "    return [mini,maxi]\n",
    "    \n",
    "\n",
    "arr=[1,72,4,2,83,38,29,84,27,472,74,37,73]\n",
    "mini,maxi=linearminmax(arr,len(arr))\n",
    "print(mini,maxi)"
   ]
  },
  {
   "cell_type": "markdown",
   "metadata": {},
   "source": [
    "# 2.divide array in two parts"
   ]
  },
  {
   "cell_type": "code",
   "execution_count": null,
   "metadata": {},
   "outputs": [],
   "source": [
    "import sys\n",
    "def minmaxdivide(arr,low,high):\n",
    "    mini=-sys.maxsize-1\n",
    "    maxi=sys.maxsize\n",
    "    if(low==high):\n",
    "        mini=arr[low]\n",
    "        maxi=arr[high]\n",
    "        return [mini,maxi]\n",
    "    else:\n",
    "        mid=(low+high)//2\n",
    "        mini,maxi=minmaxdivide(arr,low,mid)\n",
    "        mini1,maxi1=minmaxdivide(arr,mid+1,high)\n",
    "        if(mini>mini1):\n",
    "            mini=mini1\n",
    "        if(maxi1>maxi):\n",
    "            maxi=maxi1\n",
    "        return [mini,maxi]\n",
    "arr=[1,72,4,2,83,38,29,84,27,472,74,37,73]\n",
    "mini,maxi=bytwosteps(arr,len(arr))\n",
    "print(mini,maxi)       "
   ]
  },
  {
   "cell_type": "markdown",
   "metadata": {},
   "source": [
    "# 3. By two steps"
   ]
  },
  {
   "cell_type": "code",
   "execution_count": null,
   "metadata": {},
   "outputs": [],
   "source": [
    "def bytwosteps(arr,n):\n",
    "    if(n%2==1):\n",
    "        maxi=arr[0]\n",
    "        mini=arr[0]\n",
    "        i=1\n",
    "    if(n%2==0):\n",
    "        if(arr[0]>=arr[1]):\n",
    "            mini=arr[1]\n",
    "            maxi=arr[0]\n",
    "        else:\n",
    "            mini=arr[0]\n",
    "            maxi=arr[1]\n",
    "        i=2\n",
    "    while(i<n-1):\n",
    "        if(arr[i]<arr[i+1]):\n",
    "            if(arr[i+1]>maxi):\n",
    "                maxi=arr[i+1]\n",
    "            if(arr[i]<mini):\n",
    "                mini=arr[i]\n",
    "        else:\n",
    "            if(arr[i]>maxi):\n",
    "                maxi=arr[i]\n",
    "            if(arr[i+1]<mini):\n",
    "                mini=arr[i+1]\n",
    "        i+=2\n",
    "    return [mini,maxi]\n",
    "                \n",
    "    \n",
    "arr=[1,72,4,2,83,38,29,84,27,472,74,37,73]\n",
    "mini,maxi=bytwosteps(arr,len(arr))\n",
    "print(mini,maxi)"
   ]
  },
  {
   "cell_type": "code",
   "execution_count": null,
   "metadata": {},
   "outputs": [],
   "source": [
    "import sys\n",
    "print(-sys.maxsize-1)"
   ]
  },
  {
   "cell_type": "code",
   "execution_count": null,
   "metadata": {},
   "outputs": [],
   "source": [
    "a=5\n",
    "b=16\n",
    "a=a+b\n",
    "b=a-b\n",
    "a=a-b"
   ]
  },
  {
   "cell_type": "code",
   "execution_count": null,
   "metadata": {},
   "outputs": [],
   "source": [
    "a,b"
   ]
  },
  {
   "cell_type": "markdown",
   "metadata": {},
   "source": [
    "# 3.Find the \"Kth\" max and min element of an array "
   ]
  },
  {
   "cell_type": "code",
   "execution_count": null,
   "metadata": {},
   "outputs": [],
   "source": [
    "import random\n",
    "def klargest(arr,k):\n",
    "    pivot=random.choice(arr)\n",
    "    left=[i for i in arr if i>pivot]\n",
    "    mid=[i for i in arr if i==pivot]\n",
    "    right=[i for i in arr if i<pivot]\n",
    "    print(left,mid,right)\n",
    "    l,m=len(left),len(mid)\n",
    "    if(k<=l):\n",
    "        return klargest(left,k)\n",
    "    elif(k>(l+m)):\n",
    "        return klargest(right,k-(l+m))\n",
    "    else:\n",
    "        a=mid[0]\n",
    "        return a\n",
    "    \n",
    "arr=[1,72,4,2,83,38,29,84,27,472,74,37,83]\n",
    "print(klargest(arr,3))"
   ]
  },
  {
   "cell_type": "code",
   "execution_count": null,
   "metadata": {},
   "outputs": [],
   "source": [
    "a=random.choice([1,2,3,5])\n",
    "print(a)"
   ]
  },
  {
   "cell_type": "code",
   "execution_count": 1,
   "metadata": {},
   "outputs": [
    {
     "name": "stdout",
     "output_type": "stream",
     "text": [
      "83\n"
     ]
    }
   ],
   "source": [
    "def klargest(arr,k):\n",
    "    #a=sorted(arr)\n",
    "    arr.sort()\n",
    "    return arr[len(arr)-k]\n",
    "arr=[1,72,4,2,83,38,29,84,27,472,74,37,83]\n",
    "print(klargest(arr,3))"
   ]
  },
  {
   "cell_type": "code",
   "execution_count": 22,
   "metadata": {},
   "outputs": [
    {
     "name": "stdout",
     "output_type": "stream",
     "text": [
      "7\n"
     ]
    }
   ],
   "source": [
    "from heapq import *\n",
    "arr=[7,10,4,3,20,15]\n",
    "k=3\n",
    "r=len(arr)-1\n",
    "minheap=[]\n",
    "for i in range(k):\n",
    "    heappush(minheap,-arr[i])\n",
    "\n",
    "for i in range(k,r+1):\n",
    "    if(minheap[0]<-arr[i]):\n",
    "        heappop(minheap)\n",
    "        heappush(minheap,-arr[i])\n",
    "print(-minheap[0])\n"
   ]
  },
  {
   "cell_type": "markdown",
   "metadata": {},
   "source": [
    "\n",
    "\n",
    "# 4.Given an array which consists of only 0, 1 and 2. Sort the array without using any sorting algo"
   ]
  },
  {
   "cell_type": "code",
   "execution_count": null,
   "metadata": {},
   "outputs": [],
   "source": [
    "def sort012(arr):\n",
    "    c0=0\n",
    "    c1=0\n",
    "    c2=0\n",
    "    for i in arr:\n",
    "        if(i==0):\n",
    "            c0+=1\n",
    "        elif(i==1):\n",
    "            c1+=1\n",
    "        else:\n",
    "            c2+=1\n",
    "    i=0\n",
    "    while(c0>0):\n",
    "        arr[i]=0\n",
    "        c0-=1\n",
    "        i+=1\n",
    "    while(c1>0):\n",
    "        arr[i]=1\n",
    "        c1-=1\n",
    "        i+=1\n",
    "    while(c2>0):\n",
    "        arr[i]=2\n",
    "        c2-=1\n",
    "        i+=1\n",
    "    return arr\n",
    "    \n",
    "arr=[1,2,0,2,0,0,1,2,0,1]\n",
    "print(sort012(arr))"
   ]
  },
  {
   "cell_type": "code",
   "execution_count": null,
   "metadata": {},
   "outputs": [],
   "source": [
    "def sort012(arr):\n",
    "    low=0\n",
    "    mid=0\n",
    "    high=len(arr)-1\n",
    "    while(mid<=high):\n",
    "        if(arr[mid]==0):\n",
    "            arr[low],arr[mid]=arr[mid],arr[low]\n",
    "            low+=1\n",
    "            mid+=1\n",
    "        elif(arr[mid]==1):\n",
    "            mid+=1\n",
    "        else:\n",
    "            arr[high],arr[mid]=arr[mid],arr[high]\n",
    "            high-=1\n",
    "        print(arr)\n",
    "    return arr\n",
    "arr=[1,2,0,2,0,0,1,2,0,1]\n",
    "print(sort012(arr))    "
   ]
  },
  {
   "cell_type": "markdown",
   "metadata": {},
   "source": [
    "# 5.Move all the negative elements to one side of the array "
   ]
  },
  {
   "cell_type": "code",
   "execution_count": null,
   "metadata": {},
   "outputs": [],
   "source": [
    "# 1. By transversing element one by one and j points in all itration forst positive"
   ]
  },
  {
   "cell_type": "code",
   "execution_count": 1,
   "metadata": {},
   "outputs": [
    {
     "name": "stdout",
     "output_type": "stream",
     "text": [
      "[-3, -8, -47, 6, 5, 1, 4]\n"
     ]
    }
   ],
   "source": [
    "def shift(arr):\n",
    "    j=0\n",
    "    for i in range(len(arr)):\n",
    "        if(arr[i]<0):\n",
    "            arr[i],arr[j]=arr[j],arr[i]\n",
    "            j+=1\n",
    "    return arr\n",
    "a=[1,-3,4,6,5,-8,-47]\n",
    "print(shift(a))\n",
    "        "
   ]
  },
  {
   "cell_type": "markdown",
   "metadata": {},
   "source": [
    "# 2. By double pointer start and end"
   ]
  },
  {
   "cell_type": "code",
   "execution_count": null,
   "metadata": {},
   "outputs": [],
   "source": [
    "def shift(arr):\n",
    "    s=0\n",
    "    e=len(arr)-1\n",
    "    while(s<e):\n",
    "        if(arr[s]<0 and arr[e]<0):\n",
    "            s+=1\n",
    "        elif(arr[s]>0 and arr[e]<0):\n",
    "            arr[s],arr[e]=arr[e],arr[s]\n",
    "            s+=1\n",
    "            e-=1\n",
    "        elif(arr[s]>0 and arr[e]>0):\n",
    "            e-=1\n",
    "        else:\n",
    "            s+=1\n",
    "            e-=1\n",
    "    return arr\n",
    "a=[1,-3,4,6,5,-8,-47]\n",
    "print(shift(a))"
   ]
  },
  {
   "cell_type": "markdown",
   "metadata": {},
   "source": [
    "# 6.Find the Union and Intersection of the two sorted arrays."
   ]
  },
  {
   "cell_type": "code",
   "execution_count": null,
   "metadata": {},
   "outputs": [],
   "source": [
    "1. For sorted arrry"
   ]
  },
  {
   "cell_type": "code",
   "execution_count": null,
   "metadata": {},
   "outputs": [],
   "source": [
    "def union(arr1,arr2):\n",
    "    i=0\n",
    "    j=0\n",
    "    while(i<len(arr1) and j<len(arr2)):\n",
    "        if(arr1[i]<arr2[j]):\n",
    "            print(arr1[i],end=\" \")\n",
    "            i+=1\n",
    "        elif(arr1[i]>arr2[j]):\n",
    "            print(arr2[j],end=\" \")\n",
    "            j+=1\n",
    "        elif(arr1[i]==arr2[j]):\n",
    "            print(arr1[i],end=\" \")\n",
    "            i+=1\n",
    "            j+=1\n",
    "    while(i<len(arr1)):\n",
    "        print(arr1[i],end=\" \")\n",
    "        i+=1\n",
    "    while(j<len(arr2)):\n",
    "        print(arr2[j])\n",
    "        j+=1\n",
    "def intersection(arr1,arr2):\n",
    "    i=0\n",
    "    j=0\n",
    "    while(i<len(arr1) and j<len(arr2)):\n",
    "        if(arr1[i]<arr2[j]):\n",
    "            i+=1\n",
    "        elif(arr1[i]>arr2[j]):\n",
    "            j+=1\n",
    "        elif(arr1[i]==arr2[j]):\n",
    "            print(arr1[i],end=\" \")\n",
    "            i+=1\n",
    "            j+=1\n",
    "arr1=[3,4,5,8,73,82]\n",
    "arr2=[3,5,7,68,73,84]\n",
    "union(arr1,arr2)\n",
    "intersection(arr1,arr2)"
   ]
  },
  {
   "cell_type": "code",
   "execution_count": null,
   "metadata": {},
   "outputs": [],
   "source": [
    "def binarysearch(arr,low,high,key):\n",
    "    if(low<=high):\n",
    "        mid=(low+high)//2\n",
    "        if(arr[mid]==key):\n",
    "            return 1\n",
    "        elif(arr[mid]<key):\n",
    "            return binarysearch(arr,mid+1,high,key)\n",
    "        elif(arr[mid]>key):\n",
    "            return binarysearch(arr,low,mid-1,key)\n",
    "    return -1\n",
    "        \n",
    "def union(arr1,arr2):\n",
    "    if(len(arr1)>len(arr2)):\n",
    "        temp=arr1\n",
    "        arr1=arr2\n",
    "        arr2=temp\n",
    "    m,n=len(arr1),(arr2)\n",
    "    arr1.sort()\n",
    "    for i in arr1:\n",
    "        print(i,end=\" \")\n",
    "    for i in arr2:\n",
    "        if(binarysearch(arr1,0,m-1,i)==-1):\n",
    "            print(i,end=' ')\n",
    "        \n",
    "def intersection(arr1,arr2):\n",
    "    if(len(arr1)>len(arr2)):\n",
    "        temp=arr1\n",
    "        arr1=arr2\n",
    "        arr2=temp\n",
    "    m,n=len(arr1),(arr2)\n",
    "    arr1.sort()\n",
    "\n",
    "    for i in arr2:\n",
    "        if(binarysearch(arr1,0,m-1,i)==1):\n",
    "            print(i,end=' ')\n",
    "arr1=[3,4,5,8,73,82]\n",
    "arr2=[3,5,7,68,73,84]\n",
    "union(arr1,arr2)\n",
    "print()\n",
    "intersection(arr1,arr2)"
   ]
  },
  {
   "cell_type": "code",
   "execution_count": null,
   "metadata": {},
   "outputs": [],
   "source": [
    "def binarysearch(arr,low,high,key):\n",
    "    if(low<=high):\n",
    "        mid=(low+high)//2\n",
    "        print(low,mid,high)\n",
    "        if(arr[mid]==key):\n",
    "            return mid\n",
    "        elif(arr[mid]<key):\n",
    "            return binarysearch(arr,mid+1,high,key)\n",
    "        elif(arr[mid]>key):\n",
    "            return binarysearch(arr,low,mid-1,key)\n",
    "    return -1\n",
    "arr1=[3,4,5,8,73,82]\n",
    "print(binarysearch(arr1,0,len(arr1)-1,8))\n"
   ]
  },
  {
   "cell_type": "markdown",
   "metadata": {},
   "source": [
    "# 7. Write a program to cyclically rotate an array by one."
   ]
  },
  {
   "cell_type": "markdown",
   "metadata": {},
   "source": [
    "# 1. By storing last element in x.\n"
   ]
  },
  {
   "cell_type": "code",
   "execution_count": null,
   "metadata": {
    "scrolled": true
   },
   "outputs": [],
   "source": [
    "def rotatearrright(arr):\n",
    "    x=arr[len(arr)-1]\n",
    "    for i in range(len(arr)-1,0,-1):\n",
    "        arr[i]=arr[i-1]\n",
    "    arr[0]=x\n",
    "    return arr\n",
    "arr=[12,3,4,5,6,3,4]\n",
    "print(rotatearrright(arr))"
   ]
  },
  {
   "cell_type": "code",
   "execution_count": null,
   "metadata": {},
   "outputs": [],
   "source": [
    "def rotatearrleft(arr):\n",
    "    x=arr[0]\n",
    "    for i in range(0,len(arr)-1):\n",
    "        arr[i]=arr[i+1]\n",
    "    arr[len(arr)-1]=x\n",
    "    return arr\n",
    "arr=[12,3,4,5,6,3,4]\n",
    "print(rotatearrleft(arr))"
   ]
  },
  {
   "cell_type": "markdown",
   "metadata": {},
   "source": [
    "# 2. by swaping"
   ]
  },
  {
   "cell_type": "code",
   "execution_count": null,
   "metadata": {},
   "outputs": [],
   "source": [
    "def rotateright(arr):\n",
    "    j=len(arr)-1\n",
    "    i=0\n",
    "    while(i!=j):\n",
    "        arr[i],arr[j]=arr[j],arr[i]\n",
    "        i+=1    \n",
    "    return arr\n",
    "arr=[12,3,4,5,6,3,4]\n",
    "print(rotate(arr))"
   ]
  },
  {
   "cell_type": "code",
   "execution_count": null,
   "metadata": {},
   "outputs": [],
   "source": [
    "def rotateleft(arr):\n",
    "    j=len(arr)-1\n",
    "    i=0\n",
    "    while(i!=j):\n",
    "        arr[i],arr[j]=arr[j],arr[i]\n",
    "        j-=1    \n",
    "    return arr\n",
    "arr=[12,3,4,5,6,3,4]\n",
    "print(rotateleft(arr))"
   ]
  },
  {
   "cell_type": "markdown",
   "metadata": {},
   "source": [
    "# 8. find Largest sum contiguous Subarray [V. IMP]"
   ]
  },
  {
   "cell_type": "markdown",
   "metadata": {},
   "source": [
    "# 1. Brute force"
   ]
  },
  {
   "cell_type": "code",
   "execution_count": null,
   "metadata": {},
   "outputs": [],
   "source": [
    "import math\n",
    "def SumContiguousSubarray(a):\n",
    "    maxsum=-math.inf\n",
    "    for i in range(len(a)):\n",
    "        curr=0\n",
    "        for j in range(i,len(a)):\n",
    "            curr=curr+a[j]\n",
    "            if(maxsum<curr):\n",
    "                maxsum=curr\n",
    "    return maxsum      \n",
    "a=[1,-2,8,-7,-3,4,6,2,8]\n",
    "print(SumContiguousSubarray(a))"
   ]
  },
  {
   "cell_type": "markdown",
   "metadata": {},
   "source": [
    "# 2.kadane"
   ]
  },
  {
   "cell_type": "code",
   "execution_count": null,
   "metadata": {},
   "outputs": [],
   "source": [
    "def SumContiguousSubarray(a):\n",
    "    maxsum=-math.inf\n",
    "    curr=0\n",
    "    for i in range(len(a)):\n",
    "        curr+=a[i]\n",
    "        if(curr>maxsum):\n",
    "            maxsum=curr\n",
    "        if(curr<0):\n",
    "            curr=0\n",
    "    return maxsum      \n",
    "a=[1,-2,8,-7,-3,4,6,2,8]\n",
    "print(SumContiguousSubarray(a))"
   ]
  },
  {
   "cell_type": "markdown",
   "metadata": {},
   "source": [
    "# 9.Minimise the maximum difference between heights [V.IMP]"
   ]
  },
  {
   "cell_type": "code",
   "execution_count": null,
   "metadata": {},
   "outputs": [],
   "source": [
    "def getMinDiff(arr, n, k):\n",
    "        arr.sort()\n",
    "        minele=0\n",
    "        maxele=0\n",
    "        ans=arr[-1]-arr[0]\n",
    "        for i in range(1,n):\n",
    "            if(arr[i]>=k):\n",
    "                minele=min(arr[0]+k,arr[i]-k)\n",
    "                maxele=max(arr[-1]-k,arr[i-1]+k)\n",
    "                ans=min(ans,maxele-minele)\n",
    "        return ans"
   ]
  },
  {
   "cell_type": "markdown",
   "metadata": {},
   "source": [
    "# 10.Minimum no. of Jumps to reach end of an array"
   ]
  },
  {
   "cell_type": "code",
   "execution_count": null,
   "metadata": {},
   "outputs": [],
   "source": [
    "import math\n",
    "def minJumps(arr, n):\n",
    "    c=[math.inf]*n\n",
    "    c[0]=0\n",
    "    for j in range(1,n):\n",
    "        for i in range(j):\n",
    "            if(j<=(i+arr[i])):\n",
    "                c[j]=min(c[i]+1,c[j])\n",
    "        \n",
    "    return c[-1]\n",
    "n=int(input())\n",
    "arr=list(map(int,input().strip().split()))\n",
    "print(minJumps(arr,n))"
   ]
  },
  {
   "cell_type": "markdown",
   "metadata": {},
   "source": [
    "# 11.find duplicate in an array of N+1 Integers"
   ]
  },
  {
   "cell_type": "code",
   "execution_count": null,
   "metadata": {},
   "outputs": [],
   "source": [
    "# Using set or list\n",
    "def dublicate(a):\n",
    "    l=[]\n",
    "    for i in a:\n",
    "        if(i in l):\n",
    "            return i\n",
    "        else:\n",
    "            l.append(i)\n",
    "a=[1,2,3,7,3,8,5,9,0]\n",
    "print(dublicate(a))"
   ]
  },
  {
   "cell_type": "code",
   "execution_count": null,
   "metadata": {
    "scrolled": true
   },
   "outputs": [],
   "source": [
    "# using index negative\n",
    "def dublicate(a):\n",
    "    for i in a:\n",
    "        curr=abs(i)\n",
    "        if(a[curr]<0):\n",
    "            return abs(curr)\n",
    "        else:\n",
    "            a[curr]=-a[curr]\n",
    "a=[1,2,3,7,2,8,5,4,0]\n",
    "print(dublicate(a))"
   ]
  },
  {
   "cell_type": "markdown",
   "metadata": {},
   "source": [
    "# 12. Merge two sorted array without using extra space"
   ]
  },
  {
   "cell_type": "code",
   "execution_count": null,
   "metadata": {},
   "outputs": [],
   "source": [
    "def merge(arr1,arr2):\n",
    "    n=len(arr1)\n",
    "    m=len(arr2)\n",
    "    i=n-1\n",
    "    j=0\n",
    "    while(i>=0 and j<m):\n",
    "        if(arr1[i]>arr2[j]):\n",
    "            arr1[i],arr2[j]=arr2[j],arr1[i]\n",
    "        i-=1\n",
    "        j+=1\n",
    "    arr1.sort()\n",
    "    arr2.sort()\n",
    "    return arr1,arr2\n",
    "arr1=[1,3,4,7,36,46]\n",
    "arr2=[2,3,7,8,9]\n",
    "print(merge(arr1,arr2))\n",
    "\n",
    "    "
   ]
  },
  {
   "cell_type": "markdown",
   "metadata": {},
   "source": [
    "# 13. Kadane\n"
   ]
  },
  {
   "cell_type": "code",
   "execution_count": null,
   "metadata": {},
   "outputs": [],
   "source": [
    "import math\n",
    "def SumContiguousSubarray(a):\n",
    "    maxsum=-math.inf \n",
    "    curr=0\n",
    "    for i in a:\n",
    "        curr+=i\n",
    "        if(curr>maxsum):\n",
    "            maxsum=curr\n",
    "\n",
    "        if(curr<0):\n",
    "            curr=0\n",
    "    return maxsum\n",
    "        \n",
    "a=[1,-2,10,-7,-3,4,6,2,8]\n",
    "print(SumContiguousSubarray(a))"
   ]
  },
  {
   "cell_type": "markdown",
   "metadata": {},
   "source": [
    "# 14.Merge Intervals\n"
   ]
  },
  {
   "cell_type": "code",
   "execution_count": null,
   "metadata": {},
   "outputs": [],
   "source": [
    "def merge(intervals):\n",
    "    intervals.sort(key= lambda x: x[0])\n",
    "    res=[intervals[0]]\n",
    "    for i in range(1,len(intervals)):\n",
    "        if(res[-1][1]<intervals[i][0]):\n",
    "            res.append(intervals[i])\n",
    "        elif(res[-1][1]<intervals[i][1]):\n",
    "            res[-1][1]=intervals[i][1]\n",
    "    return res\n",
    "a=[[1,3],[2,6],[8,10],[15,18]]\n",
    "print(merge(a))\n",
    "    \n",
    "        "
   ]
  },
  {
   "cell_type": "markdown",
   "metadata": {},
   "source": [
    "# 15.next permution"
   ]
  },
  {
   "cell_type": "code",
   "execution_count": null,
   "metadata": {},
   "outputs": [],
   "source": [
    "def reverse(arr,s):\n",
    "    e=len(arr)-1\n",
    "    while(s<e):\n",
    "        #arr[s],arr[e]=arr[e],arr[s]\n",
    "        arr[s]=arr[s]+arr[e] #a=a+b\n",
    "        arr[e]=arr[s]-arr[e]\n",
    "        arr[s]=arr[s]-arr[e]\n",
    "        s+=1\n",
    "        e-=1\n",
    "    return arr\n",
    "def nextPermutation(num):\n",
    "    i=len(num)-2\n",
    "    while(i>=0 and num[i]>=num[i+1]):\n",
    "        i-=1\n",
    "    print(num[i])\n",
    "    if(i>=0):\n",
    "        j=len(num)-1\n",
    "        while(j>=0 and num[j]<=num[i]):\n",
    "            j-=1\n",
    "        print(num[j])\n",
    "        num[i],num[j]=num[j],num[i]\n",
    "    return reverse(num,i+1)\n",
    "arr=[1,2,3]\n",
    "print(nextPermutation(arr))"
   ]
  },
  {
   "cell_type": "markdown",
   "metadata": {},
   "source": [
    "# 16.Count Inversion"
   ]
  },
  {
   "cell_type": "code",
   "execution_count": null,
   "metadata": {},
   "outputs": [],
   "source": [
    "# By merge sort we count inversion"
   ]
  },
  {
   "cell_type": "code",
   "execution_count": null,
   "metadata": {},
   "outputs": [],
   "source": [
    "\n",
    "def merge(arr, l, m, r):\n",
    "    inversion=0\n",
    "    n1 = m - l + 1\n",
    "    n2 = r- m\n",
    "\n",
    "    # create temp arrays\n",
    "    L = [0] * (n1)\n",
    "    R = [0] * (n2)\n",
    "    for i in range(0 , n1):\n",
    "        L[i] = arr[l + i]\n",
    "\n",
    "    for j in range(0 , n2):\n",
    "        R[j] = arr[m + 1 + j]\n",
    "\n",
    "    i = 0  # Initial index of first subarray\n",
    "    j = 0 # Initial index of second subarray\n",
    "    k = l # Initial index of merged subarray\n",
    "\n",
    "    while i < n1 and j < n2 :\n",
    "        if L[i] <= R[j]:\n",
    "            arr[k] = L[i]\n",
    "            i += 1\n",
    "        else:\n",
    "            inversion+=(n1-i)\n",
    "            arr[k] = R[j]\n",
    "            j += 1\n",
    "        k += 1\n",
    "    while i < n1:\n",
    "        arr[k] = L[i]\n",
    "        i += 1\n",
    "        k += 1\n",
    "    while j < n2:\n",
    "        arr[k] = R[j]\n",
    "        j += 1\n",
    "        k += 1\n",
    "    return inversion\n",
    "\n",
    "# l is for left index and r is right index of the\n",
    "# sub-array of arr to be sorted\n",
    "def mergeSort(arr,l,r):\n",
    "    inv_count=0\n",
    "    if l < r:\n",
    "        \n",
    "        m = (l+r)//2\n",
    "\n",
    "        # Sort first and second halves\n",
    "        inv_count+=mergeSort(arr, l, m)\n",
    "        inv_count+=mergeSort(arr, m+1, r)\n",
    "        inv_count+=merge(arr, l, m, r)\n",
    "    return inv_count\n",
    "\n",
    "# Driver code to test above\n",
    "arr = [12, 11, 13, 5, 6, 7]\n",
    "n = len(arr)\n",
    "print(mergeSort(arr,0,n-1))\n",
    "\n"
   ]
  },
  {
   "cell_type": "code",
   "execution_count": null,
   "metadata": {},
   "outputs": [],
   "source": [
    "# next permution"
   ]
  },
  {
   "cell_type": "code",
   "execution_count": null,
   "metadata": {},
   "outputs": [],
   "source": [
    "def reverse(arr,s):\n",
    "    e=len(arr)-1\n",
    "    while(s<e):\n",
    "        #arr[s],arr[e]=arr[e],arr[s]\n",
    "        arr[s]=arr[s]+arr[e] #a=a+b\n",
    "        arr[e]=arr[s]-arr[e]\n",
    "        arr[s]=arr[s]-arr[e]\n",
    "        s+=1\n",
    "        e-=1\n",
    "    return arr\n",
    "def nextPermutation(num):\n",
    "    i=len(num)-2\n",
    "    while(i>=0 and num[i]>=num[i+1]):\n",
    "        i-=1\n",
    "    print(num[i])\n",
    "    if(i>=0):\n",
    "        j=len(num)-1\n",
    "        while(j>=0 and num[j]<=num[i]):\n",
    "            j-=1\n",
    "        print(num[j])\n",
    "        num[i],num[j]=num[j],num[i]\n",
    "    return reverse(num,i+1)\n",
    "arr=[1,2,3]\n",
    "print(nextPermutation(arr))"
   ]
  },
  {
   "cell_type": "markdown",
   "metadata": {},
   "source": [
    "# 17.Best time to buy and Sell stock"
   ]
  },
  {
   "cell_type": "code",
   "execution_count": null,
   "metadata": {},
   "outputs": [],
   "source": [
    "prices=[7,1,5,3,6,4]\n",
    "maxprofit=0\n",
    "mini=prices[0]\n",
    "for i in range(1,len(prices)):\n",
    "    if(prices[i]>prices[i-1]):\n",
    "        maxprofit=max(maxprofit,prices[i]-mini)\n",
    "    else:\n",
    "        mini=min(mini,prices[i])\n",
    "print(maxprofit)"
   ]
  },
  {
   "cell_type": "code",
   "execution_count": null,
   "metadata": {},
   "outputs": [],
   "source": [
    "# 2.By sliding window"
   ]
  },
  {
   "cell_type": "code",
   "execution_count": null,
   "metadata": {
    "scrolled": true
   },
   "outputs": [],
   "source": [
    "prices=[7,1,5,3,6,4]\n",
    "i=0\n",
    "j=1\n",
    "maxprofit=0\n",
    "while(j<len(prices)):\n",
    "    if(prices[i]>prices[j]):\n",
    "        i=j\n",
    "    else:\n",
    "        maxprofit=max(maxprofit,prices[j]-prices[i])\n",
    "    j+=1   \n",
    "print(maxprofit)"
   ]
  },
  {
   "cell_type": "markdown",
   "metadata": {},
   "source": [
    "# 18. find all pairs on integer array whose sum is equal to given number"
   ]
  },
  {
   "cell_type": "code",
   "execution_count": null,
   "metadata": {},
   "outputs": [],
   "source": [
    "\n",
    "def countpair(arr, n, k):\n",
    "    m=dict()\n",
    "    for i in range(n):\n",
    "        if(arr[i] in m.keys()):\n",
    "            m[arr[i]]+=1\n",
    "        else:\n",
    "            m[arr[i]]=1\n",
    "    t_count=0\n",
    "    for i in range(n):\n",
    "        if(k-arr[i]>0):\n",
    "            if(k-arr[i] in m.keys()):\n",
    "                t_count+=m[k-arr[i]]\n",
    "        if(k-arr[i]==arr[i]):\n",
    "            t_count-=1\n",
    "\n",
    "    return t_count//2\n",
    "arr = list(map(int,\"48 24 99 51 33 39 29 83 74 72 22 46 40 51 67 37 78 76 26 28 76 25 10 65 64 47 34 88 26 49 86 73 73 36 75 5 26 4 39 99 27 12 97 67 63 15 3 92 90\".split()))\n",
    "k=50\n",
    "print(countpair(arr,len(arr),k))"
   ]
  },
  {
   "cell_type": "markdown",
   "metadata": {},
   "source": [
    "# 19. find common elements In 3 sorted arrays"
   ]
  },
  {
   "cell_type": "code",
   "execution_count": null,
   "metadata": {},
   "outputs": [],
   "source": [
    "def commonElements (A, B, C, n1, n2, n3):\n",
    "        i=0\n",
    "        j=0\n",
    "        l=[]\n",
    "        while(i<n1 and j<n2):\n",
    "            if(A[i]>B[j]):\n",
    "                j+=1\n",
    "            elif(A[i]<B[j]):\n",
    "                i+=1\n",
    "            else:\n",
    "                l.append(A[i])\n",
    "                i+=1\n",
    "                j+=1\n",
    "        i=0\n",
    "        j=0\n",
    "        A=[]\n",
    "        while(i<len(l) and j<n3):\n",
    "            if(l[i]>C[j]):\n",
    "                j+=1\n",
    "            elif(l[i]<C[j]):\n",
    "                i+=1\n",
    "            else:\n",
    "                A.append(l[i])\n",
    "                print(A)\n",
    "                i+=1\n",
    "                j+=1\n",
    "        return list(set(A))\n",
    "\n",
    "A=[1,5,10,20,40,80]\n",
    "B=[6,7,20,80,100]\n",
    "C=[3,4,15,20,30,70,80,120]\n",
    "print(commonElements (A, B, C,len(A),len(B),len(C)))"
   ]
  },
  {
   "cell_type": "code",
   "execution_count": null,
   "metadata": {},
   "outputs": [],
   "source": [
    "set([20,80])"
   ]
  },
  {
   "cell_type": "code",
   "execution_count": null,
   "metadata": {},
   "outputs": [],
   "source": [
    "set([20,45,45,54,73,84,92,363])"
   ]
  },
  {
   "cell_type": "markdown",
   "metadata": {},
   "source": [
    "# 20. Rearrange the array in alternating positive and negative items with O(1) extra space"
   ]
  },
  {
   "cell_type": "code",
   "execution_count": null,
   "metadata": {},
   "outputs": [],
   "source": [
    "def rearrange(arr,n):\n",
    "    arr.sort()\n",
    "    print(arr)\n",
    "    j=0\n",
    "    i=1\n",
    "    while(j<n):\n",
    "        if(arr[j]>=0):\n",
    "            break\n",
    "        j+=1\n",
    "    while(arr[i]<0 and j<n):\n",
    "        arr[i],arr[j]=arr[j],arr[i]\n",
    "        i+=2\n",
    "        j+=1\n",
    "    return arr\n",
    "            \n",
    "arr = [-5, -2, 5, -3, 4, -7, -1, 8, 0, -8]\n",
    "ans = rearrange(arr, len(arr))\n",
    "for num in ans:\n",
    "    print(num, end = \" \")"
   ]
  },
  {
   "cell_type": "markdown",
   "metadata": {},
   "source": [
    "# 21.Find if there is any subarray with sum equal to 0"
   ]
  },
  {
   "cell_type": "code",
   "execution_count": null,
   "metadata": {},
   "outputs": [],
   "source": [
    "def subArrayExists(arr,n):\n",
    "        n_sum=0\n",
    "        s=set()\n",
    "        for i in range(n):\n",
    "            n_sum+=arr[i]\n",
    "            if(n_sum==0 or n_sum in s):\n",
    "                return True\n",
    "            s.add(n_sum)\n",
    "        return False\n",
    "arr=[4, 2, -3, 1, 6]\n",
    "print(\"yes\" if(subArrayExists(arr,len(arr))==True) else \"No\")"
   ]
  },
  {
   "cell_type": "markdown",
   "metadata": {},
   "source": [
    "# 22.Find factorial of a large number"
   ]
  },
  {
   "cell_type": "code",
   "execution_count": null,
   "metadata": {},
   "outputs": [],
   "source": [
    "def multiply(arr,n):\n",
    "    l=len(arr)\n",
    "    carry=0\n",
    "    for i in range(l):\n",
    "        a=arr[i]*n +carry\n",
    "        arr[i]=a%10\n",
    "        carry=a//10\n",
    "    carry=list(str(carry))\n",
    "    carry=list(map(int,carry[::-1]))\n",
    "    if(len(carry)==1 and carry[0]==0):\n",
    "        return arr\n",
    "    return arr+carry\n",
    "print(multiply([1,2,3],120))\n",
    "def factorial(n):\n",
    "    arr=[1]\n",
    "    for i in range(1,n+1):\n",
    "        arr=multiply(arr,i)\n",
    "    return arr[::-1]    \n",
    "print(*factorial(100),sep=\"\")"
   ]
  },
  {
   "cell_type": "code",
   "execution_count": null,
   "metadata": {},
   "outputs": [],
   "source": [
    "m=1\n",
    "for i in range(1,1000):\n",
    "    m*=i"
   ]
  },
  {
   "cell_type": "code",
   "execution_count": null,
   "metadata": {},
   "outputs": [],
   "source": [
    "m"
   ]
  },
  {
   "cell_type": "markdown",
   "metadata": {},
   "source": [
    " # 23."
   ]
  },
  {
   "cell_type": "code",
   "execution_count": null,
   "metadata": {},
   "outputs": [],
   "source": [
    "import math\n",
    "def maxProduct(arr, n):\n",
    "    m=-math.inf\n",
    "    curr=1\n",
    "    betneg=1\n",
    "    c=0\n",
    "    for i in range(n):\n",
    "        curr*=arr[i]\n",
    "        if(arr[i]<=0):\n",
    "            betneg=1\n",
    "        else:\n",
    "            betneg*=arr[i]\n",
    "        print(betneg,curr,m)\n",
    "        m=max(m,max(betneg,curr))\n",
    "        print(m)\n",
    "        #if(curr>m):\n",
    "            #m=curr\n",
    "        if(curr==0):\n",
    "            curr=1\n",
    "    print(m)\n",
    "\n",
    "maxProduct([-3,4,6,7,0,2,-1],7)"
   ]
  },
  {
   "cell_type": "code",
   "execution_count": null,
   "metadata": {},
   "outputs": [],
   "source": [
    "# Python 3 program to find maximum \n",
    "# product subarray\n",
    "\n",
    "# Function to find maximum \n",
    "# product subarray\n",
    "def maxProduct(arr, n):\n",
    "    \n",
    "    # Variables to store maximum and \n",
    "    # minimum product till ith index.\n",
    "    minVal = arr[0]\n",
    "    maxVal = arr[0]\n",
    "\n",
    "    maxProduct = arr[0]\n",
    "\n",
    "    for i in range(1, n, 1):\n",
    "        \n",
    "        # When multiplied by -ve number,\n",
    "        # maxVal becomes minVal\n",
    "        # and minVal becomes maxVal.\n",
    "        if (arr[i] < 0):\n",
    "            temp = maxVal\n",
    "            maxVal = minVal\n",
    "            minVal = temp\n",
    "            \n",
    "        # maxVal and minVal stores the\n",
    "        # product of subarray ending at arr[i].\n",
    "        maxVal = max(arr[i], maxVal * arr[i])\n",
    "        minVal = min(arr[i], minVal * arr[i])\n",
    "        print(maxVal,minVal)\n",
    "\n",
    "        # Max Product of array.\n",
    "        maxProduct = max(maxProduct, maxVal)\n",
    "\n",
    "    # Return maximum product \n",
    "    # found in array.\n",
    "    return maxProduct\n",
    "# Driver Code\n",
    "if __name__ == '__main__':\n",
    "    arr = [-1, -3, -10,-8, 0, 60]\n",
    "    n = len(arr)\n",
    "\n",
    "    print(\"Maximum Subarray product is\",\n",
    "                     maxProduct(arr, n))\n",
    "\n",
    "# This code is contributed by\n",
    "# Surendra_Gangwar\n",
    "\n"
   ]
  },
  {
   "cell_type": "code",
   "execution_count": null,
   "metadata": {},
   "outputs": [],
   "source": [
    "import math\n",
    "def maxProduct(arr, n):\n",
    "    m=-math.inf\n",
    "    curr=1\n",
    "    betneg=1\n",
    "    c=0\n",
    "    for i in range(n):\n",
    "        curr*=arr[i]\n",
    "        if(arr[i]<=0):\n",
    "            betneg=1\n",
    "            c=arr[i]\n",
    "    \n",
    "        else:\n",
    "            betneg*=arr[i]\n",
    "        print(betneg,curr,m)\n",
    "        m=max(m,max(betneg,curr))\n",
    "        print(m)\n",
    "        #if(curr>m):\n",
    "            #m=curr\n",
    "        if(curr==0):\n",
    "            curr=1\n",
    "    print(m)\n",
    "\n",
    "maxProduct([9,0,8,-1,-2,-2,6],7)\n",
    "9 0 8 -1 -2 -2 6"
   ]
  },
  {
   "cell_type": "markdown",
   "metadata": {},
   "source": [
    "# 24.Find longest coinsecutive subsequence"
   ]
  },
  {
   "cell_type": "code",
   "execution_count": null,
   "metadata": {},
   "outputs": [],
   "source": [
    "def findLongestConseqSubseq(arr, N):\n",
    "        L=[0]*(max(arr)+1)\n",
    "        \n",
    "        for i in range(N):\n",
    "            L[arr[i]]=1\n",
    "        ans=0\n",
    "        c=0\n",
    "        for i in L:\n",
    "            if(i!=0):\n",
    "                c+=1   \n",
    "                ans=max(ans,c)\n",
    "            else:\n",
    "                c=0\n",
    "        return ans\n",
    "arr=[2,6,1,9,4,5,3]\n",
    "print(findLongestConseqSubseq(arr,len(arr)))\n",
    "    "
   ]
  },
  {
   "cell_type": "code",
   "execution_count": null,
   "metadata": {},
   "outputs": [],
   "source": [
    "def findLongestConseqSubseq(arr, N):\n",
    "    s=set()\n",
    "    for i in range(N):\n",
    "        s.add(arr[i])\n",
    "    ans=0\n",
    "    for i in range(N):\n",
    "        if(arr[i]-1) not in s:\n",
    "            j=arr[i]\n",
    "            c=0\n",
    "            while j in s:\n",
    "                j+=1\n",
    "                c+=1\n",
    "\n",
    "            ans=max(ans,c)\n",
    "    return ans\n",
    "arr=[2,6,1,9,4,5,3]\n",
    "print(findLongestConseqSubseq(arr,len(arr)))"
   ]
  },
  {
   "cell_type": "markdown",
   "metadata": {},
   "source": [
    "# 25.Given an array of size n and a number k, fin all elements that appear more than \" n/k \" times."
   ]
  },
  {
   "cell_type": "code",
   "execution_count": null,
   "metadata": {},
   "outputs": [],
   "source": [
    "import math\n",
    "def moreThanNdK(arr, n, k):\n",
    "    count=math.ceil(n/k)\n",
    "    print(count)\n",
    "    d=dict()\n",
    "    for i in arr:\n",
    "        if(i not in d.keys()):\n",
    "            d[i]=1\n",
    "        else:\n",
    "            d[i]+=1\n",
    "    for i in d.keys():\n",
    "        if(count<=d[i]):\n",
    "            print(f\"Number:{i} Count:{d[i]}\")\n",
    "print(\"First Test\")\n",
    "arr1 = [4, 5, 6, 7, 8, 4, 4]\n",
    "size = len(arr1)\n",
    "k = 3\n",
    "moreThanNdK(arr1, size, k)\n",
    "\n",
    "print(\"Second Test\")\n",
    "arr2 = [4, 2, 2, 7]\n",
    "size = len(arr2)\n",
    "k = 3\n",
    "moreThanNdK(arr2, size, k)\n",
    "\n",
    "print(\"Third Test\")\n",
    "arr3 = [2, 7, 2]\n",
    "size = len(arr3)\n",
    "k = 2\n",
    "moreThanNdK(arr3, size, k)\n",
    "\n",
    "print(\"Fourth Test\")\n",
    "arr4 = [2, 3, 3, 2]\n",
    "size = len(arr4)\n",
    "k = 3\n",
    "moreThanNdK(arr4, size, k)"
   ]
  },
  {
   "cell_type": "code",
   "execution_count": null,
   "metadata": {},
   "outputs": [],
   "source": [
    "list(map(int,\"3 1 2 2 2 1 4 3 3\".split()))"
   ]
  },
  {
   "cell_type": "markdown",
   "metadata": {},
   "source": [
    "# 26.Maximum profit by buying and selling a share atmost twice"
   ]
  },
  {
   "cell_type": "code",
   "execution_count": null,
   "metadata": {},
   "outputs": [],
   "source": []
  },
  {
   "cell_type": "markdown",
   "metadata": {},
   "source": [
    "# 27.Find whether an array is a subset of another array"
   ]
  },
  {
   "cell_type": "code",
   "execution_count": null,
   "metadata": {},
   "outputs": [],
   "source": [
    "def isSubset( a1, a2, n, m):\n",
    "    #if(len(a2)>len(a1)):\n",
    "        #a1,a2=a2,a1\n",
    "        #n,m=m,n\n",
    "    d=dict()\n",
    "    for i in a1:\n",
    "        if(i not in d.keys()):\n",
    "            d[i]=1\n",
    "        else:\n",
    "            d[i]+=1\n",
    "    c=len(a2)\n",
    "    for i in a2:\n",
    "        if(i in d.keys()):\n",
    "            if(d[i]>0):\n",
    "                d[i]-=1\n",
    "                c-=1\n",
    "            else:\n",
    "                return \"No\"\n",
    "        else:\n",
    "            return \"No\"\n",
    "    if(c!=0):\n",
    "        return \"No\"\n",
    "    return \"Yes\"\n",
    "a1 = [11, 1, 13, 21, 3, 7]\n",
    "a2 = [11, 3, 7, 1]\n",
    "print(isSubset(a1,a2,len(a1),len(a2)))"
   ]
  },
  {
   "cell_type": "markdown",
   "metadata": {},
   "source": [
    "# 28. Find the triplet that sum to a given value"
   ]
  },
  {
   "cell_type": "code",
   "execution_count": null,
   "metadata": {},
   "outputs": [],
   "source": [
    "def find3Numbers(A, n, X):\n",
    "    A.sort()\n",
    "    for i in range(n-2):\n",
    "        l=i+1\n",
    "        r=n-1\n",
    "        while(l<r):\n",
    "            if(A[i]+A[l]+A[r]==X):\n",
    "                print(A[i]+A[l]+A[r])\n",
    "                return \"Yes\"\n",
    "            elif(A[i]+A[l]+A[r]<X):\n",
    "                l+=1\n",
    "            else:\n",
    "                r-=1\n",
    "    return \"No\"\n",
    "A = [1, 4, 45, 6, 10, 8]\n",
    "X = 22\n",
    "n= len(A)\n",
    "print(find3Numbers(A, n, X))"
   ]
  },
  {
   "cell_type": "markdown",
   "metadata": {},
   "source": [
    "# 29.Trapping Rain water problem"
   ]
  },
  {
   "cell_type": "code",
   "execution_count": null,
   "metadata": {},
   "outputs": [],
   "source": [
    "def trappingWater(arr,n):\n",
    "        left=[0]*n\n",
    "        right=[0]*n\n",
    "        water=0\n",
    "        left[0]=arr[0]\n",
    "        for i in range(1,n):\n",
    "            left[i]=max(left[i-1],arr[i])\n",
    "        right[n-1]=arr[n-1]\n",
    "        for i in range(n-2,-1,-1):\n",
    "            right[i]=max(right[i+1],arr[i])\n",
    "        for i in range(n):\n",
    "            water=water+(min(left[i],right[i])-arr[i])\n",
    "        return water\n",
    "arr=[7,0,6,2,8,6,5,9]\n",
    "print(trappingWater(arr,len(arr)))"
   ]
  },
  {
   "cell_type": "markdown",
   "metadata": {},
   "source": [
    "# 30.Chocolate Distribution problem"
   ]
  },
  {
   "cell_type": "code",
   "execution_count": null,
   "metadata": {},
   "outputs": [],
   "source": [
    "import math\n",
    "def findMinDiff(A,N,M):\n",
    "        A.sort()\n",
    "        print(A)\n",
    "        i=0\n",
    "        j=i+M-1\n",
    "        mini=math.inf\n",
    "        while(j<N):\n",
    "            mini=min(mini,A[j]-A[i])\n",
    "            i+=1\n",
    "            j+=1\n",
    "        return mini\n",
    "N=84\n",
    "A=list(map(int,\"87 78 16 94 36 87 93 50 22 63 28 91 60 64 27 41 27 73 37 12 69 68 30 83 31 63 24 68 36 30 3 23 59 70 68 94 57 12 43 30 74 22 20 85 38 99 25 16 71 14 27 92 81 57 74 63 71 97 82 6 26 85 28 37 6 47 30 14 58 25 96 83 46 15 68 35 65 44 51 88 9 77 79 89\".split()))\n",
    "M=61\n",
    "print(findMinDiff(A,N,M))"
   ]
  },
  {
   "cell_type": "markdown",
   "metadata": {},
   "source": [
    "# 31.Smallest Subarray with sum greater than a given value"
   ]
  },
  {
   "cell_type": "code",
   "execution_count": null,
   "metadata": {},
   "outputs": [],
   "source": [
    "import math\n",
    "def sb(a, n, x):\n",
    "    curr=0\n",
    "    i=0\n",
    "    minlength=math.inf\n",
    "    for e in range(n):\n",
    "        curr+=a[e]\n",
    "        while(curr>x):\n",
    "            minlength=min(e-i+1,minlength)\n",
    "            curr-=a[i]\n",
    "            i+=1\n",
    "    return minlength\n",
    "            \n",
    "            \n",
    "A=[1, 4, 45, 6, 0, 19]\n",
    "x  =  51\n",
    "print(sb(A,len(A),x))"
   ]
  },
  {
   "cell_type": "markdown",
   "metadata": {},
   "source": [
    "# 32.Three way partitioning of an array around a given value"
   ]
  },
  {
   "cell_type": "code",
   "execution_count": null,
   "metadata": {},
   "outputs": [],
   "source": [
    "def threeWayPartition(array, a, b):\n",
    "    s=0\n",
    "    m=0\n",
    "    e=len(array)-1\n",
    "    while(m<e):\n",
    "        print(array)\n",
    "        print(s,m,e)\n",
    "        if(array[m]<a):\n",
    "            array[s],array[m]=array[m],array[s]\n",
    "            s+=1\n",
    "            m+=1\n",
    "        elif(array[m]>b):\n",
    "            array[e],array[m]=array[m],array[e]\n",
    "            e-=1\n",
    "        else:\n",
    "            m+=1\n",
    "    return array\n",
    "A= [76, 8, 75, 22, 59,96,30,38,36]\n",
    "a, b = [44, 62]\n",
    "print(threeWayPartition(A, a, b))"
   ]
  },
  {
   "cell_type": "markdown",
   "metadata": {},
   "source": [
    "# 33.Minimum swaps required bring elements less equal K together"
   ]
  },
  {
   "cell_type": "code",
   "execution_count": null,
   "metadata": {},
   "outputs": [],
   "source": [
    "def minSwap (arr, n, k) :\n",
    "    bad=0\n",
    "    good=0\n",
    "    for i in range(n):\n",
    "        if(arr[i]<=k):\n",
    "            good+=1\n",
    "    for i in range(good):\n",
    "        if(arr[i]>k):\n",
    "            bad+=1\n",
    "    \n",
    "    i=1\n",
    "    j=i+good-1\n",
    "    ans=bad\n",
    "    while(j<n):\n",
    "        if(arr[i-1]>k):\n",
    "            bad-=1\n",
    "        if(arr[j]>k):\n",
    "            bad+=1\n",
    "        ans=min(ans,bad)\n",
    "        i+=1\n",
    "        j+=1\n",
    "    \n",
    "    return ans\n",
    "arr = [2, 1, 5, 6, 3] \n",
    "k = 3\n",
    "print(minSwap(arr,len(arr),k))"
   ]
  },
  {
   "cell_type": "code",
   "execution_count": null,
   "metadata": {},
   "outputs": [],
   "source": [
    "l=\"titik\"\n",
    "l[0:4]"
   ]
  },
  {
   "cell_type": "markdown",
   "metadata": {},
   "source": [
    "# 34.Minimum no. of operations required to make an array palindrome"
   ]
  },
  {
   "cell_type": "code",
   "execution_count": null,
   "metadata": {},
   "outputs": [],
   "source": [
    "def PalinArray(arr ,n):\n",
    "    for i in arr:\n",
    "        if(i>9):\n",
    "            i=str(i)\n",
    "            l=len(i)//2\n",
    "            if(int(i[:l])!=int((i[len(i)-l:len(i)])[::-1])):\n",
    "                return 0\n",
    "    return 1\n",
    "n=5\n",
    "arr=[111,2,333,444,555]\n",
    "print(PalinArray(arr,n))"
   ]
  },
  {
   "cell_type": "markdown",
   "metadata": {},
   "source": [
    "# 35.Median of 2 sorted arrays of equal size"
   ]
  },
  {
   "cell_type": "code",
   "execution_count": null,
   "metadata": {},
   "outputs": [],
   "source": [
    "def find_median(v):\n",
    "    # Code here\n",
    "    v.sort()\n",
    "    n=len(v)\n",
    "    if(n%2==1):\n",
    "        return v[n//2]\n",
    "    else:\n",
    "        return (v[n//2]+v[(n//2)-1])/2\n",
    "arr = [90,100,78,89,67]\n",
    "print(find_median(arr))"
   ]
  },
  {
   "cell_type": "markdown",
   "metadata": {},
   "source": [
    "# 35.Median of 2 sorted arrays of same"
   ]
  },
  {
   "cell_type": "code",
   "execution_count": null,
   "metadata": {},
   "outputs": [],
   "source": [
    "def median(arr1,arr2,n):\n",
    "    i=0\n",
    "    j=0\n",
    "    k=0\n",
    "    m1=0\n",
    "    m2=0\n",
    "    while(i<n and j<n):\n",
    "        if(arr1[i]<arr2[j]):\n",
    "            temp=arr1[i]\n",
    "            m1=m2\n",
    "            m2=temp\n",
    "            i+=1\n",
    "        else:\n",
    "            temp=arr2[j]\n",
    "            m1=m2\n",
    "            m2=temp\n",
    "            j+=1\n",
    "        if(k==n):\n",
    "            return (m1+m2)>>1\n",
    "        k+=1\n",
    "    while(i<n):\n",
    "        temp=arr1[i]\n",
    "        m1=m2\n",
    "        m2=temp\n",
    "        i+=1\n",
    "        if(k==n):\n",
    "            return (m1+m2)>>1\n",
    "        k+=1\n",
    "    while(j<n):\n",
    "        temp=arr2[j]\n",
    "        m1=m2\n",
    "        m2=temp\n",
    "        j+=1\n",
    "        if(k==n):\n",
    "            return (m1+m2)>>1\n",
    "        k+=1\n",
    "        \n",
    "ar1 = [1, 12, 15, 26, 38]\n",
    "ar2 = [2, 13, 17, 30, 45]\n",
    "print(median(ar1,ar2,5))"
   ]
  },
  {
   "cell_type": "code",
   "execution_count": null,
   "metadata": {},
   "outputs": [],
   "source": [
    "def median(a,b,n):\n",
    "    print(a+b)\n",
    "    i=n-1\n",
    "    j=0\n",
    "    while(i>=0 and j<n):\n",
    "        if(a[i]>b[j]):\n",
    "            a[i],b[j]=b[j],a[i]\n",
    "        i-=1\n",
    "        j+=1\n",
    "    a.sort()\n",
    "    b.sort()\n",
    "    print(a+b)\n",
    "    return (a[-1]+b[0]>>1)\n",
    "ar1 = [1, 12, 15, 26, 38]\n",
    "ar2 = [2, 13, 17, 30, 45]\n",
    "print(median(ar1,ar2,5))"
   ]
  },
  {
   "cell_type": "markdown",
   "metadata": {},
   "source": [
    "# 36.Median of 2 sorted arrays of different size"
   ]
  },
  {
   "cell_type": "code",
   "execution_count": null,
   "metadata": {},
   "outputs": [],
   "source": [
    "\n",
    "def median(arr1,arr2,n1,n2):\n",
    "    n=(n1+n2)//2\n",
    "    print(n)\n",
    "    i=0\n",
    "    j=0\n",
    "    k=0\n",
    "    m1=0\n",
    "    m2=0\n",
    "    while(i<n1 and j<n2):\n",
    "        if(arr1[i]<arr2[j]):\n",
    "            temp=arr1[i]\n",
    "            m1=m2\n",
    "            m2=temp\n",
    "            i+=1\n",
    "        else:\n",
    "            temp=arr2[j]\n",
    "            m1=m2\n",
    "            m2=temp\n",
    "            j+=1\n",
    "        if(k==n):\n",
    "            if((n1+n2)%2==1):\n",
    "                return m2\n",
    "            return (m1+m2)>>1\n",
    "        k+=1\n",
    "    while(i<n1):\n",
    "        temp=arr1[i]\n",
    "        m1=m2\n",
    "        m2=temp\n",
    "        i+=1\n",
    "        if(k==n):\n",
    "            if((n1+n2)%2==1):\n",
    "                return m2\n",
    "            return (m1+m2)>>1\n",
    "        k+=1\n",
    "    while(j<n2):\n",
    "        temp=arr2[j]\n",
    "        m1=m2\n",
    "        m2=temp\n",
    "        j+=1\n",
    "        if(k==n):\n",
    "            if((n1+n2)%2==1):\n",
    "                return m2\n",
    "            return (m1+m2)>>1\n",
    "        k+=1\n",
    "        \n",
    "ar1 = [1, 12, 15, 26, 38,67,87]\n",
    "ar2 = [2, 13, 17, 30, 45,46]\n",
    "a3=ar1+ar2\n",
    "a3.sort()\n",
    "print(a3)\n",
    "\n",
    "print(median(ar1,ar2,7,6))"
   ]
  },
  {
   "cell_type": "code",
   "execution_count": null,
   "metadata": {},
   "outputs": [],
   "source": [
    "def median(a,b,n1,n2):\n",
    "    print(a+b)\n",
    "    i=n1-1\n",
    "    j=0\n",
    "    while(i>=0 and j<n2):\n",
    "        if(a[i]>b[j]):\n",
    "            a[i],b[j]=b[j],a[i]\n",
    "        i-=1\n",
    "        j+=1\n",
    "    a.sort()\n",
    "    b.sort()\n",
    "    print(a+b)\n",
    "    if ((n1+n2)%2)==1:\n",
    "        s=(n1+n2)//2\n",
    "        print(s)\n",
    "        if(s>=n1):\n",
    "            return b[s%n1]\n",
    "        else:\n",
    "            return a[s]\n",
    "    else:\n",
    "        s1=(n1+n2)//2\n",
    "        s2=s1-1\n",
    "        res=0\n",
    "        if(s1>=n1):\n",
    "            res+=b[s1%n1]\n",
    "        else:\n",
    "            res+=a[s1]\n",
    "        if(s2>=n1):\n",
    "            res+=b[s2%n1]\n",
    "        else:\n",
    "            res+=a[s2]\n",
    "        return res>>1\n",
    "ar1 = [1, 12, 15, 26, 38,67,87]\n",
    "ar2 = [2, 13, 17, 30, 45]\n",
    "\n",
    "print(median(ar1,ar2,7,5))"
   ]
  },
  {
   "cell_type": "code",
   "execution_count": null,
   "metadata": {},
   "outputs": [],
   "source": [
    "\n",
    "def findMedianSortedArrays(nums1,nums2):\n",
    "    if(len(nums1)>len(nums2)):\n",
    "        nums1,nums2=nums2,nums1\n",
    "    n=len(nums1)\n",
    "    m=len(nums2)\n",
    "    begin1=0\n",
    "    end1=n\n",
    "    while(begin1<=end1):\n",
    "        i1=(begin1+end1)//2\n",
    "        print(i1)\n",
    "        i2=(n+m+1)//2-i1\n",
    "        print(i2)\n",
    "        min1=float(\"inf\") if(i1==n) else nums1[i1]\n",
    "        max1=-float(\"inf\") if(i1==0) else nums1[i1-1]\n",
    "        min2=float(\"inf\") if(i2==m) else nums2[i2]\n",
    "        max2=-float(\"inf\") if(i2==0) else nums2[i2-1]\n",
    "        print(max1,max2,min1,min2)\n",
    "        if(max1<=min2 and max2<=min1):\n",
    "            if(n+m)%2==0:\n",
    "                return (max(max1,max2)+min(min2,min1))/2\n",
    "            else:\n",
    "                return (max(max1,max2))\n",
    "        elif(max1>min2):\n",
    "            end1=i1-1\n",
    "            print(end1)\n",
    "        else:\n",
    "            begin1=i1+1\n",
    "            print(begin1)\n",
    "        \n",
    "nums1=[1,2]\n",
    "nums2=[1]\n",
    "print(findMedianSortedArrays(nums1,nums2))"
   ]
  },
  {
   "cell_type": "markdown",
   "metadata": {},
   "source": [
    "# -------------------------------------------------MATRIX--------------------------------------------------"
   ]
  },
  {
   "cell_type": "markdown",
   "metadata": {},
   "source": [
    "# 37. Spiral traversal on a Matrix"
   ]
  },
  {
   "cell_type": "code",
   "execution_count": null,
   "metadata": {},
   "outputs": [],
   "source": [
    "def printdata(a,m,n):\n",
    "    j=0\n",
    "    i=0\n",
    "    l=[]\n",
    "    while(i<m and j<n):\n",
    "        for p in range(j,n):\n",
    "            l.append(a[i][p])\n",
    "        i+=1\n",
    "        for p in range(i,m):\n",
    "            l.append(a[p][n-1])\n",
    "        n-=1\n",
    "        if(m>i):\n",
    "            for p in range(n-1,j-1,-1):\n",
    "                l.append(a[m-1][p])\n",
    "            m-=1\n",
    "        if(n>j):\n",
    "            for p in range(m-1,i-1,-1):\n",
    "                l.append(a[p][j])\n",
    "            j+=1\n",
    "    return l     \n",
    "        \n",
    "arr = [[1, 2, 3, 4],\n",
    "       [5, 6, 7, 8],\n",
    "       [9, 10, 11, 12],\n",
    "       [13, 14, 15, 16]]\n",
    "R=4\n",
    "C=3\n",
    " \n",
    "# Function Call\n",
    "printdata(arr,R, C)\n"
   ]
  },
  {
   "cell_type": "code",
   "execution_count": null,
   "metadata": {},
   "outputs": [],
   "source": [
    "def printdata(a,i,j,m,n):\n",
    "    if(i>=m or j>=n):\n",
    "        return\n",
    "    for p in range(j,n):\n",
    "        print(a[i][p],end=\" \")\n",
    "    for p in range(i+1,m):\n",
    "        print(a[p][n-1],end=\" \")\n",
    "    if((m-1)!=i):\n",
    "        for p in range(n-2,j-1,-1):\n",
    "            print(a[m-1][p],end=' ')\n",
    "    if(n-1)!=j:\n",
    "        for p in range(m-2,i,-1):\n",
    "            print(a[p][j],end=\" \")\n",
    "    print([[a[k][s] for s in range(j+1,n-1)] for k in range(i+1,m-1)])\n",
    "    printdata(a,i+1,j+1,m-1,n-1)\n",
    "            \n",
    "        \n",
    "        \n",
    "arr = [[1, 2, 3, 4],\n",
    "       [5, 6, 7, 8],\n",
    "       [9, 10, 11, 12],\n",
    "       [13, 14, 15, 16]]\n",
    "R=4\n",
    "C=3\n",
    " \n",
    "# Function Call\n",
    "printdata(arr, 0, 0, R, C)"
   ]
  },
  {
   "cell_type": "code",
   "execution_count": null,
   "metadata": {},
   "outputs": [],
   "source": [
    "def spirallyTraverse(a,m,n):\n",
    "    j=0\n",
    "    i=0\n",
    "    l=[]\n",
    "    for p in range(j,n):\n",
    "        l.append(a[i][p])\n",
    "    for p in range(i+1,m):\n",
    "        l.append(a[p][n-1])\n",
    "    if((m-1)!=i):\n",
    "        for p in range(n-2,j-1,-1):\n",
    "            l.append(a[m-1][p])\n",
    "    if(n-1)!=j:\n",
    "        for p in range(m-2,i,-1):\n",
    "            l.append(a[p][j])\n",
    "\n",
    "    if(i<m or j<n):\n",
    "        l=l+spirallyTraverse([[a[k][s] for s in range(j+1,n-1)] for k in range(i+1,m-1)],m-2,n-2)\n",
    "    return l\n",
    "arr = [[1, 2, 3, 4],\n",
    "       [5, 6, 7, 8],\n",
    "       [9, 10, 11, 12],\n",
    "       [13, 14, 15, 16]]\n",
    "R=C=4\n",
    "print(spirallyTraverse(arr,R,C))"
   ]
  },
  {
   "cell_type": "markdown",
   "metadata": {},
   "source": [
    "# 38. Search an element in a matrix"
   ]
  },
  {
   "cell_type": "code",
   "execution_count": null,
   "metadata": {},
   "outputs": [],
   "source": [
    "def searchMatrix(a, target):\n",
    "    i=0\n",
    "    while(i<len(a)):\n",
    "        if(a[i][0]<=target and a[i][-1]>=target):\n",
    "            for m in a[i]:\n",
    "                if(target==m):\n",
    "                    return True\n",
    "    return False\n",
    "            \n",
    "                    \n",
    "            \n",
    "    \n",
    "matrix = [[1,3,5,7],[10,11,16,20],[23,30,34,60]]\n",
    "target = 3\n",
    "print(searchMatrix(matrix,3))"
   ]
  },
  {
   "cell_type": "code",
   "execution_count": 26,
   "metadata": {},
   "outputs": [
    {
     "name": "stdout",
     "output_type": "stream",
     "text": [
      "0 1 0\n",
      "1\n",
      "1 1 1\n",
      "[3]\n",
      "True\n"
     ]
    }
   ],
   "source": [
    "def binarysearch(a,target,l,r):\n",
    "        if(l<=r):\n",
    "            mid=(l+r)//2\n",
    "            if(a[mid]==target):\n",
    "                return True\n",
    "            elif(a[mid]>target):\n",
    "                return binarysearch(a,target,l,mid-1)\n",
    "            else:\n",
    "                return binarysearch(a,target,mid+1,r)\n",
    "        return False\n",
    "def searchMatrix(matrix, target):\n",
    "    l=0\n",
    "    r=len(matrix)-1\n",
    "    while(l<=r):\n",
    "        m=(l+r)//2\n",
    "        print(l,r,m)\n",
    "        if(matrix[m][0]<=target and matrix[m][-1]>=target):\n",
    "            print(matrix[m])\n",
    "            return binarysearch(matrix[m],target,0,len(matrix[m])-1)\n",
    "        elif(matrix[l][0]<=target and matrix[m][0]>target):\n",
    "            r=m-1\n",
    "            print(r)\n",
    "        else:\n",
    "            l=m+1\n",
    "            print(l)\n",
    "a=[[1],[3]]\n",
    "target=3\n",
    "print(searchMatrix(a,target))"
   ]
  },
  {
   "cell_type": "code",
   "execution_count": null,
   "metadata": {},
   "outputs": [],
   "source": [
    "def binarysearch(a,target,l,r):\n",
    "        if(l<=r):\n",
    "            mid=(l+r)//2\n",
    "            if(a[mid]==target):\n",
    "                return True\n",
    "            elif(a[mid]>target):\n",
    "                return binarysearch(a,target,l,mid-1)\n",
    "            else:\n",
    "                return binarysearch(a,target,mid+1,r)\n",
    "        return False\n",
    "a=[1,3]\n",
    "target=3\n",
    "print(binarysearch(a,target,0,1))"
   ]
  },
  {
   "cell_type": "markdown",
   "metadata": {},
   "source": [
    "# 40.Find row with maximum no. of 1's"
   ]
  },
  {
   "cell_type": "code",
   "execution_count": null,
   "metadata": {},
   "outputs": [],
   "source": [
    "def rowWithMax1s(arr, n, m):\n",
    "    index=m-1\n",
    "    no=0\n",
    "    res=0\n",
    "    for i in range(n):\n",
    "        while(index>=0 and arr[i][index]==1):\n",
    "            index-=1\n",
    "        p=(m-1-index)\n",
    "        print(index)\n",
    "        print(p)\n",
    "        if(p>no):\n",
    "            no=p\n",
    "            res=i\n",
    "        print(res)\n",
    "    return res\n",
    "mat = [[0, 1, 1, 1],\n",
    "       [0, 0, 1, 1],\n",
    "       [1, 1, 1, 1],\n",
    "       [0, 0, 0, 0]]\n",
    "n,m=4,4\n",
    "print(rowWithMax1s(mat, n, m))\n"
   ]
  },
  {
   "cell_type": "markdown",
   "metadata": {},
   "source": [
    "# 41. Print elements in sorted order using row-column wise sorted matrix"
   ]
  },
  {
   "cell_type": "code",
   "execution_count": null,
   "metadata": {},
   "outputs": [],
   "source": [
    "def sortedMatrix(N,Mat):\n",
    "        l=[0]*(N*N) \n",
    "        k=0\n",
    "        for i in range(N):\n",
    "            for j in range(N):\n",
    "                l[k]=Mat[i][j]\n",
    "                k+=1\n",
    "        l.sort()\n",
    "        for i in range(N):\n",
    "            Mat[i]=l[0+(i*N):N*(i+1)]\n",
    "        return Mat\n",
    "N=4\n",
    "Mat=[[10,20,30,40],\n",
    "[15,25,35,45],\n",
    "[27,29,37,48],\n",
    "[32,33,39,50]]\n",
    "print(sortedMatrix(N,Mat))"
   ]
  },
  {
   "cell_type": "markdown",
   "metadata": {},
   "source": [
    "# 42.Maximum size rectangle"
   ]
  },
  {
   "cell_type": "code",
   "execution_count": null,
   "metadata": {},
   "outputs": [],
   "source": [
    "# sub question\n",
    "#maximum area rectangle in histogram\n",
    "\n",
    "def max_area_histogram(hist):\n",
    "    n=len(hist)\n",
    "    s=[]\n",
    "    l=[-1]*n\n",
    "    r=[n]*n\n",
    "    area=0\n",
    "    for i in range(n): \n",
    "        while(s and hist[s[-1]]>=hist[i]):\n",
    "            s.pop()\n",
    "        if(len(s)==0):\n",
    "            l[i]=0\n",
    "        else:\n",
    "            l[i]=s[-1]+1\n",
    "        s.append(i)\n",
    "\n",
    "    s=[]\n",
    "    for i in range(n-1,-1,-1): \n",
    "        while(s and hist[s[-1]]>=hist[i]):\n",
    "            s.pop()\n",
    "        if(len(s)==0):\n",
    "            r[i]=n-1\n",
    "        else:\n",
    "            r[i]=s[-1]-1\n",
    "        s.append(i)\n",
    "        area=max(area,hist[i]*(r[i]-l[i]+1))\n",
    "    return area      \n",
    "hist = [6, 2, 8, 4, 5, 1, 6]\n",
    "print(\"Maximum area is\",\n",
    "       max_area_histogram(hist))"
   ]
  },
  {
   "cell_type": "code",
   "execution_count": null,
   "metadata": {},
   "outputs": [],
   "source": [
    "l=[-1]*1\n",
    "l.pop()\n",
    "l"
   ]
  },
  {
   "cell_type": "code",
   "execution_count": null,
   "metadata": {},
   "outputs": [],
   "source": [
    "def getMaxArea(hist):\n",
    "    n=len(hist)\n",
    "    s=[]\n",
    "    l=[-1]*n\n",
    "    r=[n]*n\n",
    "    area=0\n",
    "    for i in range(n): \n",
    "        while(s and hist[s[-1]]>=hist[i]):\n",
    "            s.pop()\n",
    "        if(len(s)==0):\n",
    "            l[i]=0\n",
    "        else:\n",
    "            l[i]=s[-1]+1\n",
    "        s.append(i)\n",
    "\n",
    "    s=[]\n",
    "    for i in range(n-1,-1,-1): \n",
    "        while(s and hist[s[-1]]>=hist[i]):\n",
    "            s.pop()\n",
    "        if(len(s)==0):\n",
    "            r[i]=n-1\n",
    "        else:\n",
    "            r[i]=s[-1]-1\n",
    "        s.append(i)\n",
    "        area=max(area,hist[i]*(r[i]-l[i]+1))\n",
    "    return area\n",
    "def maxArea(M, n, m):\n",
    "    area=0\n",
    "    hist=[0]*m\n",
    "    for i in range(n):\n",
    "        for j in range(m):\n",
    "            if(M[i][j]==0):\n",
    "                hist[j]=0\n",
    "            else:\n",
    "                hist[j]=hist[j]+1\n",
    "        print(hist)\n",
    "        area=max(area,getMaxArea(hist))\n",
    "    return area\n",
    "n = 4\n",
    "m = 4\n",
    "M= [[0,1,1,0],\n",
    "         [1,1,1,1],\n",
    "         [1,1,1,1],\n",
    "         [1,1,0,0]]\n",
    "print(maxArea(M, n, m))"
   ]
  },
  {
   "cell_type": "markdown",
   "metadata": {},
   "source": [
    "# 43.Find a specific pair in matrix"
   ]
  },
  {
   "cell_type": "code",
   "execution_count": null,
   "metadata": {},
   "outputs": [],
   "source": []
  },
  {
   "cell_type": "markdown",
   "metadata": {},
   "source": [
    "# 44.Rotate matrix by 90 degrees"
   ]
  },
  {
   "cell_type": "code",
   "execution_count": null,
   "metadata": {},
   "outputs": [],
   "source": [
    "def rotate(a,N):\n",
    "    for i in range(N//2):\n",
    "        for j in range(i,N-i-1):\n",
    "            temp=a[i][j]\n",
    "            a[i][j]=a[j][N-i-1]\n",
    "            a[j][N-i-1]=a[N-i-1][N-j-1]\n",
    "            a[N-i-1][N-j-1]=a[N-j-1][i]\n",
    "            a[N-j-1][i]=temp\n",
    "    return a\n",
    "    \n",
    "    \n",
    "A = [[1, 2, 3, 4],\n",
    "     [5, 6, 7, 8],\n",
    "     [9, 10, 11, 12],\n",
    "     [13, 14, 15, 16]]\n",
    "print(*rotate(A,len(A)),sep=\"\\n\")"
   ]
  },
  {
   "cell_type": "markdown",
   "metadata": {},
   "source": [
    "# 45.Kth smallest element in a row-column wise sorted matrix"
   ]
  },
  {
   "cell_type": "code",
   "execution_count": null,
   "metadata": {},
   "outputs": [],
   "source": [
    "import sys\n",
    "\n",
    "from heapq import *\n",
    "def kthSmallest(mat, n, k):\n",
    "    minheap=[]\n",
    "    for i in range(len(mat[0])):\n",
    "        heappush(minheap,[mat[0][i],0,i])\n",
    "    for i in range(k):\n",
    "        a=heappop(minheap)\n",
    "        if(a[1]<(n-1)):\n",
    "            heappush(minheap,[mat[a[1]+1][a[2]],a[1]+1,a[2]])\n",
    "        else:\n",
    "            heappush(minheap,[sys.maxsize])\n",
    "        \n",
    "    return a[0]\n",
    "n = 4\n",
    "mat= [[16, 28, 60, 64],\n",
    "    [22, 41, 63, 91],\n",
    "    [27, 50, 87, 93],\n",
    "    [36, 78, 87, 94 ]]\n",
    "print(*mat,sep=\"\\n\")\n",
    "k = 7\n",
    "print(kthSmallest(mat, n, k))"
   ]
  },
  {
   "cell_type": "markdown",
   "metadata": {},
   "source": [
    "# 46. Common elements in all rows of a given matrix\n"
   ]
  },
  {
   "cell_type": "code",
   "execution_count": null,
   "metadata": {},
   "outputs": [],
   "source": [
    "def commonelements(mat):\n",
    "    m={}\n",
    "    l=[]\n",
    "    for i in mat[0]:\n",
    "        m[i]=1\n",
    "    for i in range(1,len(mat)):\n",
    "        for j in range(len(mat[0])):\n",
    "            if(mat[i][j] in m.keys() and m[mat[i][j]]==i):\n",
    "                m[mat[i][j]]+=1\n",
    "    for i in m.keys():\n",
    "        if(m[i]==len(mat)):\n",
    "            l.append(i)\n",
    "    return l\n",
    "mat= [[1, 2, 1, 4, 8],\n",
    "      [3, 7, 8, 5, 1],\n",
    "      [8, 7, 7, 3, 1],\n",
    "      [8, 1, 2, 7, 9]]\n",
    "print(commonelements(mat))"
   ]
  },
  {
   "cell_type": "code",
   "execution_count": null,
   "metadata": {},
   "outputs": [],
   "source": [
    "mat"
   ]
  },
  {
   "cell_type": "code",
   "execution_count": null,
   "metadata": {},
   "outputs": [],
   "source": []
  },
  {
   "cell_type": "markdown",
   "metadata": {},
   "source": [
    "# ----------------------------------------String-------------------------------------------------"
   ]
  },
  {
   "cell_type": "markdown",
   "metadata": {},
   "source": [
    "# 47. Reverse a String"
   ]
  },
  {
   "cell_type": "code",
   "execution_count": null,
   "metadata": {},
   "outputs": [],
   "source": [
    "def reverseString(s):\n",
    "    \"\"\"\n",
    "    Do not return anything, modify s in-place instead.\n",
    "    \"\"\"\n",
    "    i=0\n",
    "    e=len(s)-1\n",
    "    while(i<e):\n",
    "        s[i],s[e]=s[e],s[i]\n",
    "        i+=1\n",
    "        e-=1\n",
    "s= [\"h\",\"e\",\"l\",\"l\",\"o\"]\n",
    "reverseString(s)\n",
    "print(s)"
   ]
  },
  {
   "cell_type": "markdown",
   "metadata": {},
   "source": [
    "# 48. Check whether a String is Palindrome or not"
   ]
  },
  {
   "cell_type": "code",
   "execution_count": null,
   "metadata": {},
   "outputs": [],
   "source": [
    "def isPlaindrome(S):\n",
    "    i=0\n",
    "    e=len(S)-1\n",
    "    while(i<e):\n",
    "        if(S[i]==S[e]):\n",
    "            i+=1\n",
    "            e-=1\n",
    "        else:\n",
    "            return 0\n",
    "    return 1\n",
    "s=\"ababa\"\n",
    "print(isPlaindrome(s))"
   ]
  },
  {
   "cell_type": "markdown",
   "metadata": {},
   "source": [
    "# 49.Find Duplicate characters in a string"
   ]
  },
  {
   "cell_type": "code",
   "execution_count": null,
   "metadata": {},
   "outputs": [],
   "source": [
    "def printDups(st):\n",
    "    d={}\n",
    "    for i in st:\n",
    "        d[i]=d.get(i,0)+1\n",
    "    for i in d.keys():\n",
    "        if(d[i]>1):\n",
    "            print(\"{} : {}\".format(i,d[i]))\n",
    "st = \"test string\"\n",
    "printDups(st)"
   ]
  },
  {
   "cell_type": "markdown",
   "metadata": {},
   "source": [
    "# 50.Why strings are immutable in Java?"
   ]
  },
  {
   "cell_type": "code",
   "execution_count": null,
   "metadata": {},
   "outputs": [],
   "source": []
  },
  {
   "cell_type": "markdown",
   "metadata": {},
   "source": [
    "# 51. Write a Code to check whether one string is a rotation of another"
   ]
  },
  {
   "cell_type": "markdown",
   "metadata": {},
   "source": [
    "### By concatenation of a string in itself "
   ]
  },
  {
   "cell_type": "code",
   "execution_count": null,
   "metadata": {},
   "outputs": [],
   "source": [
    "\"\"\"\n",
    "1. Create a temp string and store concatenation of str1 to\n",
    "       str1 in temp.\n",
    "                          temp = str1.str1\n",
    "    2. If str2 is a substring of temp then str1 and str2 are \n",
    "       rotations of each other.\n",
    "\n",
    "    Example:                 \n",
    "                     str1 = \"ABACD\"\n",
    "                     str2 = \"CDABA\"\n",
    "\n",
    "     temp = str1.str1 = \"ABACDABACD\"\n",
    "     Since str2 is a substring of temp, str1 and str2 are \n",
    "     rotations of each other.\n",
    "\"\"\"\n",
    "def areRotations(string1, string2):\n",
    "    if(string2 in (string1+string1)):\n",
    "        return 1\n",
    "    else:\n",
    "        return 0\n",
    "string1 = \"AACD\"\n",
    "string2 = \"ACDA\"\n",
    " \n",
    "if areRotations(string1, string2):\n",
    "    print(\"Strings are rotations of each other\")\n",
    "else:\n",
    "    print(\"Strings are not rotations of each other\")"
   ]
  },
  {
   "cell_type": "markdown",
   "metadata": {},
   "source": [
    "### By using Queue"
   ]
  },
  {
   "cell_type": "code",
   "execution_count": null,
   "metadata": {},
   "outputs": [],
   "source": [
    "def areRotations(string1, string2):\n",
    "    if(len(string1)!=len(string2)):\n",
    "        return 0\n",
    "    l=list(string2)\n",
    "    for i in range(len(string1)):\n",
    "        ch=l[0]\n",
    "        l.pop(0)\n",
    "        l.append(ch)\n",
    "        if(l==list(string1)):\n",
    "            return 1\n",
    "    return 0\n",
    "        \n",
    "string1 = \"AACD\"\n",
    "string2 = \"ACDA\"\n",
    " \n",
    "if areRotations(string1, string2):\n",
    "    print(\"Strings are rotations of each other\")\n",
    "else:\n",
    "    print(\"Strings are not rotations of each other\")"
   ]
  },
  {
   "cell_type": "markdown",
   "metadata": {},
   "source": [
    "# 52. Write a Program to check whether a string is a valid shuffle of two strings or not"
   ]
  },
  {
   "cell_type": "code",
   "execution_count": null,
   "metadata": {},
   "outputs": [],
   "source": [
    "def checkvalidsuffle(first,second,result):\n",
    "    if(len(result)!=len(first)+len(second)):\n",
    "        return \"not a valid suffle\"\n",
    "    i=0\n",
    "    j=0\n",
    "    first=sorted(first)\n",
    "    second=sorted(second)\n",
    "    result=sorted(result)\n",
    "    for k in range(len(result)):\n",
    "        if(i<len(first) and result[k]==first[i]):\n",
    "            i+=1\n",
    "        elif(j<len(second) and result[k]==second[j]):\n",
    "            j+=1\n",
    "        else:\n",
    "            return \"not a valid suffle\"\n",
    "    return \"a valid suffle\"\n",
    "        \n",
    "        \n",
    "first = \"XY\";\n",
    "second = \"12\";\n",
    "results = [\"1XY2\", \"Y1X2\", \"Y21XX\"]\n",
    "for i in results:\n",
    "    print(f\"{i} is {checkvalidsuffle(first,second,i)} of {first} and {second}\")"
   ]
  },
  {
   "cell_type": "code",
   "execution_count": null,
   "metadata": {},
   "outputs": [],
   "source": []
  },
  {
   "cell_type": "markdown",
   "metadata": {},
   "source": [
    "# 53. Count and Say problem"
   ]
  },
  {
   "cell_type": "code",
   "execution_count": null,
   "metadata": {},
   "outputs": [],
   "source": [
    "def countAndSay(n):\n",
    "        if(n==1):\n",
    "            return \"1\"\n",
    "        else:\n",
    "            a=countAndSay(n-1)\n",
    "            a=list(a)\n",
    "            y=1\n",
    "            s=\"\"\n",
    "            for i in range(1,len(a)):\n",
    "                if(a[i]==a[i-1]):\n",
    "                    y+=1\n",
    "                else:\n",
    "                    s+=(str(y)+a[i-1])\n",
    "                    y=1\n",
    "            s+=(str(y)+a[-1])\n",
    "            return s     \n",
    "            \n",
    "countAndSay(15)"
   ]
  },
  {
   "cell_type": "markdown",
   "metadata": {},
   "source": [
    "# 54.Write a program to find the longest Palindrome in a string.[ Longest palindromic Substring]"
   ]
  },
  {
   "cell_type": "code",
   "execution_count": null,
   "metadata": {},
   "outputs": [],
   "source": [
    "def longestPalin(S):\n",
    "    l=len(S)\n",
    "    res=''\n",
    "    for i in range(len(S)):\n",
    "        p=S[i]\n",
    "        f=i-1\n",
    "        e=i+1\n",
    "        while((f>=0 and e<l) and S[f]==S[e]):\n",
    "            p=S[f]+p+S[e]\n",
    "            f=f-1\n",
    "            e=e+1\n",
    "        m=\"\"\n",
    "        f=i\n",
    "        e=i+1\n",
    "        while((f>=0 and e<l) and S[f]==S[e]):\n",
    "            m=S[f]+m+S[e]\n",
    "            f=f-1\n",
    "            e=e+1\n",
    "        if(len(p)>len(m)):\n",
    "            if(len(p)>len(res)):\n",
    "                res=p\n",
    "        else:\n",
    "            if(len(m)>len(res)):\n",
    "                res=m\n",
    "        print(i)\n",
    "        print(p)\n",
    "        print(m)\n",
    "        print(res)\n",
    "        \n",
    "        \n",
    "    return res\n",
    "        \n",
    "        \n",
    "S = [\"aaaabbaa\",\"abc\"]\n",
    "for i in range(len(S)):\n",
    "    print(longestPalin(S[i]))\n"
   ]
  },
  {
   "cell_type": "markdown",
   "metadata": {},
   "source": [
    "# LCS-Concept"
   ]
  },
  {
   "cell_type": "code",
   "execution_count": null,
   "metadata": {},
   "outputs": [],
   "source": [
    "def lcs(a,b,i,j):\n",
    "    if(i==len(a) or j==len(b)):\n",
    "        return 0\n",
    "    if(a[i]==b[j]):\n",
    "        print(a[i],i,j)\n",
    "        return 1+lcs(a,b,i+1,j+1)\n",
    "    else:\n",
    "        return max(lcs(a,b,i+1,j),lcs(a,b,i,j+1))\n",
    "a = \"axxxy\"\n",
    "b = \"axyxzx\"\n",
    "\n",
    "print(lcs(a,b,0,0))"
   ]
  },
  {
   "cell_type": "code",
   "execution_count": 16,
   "metadata": {},
   "outputs": [
    {
     "name": "stdout",
     "output_type": "stream",
     "text": [
      "4\n"
     ]
    },
    {
     "data": {
      "text/plain": [
       "[[-1, -1, -1, -1, -1, -1, -1],\n",
       " [-1, 4, -1, -1, -1, -1, -1],\n",
       " [-1, -1, 3, -1, -1, -1, -1],\n",
       " [-1, -1, -1, 2, 2, -1, -1],\n",
       " [-1, -1, -1, 1, 1, 1, 1],\n",
       " [-1, -1, -1, 1, -1, 0, 0]]"
      ]
     },
     "execution_count": 16,
     "metadata": {},
     "output_type": "execute_result"
    }
   ],
   "source": [
    "def lcs(a,b,i,j):\n",
    "    if(i==len(a) or j==len(b)):\n",
    "        return 0\n",
    "    if(d[i+1][j+1]!=-1):\n",
    "        return d[i+1][j+1]\n",
    "    if(a[i]==b[j]):\n",
    "        d[i+1][j+1]=1+lcs(a,b,i+1,j+1)\n",
    "        return d[i+1][j+1]\n",
    "    else:\n",
    "        d[i+1][j+1]=max(lcs(a,b,i+1,j),lcs(a,b,i,j+1))\n",
    "        return d[i+1][j+1]\n",
    "a = \"axxxy\"\n",
    "b = \"axyxzx\"\n",
    "d=[[-1 for i in range(len(b)+1)] for j in range(len(a)+1)]\n",
    "print(lcs(a,b,0,0))\n",
    "d"
   ]
  },
  {
   "cell_type": "code",
   "execution_count": 14,
   "metadata": {},
   "outputs": [
    {
     "name": "stdout",
     "output_type": "stream",
     "text": [
      "4\n"
     ]
    }
   ],
   "source": [
    "def lcs(a,b):\n",
    "    d=[[0 for i in range(len(b)+1)] for j in range(len(a)+1)]\n",
    "    for i in range(len(a)):\n",
    "        for j in range(len(b)):\n",
    "            if(a[i]==b[j]):\n",
    "                d[i+1][j+1]=1+d[i][j]\n",
    "            else:\n",
    "                d[i+1][j+1]=max(d[i][j+1],d[i+1][j])\n",
    "    return d[i+1][j+1]\n",
    "\n",
    "a = \"axxxy\"\n",
    "b = \"axyxzx\"\n",
    "print(lcs(a,b))"
   ]
  },
  {
   "cell_type": "markdown",
   "metadata": {},
   "source": [
    "# 55. Find Longest Recurring Subsequence in String"
   ]
  },
  {
   "cell_type": "code",
   "execution_count": null,
   "metadata": {},
   "outputs": [],
   "source": [
    "def lcs(a,i,j):\n",
    "    if(i>=len(a) or j>=len(a)):\n",
    "        return 0\n",
    "    if(a[i]==a[j] and i!=j):\n",
    "        return 1+lcs(a,i+1,j+1)\n",
    "    else:\n",
    "        return max(lcs(a,i+1,j),lcs(a,i,j+1))\n",
    "a = \"axxxy\"\n",
    "print(lcs(a,0,0))"
   ]
  },
  {
   "cell_type": "code",
   "execution_count": 12,
   "metadata": {},
   "outputs": [
    {
     "name": "stdout",
     "output_type": "stream",
     "text": [
      "2\n"
     ]
    },
    {
     "data": {
      "text/plain": [
       "[[-1, -1, -1, -1, -1, -1],\n",
       " [-1, 2, 2, 2, 1, 0],\n",
       " [-1, 2, 2, 2, 1, 0],\n",
       " [-1, 2, 2, -1, 1, 0],\n",
       " [-1, 1, 1, 1, -1, 0],\n",
       " [-1, 0, 0, 0, 0, 0]]"
      ]
     },
     "execution_count": 12,
     "metadata": {},
     "output_type": "execute_result"
    }
   ],
   "source": [
    "def lcs(a,i,j):\n",
    "    if(i==len(a) or j==len(a)):\n",
    "        return 0\n",
    "    if(d[i+1][j+1]!=-1):\n",
    "        return d[i+1][j+1]\n",
    "    if(a[i]==a[j] and i!=j):\n",
    "        d[i+1][j+1]=1+lcs(a,i+1,j+1)\n",
    "        return d[i+1][j+1]\n",
    "    else:\n",
    "        d[i+1][j+1]=max(lcs(a,i+1,j),lcs(a,i,j+1))\n",
    "        return d[i+1][j+1]\n",
    "a = \"axxxy\"\n",
    "d=[[-1 for i in range(len(a)+1)] for j in range(len(a)+1)]\n",
    "print(lcs(a,0,0))\n",
    "d"
   ]
  },
  {
   "cell_type": "code",
   "execution_count": 1,
   "metadata": {},
   "outputs": [
    {
     "name": "stdout",
     "output_type": "stream",
     "text": [
      "2\n"
     ]
    }
   ],
   "source": [
    "def lcs(a):\n",
    "    d=[[0 for i in range(len(a)+1)] for j in range(len(a)+1)]\n",
    "    for i in range(len(a)):\n",
    "        for j in range(len(a)):\n",
    "            if(a[i]==a[j] and i!=j):\n",
    "                d[i+1][j+1]=1+d[i][j]\n",
    "            else:\n",
    "                d[i+1][j+1]=max(d[i][j+1],d[i+1][j])\n",
    "    return d[len(a)][len(a)]\n",
    "a = \"axxxy\"\n",
    "print(lcs(a))"
   ]
  },
  {
   "cell_type": "markdown",
   "metadata": {},
   "source": [
    "# 56. Print all Subsequences of a string."
   ]
  },
  {
   "cell_type": "code",
   "execution_count": 5,
   "metadata": {},
   "outputs": [
    {
     "name": "stdout",
     "output_type": "stream",
     "text": [
      "D\n",
      "C\n",
      "CD\n",
      "B\n",
      "BD\n",
      "BC\n",
      "BCD\n",
      "A\n",
      "AD\n",
      "AC\n",
      "ACD\n",
      "AB\n",
      "ABD\n",
      "ABC\n",
      "ABCD\n"
     ]
    }
   ],
   "source": [
    "def subseq(s,t,i):\n",
    "    if(i==len(s) and t==\"\"):\n",
    "        return\n",
    "    if(i==len(s)):\n",
    "        print(t)\n",
    "    else:\n",
    "        subseq(s,t,i+1)\n",
    "        subseq(s,t+s[i],i+1)\n",
    "s=\"ABCD\"\n",
    "subseq(s,\"\",0)\n",
    "    "
   ]
  },
  {
   "cell_type": "code",
   "execution_count": 6,
   "metadata": {},
   "outputs": [
    {
     "name": "stdout",
     "output_type": "stream",
     "text": [
      "['A', 'AB', 'ABC', 'ABCD', 'ABD', 'AC', 'ACD', 'AD', 'B', 'BC', 'BCD', 'BD', 'C', 'CD', 'D']\n"
     ]
    }
   ],
   "source": [
    "def subseq(s,t,i):\n",
    "    if(i==len(s) and t==\"\"):\n",
    "        return []\n",
    "    if(i==len(s)):\n",
    "        return [t]\n",
    "    else:\n",
    "        return subseq(s,t,i+1)+subseq(s,t+s[i],i+1)\n",
    "s=\"ABCD\"\n",
    "print(sorted(subseq(s,\"\",0)))"
   ]
  },
  {
   "cell_type": "code",
   "execution_count": null,
   "metadata": {},
   "outputs": [],
   "source": [
    "st"
   ]
  },
  {
   "cell_type": "markdown",
   "metadata": {},
   "source": [
    "# 57. Print all the permutations of the given string"
   ]
  },
  {
   "cell_type": "code",
   "execution_count": 7,
   "metadata": {},
   "outputs": [
    {
     "name": "stdout",
     "output_type": "stream",
     "text": [
      "ljr\n",
      "lrj\n",
      "jlr\n",
      "jrl\n",
      "rjl\n",
      "rlj\n"
     ]
    }
   ],
   "source": [
    "def find_permutation(a,l,r):\n",
    "    if(l==r):\n",
    "        print(\"\".join(a))\n",
    "    for i in range(l,r+1):\n",
    "        a[i],a[l]=a[l],a[i]\n",
    "        find_permutation(a,l+1,r)\n",
    "        a[i],a[l]=a[l],a[i]\n",
    "    \n",
    "    \n",
    "a=\"ljr\"\n",
    "find_permutation(list(a),0,len(a)-1)"
   ]
  },
  {
   "cell_type": "markdown",
   "metadata": {},
   "source": [
    "# 58. Split the Binary string into two substring with equal 0’s and 1’s"
   ]
  },
  {
   "cell_type": "code",
   "execution_count": 8,
   "metadata": {},
   "outputs": [
    {
     "name": "stdout",
     "output_type": "stream",
     "text": [
      "5\n"
     ]
    }
   ],
   "source": [
    "def maxSubStr(s,n):\n",
    "    ones=0 \n",
    "    zeros=0\n",
    "    c=0\n",
    "    for i in range(n):\n",
    "        if(s[i]==\"0\"):\n",
    "            zeros+=1\n",
    "        else:\n",
    "            ones+=1\n",
    "        if(zeros==ones):\n",
    "            c+=1\n",
    "            zeros=0\n",
    "            ones=0\n",
    "    return c if(c>0) else -1\n",
    "s = \"0100110101101\"\n",
    "#s=\"0000000000000\"\n",
    "\n",
    "n = len(s)\n",
    "print(maxSubStr(s, n))"
   ]
  },
  {
   "cell_type": "markdown",
   "metadata": {},
   "source": [
    "# 59. Word Wrap Problem [VERY IMP]."
   ]
  },
  {
   "cell_type": "code",
   "execution_count": 2,
   "metadata": {},
   "outputs": [
    {
     "name": "stdout",
     "output_type": "stream",
     "text": [
      "[4, inf, inf, inf, inf, inf, inf, inf]\n",
      "[0, 36, 0, inf, inf, inf, inf, inf]\n",
      "[0, 0, 49, 9, 1, inf, inf, inf]\n",
      "[0, 0, 0, 81, 49, inf, inf, inf]\n",
      "[0, 0, 0, 0, 121, 0, inf, inf]\n",
      "[0, 0, 0, 0, 0, 4, inf, inf]\n",
      "[0, 0, 0, 0, 0, 0, 16, 1]\n",
      "[0, 0, 0, 0, 0, 0, 0, 0]\n",
      "[1, 2, 5, 5, 6, 6, 8, 8] [45, 41, 5, 53, 0, 4, 0, 0]\n"
     ]
    }
   ],
   "source": [
    "def solveWordWrap(nums, k):\n",
    "    n=len(nums)\n",
    "    cost=[[0 for i in range(n)] for j in range(n)]\n",
    "    for i in range(n):\n",
    "        cost[i][i]=k-arr[i]\n",
    "        for j in range(i+1,n):\n",
    "            cost[i][j]=cost[i][j-1]-(arr[j]+1)\n",
    "    for i in range(n):\n",
    "        for j in range(i,n):\n",
    "            if(i==n-1 and j==n-1):\n",
    "                cost[i][j]=0\n",
    "            if(cost[i][j]<0):\n",
    "                cost[i][j]=float(\"inf\")\n",
    "            else:\n",
    "                cost[i][j]=cost[i][j]*cost[i][j]\n",
    "    print(*cost,sep=\"\\n\")\n",
    "    mincost=[0]*n\n",
    "    ans=[n-1]*n\n",
    "    for i in range(n-1,-1,-1):\n",
    "        mincost[i]=cost[i][n-1]\n",
    "        ans[i]=n\n",
    "        for j in range(n-1,i,-1):\n",
    "            if(mincost[i]>cost[i][j-1]+mincost[j]):\n",
    "                mincost[i]=cost[i][j-1]+mincost[j]\n",
    "                ans[i]=j\n",
    "        if(ans[i]==n):\n",
    "            mincost[i]=0\n",
    "    print(ans,mincost)\n",
    "                \n",
    "                \n",
    "arr = list(map(int,'10 6 5 3 1 10 8 2'.split(\" \")))\n",
    "\n",
    "\n",
    "\n",
    "M=12\n",
    "solveWordWrap(arr, M)"
   ]
  },
  {
   "cell_type": "markdown",
   "metadata": {},
   "source": [
    "# cost"
   ]
  },
  {
   "cell_type": "code",
   "execution_count": 67,
   "metadata": {},
   "outputs": [
    {
     "name": "stdout",
     "output_type": "stream",
     "text": [
      "0 0\n",
      "0 1\n",
      "0 2\n",
      "0 3\n",
      "1 1\n",
      "1 2\n",
      "1 3\n",
      "2 2\n",
      "2 3\n",
      "3 3\n",
      "[[1, 1, 1, 1], [0, 1, 1, 1], [0, 0, 1, 1], [0, 0, 0, 1]]\n"
     ]
    }
   ],
   "source": [
    "n=4\n",
    "cost=[[0 for i in range(n)] for j in range(n)]\n",
    "for i in range(n):\n",
    "    for j in range(i,n):\n",
    "        print(i,j)\n",
    "        cost[i][j]=1\n",
    "print(cost)"
   ]
  },
  {
   "cell_type": "code",
   "execution_count": 68,
   "metadata": {},
   "outputs": [
    {
     "data": {
      "text/plain": [
       "[10, 6, 5, 3, 1, 10, 8, 2]"
      ]
     },
     "execution_count": 68,
     "metadata": {},
     "output_type": "execute_result"
    }
   ],
   "source": [
    "arr"
   ]
  },
  {
   "cell_type": "code",
   "execution_count": 71,
   "metadata": {},
   "outputs": [],
   "source": [
    "a=list(set([1, 2, 5, 5, 6, 6, 8, 8]))"
   ]
  },
  {
   "cell_type": "code",
   "execution_count": 72,
   "metadata": {},
   "outputs": [
    {
     "data": {
      "text/plain": [
       "[1, 2, 5, 6, 8]"
      ]
     },
     "execution_count": 72,
     "metadata": {},
     "output_type": "execute_result"
    }
   ],
   "source": [
    "a"
   ]
  },
  {
   "cell_type": "code",
   "execution_count": 85,
   "metadata": {},
   "outputs": [
    {
     "name": "stdout",
     "output_type": "stream",
     "text": [
      "4\n",
      "36\n",
      "1\n",
      "4\n"
     ]
    },
    {
     "data": {
      "text/plain": [
       "45"
      ]
     },
     "execution_count": 85,
     "metadata": {},
     "output_type": "execute_result"
    }
   ],
   "source": [
    "res=0\n",
    "s=0\n",
    "for i in range(len(a)-1):\n",
    "    m=12-(sum(arr[s:a[i]])+(a[i]-s-1))\n",
    "    print(m*m)\n",
    "    res+=(m*m)\n",
    "    s=a[i]\n",
    "res\n",
    "    "
   ]
  },
  {
   "cell_type": "code",
   "execution_count": 83,
   "metadata": {},
   "outputs": [
    {
     "data": {
      "text/plain": [
       "46"
      ]
     },
     "execution_count": 83,
     "metadata": {},
     "output_type": "execute_result"
    }
   ],
   "source": [
    "res"
   ]
  },
  {
   "cell_type": "code",
   "execution_count": 1,
   "metadata": {},
   "outputs": [
    {
     "ename": "SyntaxError",
     "evalue": "invalid syntax (<ipython-input-1-77eeb564e61e>, line 1)",
     "output_type": "error",
     "traceback": [
      "\u001b[1;36m  File \u001b[1;32m\"<ipython-input-1-77eeb564e61e>\"\u001b[1;36m, line \u001b[1;32m1\u001b[0m\n\u001b[1;33m    4/1AX4XfWg67o_8V9FaykiccHzwT5hIatXDT2JpRaC4NWcE-lQc4KxHejPemZw\u001b[0m\n\u001b[1;37m                                                  ^\u001b[0m\n\u001b[1;31mSyntaxError\u001b[0m\u001b[1;31m:\u001b[0m invalid syntax\n"
     ]
    }
   ],
   "source": [
    "4/1AX4XfWg67o_8V9FaykiccHzwT5hIatXDT2JpRaC4NWcE-lQc4KxHejPemZw"
   ]
  },
  {
   "cell_type": "markdown",
   "metadata": {},
   "source": [
    "# 60. EDIT Distance [Very Imp]"
   ]
  },
  {
   "cell_type": "code",
   "execution_count": 37,
   "metadata": {},
   "outputs": [
    {
     "name": "stdout",
     "output_type": "stream",
     "text": [
      "h\n",
      "i\n",
      "9\n"
     ]
    }
   ],
   "source": [
    "def editDistance(s, t):\n",
    "    if(len(s)==0):\n",
    "        return len(t)\n",
    "    elif(len(t)==0):\n",
    "        return len(s)\n",
    "    elif(s[len(s)-1]==t[len(t)-1]):\n",
    "        return editDistance(s[:len(s)-1],t[:len(t)-1])\n",
    "    else:\n",
    "        return 1+min(editDistance(s,t[:len(t)-1]),editDistance(s[:len(s)-1],t[:len(t)-1]),editDistance(s[:len(s)-1],t))\n",
    "    \n",
    "    \n",
    "s=input()\n",
    "t=input()\n",
    "s=\"ecfbefdcfca\"\n",
    "t=\"badfcbebbf\"\n",
    "print(editDistance(s,t))"
   ]
  },
  {
   "cell_type": "code",
   "execution_count": 36,
   "metadata": {},
   "outputs": [
    {
     "name": "stdout",
     "output_type": "stream",
     "text": [
      "9\n"
     ]
    }
   ],
   "source": [
    "def editDistance(s, t,i,j):\n",
    "    if(len(s)==i):\n",
    "        return len(t)-j\n",
    "    elif(len(t)==j):\n",
    "        return len(s)-i\n",
    "    if(d[i+1][j+1]!=-1):\n",
    "        return d[i+1][j+1]\n",
    "    if(s[i]==t[j]):\n",
    "        d[i+1][j+1]=editDistance(s,t,i+1,j+1)\n",
    "        return d[i+1][j+1]\n",
    "    else:\n",
    "        d[i+1][j+1]=1+min(editDistance(s,t,i,j+1),editDistance(s,t,i+1,j+1),editDistance(s,t,i+1,j))\n",
    "        return d[i+1][j+1]\n",
    "s=\"sunday\"\n",
    "t=\"saturday\"\n",
    "s=\"ecfbefdcfca\"\n",
    "t=\"badfcbebbf\"\n",
    "d=[[-1 for i in range(len(t)+1)] for j in range(len(s)+1)]\n",
    "print(editDistance(s,t,0,0))\n"
   ]
  },
  {
   "cell_type": "code",
   "execution_count": 43,
   "metadata": {},
   "outputs": [
    {
     "name": "stdout",
     "output_type": "stream",
     "text": [
      "[0, 1, 2, 3, 4, 5, 6, 7, 8, 9, 10]\n",
      "[1, 1, 2, 3, 4, 5, 6, 6, 7, 8, 9]\n",
      "[2, 2, 2, 3, 4, 4, 5, 6, 7, 8, 9]\n",
      "[3, 3, 3, 3, 3, 4, 5, 6, 7, 8, 8]\n",
      "[4, 3, 4, 4, 4, 4, 4, 5, 6, 7, 8]\n",
      "[5, 4, 4, 5, 5, 5, 5, 4, 5, 6, 7]\n",
      "[6, 5, 5, 5, 5, 6, 6, 5, 5, 6, 6]\n",
      "[7, 6, 6, 5, 6, 6, 7, 6, 6, 6, 7]\n",
      "[8, 7, 7, 6, 6, 6, 7, 7, 7, 7, 7]\n",
      "[9, 8, 8, 7, 6, 7, 7, 8, 8, 8, 7]\n",
      "[10, 9, 9, 8, 7, 6, 7, 8, 9, 9, 8]\n",
      "[11, 10, 9, 9, 8, 7, 7, 8, 9, 10, 9]\n",
      "9\n"
     ]
    }
   ],
   "source": [
    "def editDistance(s, t):\n",
    "    d=[[0 for i in range(len(t)+1)] for j in range(len(s)+1)]\n",
    "    for i in range(len(s)+1):\n",
    "        for j in range(len(t)+1):\n",
    "            if(i==0):\n",
    "                d[i][j]=j\n",
    "            elif(j==0):\n",
    "                d[i][j]=i\n",
    "            elif(s[i-1]==t[j-1]):\n",
    "                d[i][j]=d[i-1][j-1]\n",
    "            else:\n",
    "                d[i][j]=1+min(d[i-1][j],d[i-1][j-1],d[i][j-1])\n",
    "    print(*d,sep=\"\\n\")\n",
    "    return d[len(s)][len(t)]\n",
    "                \n",
    "    \n",
    "s=\"sunday\"\n",
    "t=\"saturday\"\n",
    "s=\"ecfbefdcfca\"\n",
    "t=\"badfcbebbf\"\n",
    "print(editDistance(s,t))\n"
   ]
  },
  {
   "cell_type": "code",
   "execution_count": 22,
   "metadata": {},
   "outputs": [
    {
     "data": {
      "text/plain": [
       "[[-1, -1, -1, -1, -1, -1, -1, -1, -1],\n",
       " [-1, -1, -1, -1, -1, -1, -1, -1, -1],\n",
       " [-1, -1, -1, -1, -1, -1, -1, -1, -1],\n",
       " [-1, -1, -1, -1, -1, -1, -1, -1, -1],\n",
       " [-1, -1, -1, -1, -1, -1, -1, -1, -1],\n",
       " [-1, -1, -1, -1, -1, -1, -1, -1, -1],\n",
       " [-1, -1, -1, -1, -1, -1, -1, -1, -1]]"
      ]
     },
     "execution_count": 22,
     "metadata": {},
     "output_type": "execute_result"
    }
   ],
   "source": [
    "d"
   ]
  },
  {
   "cell_type": "markdown",
   "metadata": {},
   "source": [
    "# 61. Find next greater number with same set of digits. [Very Very IMP]"
   ]
  },
  {
   "cell_type": "code",
   "execution_count": 47,
   "metadata": {},
   "outputs": [
    {
     "data": {
      "text/plain": [
       "[5, 3, 6, 4, 7, 9]"
      ]
     },
     "execution_count": 47,
     "metadata": {},
     "output_type": "execute_result"
    }
   ],
   "source": [
    "def nextPermutation(N, arr):\n",
    "    i=N-2\n",
    "    while(i>=0 and arr[i]>=arr[i+1]):\n",
    "        i-=1\n",
    "    \n",
    "    if(i>=0):\n",
    "        j=N-1\n",
    "        while(arr[i]>=arr[j]):\n",
    "            j-=1\n",
    "        arr[i],arr[j]=arr[j],arr[i]\n",
    "    e=N-1\n",
    "    s=i+1\n",
    "    while(s<e):\n",
    "        arr[s],arr[e]=arr[e],arr[s]\n",
    "        s+=1\n",
    "        e-=1\n",
    "\n",
    "    return arr\n",
    "arr = [5, 3, 4, 9, 7, 6]\n",
    "nextPermutation(6,arr)"
   ]
  },
  {
   "cell_type": "markdown",
   "metadata": {},
   "source": [
    "# 62.Balanced Parenthesis problem.[Imp]"
   ]
  },
  {
   "cell_type": "code",
   "execution_count": 51,
   "metadata": {},
   "outputs": [
    {
     "name": "stdout",
     "output_type": "stream",
     "text": [
      "Not Balanced\n"
     ]
    }
   ],
   "source": [
    "def ispar(x):\n",
    "    s=[]\n",
    "    #if(len(x)%2==1):\n",
    "        #return False\n",
    "    for i in range(len(x)):\n",
    "        if(x[i]==\"{\" or x[i]==\"[\" or x[i]==\"(\"):\n",
    "            s.append(x[i])\n",
    "        if(x[i]==\"}\" or x[i]==\")\" or x[i]==\"]\"):\n",
    "            if(len(s)==0):\n",
    "                return False\n",
    "            else:\n",
    "                a=s.pop()\n",
    "                if(x[i]==\"}\" and a!=\"{\"):\n",
    "                    return False\n",
    "                if(x[i]==\")\" and a!=\"(\"):\n",
    "                    return False\n",
    "                if(x[i]==\"]\" and a!=\"[\"):\n",
    "                    return False\n",
    "    if(len(s)==0):\n",
    "        return True\n",
    "    else:\n",
    "        return False\n",
    "s=\"([]\"\n",
    "if ispar(s):\n",
    "    print(\"Balanced\")\n",
    "else:\n",
    "    print(\"Not Balanced\")\n",
    "                \n",
    "    \n",
    "    "
   ]
  },
  {
   "cell_type": "markdown",
   "metadata": {},
   "source": [
    "# 63. Word break Problem[ Very Imp]"
   ]
  },
  {
   "cell_type": "code",
   "execution_count": 4,
   "metadata": {},
   "outputs": [
    {
     "data": {
      "text/plain": [
       "True"
      ]
     },
     "execution_count": 4,
     "metadata": {},
     "output_type": "execute_result"
    }
   ],
   "source": [
    "B = [\"i\" , \"like\", \"sam\", \"sung\", \"samsung\", \"mobile\", \"ice\" , \"cream\" , \"icecream\", \"man\" , \"go\" , \"mango\"]\n",
    "A = \"ilike\"\n",
    "def wordBreak(line, dictionary):\n",
    "    if(line==\"\"):\n",
    "        return True\n",
    "    for i in range(1,len(line)+1):\n",
    "        if((line[:i] in dictionary) and wordBreak(line[i:],dictionary)):\n",
    "            return True\n",
    "    return False\n",
    "wordBreak(A,B)"
   ]
  },
  {
   "cell_type": "code",
   "execution_count": null,
   "metadata": {},
   "outputs": [],
   "source": [
    "h"
   ]
  },
  {
   "cell_type": "markdown",
   "metadata": {},
   "source": [
    "# 64. Rabin Karp Algo"
   ]
  },
  {
   "cell_type": "code",
   "execution_count": 14,
   "metadata": {},
   "outputs": [
    {
     "name": "stdout",
     "output_type": "stream",
     "text": [
      "113 104\n",
      "0 2 113 104\n",
      "1 2 113 113\n",
      "pattern find at index 1\n",
      "2 2 113 103\n"
     ]
    }
   ],
   "source": [
    "k=256\n",
    "q=5413\n",
    "def Rabinkarp(txt,pat):\n",
    "    h=0\n",
    "    thash=0\n",
    "    for i in range(len(pat)-1,-1,-1):\n",
    "        p=len(pat)-i-1\n",
    "        h=(h+ord(pat[i])*pow(k,p))%q\n",
    "        thash=(thash+(ord(txt[i])*pow(k,p))%q)%q\n",
    "        print(h,thash)\n",
    "    for i in range(len(txt)-len(pat)+1):\n",
    "        print(i,len(txt)-len(pat),h,thash)\n",
    "        if(h==thash):\n",
    "            for j in range(len(pat)):\n",
    "                if(pat[j]!=txt[i+j]):\n",
    "                    break\n",
    "            else:\n",
    "                print(f\"pattern find at index {i}\")\n",
    "        if(i<(len(txt)-len(pat))):\n",
    "            thash=(((thash-ord(txt[i])*pow(k,len(pat)-1))*k)%q+ord(txt[i+len(pat)]))%q\n",
    "            \n",
    "        \n",
    "                    \n",
    "    \n",
    "        \n",
    "txt=\"AABAACAADAABAABA\"\n",
    "pat=\"AABA\"\n",
    "txt = \"GEEKS FOR GEEKS\"\n",
    "pat = \"GEEK\"\n",
    "txt=\"hqg\"\n",
    "pat=\"q\"\n",
    "Rabinkarp(txt,pat)"
   ]
  },
  {
   "cell_type": "markdown",
   "metadata": {},
   "source": [
    "# 65. KMP Algo"
   ]
  },
  {
   "cell_type": "markdown",
   "metadata": {},
   "source": [
    "# 1. Part first [Lps ans Pi array]"
   ]
  },
  {
   "cell_type": "code",
   "execution_count": 6,
   "metadata": {},
   "outputs": [
    {
     "name": "stdout",
     "output_type": "stream",
     "text": [
      "[0, 0, 0, 0, 0, 0, 0]\n",
      "[0, 0, 0, 0, 0, 0, 0]\n",
      "[0, 0, 0, 1, 0, 0, 0]\n",
      "[0, 0, 0, 1, 2, 0, 0]\n",
      "[0, 0, 0, 1, 2, 3, 0]\n",
      "0\n",
      "[0, 0, 0, 1, 2, 3, 0]\n",
      "0\n"
     ]
    }
   ],
   "source": [
    "def lps(s):\n",
    "    lps=[0]*len(s)\n",
    "    for i in range(1,len(s)):\n",
    "\n",
    "        j=lps[i-1] # take how many character are matched\n",
    "        while(j>0 and s[i]!=s[j]): \n",
    "            j=lps[j-1]\n",
    "            print(j)\n",
    "\n",
    "        if(s[i]==s[j]): # if next character is matched then increase matched value\n",
    "            j+=1\n",
    "        lps[i]=j\n",
    "        print(lps)\n",
    "    return lps[len(s)-1]\n",
    "a=\"gigummcnu\"\n",
    "a=\"abcabcd\"\n",
    "print(lps(a))"
   ]
  },
  {
   "cell_type": "markdown",
   "metadata": {},
   "source": [
    "# 66. Convert a Sentence into its equivalent mobile numeric keypad sequence."
   ]
  },
  {
   "cell_type": "code",
   "execution_count": 18,
   "metadata": {},
   "outputs": [
    {
     "data": {
      "text/plain": [
       "88"
      ]
     },
     "execution_count": 18,
     "metadata": {},
     "output_type": "execute_result"
    }
   ],
   "source": [
    "ord(\"X\")"
   ]
  },
  {
   "cell_type": "code",
   "execution_count": 19,
   "metadata": {},
   "outputs": [
    {
     "name": "stdout",
     "output_type": "stream",
     "text": [
      "222222\n"
     ]
    }
   ],
   "source": [
    "def printSequence(S):\n",
    "    s=\"\"\n",
    "    for i in range(len(S)):\n",
    "        o=ord(S[i])\n",
    "        if(S[i]==\" \"):\n",
    "            s+=\"0\"\n",
    "        elif((ord(\"A\")<=o) and (ord(\"S\")>o)):\n",
    "            if(o-64)%3>0:\n",
    "                s=s+(str(((o-64)//3)+2)*((o-65)%3+1))\n",
    "            else:\n",
    "                s=s+(str(((o-64)//3)+1)*((o-65)%3+1))\n",
    "        elif(S[i]==\"S\"):\n",
    "            s+=\"7777\"\n",
    "        elif(S[i]==\"Z\"):\n",
    "            s+=\"9999\"\n",
    "        else:\n",
    "            if(o-65)%3>0:\n",
    "                s=s+(str(((o-65)//3)+2)*((o-66)%3+1))\n",
    "            else:\n",
    "                s=s+(str(((o-65)//3)+1)*((o-66)%3+1))\n",
    "    return s\n",
    "print(printSequence(\"ABC\"))"
   ]
  },
  {
   "cell_type": "markdown",
   "metadata": {},
   "source": [
    "# 67. Minimum number of bracket reversals needed to make an expression balanced."
   ]
  },
  {
   "cell_type": "code",
   "execution_count": 8,
   "metadata": {},
   "outputs": [
    {
     "name": "stdout",
     "output_type": "stream",
     "text": [
      "4\n"
     ]
    }
   ],
   "source": [
    "import math\n",
    "def countRev (s):\n",
    "    if(len(s)%2==1):\n",
    "        return -1\n",
    "    left=0\n",
    "    right=0\n",
    "    for i in range(len(s)):\n",
    "        if(s[i]==\"{\"):\n",
    "            left+=1\n",
    "        else:\n",
    "            if(left!=0):\n",
    "                left-=1\n",
    "            else:\n",
    "                right+=1\n",
    "    return math.ceil(left/2)+math.ceil(right/2)\n",
    "a=\"}}{{}}}}}{}{\"\n",
    "print(countRev(a))"
   ]
  },
  {
   "cell_type": "markdown",
   "metadata": {},
   "source": [
    "# 68.Count All Palindromic Subsequence in a given String. "
   ]
  },
  {
   "cell_type": "code",
   "execution_count": 4,
   "metadata": {},
   "outputs": [
    {
     "name": "stdout",
     "output_type": "stream",
     "text": [
      "5\n"
     ]
    }
   ],
   "source": [
    "def countans(dp,s,i,j,mod):\n",
    "    if(i>j):\n",
    "        return 0\n",
    "    if(i==j):\n",
    "        return 1\n",
    "    if(dp[i][j]!=-1):\n",
    "        return dp[i][j]\n",
    "\n",
    "    else:\n",
    "        if(s[i]==s[j]):\n",
    "            dp[i][j]=(countans(dp,s,i+1,j,mod)+countans(dp,s,i,j-1,mod)+1)%mod\n",
    "            return dp[i][j]\n",
    "        else:\n",
    "            dp[i][j]=(mod+countans(dp,s,i+1,j,mod)%mod +countans(dp,s,i,j-1,mod)%mod-countans(dp,s,i+1,j-1,mod)%mod)%mod\n",
    "            return dp[i][j]\n",
    "mod=1000000007\n",
    "s=\"aba\"\n",
    "dp=[[-1 for i in range(len(s))] for j in range(len(s))]\n",
    "print(countans(dp,s,0,2,mod))"
   ]
  },
  {
   "cell_type": "markdown",
   "metadata": {},
   "source": [
    "# 69.Count of number of given string in 2D character array"
   ]
  },
  {
   "cell_type": "code",
   "execution_count": 51,
   "metadata": {},
   "outputs": [
    {
     "name": "stdout",
     "output_type": "stream",
     "text": [
      "3\n",
      "0\n"
     ]
    }
   ],
   "source": [
    "def charcount(a,s,i,j,size,idx):\n",
    "    h=0\n",
    "    if(i>=0 and j>=0 and i<6 and j<6 and s[idx]==a[i][j]):\n",
    "        temp=a[i][i]\n",
    "        a[i][j]=0\n",
    "        idx+=1\n",
    "        if(size==idx):\n",
    "            h=1\n",
    "        else:\n",
    "            h+=charcount(a,s,i-1,j,size,idx)\n",
    "            h+=charcount(a,s,i+1,j,size,idx)\n",
    "            h+=charcount(a,s,i,j+1,size,idx)\n",
    "            h+=charcount(a,s,i,j-1,size,idx)\n",
    "        a[i][j]=temp\n",
    "\n",
    "    return h\n",
    "    \n",
    "    \n",
    "a =[[\"B\",\"B\",\"M\",\"B\",\"B\",\"B\"],\n",
    "    [\"C\",\"B\",\"A\",\"B\",\"B\",\"B\"],\n",
    "    [\"I\",\"B\",\"G\",\"B\",\"B\",\"B\"],\n",
    "    [\"G\",\"B\",\"I\",\"B\",\"B\",\"B\"],\n",
    "    [\"A\",\"B\",\"C\",\"B\",\"B\",\"B\"],\n",
    "    [\"M\",\"C\",\"I\",\"G\",\"A\",\"M\"]]\n",
    "s= \"MAGIC\"\n",
    "h=0\n",
    "for i in range(len(a)):\n",
    "    for j in range(len(a[0])):\n",
    "        h+=charcount(a,s,i,j,len(s),0)\n",
    "        \n",
    "print(h)\n",
    "\n",
    "\n",
    "print(charcount(a,s,5,5,5,0))"
   ]
  },
  {
   "cell_type": "code",
   "execution_count": 45,
   "metadata": {},
   "outputs": [
    {
     "data": {
      "text/plain": [
       "2"
      ]
     },
     "execution_count": 45,
     "metadata": {},
     "output_type": "execute_result"
    }
   ],
   "source": [
    "charcount(a,s,5,5,5,0)\n"
   ]
  },
  {
   "cell_type": "code",
   "execution_count": 1,
   "metadata": {},
   "outputs": [
    {
     "name": "stdout",
     "output_type": "stream",
     "text": [
      "9 16 12 5 15\n",
      "14 7 22 5 32 77\n",
      "9\n",
      "3\n"
     ]
    }
   ],
   "source": []
  },
  {
   "cell_type": "code",
   "execution_count": null,
   "metadata": {},
   "outputs": [],
   "source": [
    "9 16 "
   ]
  },
  {
   "cell_type": "markdown",
   "metadata": {},
   "source": [
    "# 70.Search a Word in a 2D Grid of characters."
   ]
  },
  {
   "cell_type": "code",
   "execution_count": 3,
   "metadata": {},
   "outputs": [
    {
     "data": {
      "text/plain": [
       "[[0, 0]]"
      ]
     },
     "execution_count": 3,
     "metadata": {},
     "output_type": "execute_result"
    }
   ],
   "source": [
    "def searchWord(grid, word):\n",
    "    ans=[]\n",
    "    dire=[[-1,-1],[-1,0],[-1,1],[0,1],[1,1],[1,0],[1,-1],[0,-1]]\n",
    "    n=len(grid)\n",
    "    m=len(grid[0])\n",
    "    for i in range (n):\n",
    "        for j in range(m):\n",
    "            if(grid[i][j]==word[0]):\n",
    "                for d in range(len(dire)):\n",
    "                    x,y=dire[d]\n",
    "                    for k in range(1,len(word)):\n",
    "                        rd,cd=(i+(x*k)),(j+(y*k))\n",
    "                        if(rd>=0 and rd<n and cd>=0 and cd<m):\n",
    "                            if(grid[rd][cd]!=word[k]):\n",
    "                                break\n",
    "                    else:\n",
    "                        rd,cd=(i+(x*(len(word)-1))),(j+(y*(len(word)-1)))\n",
    "                        if(rd>=0 and rd<n and cd>=0 and cd<m and grid[rd][cd]==word[len(word)-1]):\n",
    "                            ans.append([i,j])\n",
    "                            break\n",
    "    return ans\n",
    "grid = [[\"a\",\"b\",\"c\"],[\"d\",\"r\",\"f\"],[\"g\",\"h\",\"i\"]]\n",
    "word = \"abc\"\n",
    "searchWord(grid, word)"
   ]
  },
  {
   "cell_type": "markdown",
   "metadata": {},
   "source": [
    "# 71.Boyer Moore Algorithm for Pattern Searching"
   ]
  },
  {
   "cell_type": "code",
   "execution_count": null,
   "metadata": {},
   "outputs": [],
   "source": []
  },
  {
   "cell_type": "markdown",
   "metadata": {},
   "source": [
    "# 72.Converting Roman Numerals to Decimal"
   ]
  },
  {
   "cell_type": "code",
   "execution_count": 7,
   "metadata": {},
   "outputs": [
    {
     "data": {
      "text/plain": [
       "907"
      ]
     },
     "execution_count": 7,
     "metadata": {},
     "output_type": "execute_result"
    }
   ],
   "source": [
    "def romanToDecimal(S): \n",
    "    dic={\"I\":1,\"V\":5,\"X\":10,\"L\":50,\"C\":100,\"D\":500,\"M\":1000}\n",
    "    i=0\n",
    "    ans=0\n",
    "    while(i<len(S)-1):\n",
    "        if(dic[S[i]]<dic[S[i+1]]):\n",
    "            ans+=dic[S[i+1]]\n",
    "            ans-=dic[S[i]]\n",
    "            i+=2\n",
    "        else:\n",
    "            ans+=dic[S[i]]\n",
    "            i+=1\n",
    "    if(i==(len(S)-1)):\n",
    "        ans+=dic[S[i]]\n",
    "    return ans\n",
    "romanToDecimal(\"CMVII\")"
   ]
  },
  {
   "cell_type": "markdown",
   "metadata": {},
   "source": [
    "# 72.Longest Common Prefix"
   ]
  },
  {
   "cell_type": "code",
   "execution_count": 8,
   "metadata": {},
   "outputs": [
    {
     "name": "stdout",
     "output_type": "stream",
     "text": [
      "fl\n"
     ]
    }
   ],
   "source": [
    "def longestCommonPrefix(strs):\n",
    "    s=\"\"\n",
    "    for i in range(min(list(map(len,strs)))):\n",
    "        c=0\n",
    "        for j in range(1,len(strs)):\n",
    "            if(strs[0][i]==strs[j][i]):\n",
    "                c+=1\n",
    "            else:\n",
    "                break\n",
    "        if(c==(len(strs)-1)):\n",
    "            s+=strs[0][i]\n",
    "        else:\n",
    "            break\n",
    "    return s\n",
    "strs = [\"flower\",\"flow\",\"flight\"]\n",
    "print(longestCommonPrefix(strs))"
   ]
  },
  {
   "cell_type": "markdown",
   "metadata": {},
   "source": [
    "# 73.Number of flips to make binary string alternate"
   ]
  },
  {
   "cell_type": "code",
   "execution_count": 9,
   "metadata": {},
   "outputs": [
    {
     "name": "stdout",
     "output_type": "stream",
     "text": [
      "2\n"
     ]
    }
   ],
   "source": [
    "def minFlips(S):\n",
    "    n=len(S)\n",
    "    f0=0\n",
    "    f1=0\n",
    "    for i in range(len(S)):\n",
    "        if(i%2==0):\n",
    "            if(S[i]==\"0\"):\n",
    "                f1+=1\n",
    "            else:\n",
    "                f0+=1\n",
    "        else:\n",
    "            if(S[i]==\"0\"):\n",
    "                f0+=1\n",
    "            else:\n",
    "                f1+=1\n",
    "    return f1 if(f1<f0) else f0\n",
    "\n",
    "S=\"0001010111\"\n",
    "print(minFlips(S))"
   ]
  },
  {
   "cell_type": "markdown",
   "metadata": {},
   "source": [
    "# 74.Find the first repeated word in string."
   ]
  },
  {
   "cell_type": "code",
   "execution_count": 7,
   "metadata": {},
   "outputs": [
    {
     "data": {
      "text/plain": [
       "'bbb'"
      ]
     },
     "execution_count": 7,
     "metadata": {},
     "output_type": "execute_result"
    }
   ],
   "source": [
    "def secFrequent(arr, n):\n",
    "    d={}\n",
    "    m1=-float(\"inf\")\n",
    "    m2=-float(\"inf\")\n",
    "    for i in range(n):\n",
    "        d[arr[i]]=d.get(arr[i],0)+1\n",
    "    arr=list(set(arr))\n",
    "\n",
    "    if(d[arr[0]]<d[arr[1]]):\n",
    "        m1=arr[1]\n",
    "        m2=arr[0]\n",
    "    else:\n",
    "        m1=arr[0]\n",
    "        m2=arr[1]\n",
    "\n",
    "    for i in range(2,len(arr)):\n",
    "        if(d[arr[i]]>d[m1]):\n",
    "            m2=m1\n",
    "            m1=arr[i]\n",
    "        elif(d[arr[i]]>d[m2]):\n",
    "            m2=arr[i]\n",
    "    return m2\n",
    "N = 6\n",
    "arr= [\"aaa\", \"bbb\", \"ccc\", \"bbb\", \"aaa\", \"aaa\"]\n",
    "secFrequent(arr, N)"
   ]
  },
  {
   "cell_type": "markdown",
   "metadata": {},
   "source": [
    "# 75.Minimum number of swaps for bracket balancing."
   ]
  },
  {
   "cell_type": "code",
   "execution_count": null,
   "metadata": {},
   "outputs": [],
   "source": []
  },
  {
   "cell_type": "markdown",
   "metadata": {},
   "source": [
    "# 76.Find the longest common subsequence between two strings."
   ]
  },
  {
   "cell_type": "code",
   "execution_count": 6,
   "metadata": {},
   "outputs": [
    {
     "name": "stdout",
     "output_type": "stream",
     "text": [
      "3\n"
     ]
    }
   ],
   "source": [
    "def lcs(x,y,s1,s2):\n",
    "    dp= [[0 for j in range(y+1)] for i in range(x+1)]\n",
    "    for i in range(1,x+1):\n",
    "        for j in range(1,y+1):\n",
    "            if(s1[i-1]==s2[j-1]):\n",
    "                dp[i][j]=1+dp[i-1][j-1]\n",
    "            else:\n",
    "                dp[i][j]=max(dp[i-1][j],dp[i][j-1])\n",
    "    return dp[x][y]\n",
    "str1 = \"ABCDGH\"\n",
    "str2 = \"AEDFHR\"\n",
    "print(lcs(len(str1),len(str2),str1,str2))"
   ]
  },
  {
   "cell_type": "code",
   "execution_count": 10,
   "metadata": {},
   "outputs": [
    {
     "name": "stdout",
     "output_type": "stream",
     "text": [
      "3\n"
     ]
    }
   ],
   "source": [
    "def lcs(i,j,x,y,s1,s2):\n",
    "    if(i==x or j==y):\n",
    "        return 0\n",
    "    elif(s1[i]==s2[j]):\n",
    "        return 1+lcs(i+1,j+1,x,y,s1,s2)\n",
    "    else:\n",
    "        return max(lcs(i+1,j,x,y,s1,s2),lcs(i,j+1,x,y,s1,s2))\n",
    "str1 = \"ABCDGH\"\n",
    "str2 = \"AEDFHR\"\n",
    "print(lcs(0,0,len(str1),len(str2),str1,str2))"
   ]
  },
  {
   "cell_type": "code",
   "execution_count": 18,
   "metadata": {},
   "outputs": [
    {
     "name": "stdout",
     "output_type": "stream",
     "text": [
      "3\n"
     ]
    }
   ],
   "source": [
    "def lcs(i,j,s1,s2,dp):\n",
    "    if(i==len(s1) or j==len(s2)):\n",
    "        return 0\n",
    "    if(dp[i+1][j+1]!=-1):\n",
    "        return dp[i+1][j+1]\n",
    "    elif(s1[i]==s2[j]):\n",
    "        dp[i+1][j+1]=1+lcs(i+1,j+1,s1,s2,dp)\n",
    "        return dp[i+1][j+1]\n",
    "    else:\n",
    "        dp[i+1][j+1]=max(lcs(i+1,j,s1,s2,dp),lcs(i,j+1,s1,s2,dp))\n",
    "        return dp[i+1][j+1]\n",
    "str1 = \"ABCDGH\"\n",
    "str2 = \"AEDFHR\"\n",
    "dp=[[-1 for i in range(len(str2)+1) ] for j in range(len(str1)+1)]\n",
    "print(lcs(0,0,str1,str2,dp))"
   ]
  },
  {
   "cell_type": "code",
   "execution_count": null,
   "metadata": {},
   "outputs": [],
   "source": []
  },
  {
   "cell_type": "markdown",
   "metadata": {},
   "source": [
    "# 77.Program to generate all possible valid IP addresses from given  string."
   ]
  },
  {
   "cell_type": "code",
   "execution_count": null,
   "metadata": {},
   "outputs": [],
   "source": []
  },
  {
   "cell_type": "markdown",
   "metadata": {},
   "source": [
    "# 78.Write a program tofind the smallest window that contains all characters of string itself."
   ]
  },
  {
   "cell_type": "code",
   "execution_count": 35,
   "metadata": {},
   "outputs": [
    {
     "name": "stdout",
     "output_type": "stream",
     "text": [
      "3\n"
     ]
    }
   ],
   "source": [
    "def smallwindow(a):\n",
    "    ans=float(\"inf\")\n",
    "    h={}\n",
    "    for i in range(len(a)):\n",
    "        h[a[i]]=1\n",
    "    c=len(h)\n",
    "    h={}\n",
    "    j=0\n",
    "    i=0\n",
    "    while(i<len(a)):\n",
    "        h[a[i]]=h.get(a[i],0)+1\n",
    "        while(len(h)>=c):\n",
    "            if(ans>i-j+1):\n",
    "                ans=i-j+1\n",
    "            h[a[j]]=h[a[j]]-1\n",
    "            if(h[a[j]]==0):\n",
    "                del h[a[j]]\n",
    "            j+=1\n",
    "        i+=1\n",
    "    return ans \n",
    "        \n",
    "        \n",
    "    \n",
    "a=\"AABBBCBBAC\"\n",
    "print(smallwindow(a))"
   ]
  },
  {
   "cell_type": "markdown",
   "metadata": {},
   "source": [
    "# 79.Rearrange characters in a string such that no two adjacent are same"
   ]
  },
  {
   "cell_type": "code",
   "execution_count": 25,
   "metadata": {},
   "outputs": [
    {
     "data": {
      "text/plain": [
       "'egekesefgkors'"
      ]
     },
     "execution_count": 25,
     "metadata": {},
     "output_type": "execute_result"
    }
   ],
   "source": [
    "from heapq import *\n",
    "def rearrangeString(s):\n",
    "    d={}\n",
    "    m=float(\"inf\")\n",
    "    for i in range(len(s)):\n",
    "        d[s[i]]=d.get(s[i],0)-1\n",
    "    heap=[]\n",
    "\n",
    "    for (key,value) in d.items():\n",
    "        heappush(heap,[value,key])\n",
    "    m=\"\"\n",
    "    \n",
    "    temp=heappop(heap)\n",
    "    m+=temp[-1]\n",
    "    temp[0]=temp[0]+1\n",
    "    while(len(heap)>0):\n",
    "        temp1=heappop(heap)\n",
    "        m+=temp1[-1]\n",
    "        temp1[0]=temp1[0]+1\n",
    "        if(temp[0]<0):\n",
    "            heappush(heap,temp)\n",
    "        temp=temp1\n",
    "    if(temp[0]<0):\n",
    "        return \"-1\"\n",
    "    else:\n",
    "        return m\n",
    "         \n",
    "s=\"geeksforgeeks\"\n",
    "rearrangeString(s)"
   ]
  },
  {
   "cell_type": "markdown",
   "metadata": {},
   "source": [
    "# 80. Minimum characters to be added at front to make string palindrome"
   ]
  },
  {
   "cell_type": "code",
   "execution_count": 49,
   "metadata": {},
   "outputs": [
    {
     "name": "stdout",
     "output_type": "stream",
     "text": [
      "AACECAAAAAAAACECAA\n",
      "[0, 1, 0, 0, 0, 1, 2, 2, 2, 2, 2, 2, 2, 3, 4, 5, 6, 7]\n",
      "2\n"
     ]
    }
   ],
   "source": [
    "def lps(s):\n",
    "    lps=[0]*len(s)\n",
    "    for i in range(1,len(s)):\n",
    "\n",
    "        j=lps[i-1] # take how many character are matched\n",
    "        while(j>0 and s[i]!=s[j]): \n",
    "            j=lps[j-1]\n",
    "\n",
    "        if(s[i]==s[j]): # if next character is matched then increase matched value\n",
    "            j+=1\n",
    "        lps[i]=j\n",
    "    print(lps)\n",
    "    return lps\n",
    "\n",
    "s= \"AACECAAAA\"\n",
    "def getMinCharToAddedToMakeStringPalin(s):\n",
    "    revStr = s[::-1]\n",
    "    if(revStr==s):\n",
    "        return 0\n",
    "    else:\n",
    "        \n",
    "        con=s+revStr\n",
    "        print(con)\n",
    "        l=lps(con)\n",
    "        return len(s)-l[len(con)-1]\n",
    "s= \"AACECAAAA\"\n",
    "print(getMinCharToAddedToMakeStringPalin(s))"
   ]
  },
  {
   "cell_type": "markdown",
   "metadata": {},
   "source": [
    "# 81.Given a sequence of words, print all anagrams together"
   ]
  },
  {
   "cell_type": "code",
   "execution_count": 24,
   "metadata": {},
   "outputs": [
    {
     "name": "stdout",
     "output_type": "stream",
     "text": [
      "[['act', 'cat', 'tac'], ['god', 'dog']]\n"
     ]
    }
   ],
   "source": [
    "def Anagrams(words, n):\n",
    "        word=[]\n",
    "        for i in range(n):\n",
    "            a=words[i]\n",
    "            word.append(\"\".join(sorted(a)))\n",
    "        dic={}\n",
    "        for i in range(n):\n",
    "            dic[word[i]]=dic.get(word[i],[])+[words[i]]\n",
    "        print(sorted(dic.values()))\n",
    "        \n",
    "words = [\"act\",\"god\",\"cat\",\"dog\",\"tac\"]\n",
    "Anagrams(words,5)"
   ]
  },
  {
   "cell_type": "markdown",
   "metadata": {},
   "source": [
    "# 82.Find the smallest window in a string containing all characters of another string"
   ]
  },
  {
   "cell_type": "code",
   "execution_count": 5,
   "metadata": {},
   "outputs": [
    {
     "name": "stdout",
     "output_type": "stream",
     "text": [
      "[9, 0]\n",
      "[9, 1]\n",
      "[9, 2]\n",
      "[9, 3]\n",
      "[9, 4]\n",
      "(6, 'toprac')\n"
     ]
    }
   ],
   "source": [
    "def smallestWindow(s, p):\n",
    "    d={}\n",
    "    for i in range(len(p)):\n",
    "        d[p[i]]=d.get(p[i],0)+1\n",
    "    c=len(d)\n",
    "    j=0\n",
    "    ans=float(\"inf\")\n",
    "    a=\"\"\n",
    "    for i in range(len(s)):\n",
    "        if(s[i] in p):\n",
    "            d[s[i]]=d[s[i]]-1\n",
    "            if(d[s[i]]==0):\n",
    "                c-=1\n",
    "        while(c==0):\n",
    "            if(ans>i-j+1):\n",
    "                ans=i-j+1\n",
    "                a=[i,j]\n",
    "                print(a)\n",
    "            if(s[j] in p):\n",
    "                d[s[j]]=d[s[j]]+1\n",
    "                if(d[s[j]]==1):\n",
    "                    c+=1\n",
    "            j+=1\n",
    "    if(ans==float(\"inf\")):\n",
    "        return -1\n",
    "    return ans,s[a[1]:a[0]+1]\n",
    "s=\"timetopractice\"\n",
    "p=\"toc\"\n",
    "print(smallestWindow(s, p))"
   ]
  },
  {
   "cell_type": "markdown",
   "metadata": {},
   "source": [
    "# 83. Recursively remove all adjacent duplicates"
   ]
  },
  {
   "cell_type": "code",
   "execution_count": 6,
   "metadata": {},
   "outputs": [
    {
     "name": "stdout",
     "output_type": "stream",
     "text": [
      "aba\n"
     ]
    }
   ],
   "source": [
    "def removeConsecutiveCharacter(S):\n",
    "        # code here\n",
    "    s=S[0]\n",
    "    for i in range(1,len(S)):\n",
    "        if(s[-1]!=S[i]):\n",
    "            s+=S[i]\n",
    "    return s\n",
    "S = \"aabaa\"\n",
    "print(removeConsecutiveCharacter(S))"
   ]
  },
  {
   "cell_type": "markdown",
   "metadata": {},
   "source": [
    "# 84. String matching where one string contains wildcard characters"
   ]
  },
  {
   "cell_type": "code",
   "execution_count": null,
   "metadata": {},
   "outputs": [],
   "source": [
    "\n"
   ]
  },
  {
   "cell_type": "markdown",
   "metadata": {},
   "source": [
    "# 85.Function to find Number of customers who could not get a computer"
   ]
  },
  {
   "cell_type": "code",
   "execution_count": 3,
   "metadata": {},
   "outputs": [
    {
     "name": "stdout",
     "output_type": "stream",
     "text": [
      "0\n",
      "1\n",
      "0\n",
      "2\n",
      "3\n"
     ]
    }
   ],
   "source": [
    "def runCustomerSimulation(n,s):\n",
    "    d={}\n",
    "    re=[]\n",
    "    for i in range(len(s)):\n",
    "        if(s[i] in re):\n",
    "            pass\n",
    "        elif(s[i] in d.keys()):\n",
    "            del d[s[i]]\n",
    "        elif(len(d)<n):\n",
    "            d[s[i]]=1\n",
    "        elif(len(d)==n):\n",
    "            re.append(s[i])\n",
    "    return len(re)\n",
    "            \n",
    "            \n",
    "print(runCustomerSimulation(2, \"ABBAJJKZKZ\"))\n",
    "print(runCustomerSimulation(3, \"GACCBDDBAGEE\"))\n",
    "print(runCustomerSimulation(3, \"GACCBGDDBAEE\"))\n",
    "print(runCustomerSimulation(1, \"ABCBCA\"))\n",
    "print(runCustomerSimulation(1, \"ABCBCADEED\"))"
   ]
  },
  {
   "cell_type": "markdown",
   "metadata": {},
   "source": [
    "# 86.Transform One String to Another using Minimum Number of Given Operation"
   ]
  },
  {
   "cell_type": "code",
   "execution_count": 6,
   "metadata": {},
   "outputs": [
    {
     "name": "stdout",
     "output_type": "stream",
     "text": [
      "3 3\n",
      "1 2\n",
      "0 2\n",
      "Minimum number of operations required is 3\n"
     ]
    }
   ],
   "source": [
    "\n",
    "def minOps(A, B):\n",
    "    m = len(A)\n",
    "    n = len(B)\n",
    "\n",
    "    if n != m:\n",
    "        return -1\n",
    "\n",
    "    count = [0] * 256\n",
    "\n",
    "    for i in range(n):\n",
    "        count[ord(B[i])] += 1\n",
    "    for i in range(n):\n",
    "        count[ord(A[i])] -= 1\n",
    "    for i in range(256): \n",
    "        if count[i]:\n",
    "            return -1\n",
    "\n",
    "    \n",
    "    res = 0\n",
    "    i = n-1\n",
    "    j = n-1\n",
    "    while i >= 0:\n",
    "\n",
    "        # if there is a mismatch, then keep incrementing\n",
    "        # result 'res' until B[j] is not found in A[0..i]\n",
    "        while i>= 0 and A[i] != B[j]:\n",
    "            print(i,j)\n",
    "            i -= 1\n",
    "            \n",
    "            res += 1\n",
    "\n",
    "        # if A[i] and B[j] match\n",
    "        if i >= 0:\n",
    "            i -= 1\n",
    "            j -= 1\n",
    "\n",
    "    return res\n",
    "\n",
    "\n",
    "A = \"EACBD\"\n",
    "B = \"EABCD\"\n",
    "print(\"Minimum number of operations required is \" + str(minOps(A,B)))\n",
    "\n"
   ]
  },
  {
   "cell_type": "markdown",
   "metadata": {},
   "source": [
    "# 87.Check if two given strings are isomorphic to each other"
   ]
  },
  {
   "cell_type": "code",
   "execution_count": 11,
   "metadata": {},
   "outputs": [
    {
     "name": "stdout",
     "output_type": "stream",
     "text": [
      "{'x': 'f', 'f': 'x'}\n",
      "{'x': 'f', 'f': 'x', 'u': 't', 't': 'u'}\n",
      "{'x': 'f', 'f': 'x', 'u': 't', 't': 'u', 'd': 'a', 'a': 'd'}\n",
      "{'x': 'f', 'f': 'x', 'u': 't', 't': 'u', 'd': 'a', 'a': 'd', 'z': 'k', 'k': 'z'}\n",
      "{'x': 'f', 'f': 'x', 'u': 't', 't': 'u', 'd': 'a', 'a': 'd', 'z': 'k', 'k': 'z', 'h': 'c', 'c': 'h'}\n",
      "False\n"
     ]
    }
   ],
   "source": [
    "def areIsomorphic(str1,str2):\n",
    "    if(len(str1)!=len(str2)):\n",
    "        return False\n",
    "    dic={str1[0]:str2[0],str2[0]:str1[0]}\n",
    "    print(dic)\n",
    "    for i in range(1,len(str1)):\n",
    "        if(str1[i] in dic.keys() and str2[i] in dic.keys()):\n",
    "            if(dic[str1[i]]==str2[i] and dic[str2[i]]==str1[i]):\n",
    "                pass\n",
    "            else:\n",
    "                return False\n",
    "        elif(str1[i] not in dic.keys()):\n",
    "            if(str2[i] not in dic.keys()):\n",
    "                dic[str1[i]]=str2[i]\n",
    "                dic[str2[i]]=str1[i]\n",
    "            else:\n",
    "                return False\n",
    "        elif(str2[i] not in dic.keys()):\n",
    "            if(str1[i] not in dic.keys()):\n",
    "                dic[str1[i]]=str2[i]\n",
    "                dic[str2[i]]=str1[i]\n",
    "            else:\n",
    "                return False\n",
    "        else:\n",
    "            return False\n",
    "        print(dic)\n",
    "\n",
    "    return True\n",
    "print(areIsomorphic(\"xudzhi\",\"ftakcz\"))"
   ]
  },
  {
   "cell_type": "code",
   "execution_count": 13,
   "metadata": {},
   "outputs": [
    {
     "name": "stdout",
     "output_type": "stream",
     "text": [
      "True\n"
     ]
    }
   ],
   "source": [
    "def areIsomorphic(str1,str2):\n",
    "    if(len(str1)!=len(str2)):\n",
    "        return False\n",
    "    s1=[0]*256\n",
    "    s2=[0]*256\n",
    "\n",
    "    for i in range(len(str1)):\n",
    "        s1[ord(str1[i])]+=1\n",
    "        s2[ord(str2[i])]+=1\n",
    "        if(s1[ord(str1[i])]!=s2[ord(str2[i])]):\n",
    "            return False\n",
    "\n",
    "    return True\n",
    "print(areIsomorphic(\"xudzhi\",\"ftakcz\"))"
   ]
  },
  {
   "cell_type": "markdown",
   "metadata": {},
   "source": [
    "# 88. Recursively print all sentences that can be formed from list of word lists"
   ]
  },
  {
   "cell_type": "code",
   "execution_count": 20,
   "metadata": {},
   "outputs": [
    {
     "name": "stdout",
     "output_type": "stream",
     "text": [
      "you have sleep\n",
      "you have eat\n",
      "you have drink\n",
      "you are sleep\n",
      "you are eat\n",
      "you are drink\n",
      "we have sleep\n",
      "we have eat\n",
      "we have drink\n",
      "we are sleep\n",
      "we are eat\n",
      "we are drink\n"
     ]
    }
   ],
   "source": [
    "def answers(arr,r,c,output):\n",
    "    if(len(arr)-1==r):\n",
    "        for i in range(c):\n",
    "            print(output+\" \"+arr[r][i])\n",
    "    else:\n",
    "        for i in range(c):\n",
    "            if(arr[r][i]!=\"\"):\n",
    "                answers(arr,r+1,c,output+\" \"+arr[r][i])\n",
    "def printf(arr):\n",
    "    output=\"\"\n",
    "    for i in range(len(arr[0])):\n",
    "        if(arr[0][i]!=\"\"):\n",
    "            answers(arr,1,len(arr[0]),arr[0][i])\n",
    "                   \n",
    "arr = [ [\"you\", \"we\",\"\"],\n",
    "        [\"have\", \"are\",\"\"],\n",
    "        [\"sleep\", \"eat\", \"drink\"]]\n",
    "printf(arr)"
   ]
  },
  {
   "cell_type": "code",
   "execution_count": null,
   "metadata": {},
   "outputs": [],
   "source": []
  },
  {
   "cell_type": "markdown",
   "metadata": {},
   "source": [
    "# -----------------------------------------Searching & Sorting-------------------------------------------"
   ]
  },
  {
   "cell_type": "markdown",
   "metadata": {},
   "source": [
    "# 89.Find first and last positions of an element in a sorted array"
   ]
  },
  {
   "cell_type": "code",
   "execution_count": 2,
   "metadata": {},
   "outputs": [
    {
     "name": "stdout",
     "output_type": "stream",
     "text": [
      "[2, 5]\n"
     ]
    }
   ],
   "source": [
    "def find(arr,n,x):\n",
    "    s=0\n",
    "    e=n-1\n",
    "    mid=(s+e)//2\n",
    "    while(s<=e):\n",
    "        mid=(s+e)//2\n",
    "        if(arr[mid]==x):\n",
    "            break\n",
    "        if(arr[mid]>x):\n",
    "            e=mid-1\n",
    "        if(arr[mid]<x):\n",
    "            s=mid+1\n",
    "    if(arr[mid]==x):\n",
    "        while(arr[s]!=x):\n",
    "            s+=1\n",
    "        while(arr[e]!=x):\n",
    "            e-=1\n",
    "        return [s,e]  \n",
    "    else:\n",
    "        return [-1,-1]\n",
    "n=9\n",
    "x=5\n",
    "arr=[1,3,5,5,5,5,67,123,125]\n",
    "print(find(arr,n,x))"
   ]
  },
  {
   "cell_type": "markdown",
   "metadata": {},
   "source": [
    "# 90.Find a Fixed Point (Value equal to index) in a given array"
   ]
  },
  {
   "cell_type": "code",
   "execution_count": 3,
   "metadata": {},
   "outputs": [
    {
     "name": "stdout",
     "output_type": "stream",
     "text": [
      "[2, 6, 8]\n"
     ]
    }
   ],
   "source": [
    "def valueEqualToIndex(arr, n):\n",
    "    l=[]\n",
    "    for i in range(n):\n",
    "        if(arr[i]==i+1):\n",
    "            l.append(i+1)\n",
    "    return l\n",
    "arr=[0,2,4,6,83,6,72,8]\n",
    "n=8\n",
    "print(valueEqualToIndex(arr, n))"
   ]
  },
  {
   "cell_type": "markdown",
   "metadata": {},
   "source": [
    "# 91.Search in a rotated sorted array"
   ]
  },
  {
   "cell_type": "code",
   "execution_count": 2,
   "metadata": {},
   "outputs": [
    {
     "data": {
      "text/plain": [
       "4"
      ]
     },
     "execution_count": 2,
     "metadata": {},
     "output_type": "execute_result"
    }
   ],
   "source": [
    "def search(nums, target):\n",
    "    f=0\n",
    "    l=len(nums)-1\n",
    "    while(f<=l):\n",
    "        mid=(l+f)//2\n",
    "        if(nums[mid]==target):\n",
    "            return mid\n",
    "        elif(nums[mid]>=nums[f]):\n",
    "            if(nums[mid]>=target and nums[f]<=target):\n",
    "                l=mid-1\n",
    "            else:\n",
    "                f=mid+1\n",
    "        else:\n",
    "            if(nums[mid]<=target and nums[l]>=target):\n",
    "                f=mid+1\n",
    "            else:\n",
    "                l=mid-1\n",
    "    return -1\n",
    "nums=[4,5,6,7,0,1,2]\n",
    "target=0\n",
    "search(nums,target)"
   ]
  },
  {
   "cell_type": "markdown",
   "metadata": {},
   "source": [
    "# 92. square root of an integer"
   ]
  },
  {
   "cell_type": "code",
   "execution_count": 3,
   "metadata": {},
   "outputs": [
    {
     "name": "stdout",
     "output_type": "stream",
     "text": [
      "2\n"
     ]
    }
   ],
   "source": [
    "def countSquares(N):\n",
    "        # code here\n",
    "    return int((N**0.5)//1-1) if((N**0.5)//1==N**0.5) else int((N**0.5)//1)\n",
    "N=9\n",
    "print(countSquares(N))"
   ]
  },
  {
   "cell_type": "markdown",
   "metadata": {},
   "source": [
    "# 93. Maximum and minimum of an array using minimum number of comparisons"
   ]
  },
  {
   "cell_type": "code",
   "execution_count": 4,
   "metadata": {},
   "outputs": [
    {
     "name": "stdout",
     "output_type": "stream",
     "text": [
      "518\n"
     ]
    }
   ],
   "source": [
    "def middle(A,B,C):\n",
    "    #code here\n",
    "    if(A<B):\n",
    "        if(A<C):\n",
    "            if(B<C):\n",
    "                return B\n",
    "            else:\n",
    "                return C\n",
    "        else:\n",
    "            return A\n",
    "    else:\n",
    "        if(B<C):\n",
    "            if(A<C):\n",
    "                return A\n",
    "            else:\n",
    "                return C\n",
    "        else:\n",
    "            return B\n",
    "A=518\n",
    "B=300\n",
    "C=787\n",
    "print(middle(A,B,C))"
   ]
  },
  {
   "cell_type": "markdown",
   "metadata": {},
   "source": [
    "# 94.Optimum location of point to minimize total distance"
   ]
  },
  {
   "cell_type": "code",
   "execution_count": null,
   "metadata": {},
   "outputs": [],
   "source": []
  },
  {
   "cell_type": "markdown",
   "metadata": {},
   "source": [
    "# 95. Find the repeating and the missing"
   ]
  },
  {
   "cell_type": "code",
   "execution_count": 2,
   "metadata": {},
   "outputs": [
    {
     "data": {
      "text/plain": [
       "[2, 1]"
      ]
     },
     "execution_count": 2,
     "metadata": {},
     "output_type": "execute_result"
    }
   ],
   "source": [
    "def findTwoElement(arr, n):\n",
    "    ans=[]\n",
    "    for i in range(n):\n",
    "        if(arr[abs(arr[i])-1]>0):\n",
    "            arr[abs(arr[i])-1]=-arr[abs(arr[i])-1]\n",
    "        else:\n",
    "            ans.append(abs(arr[i]))\n",
    "    for i in range(n):\n",
    "        if(arr[i]>0):\n",
    "            ans.append(i+1)\n",
    "    return ans\n",
    "n=2\n",
    "arr=[2, 2]\n",
    "findTwoElement(arr,n)"
   ]
  },
  {
   "cell_type": "markdown",
   "metadata": {},
   "source": [
    "# 96.find majority element(Moore Voting Algo)\n"
   ]
  },
  {
   "cell_type": "code",
   "execution_count": 15,
   "metadata": {},
   "outputs": [
    {
     "name": "stdout",
     "output_type": "stream",
     "text": [
      "3\n"
     ]
    }
   ],
   "source": [
    "def majorityElement(A, N):\n",
    "    ma=A[0]\n",
    "    c=1\n",
    "    for i in range(1,N):\n",
    "        if(ma==A[i]):\n",
    "            c+=1\n",
    "        else:\n",
    "            c-=1\n",
    "            if(c==0):\n",
    "                ma=A[i]\n",
    "                c=1\n",
    "    ans=-1\n",
    "    c=0\n",
    "    for i in range(N):\n",
    "        if(A[i]==ma):\n",
    "            c+=1\n",
    "        if(c>N//2):\n",
    "            ans=ma\n",
    "            break\n",
    "    return ans\n",
    "N=5\n",
    "A=[3,1,3,3,2]\n",
    "print(majorityElement(A, N))\n"
   ]
  },
  {
   "cell_type": "markdown",
   "metadata": {},
   "source": [
    "# 97.Searching in an array where adjacent differ by at most k"
   ]
  },
  {
   "cell_type": "code",
   "execution_count": null,
   "metadata": {},
   "outputs": [],
   "source": [
    " "
   ]
  },
  {
   "cell_type": "markdown",
   "metadata": {},
   "source": [
    "# 98.find a pair with a given difference"
   ]
  },
  {
   "cell_type": "code",
   "execution_count": null,
   "metadata": {},
   "outputs": [],
   "source": [
    "def findPair(arr, L,N):\n",
    "    arr.sort()\n",
    "    i=0\n",
    "    j=1\n",
    "    while(j<L):\n",
    "        if(arr[j]-arr[i]==N and i!=j):\n",
    "            return True \n",
    "            \n",
    "        elif(arr[j]-arr[i]<=N):\n",
    "            j+=1\n",
    "        else:\n",
    "            i+=1\n",
    "    return False\n",
    "L = 6\n",
    "N = 78\n",
    "arr= [5, 20, 3, 2, 5, 80]\n",
    "print(findPair(arr, L,N))"
   ]
  },
  {
   "cell_type": "markdown",
   "metadata": {},
   "source": [
    "# 99.find four elements that sum to a given value"
   ]
  },
  {
   "cell_type": "code",
   "execution_count": 93,
   "metadata": {},
   "outputs": [
    {
     "name": "stdout",
     "output_type": "stream",
     "text": [
      "30 97 99 99 $39 90 97 99 $43 86 97 99 $44 83 99 99 $46 83 97 99 $46 90 90 99 $48 90 90 97 $54 82 90 99 $54 82 90 99 $55 72 99 99 $55 83 90 97 $61 68 97 99 $61 82 83 99 $64 65 97 99 $64 72 90 99 $64 72 90 99 $64 78 86 97 $65 78 83 99 $68 70 90 97 $68 72 86 99 $68 78 82 97 $70 72 86 97 $70 82 83 90 $"
     ]
    }
   ],
   "source": [
    "def fourSum(arr, k):\n",
    "        ans=[]\n",
    "        arr.sort()\n",
    "        li=\"\"\n",
    "        for i in range(len(arr)-3):\n",
    "            if(arr[i]!=li):\n",
    "                    li=arr[i]\n",
    "            else:\n",
    "                continue\n",
    "            lj=\"\"\n",
    "            for j in range(i+1,len(arr)-2):\n",
    "                s=j+1\n",
    "                e=len(arr)-1\n",
    "                if(arr[j]!=lj):\n",
    "                    lj=arr[j]\n",
    "                else:\n",
    "                    continue\n",
    "                ls=\"\"\n",
    "                le=\"\"\n",
    "                while(s<e):\n",
    "                    if(ls==arr[s] and le==arr[i]):\n",
    "                        continue\n",
    "                    if(arr[i]+arr[j]+arr[s]+arr[e]==k):\n",
    "                        re=[arr[i],arr[j],arr[s],arr[e]]\n",
    "                        #if(re not in ans):\n",
    "                        ans.append([arr[i],arr[j],arr[s],arr[e]])\n",
    "                        ls=arr[s]\n",
    "                        le=arr[e]\n",
    "                        s+=1\n",
    "                        e-=1\n",
    "                    elif((arr[i]+arr[j]+arr[s]+arr[e])<k):\n",
    "                        s+=1\n",
    "                    else:\n",
    "                        e-=1\n",
    "        \"\"\"m=[]\n",
    "        for i in ans:\n",
    "            if(i not in m):\n",
    "                m.append(i)\n",
    "                \n",
    "        return m\"\"\"\n",
    "        return ans\n",
    "n=47\n",
    "k=325\n",
    "\n",
    "a=\"\"\n",
    "for i in fourSum(arr, k):\n",
    "    for j in i:\n",
    "        a+=str(j)\n",
    "        a+=\" \"\n",
    "        print(j,end=\" \")\n",
    "    print(\"$\",end=\"\")\n",
    "    a+=\"$\"\n"
   ]
  },
  {
   "cell_type": "code",
   "execution_count": 84,
   "metadata": {},
   "outputs": [],
   "source": [
    "\n",
    "b=\"1 2 84 92 $1 3 76 99 $1 3 78 97 $1 12 67 99 $1 12 78 88 $1 17 67 94 $1 26 60 92 $1 26 68 84 $1 32 51 95 $1 32 52 94 $1 32 54 92 $1 32 60 86 $1 32 68 78 $1 32 70 76 $1 34 52 92 $1 34 60 84 $1 34 68 76 $1 39 51 88 $1 51 60 67 $2 3 86 88 $2 12 68 97 $2 12 70 95 $2 17 68 92 $2 17 76 84 $2 26 52 99 $2 26 54 97 $2 26 67 84 $2 32 51 94 $2 32 67 78 $2 34 51 92 $2 34 67 76 $2 39 39 99 $2 39 52 86 $2 39 54 84 $2 39 60 78 $2 39 68 70 $3 12 67 97 $3 12 70 94 $3 12 76 88 $3 12 78 86 $3 17 60 99 $3 17 67 92 $3 26 51 99 $3 32 52 92 $3 32 60 84 $3 32 68 76 $3 34 54 88 $3 39 51 86 $3 39 67 70 $3 52 54 70 $12 17 51 99 $12 32 51 84 $12 32 67 68 $12 34 39 94 $12 39 52 76 $12 39 60 68 $17 26 39 97 $17 26 52 84 $17 26 60 76 $17 32 52 78 $17 32 54 76 $17 32 60 70 $17 34 52 76 $17 34 60 68 $17 39 39 84 $26 32 51 70 $26 32 54 67 $26 34 51 68 $26 34 52 67 $26 39 54 60 $34 39 39 67 $34 39 52 54 $\""
   ]
  },
  {
   "cell_type": "code",
   "execution_count": 85,
   "metadata": {},
   "outputs": [
    {
     "name": "stdout",
     "output_type": "stream",
     "text": [
      "1 2 84 92 $1 3 76 99 $1 3 78 97 $1 12 67 99 $1 12 78 88 $1 17 67 94 $1 26 60 92 $1 26 68 84 $1 32 51 95 $1 32 52 94 $1 32 54 92 $1 32 60 86 $1 32 68 78 $1 32 70 76 $1 34 52 92 $1 34 60 84 $1 34 68 76 $1 39 51 88 $1 51 60 67 $2 3 86 88 $2 12 68 97 $2 12 70 95 $2 17 68 92 $2 17 76 84 $2 26 52 99 $2 26 54 97 $2 26 67 84 $2 32 51 94 $2 32 67 78 $2 34 51 92 $2 34 67 76 $2 39 39 99 $2 39 52 86 $2 39 54 84 $2 39 60 78 $2 39 68 70 $3 12 67 97 $3 12 70 94 $3 12 76 88 $3 12 78 86 $3 17 60 99 $3 17 67 92 $3 26 51 99 $3 32 52 92 $3 32 60 84 $3 32 68 76 $3 34 54 88 $3 39 51 86 $3 39 67 70 $3 52 54 70 $12 17 51 99 $12 32 51 84 $12 32 67 68 $12 34 39 94 $12 39 52 76 $12 39 60 68 $17 26 39 97 $17 26 52 84 $17 26 60 76 $17 32 52 78 $17 32 54 76 $17 32 60 70 $17 34 52 76 $17 34 60 68 $17 39 39 84 $26 32 51 70 $26 32 54 67 $26 34 51 68 $26 34 52 67 $26 39 54 60 $34 39 39 67 $34 39 52 54 $\n",
      "1 2 84 92 $1 3 76 99 $1 3 78 97 $1 12 67 99 $1 12 78 88 $1 17 67 94 $1 26 60 92 $1 26 68 84 $1 32 51 95 $1 32 52 94 $1 32 54 92 $1 32 60 86 $1 32 68 78 $1 32 70 76 $1 34 52 92 $1 34 60 84 $1 34 68 76 $1 39 51 88 $1 51 60 67 $2 3 86 88 $2 12 68 97 $2 12 70 95 $2 17 68 92 $2 17 76 84 $2 26 52 99 $2 26 54 97 $2 26 67 84 $2 32 51 94 $2 32 67 78 $2 34 51 92 $2 34 67 76 $2 39 39 99 $2 39 52 86 $2 39 54 84 $2 39 60 78 $2 39 68 70 $3 12 67 97 $3 12 70 94 $3 12 76 88 $3 12 78 86 $3 17 60 99 $3 17 67 92 $3 26 51 99 $3 32 52 92 $3 32 60 84 $3 32 68 76 $3 34 54 88 $3 39 51 86 $3 39 67 70 $3 52 54 70 $12 17 51 99 $12 32 51 84 $12 32 67 68 $12 34 39 94 $12 39 52 76 $12 39 60 68 $17 26 39 97 $17 26 52 84 $17 26 60 76 $17 32 52 78 $17 32 54 76 $17 32 60 70 $17 34 52 76 $17 34 60 68 $17 39 39 84 $26 32 51 70 $26 32 54 67 $26 34 51 68 $26 34 52 67 $26 39 54 60 $34 39 39 67 $34 39 52 54 $\n"
     ]
    },
    {
     "data": {
      "text/plain": [
       "True"
      ]
     },
     "execution_count": 85,
     "metadata": {},
     "output_type": "execute_result"
    }
   ],
   "source": [
    "print(a)\n",
    "\n",
    "print(b)\n",
    "a==b"
   ]
  },
  {
   "cell_type": "code",
   "execution_count": 89,
   "metadata": {},
   "outputs": [],
   "source": []
  },
  {
   "cell_type": "code",
   "execution_count": 90,
   "metadata": {},
   "outputs": [],
   "source": []
  },
  {
   "cell_type": "code",
   "execution_count": 91,
   "metadata": {},
   "outputs": [
    {
     "data": {
      "text/plain": [
       "[1,\n",
       " 4,\n",
       " 5,\n",
       " 5,\n",
       " 5,\n",
       " 7,\n",
       " 8,\n",
       " 10,\n",
       " 11,\n",
       " 11,\n",
       " 16,\n",
       " 20,\n",
       " 22,\n",
       " 22,\n",
       " 22,\n",
       " 25,\n",
       " 26,\n",
       " 28,\n",
       " 30,\n",
       " 36,\n",
       " 39,\n",
       " 40,\n",
       " 42,\n",
       " 43,\n",
       " 43,\n",
       " 44,\n",
       " 44,\n",
       " 46,\n",
       " 48,\n",
       " 54,\n",
       " 55,\n",
       " 61,\n",
       " 64,\n",
       " 65,\n",
       " 68,\n",
       " 69,\n",
       " 70,\n",
       " 72,\n",
       " 78,\n",
       " 82,\n",
       " 83,\n",
       " 86,\n",
       " 90,\n",
       " 90,\n",
       " 97,\n",
       " 99,\n",
       " 99]"
      ]
     },
     "execution_count": 91,
     "metadata": {},
     "output_type": "execute_result"
    }
   ],
   "source": []
  },
  {
   "cell_type": "markdown",
   "metadata": {},
   "source": [
    "# 100. Maximum sum such that no 2 elements are adjacent"
   ]
  },
  {
   "cell_type": "code",
   "execution_count": 4,
   "metadata": {},
   "outputs": [
    {
     "data": {
      "text/plain": [
       "110"
      ]
     },
     "execution_count": 4,
     "metadata": {},
     "output_type": "execute_result"
    }
   ],
   "source": [
    "def FindMaxSum(a, n):\n",
    "    l=[a[0],a[1]]\n",
    "    for i in range(2,n):\n",
    "        l.append(max(a[i]+l[i-2],l[i-1]))\n",
    "    return l[-1]\n",
    "n = 6\n",
    "arr = [5,5,10,100,10,5]\n",
    "FindMaxSum(arr,n)"
   ]
  },
  {
   "cell_type": "code",
   "execution_count": 16,
   "metadata": {},
   "outputs": [
    {
     "data": {
      "text/plain": [
       "110"
      ]
     },
     "execution_count": 16,
     "metadata": {},
     "output_type": "execute_result"
    }
   ],
   "source": [
    "def FindMaxSum(a, n):\n",
    "    inc=0\n",
    "    exc=0\n",
    "    l=[]\n",
    "    \n",
    "    for i in range(n):\n",
    "        l.append(max(inc+a[i],exc))\n",
    "        inc=exc\n",
    "        exc=l[-1]\n",
    "        \n",
    "        \n",
    "\n",
    "\n",
    "\n",
    "    return l[-1]\n",
    "n = 6\n",
    "arr = [5,5,10,100,10,5]\n",
    "FindMaxSum(arr,n)"
   ]
  },
  {
   "cell_type": "markdown",
   "metadata": {},
   "source": [
    "# 101. Count triplet with sum smaller than a given value "
   ]
  },
  {
   "cell_type": "code",
   "execution_count": 15,
   "metadata": {},
   "outputs": [
    {
     "name": "stdout",
     "output_type": "stream",
     "text": [
      "4\n"
     ]
    }
   ],
   "source": [
    "def countTriplets(arr, n, sumo):\n",
    "    arr.sort()\n",
    "    c=0\n",
    "    for i in range(n-2):\n",
    "        s=i+1\n",
    "        e=n-1\n",
    "        while(s<e):\n",
    "            if((arr[i] + arr[s] + arr[e])<sumo):\n",
    "                c+=(e-s)\n",
    "                s+=1\n",
    "            else:\n",
    "                e-=1\n",
    "\n",
    "    return c\n",
    "N = 5\n",
    "Sum = 12\n",
    "arr= [5, 1, 3, 4, 7]\n",
    "print(countTriplets(arr, N, Sum))"
   ]
  },
  {
   "cell_type": "markdown",
   "metadata": {},
   "source": [
    "# 102.merge 2 sorted arrays"
   ]
  },
  {
   "cell_type": "code",
   "execution_count": 20,
   "metadata": {},
   "outputs": [
    {
     "name": "stdout",
     "output_type": "stream",
     "text": [
      "[0, 1, 2, 3, 5, 6, 7, 8, 9]\n"
     ]
    }
   ],
   "source": [
    "def merge(arr1, arr2, n, m): \n",
    "    i=n-1\n",
    "    j=0\n",
    "    while(i>=0 and j<m):\n",
    "        if(arr1[i]>arr2[j]):\n",
    "            arr1[i],arr2[j]=arr2[j],arr1[i]\n",
    "        i-=1\n",
    "        j+=1\n",
    "    arr1.sort()\n",
    "    arr2.sort()\n",
    "    \n",
    "n = 4\n",
    "m = 5\n",
    "arr1=[1, 3, 5, 7]\n",
    "arr2=[0, 2, 6, 8, 9]\n",
    "merge(arr1, arr2, n, m)\n",
    "print(arr1+arr2)"
   ]
  },
  {
   "cell_type": "markdown",
   "metadata": {},
   "source": [
    "# 103. print all subarrays with 0 sum"
   ]
  },
  {
   "cell_type": "code",
   "execution_count": 23,
   "metadata": {},
   "outputs": [
    {
     "name": "stdout",
     "output_type": "stream",
     "text": [
      "6\n"
     ]
    }
   ],
   "source": [
    "def findSubArrays(arr,n):\n",
    "    dic={}\n",
    "    dic[0]=1\n",
    "    c=0\n",
    "    ans=0\n",
    "    for i in range(n):\n",
    "        ans=ans+arr[i]\n",
    "        c+=dic.get(ans,0)\n",
    "        dic[ans]=dic.get(ans,0)+1\n",
    "    return c\n",
    "n=6\n",
    "arr=[0,0,5,5,0,0]\n",
    "print(findSubArrays(arr,n))"
   ]
  },
  {
   "cell_type": "markdown",
   "metadata": {},
   "source": [
    "# 104. Product array Puzzle"
   ]
  },
  {
   "cell_type": "code",
   "execution_count": 31,
   "metadata": {},
   "outputs": [
    {
     "data": {
      "text/plain": [
       "[180, 600, 360, 300, 900]"
      ]
     },
     "execution_count": 31,
     "metadata": {},
     "output_type": "execute_result"
    }
   ],
   "source": [
    "def productExceptSelf(nums, n):\n",
    "    pro=1\n",
    "    a=[]\n",
    "    for i in nums:\n",
    "        pro*=i\n",
    "    for i in range(n):\n",
    "        if(nums[i]==0):\n",
    "            value=1\n",
    "            for j in range(n):\n",
    "                if(i!=j):\n",
    "                    value*=nums[j]\n",
    "            a.append(value)\n",
    "        else:\n",
    "            a.append(pro//nums[i])\n",
    "    return a\n",
    "nums = [10, 3, 5, 6, 2]\n",
    "n = len(arr)\n",
    "productExceptSelf(nums,n)"
   ]
  },
  {
   "cell_type": "code",
   "execution_count": 33,
   "metadata": {},
   "outputs": [
    {
     "name": "stdout",
     "output_type": "stream",
     "text": [
      "The product array is: n\n",
      "180 600 360 300 900 "
     ]
    }
   ],
   "source": [
    "def productArray(arr, n):\n",
    "\n",
    "    # Base case\n",
    "    if n == 1:\n",
    "        print(0)\n",
    "        return\n",
    "\n",
    "    temp = 1\n",
    "\n",
    "    # Allocate memory for the product array \n",
    "    prod = [1 for i in range(n)]\n",
    "\n",
    "    # Initialize the product array as 1 \n",
    "\n",
    "    # In this loop, temp variable contains product of\n",
    "    # elements on left side excluding arr[i] \n",
    "    for i in range(n):\n",
    "        prod[i] = temp\n",
    "        temp *= arr[i]\n",
    "    temp = 1\n",
    "\n",
    "    # In this loop, temp variable contains product of\n",
    "    # elements on right side excluding arr[i] \n",
    "    for i in range(n - 1, -1, -1):\n",
    "        prod[i] *= temp\n",
    "        temp *= arr[i]\n",
    "\n",
    "    # Print the constructed prod array \n",
    "    for i in range(n):\n",
    "        print(prod[i], end = \" \")\n",
    "\n",
    "    return\n",
    "\n",
    "# Driver Code\n",
    "arr = [10, 3, 5, 6, 2]\n",
    "n = len(arr)\n",
    "print(\"The product array is: n\")\n",
    "productArray(arr, n)"
   ]
  },
  {
   "cell_type": "markdown",
   "metadata": {},
   "source": [
    "# Another solution using left right array"
   ]
  },
  {
   "cell_type": "code",
   "execution_count": 34,
   "metadata": {},
   "outputs": [
    {
     "name": "stdout",
     "output_type": "stream",
     "text": [
      "The product array is: n\n",
      "180 600 360 300 900 "
     ]
    }
   ],
   "source": [
    "def productArray(arr, n):\n",
    "\n",
    "    # Base case\n",
    "    if n == 1:\n",
    "        print(0)\n",
    "        return\n",
    "\n",
    "\n",
    "    # Allocate \n",
    "    left = [1 for i in range(n)]\n",
    "    right= [1 for i in range(n)]\n",
    "\n",
    "    for i in range(1,n):\n",
    "        left[i] = left[i-1]*arr[i-1]\n",
    "        \n",
    "    for i in range(n - 2, -1, -1):\n",
    "        right[i] = right[i+1]*arr[i+1]\n",
    "\n",
    "    # Print the constructed prod array \n",
    "    for i in range(n):\n",
    "        print(left[i]*right[i], end = \" \")\n",
    "\n",
    "    return\n",
    "# Driver Code\n",
    "arr = [10, 3, 5, 6, 2]\n",
    "n = len(arr)\n",
    "print(\"The product array is: n\")\n",
    "productArray(arr, n)"
   ]
  },
  {
   "cell_type": "markdown",
   "metadata": {},
   "source": [
    "# 105. Sort array according to count of set bits"
   ]
  },
  {
   "cell_type": "code",
   "execution_count": 1,
   "metadata": {},
   "outputs": [
    {
     "name": "stdout",
     "output_type": "stream",
     "text": [
      "2\n",
      "1\n",
      "2\n",
      "1\n",
      "3\n",
      "3\n",
      "2\n",
      "2\n",
      "2\n",
      "{2: [9, 6, 3, 3, 10], 1: [8, 1], 3: [11, 7]}\n",
      "[11, 7, 9, 6, 3, 3, 10, 8, 1]\n"
     ]
    }
   ],
   "source": [
    "def sortBySetBitCount(arr, n):\n",
    "    d={}\n",
    "    for i in range(n):\n",
    "        s=str(bin(arr[i]))\n",
    "        c=sum(list(map(int,list(s[2:]))))\n",
    "        print(c)\n",
    "        d[c]=d.get(c,[])+[arr[i]]\n",
    "    arr=[]\n",
    "    print(d)\n",
    "    for i in sorted(d.keys(),reverse=True):\n",
    "        arr+=d[i]\n",
    "    print(arr)\n",
    "n=9\n",
    "arr=[9, 8, 6, 1, 11, 7, 3, 3, 10]\n",
    "sortBySetBitCount(arr, n)"
   ]
  },
  {
   "cell_type": "code",
   "execution_count": 2,
   "metadata": {},
   "outputs": [
    {
     "data": {
      "text/plain": [
       "[11, 7, 9, 6, 3, 3, 10, 8, 1]"
      ]
     },
     "execution_count": 2,
     "metadata": {},
     "output_type": "execute_result"
    }
   ],
   "source": [
    "def sortBySetBitCount(arr, n):\n",
    "    d=[]\n",
    "    for i in range(n):\n",
    "        s=str(bin(arr[i]))\n",
    "        c=0\n",
    "        for j in range(len(s)):\n",
    "            if(s[j]==\"1\"):\n",
    "                c+=1\n",
    "        d.append(c)\n",
    "    for i in range(1,n):\n",
    "        j=i-1\n",
    "        key1=d[i]\n",
    "        key2=arr[i]\n",
    "        while(j>=0 and d[j]<key1):\n",
    "            d[j+1]=d[j]\n",
    "            arr[j+1]=arr[j]\n",
    "            j-=1\n",
    "        d[j+1]=key1\n",
    "        arr[j+1]=key2\n",
    "    return arr\n",
    "n=9\n",
    "arr=[9, 8, 6, 1, 11, 7, 3, 3, 10]\n",
    "sortBySetBitCount(arr, n)"
   ]
  },
  {
   "cell_type": "markdown",
   "metadata": {},
   "source": [
    "# 106. minimum no. of swaps required to sort the array"
   ]
  },
  {
   "cell_type": "code",
   "execution_count": 21,
   "metadata": {},
   "outputs": [
    {
     "name": "stdout",
     "output_type": "stream",
     "text": [
      "[[2, 0], [4, 3], [5, 2], [8, 1]]\n",
      "[8, 1]\n",
      "--\n",
      "1\n"
     ]
    }
   ],
   "source": [
    "def minSwaps(nums):\n",
    "    arr=[ [nums[i],i] for i in range(len(nums))]\n",
    "    arr.sort()\n",
    "    print(arr)\n",
    "    c=0\n",
    "    i=0\n",
    "    while(i<len(nums)):\n",
    "        if(arr[i][1]!=i):\n",
    "            c+=1\n",
    "            a=i\n",
    "            b=arr[i][1]\n",
    "            temp=[arr[a][0],arr[a][1]]\n",
    "            arr[a]=[arr[b][0],arr[b][1]]\n",
    "            print(arr[i])\n",
    "            arr[b]=[temp[0],temp[1]]\n",
    "        else:\n",
    "            i+=1\n",
    "    return c\n",
    "nums = [2, 8, 5, 4]\n",
    "print(minSwaps(nums))"
   ]
  },
  {
   "cell_type": "markdown",
   "metadata": {},
   "source": [
    "# 107. Bishu and Soldiers"
   ]
  },
  {
   "cell_type": "code",
   "execution_count": 2,
   "metadata": {},
   "outputs": [
    {
     "name": "stdout",
     "output_type": "stream",
     "text": [
      "3 6\n",
      "7 28\n",
      "2 3\n"
     ]
    }
   ],
   "source": [
    "n=7\n",
    "p=[1, 2, 3, 4, 5, 6, 7]\n",
    "\n",
    "m=3\n",
    "l=[3,10,2]\n",
    "for i in range(m):\n",
    "    j=0\n",
    "    s=0\n",
    "    ans=0\n",
    "    while(j<n):\n",
    "        if(l[i]>=p[j]):\n",
    "            s+=p[j]\n",
    "            ans=j+1\n",
    "        j+=1\n",
    "    print(ans,s)\n",
    "\n",
    "            "
   ]
  },
  {
   "cell_type": "markdown",
   "metadata": {},
   "source": [
    "# 108. Rasta and Kheshtak"
   ]
  },
  {
   "cell_type": "code",
   "execution_count": null,
   "metadata": {},
   "outputs": [],
   "source": []
  },
  {
   "cell_type": "markdown",
   "metadata": {},
   "source": [
    " # 109. Kth smallest number again"
   ]
  },
  {
   "cell_type": "code",
   "execution_count": null,
   "metadata": {},
   "outputs": [],
   "source": []
  },
  {
   "cell_type": "markdown",
   "metadata": {},
   "source": [
    "# 110. Find pivot element in a sorted array"
   ]
  },
  {
   "cell_type": "code",
   "execution_count": 7,
   "metadata": {},
   "outputs": [
    {
     "data": {
      "text/plain": [
       "4"
      ]
     },
     "execution_count": 7,
     "metadata": {},
     "output_type": "execute_result"
    }
   ],
   "source": [
    "def povitelement(arr,l,h):\n",
    "    mid=(l+h)//2\n",
    "    while(l<h):\n",
    "        if(l==h):\n",
    "            return l\n",
    "        if(l<mid and arr[mid-1]>arr[mid]):\n",
    "            return mid-1\n",
    "        if(h>mid and arr[mid+1]<arr[mid]):\n",
    "            return mid\n",
    "        if(arr[l]<arr[mid]):\n",
    "            l=mid+1\n",
    "        else:\n",
    "            h=mid-1\n",
    "    return -1\n",
    "    \n",
    "\n",
    "        \n",
    "    \n",
    "arr=[15,16,17,18,19,1,2,3,4,5]\n",
    "povitelement(arr,0,len(arr)-1)\n",
    "    "
   ]
  },
  {
   "cell_type": "markdown",
   "metadata": {},
   "source": [
    "##### min element index in rotated and sorted array"
   ]
  },
  {
   "cell_type": "code",
   "execution_count": 5,
   "metadata": {},
   "outputs": [],
   "source": [
    "#### also foe finding the no of rotation in array"
   ]
  },
  {
   "cell_type": "code",
   "execution_count": 8,
   "metadata": {},
   "outputs": [
    {
     "data": {
      "text/plain": [
       "5"
      ]
     },
     "execution_count": 8,
     "metadata": {},
     "output_type": "execute_result"
    }
   ],
   "source": [
    "def minelement(arr,l,h):\n",
    "    mid=(l+h)//2\n",
    "    while(l<h):\n",
    "        if(l==h):\n",
    "            return l\n",
    "        if(l<mid and arr[mid-1]>arr[mid]):\n",
    "            return mid\n",
    "        if(h>mid and arr[mid+1]<arr[mid]):\n",
    "            return mid+1\n",
    "        if(arr[l]<arr[mid]):\n",
    "            l=mid+1\n",
    "        else:\n",
    "            h=mid-1\n",
    "    return -1\n",
    "\n",
    "        \n",
    "    \n",
    "arr=[15,16,17,18,19,1,2,3,4,5]\n",
    "minelement(arr,0,len(arr)-1)"
   ]
  },
  {
   "cell_type": "markdown",
   "metadata": {},
   "source": [
    "# 111. K-th Element of Two Sorted Arrays"
   ]
  },
  {
   "cell_type": "code",
   "execution_count": 8,
   "metadata": {},
   "outputs": [
    {
     "data": {
      "text/plain": [
       "87"
      ]
     },
     "execution_count": 8,
     "metadata": {},
     "output_type": "execute_result"
    }
   ],
   "source": [
    "def kthElement(A, B, n, m, k_req):\n",
    "    i, j, k = 0, 0, 0\n",
    "    while i < len(A) and j < len(B):\n",
    "        if A[i] < B[j]:\n",
    "            k += 1\n",
    "            if k == k_req:\n",
    "                return A[i]\n",
    "            i += 1\n",
    "        else:\n",
    "            k += 1\n",
    "            if k == k_req:\n",
    "                return B[j]        \n",
    "            j += 1\n",
    "\n",
    "# If array B[] is completely traversed\n",
    "    while i < len(A):\n",
    "        k += 1\n",
    "        if k == k_req:\n",
    "            return A[i]\n",
    "        i += 1\n",
    "    while j < len(B):\n",
    "        k += 1\n",
    "        if k == k_req:\n",
    "                return B[j]\n",
    "        j += 1\n",
    "n,m,k=7,39,39\n",
    "arr1=list(map(int,\"5 33 55 65 76 80 90\".split()))\n",
    "arr2=list(map(int,\"10 13 14 15 15 22 27 32 34 36 36 37 39 40 42 45 49 50 50 53 56 56 57 61 65 66 70 70 71 74 78 84 87 90 91 94 94 96 99\".split()))\n",
    "kthElement(arr1, arr2, n, m, k)"
   ]
  },
  {
   "cell_type": "code",
   "execution_count": 7,
   "metadata": {},
   "outputs": [
    {
     "data": {
      "text/plain": [
       "87"
      ]
     },
     "execution_count": 7,
     "metadata": {},
     "output_type": "execute_result"
    }
   ],
   "source": [
    "def kth(arr1, arr2, n, m, k):\n",
    "\n",
    "    if n == 1 or m == 1:\n",
    "        if m == 1:\n",
    "            arr2, arr1 = arr1, arr2\n",
    "            m = n\n",
    "        if k == 1:\n",
    "            return min(arr1[0], arr2[0])\n",
    "        elif k == m + 1:\n",
    "            return max(arr1[0], arr2[0])\n",
    "        else:\n",
    "            if arr2[k - 1] < arr1[0]:\n",
    "                return arr2[k - 1]\n",
    "            else:\n",
    "                return max(arr1[0], arr2[k - 2])\n",
    "\n",
    "    mid1 = (n - 1)//2\n",
    "    mid2 = (m - 1)//2\n",
    "\n",
    "    if mid1+mid2+1 < k:\n",
    "        if arr1[mid1] < arr2[mid2]:\n",
    "            return kth(arr1[mid1 + 1:], arr2, n - mid1 - 1, m, k - mid1 - 1)\n",
    "        else:\n",
    "            return kth(arr1, arr2[mid2 + 1:], n, m - mid2 - 1, k - mid2 - 1)\n",
    "    else:\n",
    "        if arr1[mid1] < arr2[mid2]:\n",
    "            return kth(arr1, arr2[:mid2 + 1], n, mid2 + 1, k)\n",
    "        else:\n",
    "            return kth(arr1[:mid1 + 1], arr2, mid1 + 1, m, k)\n",
    "n,m,k=7,39,39\n",
    "arr1=list(map(int,\"5 33 55 65 76 80 90\".split()))\n",
    "arr2=list(map(int,\"10 13 14 15 15 22 27 32 34 36 36 37 39 40 42 45 49 50 50 53 56 56 57 61 65 66 70 70 71 74 78 84 87 90 91 94 94 96 99\".split()))\n",
    "kthElement(arr1, arr2, n, m, k)"
   ]
  },
  {
   "cell_type": "markdown",
   "metadata": {},
   "source": [
    "# 112. Aggressive cows"
   ]
  },
  {
   "cell_type": "code",
   "execution_count": 10,
   "metadata": {},
   "outputs": [
    {
     "name": "stdout",
     "output_type": "stream",
     "text": [
      "1\n",
      "5 3\n",
      "1\n",
      "2\n",
      "4\n",
      "8\n",
      "9\n",
      "3\n"
     ]
    }
   ],
   "source": [
    "def mindistance(L,N,C):\n",
    "    L.sort()\n",
    "    l=0\n",
    "    u=999999999\n",
    "    ans=-1\n",
    "    while(l<=u):\n",
    "        mid=(l+u)//2\n",
    "        c=1\n",
    "        prev=L[0]\n",
    "        for i in range(1,N):\n",
    "            if(prev+mid<=L[i]):\n",
    "                prev=L[i]\n",
    "                c+=1\n",
    "            if(c==C):\n",
    "                break\n",
    "        if(c==C):\n",
    "            ans=mid\n",
    "            l=mid+1\n",
    "        else:\n",
    "            u=mid-1  \n",
    "    return ans\n",
    "t=int(input())\n",
    "while(t>0):\n",
    "    N,C=map(int,input().split())\n",
    "    L=[]\n",
    "    for i in range(N):\n",
    "        L.append(int(input()))\n",
    "    print(mindistance(L,N,C))\n",
    "    t-=1\n",
    "        "
   ]
  },
  {
   "cell_type": "markdown",
   "metadata": {},
   "source": [
    "# 113. Book Allocation Problem"
   ]
  },
  {
   "cell_type": "code",
   "execution_count": 9,
   "metadata": {},
   "outputs": [
    {
     "name": "stdout",
     "output_type": "stream",
     "text": [
      "517 3 517\n",
      "258 5 258\n",
      "128 t 258\n",
      "193 t 258\n",
      "225 t 258\n",
      "241 t 258\n",
      "249 t 258\n",
      "253 5 253\n",
      "251 5 251\n",
      "250 5 250\n",
      "250\n"
     ]
    }
   ],
   "source": [
    "def noofstudents(A,mid,N):\n",
    "        k=1\n",
    "        page=0\n",
    "        p=\"t\"\n",
    "        for i in range(N):\n",
    "            if(page+A[i]<=mid):\n",
    "                page+=A[i]\n",
    "            else:\n",
    "                if(A[i]>mid):\n",
    "                    return p\n",
    "                k+=1\n",
    "                page=A[i]\n",
    "        return k\n",
    "def findPages(A, N, m):\n",
    "    ans=-1\n",
    "    low=0\n",
    "    high=0\n",
    "    for i in range(N):\n",
    "        high+=A[i]\n",
    "    while(low<=high):\n",
    "        mid=(low+high)//2\n",
    "        k=noofstudents(A,mid,N)\n",
    "\n",
    "        if(k==\"t\" or k>m):\n",
    "            low=mid+1\n",
    "        else:\n",
    "            ans=mid\n",
    "            high=mid-1\n",
    "        print(mid,k,ans)\n",
    "    return ans\n",
    "\n",
    "N=8\n",
    "A=[250,74,159,181,23,45,129,174]\n",
    "m=6\n",
    "print(findPages(A, N, m))"
   ]
  },
  {
   "cell_type": "markdown",
   "metadata": {},
   "source": [
    "# 114. EKO-EKO SPOJ"
   ]
  },
  {
   "cell_type": "code",
   "execution_count": 22,
   "metadata": {},
   "outputs": [
    {
     "name": "stdout",
     "output_type": "stream",
     "text": [
      "62 23 23 24 46\n",
      "23 35 35 36 46\n",
      "6 35 41 36 40\n",
      "14 35 38 36 37\n",
      "20 36 36 37 37\n",
      "17 36 37 37 36\n",
      "36\n"
     ]
    }
   ],
   "source": [
    "def getwood(A,mid,N):\n",
    "    w=0\n",
    "    for i in range(N):\n",
    "        if(A[i]>mid):\n",
    "            w+=A[i]-mid\n",
    "    return w\n",
    "def hightofblade(A,N,M):\n",
    "    l=0\n",
    "    h=max(A)\n",
    "    ans=-1\n",
    "    while(l<=h):\n",
    "        mid=(l+h)//2\n",
    "        wood=getwood(A,mid,N)\n",
    "        if(wood>=M):\n",
    "            ans=mid\n",
    "            l=mid+1\n",
    "        else:\n",
    "            h=mid-1\n",
    "        print(wood,ans,mid,l,h)\n",
    "    return ans\n",
    "N=4\n",
    "M=7 #atleast\n",
    "A=[20, 15, 10, 17]\n",
    "N=5\n",
    "M=20\n",
    "A=[4,42,40,26,46]\n",
    "print(hightofblade(A,N,M))"
   ]
  },
  {
   "cell_type": "markdown",
   "metadata": {},
   "source": [
    "# 115.Job Scheduling Algo"
   ]
  },
  {
   "cell_type": "code",
   "execution_count": null,
   "metadata": {},
   "outputs": [],
   "source": []
  },
  {
   "cell_type": "markdown",
   "metadata": {},
   "source": [
    "# 116. Missing Number in AP"
   ]
  },
  {
   "cell_type": "code",
   "execution_count": 9,
   "metadata": {},
   "outputs": [
    {
     "data": {
      "text/plain": [
       "1"
      ]
     },
     "execution_count": 9,
     "metadata": {},
     "output_type": "execute_result"
    }
   ],
   "source": [
    "import math\n",
    "def inSequence(A, B, C):\n",
    "    if(B-A)==0 and C==0:\n",
    "        return 1\n",
    "    if(C==0):\n",
    "        return 0\n",
    "    if(((B-A)<0 and C>0) or((B-A)>0 and C<0) ):\n",
    "        return 0\n",
    "    s=(B-A)/C\n",
    "\n",
    "    if(s==math.floor(s)):\n",
    "        return 1\n",
    "    else:\n",
    "        return 0\n",
    "inSequence(1,3,2)"
   ]
  },
  {
   "cell_type": "code",
   "execution_count": 15,
   "metadata": {},
   "outputs": [
    {
     "data": {
      "text/plain": [
       "5.0"
      ]
     },
     "execution_count": 15,
     "metadata": {},
     "output_type": "execute_result"
    }
   ],
   "source": [
    "import math\n",
    "math.sqrt(25)"
   ]
  },
  {
   "cell_type": "code",
   "execution_count": 19,
   "metadata": {},
   "outputs": [
    {
     "data": {
      "text/plain": [
       "5.0"
      ]
     },
     "execution_count": 19,
     "metadata": {},
     "output_type": "execute_result"
    }
   ],
   "source": [
    "625**0.25"
   ]
  },
  {
   "cell_type": "markdown",
   "metadata": {},
   "source": [
    "# 117.Smallest number with atleastn trailing zeroes infactorial"
   ]
  },
  {
   "cell_type": "code",
   "execution_count": 25,
   "metadata": {},
   "outputs": [
    {
     "data": {
      "text/plain": [
       "25"
      ]
     },
     "execution_count": 25,
     "metadata": {},
     "output_type": "execute_result"
    }
   ],
   "source": [
    "def findNum(n ):\n",
    "    l=0\n",
    "    h=5*n\n",
    "    while(l<h):\n",
    "        mid=(l+h)//2\n",
    "        c=0\n",
    "        f=5\n",
    "        while(mid>=f):\n",
    "            c+=(mid//f)\n",
    "            f*=5\n",
    "        if(c>=n):\n",
    "            h=mid\n",
    "        else:\n",
    "            l=mid+1\n",
    "    return l\n",
    "n=6\n",
    "findNum(n)"
   ]
  },
  {
   "cell_type": "markdown",
   "metadata": {},
   "source": [
    "# 118. Painters Partition Problem:"
   ]
  },
  {
   "cell_type": "code",
   "execution_count": null,
   "metadata": {},
   "outputs": [],
   "source": [
    "# same as book allocation problem no 113"
   ]
  },
  {
   "cell_type": "markdown",
   "metadata": {},
   "source": [
    "# 119. PRATA - Roti Prata"
   ]
  },
  {
   "cell_type": "code",
   "execution_count": 10,
   "metadata": {},
   "outputs": [
    {
     "name": "stdout",
     "output_type": "stream",
     "text": [
      "1\n"
     ]
    }
   ],
   "source": [
    "def countprata(N,A,M):\n",
    "    p=0\n",
    "    for i in range(N):\n",
    "        t=A[i]\n",
    "        s=A[i]\n",
    "        while(t<=M):\n",
    "            p+=1\n",
    "            s+=A[i]\n",
    "            t+=s\n",
    "    return p\n",
    "            \n",
    "        \n",
    "def minimumtime(p,N,A):\n",
    "    ans=-1\n",
    "    l=0\n",
    "    h=999999\n",
    "    while(l<=h):\n",
    "        mid=(l+h)//2\n",
    "        prata=countprata(N,A,mid)\n",
    "        if(prata>=p):\n",
    "            ans=mid\n",
    "            h=mid-1\n",
    "        else:\n",
    "            l=mid+1\n",
    "    return ans\n",
    "            \n",
    "        \n",
    "p1=10\n",
    "N1=4\n",
    "A1=[1,2,3,4]\n",
    "p2=8\n",
    "N2=1\n",
    "A2=[1]\n",
    "p3=8\n",
    "N3=8\n",
    "A3=[1,1,1,1,1,1,1,1]\n",
    "print(minimumtime(p3,N3,A3))"
   ]
  },
  {
   "cell_type": "code",
   "execution_count": 7,
   "metadata": {},
   "outputs": [
    {
     "name": "stdout",
     "output_type": "stream",
     "text": [
      "7\n"
     ]
    }
   ],
   "source": [
    "def countprata(N,A,M):\n",
    "    prata=0\n",
    "    for i in range(N):\n",
    "        t=A[i]\n",
    "        s=A[i]\n",
    "        while(t<=M):\n",
    "            prata+=1\n",
    "            s+=A[i]\n",
    "            t+=s\n",
    "    return prata\n",
    "print(countprata(1,[1],35))"
   ]
  },
  {
   "cell_type": "markdown",
   "metadata": {},
   "source": [
    "# 120. Double-Helix Problem \n"
   ]
  },
  {
   "cell_type": "code",
   "execution_count": 3,
   "metadata": {},
   "outputs": [
    {
     "name": "stdout",
     "output_type": "stream",
     "text": [
      "15 8 5\n",
      "69 29 25\n",
      "215 70 91\n",
      "328 56 0\n",
      "450\n"
     ]
    }
   ],
   "source": [
    "def solvedoublehelix(a,b,n1,n2):\n",
    "    i=0\n",
    "    j=0\n",
    "    ans=0\n",
    "    p1=0\n",
    "    p2=0\n",
    "    while(i<n1 and j<n2):\n",
    "        if(a[i]<b[j]):\n",
    "            p1+=a[i]\n",
    "            i+=1\n",
    "        elif(b[j]<a[i]):\n",
    "            p2+=b[j]\n",
    "            j+=1\n",
    "        else:\n",
    "            ans+=max(p1,p2)+a[i]\n",
    "            print(ans,p1,p2)\n",
    "            p1=0\n",
    "            p2=0\n",
    "            i+=1\n",
    "            j+=1\n",
    "    while(i<n1):\n",
    "        p1+=a[i]\n",
    "        i+=1\n",
    "    while(j<n2):\n",
    "        p2+=b[j]\n",
    "        j+=1\n",
    "    ans+=max(p1,p2)\n",
    "    return ans\n",
    "n1=13\n",
    "a=[3,5,7,9,20,25,30,40,55,56,57,60,62]\n",
    "n2=11\n",
    "b=[1,4,7,11,14,25,44,47,55,57,100]\n",
    "print(solvedoublehelix(a,b,n1,n2))"
   ]
  },
  {
   "cell_type": "code",
   "execution_count": 5,
   "metadata": {},
   "outputs": [],
   "source": [
    "# 121. Subset sum"
   ]
  },
  {
   "cell_type": "markdown",
   "metadata": {},
   "source": [
    "# 122. Inversion count"
   ]
  },
  {
   "cell_type": "code",
   "execution_count": 6,
   "metadata": {},
   "outputs": [
    {
     "name": "stdout",
     "output_type": "stream",
     "text": [
      "10\n"
     ]
    }
   ],
   "source": [
    "def merge(arr, l, m, r):\n",
    "    inversion=0\n",
    "    n1 = m - l + 1\n",
    "    n2 = r- m\n",
    "\n",
    "    # create temp arrays\n",
    "    L = [0] * (n1)\n",
    "    R = [0] * (n2)\n",
    "    for i in range(0 , n1):\n",
    "        L[i] = arr[l + i]\n",
    "\n",
    "    for j in range(0 , n2):\n",
    "        R[j] = arr[m + 1 + j]\n",
    "\n",
    "    i = 0  # Initial index of first subarray\n",
    "    j = 0 # Initial index of second subarray\n",
    "    k = l # Initial index of merged subarray\n",
    "\n",
    "    while i < n1 and j < n2 :\n",
    "        if L[i] <= R[j]:\n",
    "            arr[k] = L[i]\n",
    "            i += 1\n",
    "        else:\n",
    "            inversion+=(n1-i)\n",
    "            arr[k] = R[j]\n",
    "            j += 1\n",
    "        k += 1\n",
    "    while i < n1:\n",
    "        arr[k] = L[i]\n",
    "        i += 1\n",
    "        k += 1\n",
    "    while j < n2:\n",
    "        arr[k] = R[j]\n",
    "        j += 1\n",
    "        k += 1\n",
    "    return inversion\n",
    "\n",
    "# l is for left index and r is right index of the\n",
    "# sub-array of arr to be sorted\n",
    "def mergeSort(arr,l,r):\n",
    "    inv_count=0\n",
    "    if l < r:\n",
    "        \n",
    "        m = (l+r)//2\n",
    "\n",
    "        # Sort first and second halves\n",
    "        inv_count+=mergeSort(arr, l, m)\n",
    "        inv_count+=mergeSort(arr, m+1, r)\n",
    "        inv_count+=merge(arr, l, m, r)\n",
    "    return inv_count\n",
    "\n",
    "# Driver code to test above\n",
    "arr = [12, 11, 13, 5, 6, 7]\n",
    "n = len(arr)\n",
    "print(mergeSort(arr,0,n-1))"
   ]
  },
  {
   "cell_type": "markdown",
   "metadata": {},
   "source": [
    "# 123. Implement Merge-sort in-place"
   ]
  },
  {
   "cell_type": "code",
   "execution_count": 1,
   "metadata": {},
   "outputs": [
    {
     "name": "stdout",
     "output_type": "stream",
     "text": [
      "5 6 7 11 12 13 \n"
     ]
    }
   ],
   "source": [
    "# Python program in-place Merge Sort\n",
    "\n",
    "# Merges two subarrays of arr.\n",
    "# First subarray is arr[l..m]\n",
    "# Second subarray is arr[m+1..r]\n",
    "# Inplace Implementation\n",
    "\n",
    "\n",
    "def merge(arr, start, mid, end):\n",
    "\tstart2 = mid + 1\n",
    "\n",
    "\t# If the direct merge is already sorted\n",
    "\tif (arr[mid] <= arr[start2]):\n",
    "\t\treturn\n",
    "\n",
    "\t# Two pointers to maintain start\n",
    "\t# of both arrays to merge\n",
    "\twhile (start <= mid and start2 <= end):\n",
    "\n",
    "\t\t# If element 1 is in right place\n",
    "\t\tif (arr[start] <= arr[start2]):\n",
    "\t\t\tstart += 1\n",
    "\t\telse:\n",
    "\t\t\tvalue = arr[start2]\n",
    "\t\t\tindex = start2\n",
    "\n",
    "\t\t\t# Shift all the elements between element 1\n",
    "\t\t\t# element 2, right by 1.\n",
    "\t\t\twhile (index != start):\n",
    "\t\t\t\tarr[index] = arr[index - 1]\n",
    "\t\t\t\tindex -= 1\n",
    "\n",
    "\t\t\tarr[start] = value\n",
    "\n",
    "\t\t\t# Update all the pointers\n",
    "\t\t\tstart += 1\n",
    "\t\t\tmid += 1\n",
    "\t\t\tstart2 += 1\n",
    "\n",
    "\n",
    "'''\n",
    "* l is for left index and r is right index of\n",
    "the sub-array of arr to be sorted\n",
    "'''\n",
    "\n",
    "\n",
    "def mergeSort(arr, l, r):\n",
    "\tif (l < r):\n",
    "\n",
    "\t\t# Same as (l + r) / 2, but avoids overflow\n",
    "\t\t# for large l and r\n",
    "\t\tm = l + (r - l) // 2\n",
    "\n",
    "\t\t# Sort first and second halves\n",
    "\t\tmergeSort(arr, l, m)\n",
    "\t\tmergeSort(arr, m + 1, r)\n",
    "\n",
    "\t\tmerge(arr, l, m, r)\n",
    "\n",
    "\n",
    "''' UTILITY FUNCTIONS '''\n",
    "''' Function to pran array '''\n",
    "\n",
    "\n",
    "def printArray(A, size):\n",
    "\n",
    "\tfor i in range(size):\n",
    "\t\tprint(A[i], end=\" \")\n",
    "\tprint()\n",
    "\n",
    "\n",
    "''' Driver program to test above functions '''\n",
    "if __name__ == '__main__':\n",
    "\tarr = [12, 11, 13, 5, 6, 7]\n",
    "\tarr_size = len(arr)\n",
    "\n",
    "\tmergeSort(arr, 0, arr_size - 1)\n",
    "\tprintArray(arr, arr_size)\n",
    "\n",
    "\n"
   ]
  },
  {
   "cell_type": "markdown",
   "metadata": {},
   "source": [
    "# 124. Partitioning and Sorting Arrays with Many Repeated Entries"
   ]
  },
  {
   "cell_type": "code",
   "execution_count": null,
   "metadata": {},
   "outputs": [],
   "source": []
  },
  {
   "cell_type": "markdown",
   "metadata": {},
   "source": [
    "# -------------------------------------------LINKLIST----------------------------------------------------"
   ]
  },
  {
   "cell_type": "markdown",
   "metadata": {},
   "source": [
    "# 125. Write a Program to reverse the Linked List. (Both Iterative and recursive) "
   ]
  },
  {
   "cell_type": "markdown",
   "metadata": {},
   "source": [
    "### 1. Iterative "
   ]
  },
  {
   "cell_type": "code",
   "execution_count": 1,
   "metadata": {},
   "outputs": [
    {
     "name": "stdout",
     "output_type": "stream",
     "text": [
      "Given Linked List\n",
      "85\n",
      "15\n",
      "4\n",
      "20\n",
      "\n",
      "Reversed Linked List\n",
      "20\n",
      "4\n",
      "15\n",
      "85\n"
     ]
    }
   ],
   "source": [
    "class Node:\n",
    "    def __init__(self,data):\n",
    "        self.data= data\n",
    "        self.next= None\n",
    "class LinkedList:\n",
    "    def __init__(self):\n",
    "        self.head=None\n",
    "    def push(self,data):\n",
    "        new_node=Node(data)\n",
    "        new_node.next=self.head\n",
    "        self.head=new_node\n",
    "    def printList(self):\n",
    "        temp = self.head\n",
    "        while(temp):\n",
    "            print(temp.data)\n",
    "            temp = temp.next\n",
    "    def reverse(self):\n",
    "        cur=self.head\n",
    "        pre=None\n",
    "        while(cur):\n",
    "            nex=cur.next\n",
    "            cur.next=pre\n",
    "            pre=cur\n",
    "            cur=nex\n",
    "        self.head=pre\n",
    "llist = LinkedList()\n",
    "llist.push(20)\n",
    "llist.push(4)\n",
    "llist.push(15)\n",
    "llist.push(85)\n",
    "  \n",
    "print(\"Given Linked List\")\n",
    "llist.printList()\n",
    "llist.reverse()\n",
    "print(\"\\nReversed Linked List\")\n",
    "llist.printList()\n",
    "  \n",
    "            \n",
    "    \n",
    "    "
   ]
  },
  {
   "cell_type": "markdown",
   "metadata": {},
   "source": [
    " # 126. Reverse a Linked List in group of Given Size. [Very Imp]"
   ]
  },
  {
   "cell_type": "code",
   "execution_count": 11,
   "metadata": {},
   "outputs": [
    {
     "name": "stdout",
     "output_type": "stream",
     "text": [
      "Given Linked List\n",
      "85\n",
      "15\n",
      "4\n",
      "20\n",
      "\n",
      "Reversed Linked List\n",
      "20\n",
      "4\n",
      "15\n",
      "85\n"
     ]
    }
   ],
   "source": [
    "class Node:\n",
    "    def __init__(self,data):\n",
    "        self.data= data\n",
    "        self.next= None\n",
    "class LinkedList:\n",
    "    def __init__(self):\n",
    "        self.head=None\n",
    "    def push(self,data):\n",
    "        new_node=Node(data)\n",
    "        new_node.next=self.head\n",
    "        self.head=new_node\n",
    "    def printList(self):\n",
    "        temp = self.head\n",
    "        while(temp):\n",
    "            print(temp.data)\n",
    "            temp = temp.next\n",
    "    def reverse(self,head, k):\n",
    "        pre=None\n",
    "        cur=head\n",
    "        c=0\n",
    "        while(cur and c<k):\n",
    "            nex=cur.next\n",
    "            cur.next=pre\n",
    "            pre=cur\n",
    "            cur=nex\n",
    "            c+=1\n",
    "        if(c==k):\n",
    "            head.next=LinkedList.reverse(LinkedList,cur,k)\n",
    "        return pre\n",
    "llist = LinkedList()\n",
    "llist.push(20)\n",
    "llist.push(4)\n",
    "llist.push(15)\n",
    "llist.push(85)\n",
    "  \n",
    "print(\"Given Linked List\")\n",
    "llist.printList()\n",
    "llist.head=llist.reverse(llist.head,4)\n",
    "print(\"\\nReversed Linked List\")\n",
    "llist.printList()\n"
   ]
  },
  {
   "cell_type": "markdown",
   "metadata": {},
   "source": [
    "# 127 . Write a program to Detect loop in a linked list."
   ]
  },
  {
   "cell_type": "code",
   "execution_count": 16,
   "metadata": {},
   "outputs": [
    {
     "name": "stdout",
     "output_type": "stream",
     "text": [
      "True\n"
     ]
    }
   ],
   "source": [
    "class Node:\n",
    "    def __init__(self,data):\n",
    "        self.data= data\n",
    "        self.next= None\n",
    "class LinkedList:\n",
    "    def __init__(self):\n",
    "        self.head=None\n",
    "    def push(self,data):\n",
    "        new_node=Node(data)\n",
    "        new_node.next=self.head\n",
    "        self.head=new_node\n",
    "    def printList(self):\n",
    "        temp = self.head\n",
    "        while(temp):\n",
    "            print(temp.data)\n",
    "            temp = temp.next\n",
    "    def detectLoop(self, head):\n",
    "        low=head\n",
    "        high=head\n",
    "        while(high!=None and high.next!=None):\n",
    "            low=low.next\n",
    "            high=high.next.next\n",
    "            if(low==high):\n",
    "                return True\n",
    "        return False\n",
    "    \n",
    "llist = LinkedList()\n",
    "llist.push(20)\n",
    "llist.push(4)\n",
    "llist.push(15)\n",
    "llist.push(85)\n",
    "llist.head.next.next.next.next = llist.head\n",
    "  \n",
    "\n",
    "\n",
    "print(llist.detectLoop(llist.head))\n"
   ]
  },
  {
   "cell_type": "markdown",
   "metadata": {},
   "source": [
    "# 128. Write a program to Delete loop in a linked list."
   ]
  },
  {
   "cell_type": "code",
   "execution_count": 21,
   "metadata": {},
   "outputs": [
    {
     "name": "stdout",
     "output_type": "stream",
     "text": [
      "True\n",
      "False\n",
      "85\n",
      "15\n",
      "4\n",
      "20\n"
     ]
    }
   ],
   "source": [
    "class Node:\n",
    "    def __init__(self,data):\n",
    "        self.data= data\n",
    "        self.next= None\n",
    "class LinkedList:\n",
    "    def __init__(self):\n",
    "        self.head=None\n",
    "    def push(self,data):\n",
    "        new_node=Node(data)\n",
    "        new_node.next=self.head\n",
    "        self.head=new_node\n",
    "    def printList(self):\n",
    "        temp = self.head\n",
    "        while(temp):\n",
    "            print(temp.data)\n",
    "            temp = temp.next\n",
    "    def detectLoop(self, head):\n",
    "        low=head\n",
    "        high=head\n",
    "        while(high!=None and high.next!=None):\n",
    "            low=low.next\n",
    "            high=high.next.next\n",
    "            if(low==high):\n",
    "                return True\n",
    "        return False\n",
    "    def removeLoop(self, head):\n",
    "        low=head\n",
    "        high=head\n",
    "        while(high!=None and high.next!=None):\n",
    "            low=low.next\n",
    "            high=high.next.next\n",
    "            if(low==high):\n",
    "                break\n",
    "        if(low==head):\n",
    "            while(high.next!=low):\n",
    "                high=high.next\n",
    "            high.next=None\n",
    "        elif(low==high):\n",
    "            low=head\n",
    "            while(low.next!=high.next):\n",
    "                low=low.next\n",
    "                high=high.next\n",
    "            high.next=None\n",
    "    \n",
    "llist = LinkedList()\n",
    "llist.push(20)\n",
    "llist.push(4)\n",
    "llist.push(15)\n",
    "llist.push(85)\n",
    "llist.head.next.next.next.next = llist.head\n",
    "  \n",
    "\n",
    "\n",
    "print(llist.detectLoop(llist.head))\n",
    "llist.removeLoop(llist.head)\n",
    "print(llist.detectLoop(llist.head))\n",
    "llist.printList()"
   ]
  },
  {
   "cell_type": "markdown",
   "metadata": {},
   "source": [
    "# 129. Find the starting point of the loop. "
   ]
  },
  {
   "cell_type": "code",
   "execution_count": 24,
   "metadata": {},
   "outputs": [
    {
     "name": "stdout",
     "output_type": "stream",
     "text": [
      "True\n",
      "85\n",
      "False\n",
      "85\n",
      "15\n",
      "4\n",
      "20\n"
     ]
    }
   ],
   "source": [
    "class Node:\n",
    "    def __init__(self,data):\n",
    "        self.data= data\n",
    "        self.next= None\n",
    "class LinkedList:\n",
    "    def __init__(self):\n",
    "        self.head=None\n",
    "    def push(self,data):\n",
    "        new_node=Node(data)\n",
    "        new_node.next=self.head\n",
    "        self.head=new_node\n",
    "    def printList(self):\n",
    "        temp = self.head\n",
    "        while(temp):\n",
    "            print(temp.data)\n",
    "            temp = temp.next\n",
    "    def detectLoop(self, head):\n",
    "        low=head\n",
    "        high=head\n",
    "        while(high!=None and high.next!=None):\n",
    "            low=low.next\n",
    "            high=high.next.next\n",
    "            if(low==high):\n",
    "                return True\n",
    "        return False\n",
    "    def startdetectLoop(self, head):\n",
    "        low=head\n",
    "        high=head\n",
    "        while(high!=None and high.next!=None):\n",
    "            low=low.next\n",
    "            high=high.next.next\n",
    "            if(low==high):\n",
    "                break\n",
    "        if(low==high):\n",
    "            low=head\n",
    "            while(low!=high):\n",
    "                high=high.next\n",
    "                low=low.next\n",
    "            return low.data\n",
    "    def removeLoop(self, head):\n",
    "        low=head\n",
    "        high=head\n",
    "        while(high!=None and high.next!=None):\n",
    "            low=low.next\n",
    "            high=high.next.next\n",
    "            if(low==high):\n",
    "                break\n",
    "        if(low==head):\n",
    "            while(high.next!=low):\n",
    "                high=high.next\n",
    "            high.next=None\n",
    "        elif(low==high):\n",
    "            low=head\n",
    "            while(low.next!=high.next):\n",
    "                low=low.next\n",
    "                high=high.next\n",
    "            high.next=None\n",
    "    \n",
    "llist = LinkedList()\n",
    "llist.push(20)\n",
    "llist.push(4)\n",
    "llist.push(15)\n",
    "llist.push(85)\n",
    "llist.head.next.next.next.next = llist.head\n",
    "  \n",
    "\n",
    "\n",
    "print(llist.detectLoop(llist.head))\n",
    "print(llist.startdetectLoop(llist.head))\n",
    "llist.removeLoop(llist.head)\n",
    "print(llist.detectLoop(llist.head))\n",
    "llist.printList()"
   ]
  },
  {
   "cell_type": "markdown",
   "metadata": {},
   "source": [
    "# 129. Remove Duplicates in a sorted Linked List."
   ]
  },
  {
   "cell_type": "code",
   "execution_count": 26,
   "metadata": {},
   "outputs": [
    {
     "name": "stdout",
     "output_type": "stream",
     "text": [
      "Given Linked List\n",
      "99\n",
      "95\n",
      "85\n",
      "85\n",
      "15\n",
      "4\n",
      "4\n",
      "Linked List\n",
      "99\n",
      "95\n",
      "85\n",
      "15\n",
      "4\n"
     ]
    }
   ],
   "source": [
    "class Node:\n",
    "    def __init__(self,data):\n",
    "        self.data= data\n",
    "        self.next= None\n",
    "class LinkedList:\n",
    "    def __init__(self):\n",
    "        self.head=None\n",
    "    def push(self,data):\n",
    "        new_node=Node(data)\n",
    "        new_node.next=self.head\n",
    "        self.head=new_node\n",
    "    def printList(self):\n",
    "        temp = self.head\n",
    "        while(temp):\n",
    "            print(temp.data)\n",
    "            temp = temp.next\n",
    "    def removeDuplicates(self,head):\n",
    "        cur=head\n",
    "        while(cur.next!=None):\n",
    "            if(cur.data==cur.next.data):\n",
    "                cur.next=cur.next.next\n",
    "            else:\n",
    "                cur=cur.next\n",
    "llist = LinkedList()\n",
    "llist.push(4)\n",
    "llist.push(4)\n",
    "llist.push(15)\n",
    "llist.push(85)\n",
    "llist.push(85)\n",
    "llist.push(95)\n",
    "llist.push(99)\n",
    "  \n",
    "print(\"Given Linked List\")\n",
    "llist.printList()\n",
    "llist.removeDuplicates(llist.head)\n",
    "print(\"Linked List\")\n",
    "llist.printList()"
   ]
  },
  {
   "cell_type": "markdown",
   "metadata": {},
   "source": [
    "# 130. Remove Duplicates in a Un-sorted Linked List."
   ]
  },
  {
   "cell_type": "code",
   "execution_count": 27,
   "metadata": {},
   "outputs": [
    {
     "name": "stdout",
     "output_type": "stream",
     "text": [
      "Given Linked List\n",
      "4\n",
      "95\n",
      "49\n",
      "85\n",
      "78\n",
      "4\n",
      "49\n",
      "Linked List\n",
      "4\n",
      "95\n",
      "49\n",
      "85\n",
      "78\n"
     ]
    }
   ],
   "source": [
    "class Node:\n",
    "    def __init__(self,data):\n",
    "        self.data= data\n",
    "        self.next= None\n",
    "class LinkedList:\n",
    "    def __init__(self):\n",
    "        self.head=None\n",
    "    def push(self,data):\n",
    "        new_node=Node(data)\n",
    "        new_node.next=self.head\n",
    "        self.head=new_node\n",
    "    def printList(self):\n",
    "        temp = self.head\n",
    "        while(temp):\n",
    "            print(temp.data)\n",
    "            temp = temp.next\n",
    "    def removeDuplicates(self,head):\n",
    "        l={}\n",
    "        l[head.data]=1\n",
    "        curr=head.next\n",
    "        pre=head\n",
    "        while(curr!=None):\n",
    "            if(curr.data in l.keys()):\n",
    "                pre.next=curr.next\n",
    "                curr=curr.next\n",
    "            else:\n",
    "                l[curr.data]=1\n",
    "                pre=curr\n",
    "                curr=curr.next\n",
    "        \n",
    "llist = LinkedList()\n",
    "llist.push(49)\n",
    "llist.push(4)\n",
    "llist.push(78)\n",
    "llist.push(85)\n",
    "llist.push(49)\n",
    "llist.push(95)\n",
    "llist.push(4)\n",
    "  \n",
    "print(\"Given Linked List\")\n",
    "llist.printList()\n",
    "llist.removeDuplicates(llist.head)\n",
    "print(\"Linked List\")\n",
    "llist.printList()"
   ]
  },
  {
   "cell_type": "markdown",
   "metadata": {},
   "source": [
    "# 131. Write a Program to Move the last element to Front in a Linked List."
   ]
  },
  {
   "cell_type": "code",
   "execution_count": 2,
   "metadata": {},
   "outputs": [
    {
     "name": "stdout",
     "output_type": "stream",
     "text": [
      "Linked List before moving last to front \n",
      "1\n",
      "2\n",
      "3\n",
      "4\n",
      "5\n",
      "Linked List after moving last to front \n",
      "5\n",
      "1\n",
      "2\n",
      "3\n",
      "4\n"
     ]
    }
   ],
   "source": [
    "# Python3 code to move the last item to front\n",
    "class Node:\n",
    "    def __init__(self,data):\n",
    "        self.data= data\n",
    "        self.next= None\n",
    "class LinkedList:\n",
    "    def __init__(self):\n",
    "        self.head=None\n",
    "    def push(self,data):\n",
    "        new_node=Node(data)\n",
    "        new_node.next=self.head\n",
    "        self.head=new_node\n",
    "    def printList(self):\n",
    "        temp = self.head\n",
    "        while(temp):\n",
    "            print(temp.data)\n",
    "            temp = temp.next\n",
    "\n",
    "\n",
    "    def moveToFront(self):\n",
    "        curr=self.head\n",
    "        pre=None\n",
    "        while(curr.next!=None):\n",
    "            pre=curr\n",
    "            curr=curr.next\n",
    "        pre.next=None\n",
    "        curr.next=self.head\n",
    "        self.head=curr\n",
    "\n",
    "# Driver Code\n",
    "if __name__ == '__main__':\n",
    "\tllist = LinkedList()\n",
    "\t\n",
    "\t# swap the 2 nodes\n",
    "\tllist.push(5)\n",
    "\tllist.push(4)\n",
    "\tllist.push(3)\n",
    "\tllist.push(2)\n",
    "\tllist.push(1)\n",
    "\tprint (\"Linked List before moving last to front \")\n",
    "\tllist.printList()\n",
    "\tllist.moveToFront()\n",
    "\tprint (\"Linked List after moving last to front \")\n",
    "\tllist.printList()\n"
   ]
  },
  {
   "cell_type": "markdown",
   "metadata": {},
   "source": [
    "# 132. Add “1” to a number represented as a Linked List."
   ]
  },
  {
   "cell_type": "code",
   "execution_count": 23,
   "metadata": {},
   "outputs": [
    {
     "name": "stdout",
     "output_type": "stream",
     "text": [
      "9\n",
      "9\n",
      "9\n",
      "-------\n",
      "1\n",
      "0\n",
      "0\n",
      "0\n"
     ]
    }
   ],
   "source": [
    "def reverse(head):\n",
    "    cur=head\n",
    "    pre=None\n",
    "    while(cur!=None):\n",
    "        nex=cur.next\n",
    "        cur.next=pre\n",
    "        pre=cur\n",
    "        cur=nex\n",
    "    return pre\n",
    "class Node:\n",
    "    def __init__(self,data):\n",
    "        self.data= data\n",
    "        self.next= None\n",
    "class LinkedList:\n",
    "    def __init__(self):\n",
    "        self.head=None\n",
    "    def push(self,data):\n",
    "        new_node=Node(data)\n",
    "        new_node.next=self.head\n",
    "        self.head=new_node\n",
    "    def printList(self):\n",
    "        temp = self.head\n",
    "        while(temp):\n",
    "            print(temp.data)\n",
    "            temp = temp.next\n",
    "    def addOne(self,head):\n",
    "        head=reverse(head)\n",
    "        curr=head\n",
    "        f=1\n",
    "        while(curr!=None and f==1 ):\n",
    "            if(curr.next==None and curr.data==9):\n",
    "                curr.data=0\n",
    "                new_node=Node(1)\n",
    "                curr.next=new_node\n",
    "                f=0\n",
    "            elif(curr.data==9):\n",
    "                curr.data=0\n",
    "                f=1\n",
    "            else:\n",
    "                curr.data=curr.data+1\n",
    "                f=0\n",
    "            curr=curr.next\n",
    "\n",
    "        self.head=reverse(head)\n",
    "        \n",
    "llist = LinkedList()\n",
    "llist.push(9)\n",
    "llist.push(9)\n",
    "llist.push(9)\n",
    "llist.printList()\n",
    "print(\"-------\")\n",
    "llist.addOne(llist.head)\n",
    "\n",
    "llist.printList()\n",
    "\n",
    "\n"
   ]
  },
  {
   "cell_type": "markdown",
   "metadata": {},
   "source": [
    "# 133. Add two numbers represented by linked lists."
   ]
  },
  {
   "cell_type": "code",
   "execution_count": 21,
   "metadata": {},
   "outputs": [
    {
     "name": "stdout",
     "output_type": "stream",
     "text": [
      "3\n",
      "4\n",
      "5\n",
      "\n",
      "4\n",
      "5\n",
      "\n",
      "3\n",
      "9\n",
      "0\n"
     ]
    }
   ],
   "source": [
    "def reverse(head):\n",
    "    cur=head\n",
    "    pre=None\n",
    "    while(cur!=None):\n",
    "        nex=cur.next\n",
    "        cur.next=pre\n",
    "        pre=cur\n",
    "        cur=nex\n",
    "    return pre\n",
    "class Node:\n",
    "    def __init__(self,data):\n",
    "        self.data= data\n",
    "        self.next= None\n",
    "class LinkedList:\n",
    "    def __init__(self):\n",
    "        self.head=None\n",
    "    def push(self,data):\n",
    "        new_node=Node(data)\n",
    "        new_node.next=self.head\n",
    "        self.head=new_node\n",
    "    def printList(self,head):\n",
    "        temp = head\n",
    "        while(temp):\n",
    "            print(temp.data)\n",
    "            temp = temp.next\n",
    "    def addTwoLists(self, first, second):\n",
    "        first=reverse(first)\n",
    "        second=reverse(second)\n",
    "        s=0\n",
    "        f=0\n",
    "        new=None\n",
    "        while(first!=None or second!=None):\n",
    "            \n",
    "            s=f+(first.data if(first) else 0) +(second.data if(second) else 0)\n",
    "            \n",
    "            if(s>9):\n",
    "                f=1\n",
    "            else:\n",
    "                f=0\n",
    "            s=s%10\n",
    "            new_node=Node(s)\n",
    "            new_node.next=new\n",
    "            new=new_node\n",
    "            #LinkedList.printList(self,new.head)\n",
    "            \n",
    "            if(first!=None):\n",
    "                first=first.next \n",
    "            if(second!=None):\n",
    "                second=second.next\n",
    "        if(f==1):\n",
    "            new_node=Node(1)\n",
    "            new_node.next=new\n",
    "            new=new_node\n",
    "        return new\n",
    "llist = LinkedList()\n",
    "llist.push(5)\n",
    "llist.push(4)\n",
    "llist.push(3)\n",
    "llist.printList(llist.head)\n",
    "print()\n",
    "llist1 = LinkedList()\n",
    "llist1.push(5)\n",
    "llist1.push(4)\n",
    "llist1.printList(llist1.head)\n",
    "print()\n",
    "llist2=LinkedList()\n",
    "head=llist2.addTwoLists(llist.head, llist1.head)\n",
    "llist2.printList(head)"
   ]
  },
  {
   "cell_type": "markdown",
   "metadata": {},
   "source": [
    "# 134. Intersection of two Sorted Linked List."
   ]
  },
  {
   "cell_type": "code",
   "execution_count": 2,
   "metadata": {},
   "outputs": [
    {
     "name": "stdout",
     "output_type": "stream",
     "text": [
      "3\n",
      "4\n",
      "5\n",
      "\n",
      "4\n",
      "5\n",
      "\n",
      "4\n",
      "5\n"
     ]
    }
   ],
   "source": [
    "def reverse(head):\n",
    "    cur=head\n",
    "    pre=None\n",
    "    while(cur!=None):\n",
    "        nex=cur.next\n",
    "        cur.next=pre\n",
    "        pre=cur\n",
    "        cur=nex\n",
    "    return pre\n",
    "def findIntersection(head1,head2):\n",
    "    new=None\n",
    "    while(head1!=None and head2!=None):\n",
    "        if(head1.data>head2.data):\n",
    "            head2=head2.next\n",
    "        elif(head1.data<head2.data):\n",
    "            head1=head1.next\n",
    "        else:\n",
    "            new_node=Node(head1.data)\n",
    "            new_node.next=new\n",
    "            new=new_node\n",
    "            head1=head1.next\n",
    "            head2=head2.next\n",
    "    return reverse(new)\n",
    "class Node:\n",
    "    def __init__(self,data):\n",
    "        self.data= data\n",
    "        self.next= None\n",
    "class LinkedList:\n",
    "    def __init__(self):\n",
    "        self.head=None\n",
    "    def push(self,data):\n",
    "        new_node=Node(data)\n",
    "        new_node.next=self.head\n",
    "        self.head=new_node\n",
    "    def printList(self,head):\n",
    "        temp = head\n",
    "        while(temp):\n",
    "            print(temp.data)\n",
    "            temp = temp.next\n",
    "llist = LinkedList()\n",
    "llist.push(5)\n",
    "llist.push(4)\n",
    "llist.push(3)\n",
    "llist.printList(llist.head)\n",
    "print()\n",
    "llist1 = LinkedList()\n",
    "llist1.push(5)\n",
    "llist1.push(4)\n",
    "llist1.printList(llist1.head)\n",
    "print()\n",
    "llist2=LinkedList()\n",
    "head=findIntersection(llist.head, llist1.head)\n",
    "llist2.printList(head)"
   ]
  },
  {
   "cell_type": "markdown",
   "metadata": {},
   "source": [
    "# 135.Intersection Point of two Linked Lists."
   ]
  },
  {
   "cell_type": "code",
   "execution_count": 6,
   "metadata": {},
   "outputs": [
    {
     "name": "stdout",
     "output_type": "stream",
     "text": [
      "3\n",
      "4\n",
      "5\n",
      "\n",
      "4\n",
      "5\n",
      "\n",
      "-1\n"
     ]
    }
   ],
   "source": [
    "def intersetPoint(head1,head2):\n",
    "    #code here\n",
    "    ans=-1\n",
    "    cur=head1\n",
    "    c1=0\n",
    "    while(cur!=None):\n",
    "        c1+=1\n",
    "        cur=cur.next\n",
    "    c2=0\n",
    "    cur=head2\n",
    "    while(cur!=None):\n",
    "        c2+=1\n",
    "        cur=cur.next\n",
    "    d=abs(c1-c2)\n",
    "    if(c1>c2):\n",
    "        for i in range(d):\n",
    "            head1=head1.next\n",
    "    else:\n",
    "        for i in range(d):\n",
    "            head2=head2.next\n",
    "    while(head1!=None):\n",
    "        if(head1==head2):\n",
    "            return head1.data\n",
    "        head1=head1.next\n",
    "        head2=head2.next\n",
    "    return ans\n",
    "class Node:\n",
    "    def __init__(self,data):\n",
    "        self.data= data\n",
    "        self.next= None\n",
    "class LinkedList:\n",
    "    def __init__(self):\n",
    "        self.head=None\n",
    "    def push(self,data):\n",
    "        new_node=Node(data)\n",
    "        new_node.next=self.head\n",
    "        self.head=new_node\n",
    "    def printList(self,head):\n",
    "        temp = head\n",
    "        while(temp):\n",
    "            print(temp.data)\n",
    "            temp = temp.next\n",
    "llist = LinkedList()\n",
    "llist.push(5)\n",
    "llist.push(4)\n",
    "llist.push(3)\n",
    "llist.printList(llist.head)\n",
    "print()\n",
    "llist1 = LinkedList()\n",
    "llist1.push(5)\n",
    "llist1.push(4)\n",
    "llist1.printList(llist1.head)\n",
    "print()\n",
    "print(intersetPoint(llist.head,llist1.head))"
   ]
  },
  {
   "cell_type": "markdown",
   "metadata": {},
   "source": [
    "# 136. Merge Sort For Linked lists.[Very Important]"
   ]
  },
  {
   "cell_type": "code",
   "execution_count": null,
   "metadata": {},
   "outputs": [],
   "source": []
  },
  {
   "cell_type": "markdown",
   "metadata": {},
   "source": [
    "# 137. Quicksort for Linked Lists.[Very Important]"
   ]
  },
  {
   "cell_type": "code",
   "execution_count": null,
   "metadata": {},
   "outputs": [],
   "source": []
  },
  {
   "cell_type": "markdown",
   "metadata": {},
   "source": [
    "# 138. Find the middle Element of a linked list."
   ]
  },
  {
   "cell_type": "code",
   "execution_count": 10,
   "metadata": {},
   "outputs": [
    {
     "name": "stdout",
     "output_type": "stream",
     "text": [
      "3\n",
      "4\n",
      "5\n",
      "\n",
      "4\n",
      "5\n"
     ]
    }
   ],
   "source": [
    "def middleNode(head):\n",
    "        slow=head\n",
    "        fast=head\n",
    "        while(fast!=None and fast.next!=None):\n",
    "            slow=slow.next\n",
    "            fast=fast.next.next\n",
    "        return slow\n",
    "class Node:\n",
    "    def __init__(self,data):\n",
    "        self.data= data\n",
    "        self.next= None\n",
    "class LinkedList:\n",
    "    def __init__(self):\n",
    "        self.head=None\n",
    "    def push(self,data):\n",
    "        new_node=Node(data)\n",
    "        new_node.next=self.head\n",
    "        self.head=new_node\n",
    "    def printList(self,head):\n",
    "        temp = head\n",
    "        while(temp):\n",
    "            print(temp.data)\n",
    "            temp = temp.next\n",
    "llist = LinkedList()\n",
    "llist.push(5)\n",
    "llist.push(4)\n",
    "llist.push(3)\n",
    "llist.printList(llist.head)\n",
    "print()\n",
    "head=middleNode(llist.head)\n",
    "llist.printList(head)"
   ]
  },
  {
   "cell_type": "markdown",
   "metadata": {},
   "source": [
    "# 139. Check if a linked list is a circular linked list."
   ]
  },
  {
   "cell_type": "code",
   "execution_count": 13,
   "metadata": {},
   "outputs": [
    {
     "name": "stdout",
     "output_type": "stream",
     "text": [
      "3\n",
      "4\n",
      "5\n",
      "\n",
      "1\n"
     ]
    }
   ],
   "source": [
    "def isCircular(head):\n",
    "    cur=head\n",
    "    while(cur!=None):\n",
    "        if(cur.next==head):\n",
    "            return 1\n",
    "        cur=cur.next\n",
    "    return 0\n",
    "class Node:\n",
    "    def __init__(self,data):\n",
    "        self.data= data\n",
    "        self.next= None\n",
    "class LinkedList:\n",
    "    def __init__(self):\n",
    "        self.head=None\n",
    "    def push(self,data):\n",
    "        new_node=Node(data)\n",
    "        new_node.next=self.head\n",
    "        self.head=new_node\n",
    "    def printList(self,head):\n",
    "        temp = head\n",
    "        while(temp):\n",
    "            print(temp.data)\n",
    "            temp = temp.next\n",
    "llist = LinkedList()\n",
    "llist.push(5)\n",
    "llist.push(4)\n",
    "llist.push(3)\n",
    "llist.printList(llist.head)\n",
    "llist.head.next.next.next=llist.head\n",
    "print()\n",
    "print(isCircular(llist.head))"
   ]
  },
  {
   "cell_type": "markdown",
   "metadata": {},
   "source": [
    "# 140. Split a Circular linked list into two halves."
   ]
  },
  {
   "cell_type": "code",
   "execution_count": 1,
   "metadata": {},
   "outputs": [],
   "source": [
    "def splitList(head, head1, head2):\n",
    "    low=head\n",
    "    high=head.next\n",
    "    while(high!=head and high.next!=head):\n",
    "        low=low.next\n",
    "        high=high.next.next\n",
    "    cur=low.next\n",
    "    pre=low\n",
    "    while(cur!=head):\n",
    "        pre=cur\n",
    "        cur=cur.next\n",
    "    pre.next=low.next\n",
    "    head2=low.next\n",
    "    low.next=head\n",
    "    head1=head\n",
    "    #this is to emulate pass by reference in python please don't delete below line.\n",
    "    return head1,head2"
   ]
  },
  {
   "cell_type": "markdown",
   "metadata": {},
   "source": [
    "# 141. Write a Program to check whether the Singly Linked list is a palindrome or not."
   ]
  },
  {
   "cell_type": "code",
   "execution_count": 3,
   "metadata": {},
   "outputs": [],
   "source": [
    "def isPalindrome(head):\n",
    "    slow=head\n",
    "    high=head\n",
    "    while(high!=None and high.next!=None):\n",
    "        slow=slow.next\n",
    "        high=high.next.next\n",
    "    pre=None\n",
    "    curr=slow\n",
    "    while(curr!=None):\n",
    "        nex=curr.next\n",
    "        curr.next=pre\n",
    "        pre=curr\n",
    "        curr=nex\n",
    "    while(pre!=None):\n",
    "        if(head.data!=pre.data):\n",
    "            return 0\n",
    "        head=head.next\n",
    "        pre=pre.next\n",
    "    return 1"
   ]
  },
  {
   "cell_type": "markdown",
   "metadata": {},
   "source": [
    "# 142. Deletion from a Circular Linked List."
   ]
  },
  {
   "cell_type": "code",
   "execution_count": 6,
   "metadata": {},
   "outputs": [
    {
     "name": "stdout",
     "output_type": "stream",
     "text": [
      "List Before Deletion: \n",
      "10 8 7 5 2 \n",
      "List After Deletion: \n",
      "10 8 5 2 \n"
     ]
    }
   ],
   "source": [
    "# Python program to delete a given key from\n",
    "# linked list.\n",
    "\n",
    "# Node of a doubly linked list\n",
    "class Node:\n",
    "\tdef __init__(self, next = None, data = None):\n",
    "\t\tself.next = next\n",
    "\t\tself.data = data\n",
    "\n",
    "# Function to insert a node at the beginning of\n",
    "# a Circular linked list\n",
    "def push(head_ref, data):\n",
    "\n",
    "\t# Create a new node and make head as next\n",
    "\t# of it.\n",
    "\tptr1 = Node()\n",
    "\tptr1.data = data\n",
    "\tptr1.next = head_ref\n",
    "\n",
    "\t# If linked list is not None then set the\n",
    "\t# next of last node\n",
    "\tif (head_ref != None) :\n",
    "\t\t\n",
    "\t\t# Find the node before head and update\n",
    "\t\t# next of it.\n",
    "\t\ttemp = head_ref\n",
    "\t\twhile (temp.next != head_ref):\n",
    "\t\t\ttemp = temp.next\n",
    "\t\ttemp.next = ptr1\n",
    "\t\n",
    "\telse:\n",
    "\t\tptr1.next = ptr1 # For the first node\n",
    "\n",
    "\thead_ref = ptr1\n",
    "\treturn head_ref\n",
    "\n",
    "# Function to print nodes in a given\n",
    "# circular linked list\n",
    "def printList( head):\n",
    "\n",
    "\ttemp = head\n",
    "\tif (head != None) :\n",
    "\t\twhile(True) :\n",
    "\t\t\tprint( temp.data, end = \" \")\n",
    "\t\t\ttemp = temp.next\n",
    "\t\t\tif (temp == head):\n",
    "\t\t\t\tbreak\n",
    "\tprint()\n",
    "\n",
    "# Function to delete a given node from the list\n",
    "def deleteNode( head, key) :\n",
    "\n",
    "\t# If linked list is empty\n",
    "\tif (head == None):\n",
    "\t\treturn\n",
    "\t\t\n",
    "\t# If the list contains only a single node\n",
    "\tif((head).data == key and (head).next == head):\n",
    "\t\n",
    "\t\thead = None\n",
    "\t\n",
    "\tlast = head\n",
    "\td = None\n",
    "\t\n",
    "\t# If head is to be deleted\n",
    "\tif((head).data == key) :\n",
    "\t\t\n",
    "\t\t# Find the last node of the list\n",
    "\t\twhile(last.next != head):\n",
    "\t\t\tlast = last.next\n",
    "\t\t\t\n",
    "\t\t# Point last node to the next of head i.e.\n",
    "\t\t# the second node of the list\n",
    "\t\tlast.next = (head).next\n",
    "\t\thead = last.next\n",
    "\t\n",
    "\t# Either the node to be deleted is not found\n",
    "\t# or the end of list is not reached\n",
    "\twhile(last.next != head and last.next.data != key) :\n",
    "\t\tlast = last.next\n",
    "\n",
    "\t# If node to be deleted was found\n",
    "\tif(last.next.data == key) :\n",
    "\t\td = last.next\n",
    "\t\tlast.next = d.next\n",
    "\t\n",
    "\telse:\n",
    "\t\tprint(\"no such keyfound\")\n",
    "\t\n",
    "\treturn head\n",
    "\n",
    "# Driver code\n",
    "\n",
    "# Initialize lists as empty\n",
    "head = None\n",
    "\n",
    "# Created linked list will be 2.5.7.8.10\n",
    "head = push(head, 2)\n",
    "head = push(head, 5)\n",
    "head = push(head, 7)\n",
    "\n",
    "head = push(head, 8)\n",
    "head = push(head, 10)\n",
    "\n",
    "print(\"List Before Deletion: \")\n",
    "printList(head)\n",
    "\n",
    "head = deleteNode(head, 7)\n",
    "\n",
    "print( \"List After Deletion: \")\n",
    "printList(head)\n"
   ]
  },
  {
   "cell_type": "markdown",
   "metadata": {},
   "source": [
    "# 143. Reverse a Doubly Linked list."
   ]
  },
  {
   "cell_type": "code",
   "execution_count": 7,
   "metadata": {},
   "outputs": [],
   "source": [
    "def reverseDLL(head):\n",
    "    curr=head\n",
    "    p=None\n",
    "    while(curr!=None):\n",
    "        pre=curr.prev\n",
    "        curr.prev=curr.next\n",
    "        curr.next=pre\n",
    "        p=curr\n",
    "        curr=curr.prev\n",
    "    return p"
   ]
  },
  {
   "cell_type": "markdown",
   "metadata": {},
   "source": [
    "# 144. Find pairs with a given sum in a DLL."
   ]
  },
  {
   "cell_type": "code",
   "execution_count": 18,
   "metadata": {},
   "outputs": [
    {
     "data": {
      "text/plain": [
       "1"
      ]
     },
     "execution_count": 18,
     "metadata": {},
     "output_type": "execute_result"
    }
   ],
   "source": [
    "\n",
    "\n",
    "# Structure of node of doubly linked list\n",
    "class Node:\n",
    "\n",
    "    def __init__(self, x):\n",
    "\n",
    "        self.data = x\n",
    "        self.next = None\n",
    "        self.prev = None\n",
    "\n",
    "# Function to find pair whose sum\n",
    "# equal to given value x.\n",
    "def pairSum(head, x):\n",
    "    f=head\n",
    "    s=head\n",
    "    flag=0\n",
    "    while(s.next!=None):\n",
    "        s=s.next\n",
    "    while(f!=s and s.next!=f):\n",
    "        if(f.data+s.data < x):\n",
    "            f=f.next\n",
    "        elif(f.data+s.data > x):\n",
    "            s=s.prev\n",
    "        else:\n",
    "            f=f.next\n",
    "            s=s.prev\n",
    "            flag=1\n",
    "    return flag\n",
    "\n",
    "\n",
    "# A utility function to insert a new node\n",
    "# at the beginning of doubly linked list\n",
    "def insert(head, data):\n",
    "    temp = Node(data)\n",
    "    if not head:\n",
    "        head = temp\n",
    "    else:\n",
    "        temp.next = head\n",
    "        head.prev = temp\n",
    "        head = temp\n",
    "\n",
    "    return head\n",
    "\n",
    "\n",
    "head = None\n",
    "head = insert(head, 9)\n",
    "head = insert(head, 8)\n",
    "head = insert(head, 6)\n",
    "head = insert(head, 5)\n",
    "head = insert(head, 4)\n",
    "head = insert(head, 2)\n",
    "head = insert(head, 1)\n",
    "x = 9\n",
    "\n",
    "pairSum(head, x)"
   ]
  },
  {
   "cell_type": "markdown",
   "metadata": {},
   "source": [
    "# 145. Count triplets in a sorted DLL whose sum is equal to given value “X”."
   ]
  },
  {
   "cell_type": "code",
   "execution_count": 2,
   "metadata": {},
   "outputs": [
    {
     "name": "stdout",
     "output_type": "stream",
     "text": [
      "1 4 8\n",
      "2 5 6\n",
      "2\n"
     ]
    }
   ],
   "source": [
    "class Node:\n",
    "\n",
    "    def __init__(self, x):\n",
    "\n",
    "        self.data = x\n",
    "        self.next = None\n",
    "        self.prev = None\n",
    "\n",
    "# Function to find pair whose sum\n",
    "# equal to given value x.\n",
    "def counttriplet(head, x):\n",
    "    f=head\n",
    "    m=None\n",
    "    l=head\n",
    "    while(l.next!=None):\n",
    "        l=l.next\n",
    "    if(l==f):\n",
    "        return \"only one element\"\n",
    "    m=f.next\n",
    "    if(m==l):\n",
    "        return \"only two element\"\n",
    "    flag=0\n",
    "    while(f.next.next!=None):\n",
    "        m=f.next\n",
    "        la=l\n",
    "        while(m!=la and  la.next!=m):\n",
    "            if(f.data+m.data+la.data < x):\n",
    "                m=m.next\n",
    "            elif(f.data+m.data+la.data > x):\n",
    "                la=la.prev\n",
    "            else:\n",
    "                print(f.data,m.data,la.data)\n",
    "                m=m.next\n",
    "                la=la.prev\n",
    "                flag+=1\n",
    "        f=f.next\n",
    "    return flag\n",
    "def insert(head, data):\n",
    "    temp = Node(data)\n",
    "    if not head:\n",
    "        head = temp\n",
    "    else:\n",
    "        temp.next = head\n",
    "        head.prev = temp\n",
    "        head = temp\n",
    "\n",
    "    return head\n",
    "\n",
    "\n",
    "head = None\n",
    "head = insert(head, 9)\n",
    "head = insert(head, 8)\n",
    "head = insert(head, 6)\n",
    "head = insert(head, 5)\n",
    "head = insert(head, 4)\n",
    "head = insert(head, 2)\n",
    "head = insert(head, 1)\n",
    "x = 13\n",
    "\n",
    "print(counttriplet(head, x))"
   ]
  },
  {
   "cell_type": "markdown",
   "metadata": {},
   "source": [
    "# 146.Sort a “k”sorted Doubly Linked list.[Very IMP]"
   ]
  },
  {
   "cell_type": "code",
   "execution_count": 3,
   "metadata": {},
   "outputs": [
    {
     "name": "stdout",
     "output_type": "stream",
     "text": [
      "2 3 6 8 12 56 \n"
     ]
    }
   ],
   "source": [
    "from heapq import *\n",
    "class Node:\n",
    "    def __init__(self, x):\n",
    "\n",
    "        self.data = x\n",
    "        self.next = None\n",
    "        self.prev = None\n",
    "\n",
    "# Function to find pair whose sum\n",
    "# equal to given value x.\n",
    "def sort(head, k):\n",
    "    curr=head\n",
    "    new=None\n",
    "    heap=[]\n",
    "    c=0\n",
    "    while(curr!=None and c<=k ):\n",
    "        heappush(heap,[curr.data,curr])\n",
    "        curr=curr.next\n",
    "        c+=1\n",
    "    while(len(heap)>0):\n",
    "        new_=heappop(heap)\n",
    "        new_node=new_[1]\n",
    "        if(new==None):\n",
    "            new=new_node\n",
    "            temp=new_node\n",
    "        else:\n",
    "            temp.next=new_node\n",
    "            new_node.prev=temp\n",
    "            temp=temp.next\n",
    "        if(curr!=None):\n",
    "            heappush(heap,[curr.data,curr])\n",
    "            curr=curr.next\n",
    "    temp.next=None\n",
    "    return new\n",
    "def printList( head):\n",
    "\n",
    "\ttemp = head\n",
    "\twhile(temp!=None) :\n",
    "\t\tprint( temp.data, end = \" \")\n",
    "\t\ttemp = temp.next\n",
    "\tprint()\n",
    "def insert(head, data):\n",
    "    temp = Node(data)\n",
    "    if not head:\n",
    "        head = temp\n",
    "    else:\n",
    "        temp.next = head\n",
    "        head.prev = temp\n",
    "        head = temp\n",
    "\n",
    "    return head\n",
    "\n",
    "head = None\n",
    "head = insert(head, 8)\n",
    "head = insert(head, 56)\n",
    "head = insert(head, 12)\n",
    "head = insert(head, 2)\n",
    "head = insert(head, 6)\n",
    "head = insert(head, 3)\n",
    "k=2\n",
    "printList(sort(head, k))"
   ]
  },
  {
   "cell_type": "markdown",
   "metadata": {},
   "source": [
    "# 147. Rotate DoublyLinked list by N nodes."
   ]
  },
  {
   "cell_type": "code",
   "execution_count": 12,
   "metadata": {},
   "outputs": [
    {
     "name": "stdout",
     "output_type": "stream",
     "text": [
      "12 56 8 3 6 2 \n"
     ]
    }
   ],
   "source": [
    "def rotate(start,p):\n",
    "    \n",
    "    pre=None\n",
    "    curr=start\n",
    "    i=0\n",
    "    while(i<p):\n",
    "        pre=curr\n",
    "        curr=curr.next\n",
    "        i+=1\n",
    "    if(curr==None):\n",
    "        return start\n",
    "    last=curr.prev\n",
    "    while(curr!=None):\n",
    "        last=curr\n",
    "        curr=curr.next;\n",
    "    s=pre.next\n",
    "    s.prev=None\n",
    "    pre.next=None\n",
    "    last.next=start\n",
    "    start.prev=last\n",
    "    return s\n",
    "class Node:\n",
    "    def __init__(self, x):\n",
    "\n",
    "        self.data = x\n",
    "        self.next = None\n",
    "        self.prev = None\n",
    "\n",
    "def printList( head):\n",
    "\n",
    "\ttemp = head\n",
    "\twhile(temp!=None) :\n",
    "\t\tprint( temp.data, end = \" \")\n",
    "\t\ttemp = temp.next\n",
    "\tprint()\n",
    "def insert(head, data):\n",
    "    temp = Node(data)\n",
    "    if not head:\n",
    "        head = temp\n",
    "    else:\n",
    "        temp.next = head\n",
    "        head.prev = temp\n",
    "        head = temp\n",
    "\n",
    "    return head\n",
    "\n",
    "head = None\n",
    "head = insert(head, 8)\n",
    "head = insert(head, 56)\n",
    "head = insert(head, 12)\n",
    "head = insert(head, 2)\n",
    "head = insert(head, 6)\n",
    "head = insert(head, 3)\n",
    "head=rotate(head, 3)\n",
    "printList(head)"
   ]
  },
  {
   "cell_type": "markdown",
   "metadata": {},
   "source": [
    "# 148. Rotate a Doubly Linked list in group of Given Size.[Very IMP]"
   ]
  },
  {
   "cell_type": "code",
   "execution_count": 24,
   "metadata": {},
   "outputs": [
    {
     "name": "stdout",
     "output_type": "stream",
     "text": [
      "Original list: \n",
      "10 8 4 2 \n",
      "Modified list: \n",
      "8 10 2 4 "
     ]
    }
   ],
   "source": [
    "\n",
    "class Node:\n",
    "\t\n",
    "\tdef __init__(self, data):\n",
    "\t\tself.data = data\n",
    "\t\tself.next = next\n",
    "\n",
    "def getNode(data):\n",
    "\n",
    "\t\n",
    "\tnew_node = Node(0)\n",
    "\n",
    "\t\n",
    "\tnew_node.data = data\n",
    "\tnew_node.next = new_node.prev = None\n",
    "\treturn new_node\n",
    "\n",
    "\n",
    "def push(head_ref, new_node):\n",
    "\n",
    "\t# since we are adding at the beginning,\n",
    "\t# prev is always None\n",
    "\tnew_node.prev = None\n",
    "\n",
    "\t# link the old list off the new node\n",
    "\tnew_node.next = (head_ref)\n",
    "\n",
    "\t# change prev of head node to new node\n",
    "\tif ((head_ref) != None):\n",
    "\t\t(head_ref).prev = new_node\n",
    "\n",
    "\t# move the head to point to the new node\n",
    "\t(head_ref) = new_node\n",
    "\treturn head_ref\n",
    "\n",
    "# function to reverse a doubly linked list\n",
    "# in groups of given size\n",
    "def revListInGroupOfGivenSize( head, k):\n",
    "    pre=None\n",
    "    curr=head\n",
    "    count = 0\n",
    "    while (curr != None and count < k):\n",
    "        nex = curr.next\n",
    "        curr.next=curr.prev\n",
    "        curr.prev=nex\n",
    "        pre=curr\n",
    "        curr=curr.prev\n",
    "        count = count + 1\n",
    "    if (curr != None):\n",
    "        curr.prev=None\n",
    "        head.next = revListInGroupOfGivenSize(curr, k)\n",
    "        head.next.prev = head\n",
    "\n",
    "    # pointer to the new head of the# reversed group\n",
    "    return pre\n",
    "\n",
    "# Function to print nodes in a\n",
    "# given doubly linked list\n",
    "def printList(head):\n",
    "\n",
    "\twhile (head != None):\n",
    "\t\tprint( head.data , end=\" \")\n",
    "\t\thead = head.next\n",
    "\t\n",
    "\n",
    "head = None\n",
    "\n",
    "head = push(head, getNode(2))\n",
    "head = push(head, getNode(4))\n",
    "head = push(head, getNode(8))\n",
    "head = push(head, getNode(10))\n",
    "\t\n",
    "k = 2\n",
    "\n",
    "print(\"Original list: \")\n",
    "printList(head)\n",
    "\n",
    "\n",
    "head = revListInGroupOfGivenSize(head, k)\n",
    "\n",
    "print(\"\\nModified list: \")\n",
    "printList(head)\n",
    "\n",
    "# This code is contributed by Arnab Kundu\n"
   ]
  },
  {
   "cell_type": "markdown",
   "metadata": {},
   "source": [
    "# 149. Can we reverse a linked list in less than O(n) ?"
   ]
  },
  {
   "cell_type": "markdown",
   "metadata": {},
   "source": [
    "# No"
   ]
  },
  {
   "cell_type": "markdown",
   "metadata": {},
   "source": [
    "# 150. Why Quicksort is preferred for. Arrays and Merge Sort for LinkedLists ?"
   ]
  },
  {
   "cell_type": "markdown",
   "metadata": {},
   "source": [
    "##### In the case of linked lists, the nodes may not be present at adjacent memory locations, therefore Merge Sort is used. ... Therefore, the overhead increases for quick sort. On the other hand, merge sort accesses data sequentially and the need for random access is low"
   ]
  },
  {
   "cell_type": "markdown",
   "metadata": {},
   "source": [
    "# 151 . Flatten a Linked List"
   ]
  },
  {
   "cell_type": "code",
   "execution_count": 6,
   "metadata": {},
   "outputs": [],
   "source": [
    "def flatten(root):\n",
    "    x=[]\n",
    "    while root is not None:\n",
    "        x.append(root.data)\n",
    "        temp=root.bottom\n",
    "        while temp is not None:\n",
    "            x.append(temp.data)\n",
    "            temp=temp.bottom\n",
    "        root=root.next \n",
    "    x.sort() \n",
    "    LL=Node(x[0])\n",
    "    k=LL\n",
    "    for i in range(1,len(x)):\n",
    "        LL.bottom=Node(x[i])\n",
    "        LL=LL.bottom\n",
    "    return k"
   ]
  },
  {
   "cell_type": "markdown",
   "metadata": {},
   "source": [
    "# 152. Sort a LL of 0's, 1's and 2's"
   ]
  },
  {
   "cell_type": "code",
   "execution_count": 23,
   "metadata": {},
   "outputs": [
    {
     "name": "stdout",
     "output_type": "stream",
     "text": [
      "1\n",
      "1\n",
      "1\n",
      "0\n",
      "2\n",
      "0\n",
      "2\n",
      "1\n",
      "\n",
      "0\n",
      "0\n",
      "1\n",
      "1\n",
      "1\n",
      "1\n",
      "2\n",
      "2\n"
     ]
    }
   ],
   "source": [
    "def segregate(head):\n",
    "    z=0\n",
    "    o=0\n",
    "    t=0\n",
    "    cur=head\n",
    "    while(cur):\n",
    "        if(cur.data==0):\n",
    "            z+=1\n",
    "        elif(cur.data==1):\n",
    "            o+=1\n",
    "        else:\n",
    "            t+=1\n",
    "        cur=cur.next\n",
    "    cur=head\n",
    "    while(z>0):\n",
    "        cur.data=0\n",
    "        cur=cur.next\n",
    "        z-=1\n",
    "    while(o>0):\n",
    "        cur.data=1\n",
    "        cur=cur.next\n",
    "        o-=1\n",
    "    while(t>0):\n",
    "        cur.data=2\n",
    "        cur=cur.next\n",
    "        t-=1\n",
    "    return head\n",
    "    \n",
    "class Node:\n",
    "    def __init__(self,data):\n",
    "        self.data= data\n",
    "        self.next= None\n",
    "class LinkedList:\n",
    "    def __init__(self):\n",
    "        self.head=None\n",
    "    def push(self,data):\n",
    "        new_node=Node(data)\n",
    "        new_node.next=self.head\n",
    "        self.head=new_node\n",
    "    def printList(self,head):\n",
    "        temp = head\n",
    "        while(temp):\n",
    "            print(temp.data)\n",
    "            temp = temp.next\n",
    "        \n",
    "llist = LinkedList()\n",
    "llist.push(1)\n",
    "llist.push(2)\n",
    "llist.push(0)\n",
    "llist.push(2)\n",
    "llist.push(0)\n",
    "llist.push(1)\n",
    "llist.push(1)\n",
    "llist.push(1)\n",
    "llist.printList(llist.head)\n",
    "llist.head=segregate(llist.head)\n",
    "print()\n",
    "llist.printList(llist.head)\n"
   ]
  },
  {
   "cell_type": "markdown",
   "metadata": {},
   "source": [
    "# 153. Clone a linked list with next and random pointer"
   ]
  },
  {
   "cell_type": "code",
   "execution_count": 8,
   "metadata": {},
   "outputs": [],
   "source": [
    "def copyList(self, head):\n",
    "        curr=head\n",
    "        while(curr!=None):\n",
    "            new_node=Node(curr.data)\n",
    "            new_node.next=curr.next\n",
    "            curr.next=new_node\n",
    "            curr=curr.next.next\n",
    "        curr=head\n",
    "        new=head.next\n",
    "        while(curr!=None):\n",
    "            if(curr.arb!=None):\n",
    "                curr.next.arb=curr.arb.next\n",
    "            curr=curr.next.next\n",
    "        curr=head\n",
    "        sep=head.next\n",
    "        new=head.next\n",
    "        while(curr!=None):\n",
    "            curr.next=new.next\n",
    "            curr=curr.next\n",
    "            if(curr!=None):\n",
    "                new.next=curr.next\n",
    "            else:\n",
    "                new.next=None\n",
    "            new=new.next\n",
    "        return sep"
   ]
  },
  {
   "cell_type": "markdown",
   "metadata": {},
   "source": [
    "# 154.Merge K sorted Linked list"
   ]
  },
  {
   "cell_type": "code",
   "execution_count": 25,
   "metadata": {},
   "outputs": [
    {
     "name": "stdout",
     "output_type": "stream",
     "text": [
      "4\n",
      "5\n",
      "20\n",
      "100\n",
      "\n",
      "5\n",
      "58\n",
      "70\n"
     ]
    },
    {
     "ename": "TypeError",
     "evalue": "'<' not supported between instances of 'Node' and 'Node'",
     "output_type": "error",
     "traceback": [
      "\u001b[1;31m---------------------------------------------------------------------------\u001b[0m",
      "\u001b[1;31mTypeError\u001b[0m                                 Traceback (most recent call last)",
      "\u001b[1;32m<ipython-input-25-8ff83700dbfc>\u001b[0m in \u001b[0;36m<module>\u001b[1;34m\u001b[0m\n\u001b[0;32m     44\u001b[0m \u001b[0mprint\u001b[0m\u001b[1;33m(\u001b[0m\u001b[1;33m)\u001b[0m\u001b[1;33m\u001b[0m\u001b[1;33m\u001b[0m\u001b[0m\n\u001b[0;32m     45\u001b[0m \u001b[0mllist1\u001b[0m\u001b[1;33m.\u001b[0m\u001b[0mprintList\u001b[0m\u001b[1;33m(\u001b[0m\u001b[0mllist1\u001b[0m\u001b[1;33m.\u001b[0m\u001b[0mhead\u001b[0m\u001b[1;33m)\u001b[0m\u001b[1;33m\u001b[0m\u001b[1;33m\u001b[0m\u001b[0m\n\u001b[1;32m---> 46\u001b[1;33m \u001b[0mhead\u001b[0m\u001b[1;33m=\u001b[0m\u001b[0mmergeKLists\u001b[0m\u001b[1;33m(\u001b[0m\u001b[1;33m[\u001b[0m\u001b[0mllist\u001b[0m\u001b[1;33m.\u001b[0m\u001b[0mhead\u001b[0m\u001b[1;33m,\u001b[0m\u001b[0mllist1\u001b[0m\u001b[1;33m.\u001b[0m\u001b[0mhead\u001b[0m\u001b[1;33m]\u001b[0m\u001b[1;33m,\u001b[0m\u001b[1;36m2\u001b[0m\u001b[1;33m)\u001b[0m\u001b[1;33m\u001b[0m\u001b[1;33m\u001b[0m\u001b[0m\n\u001b[0m\u001b[0;32m     47\u001b[0m \u001b[0mprint\u001b[0m\u001b[1;33m(\u001b[0m\u001b[1;33m)\u001b[0m\u001b[1;33m\u001b[0m\u001b[1;33m\u001b[0m\u001b[0m\n\u001b[0;32m     48\u001b[0m \u001b[0mllist\u001b[0m\u001b[1;33m.\u001b[0m\u001b[0mprintList\u001b[0m\u001b[1;33m(\u001b[0m\u001b[0mhead\u001b[0m\u001b[1;33m)\u001b[0m\u001b[1;33m\u001b[0m\u001b[1;33m\u001b[0m\u001b[0m\n",
      "\u001b[1;32m<ipython-input-25-8ff83700dbfc>\u001b[0m in \u001b[0;36mmergeKLists\u001b[1;34m(arr, K)\u001b[0m\n\u001b[0;32m     17\u001b[0m                 \u001b[0mtemp\u001b[0m\u001b[1;33m=\u001b[0m\u001b[0mnewnode\u001b[0m\u001b[1;33m\u001b[0m\u001b[1;33m\u001b[0m\u001b[0m\n\u001b[0;32m     18\u001b[0m             \u001b[1;32mif\u001b[0m\u001b[1;33m(\u001b[0m\u001b[0mnex\u001b[0m\u001b[1;33m!=\u001b[0m\u001b[1;32mNone\u001b[0m\u001b[1;33m)\u001b[0m\u001b[1;33m:\u001b[0m\u001b[1;33m\u001b[0m\u001b[1;33m\u001b[0m\u001b[0m\n\u001b[1;32m---> 19\u001b[1;33m                 \u001b[0mheappush\u001b[0m\u001b[1;33m(\u001b[0m\u001b[0mheap\u001b[0m\u001b[1;33m,\u001b[0m\u001b[1;33m[\u001b[0m\u001b[0mnex\u001b[0m\u001b[1;33m.\u001b[0m\u001b[0mdata\u001b[0m\u001b[1;33m,\u001b[0m\u001b[0mnex\u001b[0m\u001b[1;33m.\u001b[0m\u001b[0mnext\u001b[0m\u001b[1;33m]\u001b[0m\u001b[1;33m)\u001b[0m\u001b[1;33m\u001b[0m\u001b[1;33m\u001b[0m\u001b[0m\n\u001b[0m\u001b[0;32m     20\u001b[0m         \u001b[1;32mreturn\u001b[0m \u001b[0mnew\u001b[0m\u001b[1;33m\u001b[0m\u001b[1;33m\u001b[0m\u001b[0m\n\u001b[0;32m     21\u001b[0m \u001b[1;32mclass\u001b[0m \u001b[0mLinkedList\u001b[0m\u001b[1;33m:\u001b[0m\u001b[1;33m\u001b[0m\u001b[1;33m\u001b[0m\u001b[0m\n",
      "\u001b[1;31mTypeError\u001b[0m: '<' not supported between instances of 'Node' and 'Node'"
     ]
    }
   ],
   "source": [
    "from heapq import *\n",
    "def mergeKLists(arr,K):\n",
    "        new=None\n",
    "        heap=[]\n",
    "        for i in range(K):\n",
    "            if(arr[i]!=None):\n",
    "                heappush(heap,[arr[i].data,arr[i].next])\n",
    "        while(len(heap)>0):\n",
    "            d=heappop(heap)\n",
    "            newnode=Node(d[0])\n",
    "            nex=d[1]\n",
    "            if(new==None):\n",
    "                new=newnode\n",
    "                temp=new\n",
    "            else:\n",
    "                temp.next=newnode\n",
    "                temp=newnode\n",
    "            if(nex!=None):\n",
    "                heappush(heap,[nex.data,nex.next])\n",
    "        return new\n",
    "class LinkedList:\n",
    "    def __init__(self):\n",
    "        self.head=None\n",
    "    def push(self,data):\n",
    "        new_node=Node(data)\n",
    "        new_node.next=self.head\n",
    "        self.head=new_node\n",
    "    def printList(self,head):\n",
    "        temp = head\n",
    "        while(temp):\n",
    "            print(temp.data)\n",
    "            temp = temp.next\n",
    "llist = LinkedList()\n",
    "llist.push(100)\n",
    "llist.push(20)\n",
    "llist.push(5)\n",
    "llist.push(4)\n",
    "llist1 = LinkedList()\n",
    "llist1.push(70)\n",
    "llist1.push(58)\n",
    "llist1.push(5)\n",
    "llist.printList(llist.head)\n",
    "\n",
    "print()\n",
    "llist1.printList(llist1.head)\n",
    "head=mergeKLists([llist.head,llist1.head],2)\n",
    "print()\n",
    "llist.printList(head)"
   ]
  },
  {
   "cell_type": "code",
   "execution_count": 2,
   "metadata": {},
   "outputs": [
    {
     "name": "stdout",
     "output_type": "stream",
     "text": [
      "4\n",
      "5\n",
      "20\n",
      "100\n",
      "\n",
      "5\n",
      "58\n",
      "70\n",
      "\n",
      "4\n",
      "5\n",
      "5\n",
      "20\n",
      "58\n",
      "70\n",
      "100\n"
     ]
    }
   ],
   "source": [
    "def merge(head1,head2):\n",
    "    ans=None\n",
    "    cur=ans\n",
    "    while(head1!=None and head2!=None):\n",
    "        if(head1.data<head2.data):\n",
    "            if(ans==None):\n",
    "                ans=head1\n",
    "                cur=head1\n",
    "                head1=head1.next\n",
    "                \n",
    "            else:\n",
    "                cur.next=head1\n",
    "                cur=head1\n",
    "                head1=head1.next\n",
    "        else:\n",
    "            if(ans==None):\n",
    "                ans=head2\n",
    "                cur=head2\n",
    "                head2=head2.next\n",
    "            else:\n",
    "                cur.next=head2\n",
    "                cur=head2\n",
    "                head2=head2.next\n",
    "    if(head1!=None):\n",
    "        cur.next=head1\n",
    "    if(head2!=None):\n",
    "        cur.next=head2\n",
    "    return ans\n",
    "def mergeKLists(arr,K):\n",
    "    s=0\n",
    "    j=K-1\n",
    "    while(j>0):\n",
    "        s=0\n",
    "        e=j\n",
    "        while(s<e):\n",
    "            arr[s]=merge(arr[s],arr[e])\n",
    "            s+=1\n",
    "            e-=1\n",
    "        j=e\n",
    "    return arr[0]\n",
    "class Node:\n",
    "    def __init__(self,data):\n",
    "        self.data= data\n",
    "        self.next= None\n",
    "class LinkedList:\n",
    "    def __init__(self):\n",
    "        self.head=None\n",
    "    def push(self,data):\n",
    "        new_node=Node(data)\n",
    "        new_node.next=self.head\n",
    "        self.head=new_node\n",
    "    def printList(self,head):\n",
    "        temp = head\n",
    "        while(temp):\n",
    "            print(temp.data)\n",
    "            temp = temp.next\n",
    "\n",
    "llist = LinkedList()\n",
    "llist.push(100)\n",
    "llist.push(20)\n",
    "llist.push(5)\n",
    "llist.push(4)\n",
    "llist1 = LinkedList()\n",
    "llist1.push(70)\n",
    "llist1.push(58)\n",
    "llist1.push(5)\n",
    "llist.printList(llist.head)\n",
    "\n",
    "print()\n",
    "llist1.printList(llist1.head)\n",
    "head=mergeKLists([llist.head,llist1.head],2)\n",
    "print()\n",
    "llist.printList(head)"
   ]
  },
  {
   "cell_type": "markdown",
   "metadata": {},
   "source": [
    "# 155. Multiply 2 no. represented by LL"
   ]
  },
  {
   "cell_type": "code",
   "execution_count": 5,
   "metadata": {},
   "outputs": [
    {
     "name": "stdout",
     "output_type": "stream",
     "text": [
      "2\n",
      "0\n",
      "2\n",
      "1\n",
      "\n",
      "1\n",
      "1\n",
      "1\n",
      "\n",
      "224331\n"
     ]
    }
   ],
   "source": [
    "def multiplyTwoList(head1, head2):\n",
    "    n1=0\n",
    "    n2=0\n",
    "    while(head1!=None):\n",
    "        n1=(n1*10 + head1.data)%1000000007\n",
    "        head1=head1.next\n",
    "    while(head2!=None):\n",
    "        n2=(n2*10 + head2.data)%1000000007\n",
    "        head2=head2.next\n",
    "    return (n2*n1)%1000000007\n",
    "class Node:\n",
    "    def __init__(self,data):\n",
    "        self.data= data\n",
    "        self.next= None\n",
    "class LinkedList:\n",
    "    def __init__(self):\n",
    "        self.head=None\n",
    "    def push(self,data):\n",
    "        new_node=Node(data)\n",
    "        new_node.next=self.head\n",
    "        self.head=new_node\n",
    "    def printList(self,head):\n",
    "        temp = head\n",
    "        while(temp):\n",
    "            print(temp.data)\n",
    "            temp = temp.next\n",
    "        \n",
    "llist = LinkedList()\n",
    "llist.push(1)\n",
    "llist.push(2)\n",
    "llist.push(0)\n",
    "llist.push(2)\n",
    "llist1 = LinkedList()\n",
    "llist1.push(1)\n",
    "llist1.push(1)\n",
    "llist1.push(1)\n",
    "llist.printList(llist.head)\n",
    "print()\n",
    "llist1.printList(llist1.head)\n",
    "print()\n",
    "print(multiplyTwoList(llist.head, llist1.head))"
   ]
  },
  {
   "cell_type": "markdown",
   "metadata": {},
   "source": [
    "# 156. Delete nodes which have a greater value on right side"
   ]
  },
  {
   "cell_type": "code",
   "execution_count": 6,
   "metadata": {},
   "outputs": [
    {
     "name": "stdout",
     "output_type": "stream",
     "text": [
      "11\n",
      "192\n",
      "17\n",
      "52\n",
      "63\n",
      "2\n",
      "10\n",
      "\n",
      "192\n",
      "63\n",
      "10\n"
     ]
    }
   ],
   "source": [
    "def compute(head):\n",
    "    k=99999999\n",
    "    while(k!=0):\n",
    "        k=0\n",
    "        pre=None\n",
    "        curr=head\n",
    "        nex=head.next\n",
    "        while(nex!=None):\n",
    "            if(curr.data<nex.data):\n",
    "                if(pre==None):\n",
    "                    head=nex\n",
    "                    curr=head\n",
    "                    nex=nex.next\n",
    "                else:\n",
    "                    pre.next=nex\n",
    "                    curr=nex\n",
    "                    nex=nex.next\n",
    "                k+=1\n",
    "            else:\n",
    "                pre=curr\n",
    "                curr=nex\n",
    "                nex=nex.next\n",
    "    return head\n",
    "\n",
    "class Node:\n",
    "    def __init__(self,data):\n",
    "        self.data= data\n",
    "        self.next= None\n",
    "class LinkedList:\n",
    "    def __init__(self):\n",
    "        self.head=None\n",
    "    def push(self,data):\n",
    "        new_node=Node(data)\n",
    "        new_node.next=self.head\n",
    "        self.head=new_node\n",
    "    def printList(self,head):\n",
    "        temp = head\n",
    "        while(temp):\n",
    "            print(temp.data)\n",
    "            temp = temp.next\n",
    "        \n",
    "llist = LinkedList()\n",
    "llist.push(10)\n",
    "llist.push(2)\n",
    "llist.push(63)\n",
    "llist.push(52)\n",
    "llist.push(17)\n",
    "llist.push(192)\n",
    "llist.push(11)\n",
    "llist.printList(llist.head)\n",
    "head=compute(llist.head)\n",
    "print()\n",
    "llist.printList(head)"
   ]
  },
  {
   "cell_type": "markdown",
   "metadata": {},
   "source": [
    "# 157. Segregate even and odd nodes in a Linked List"
   ]
  },
  {
   "cell_type": "code",
   "execution_count": 7,
   "metadata": {},
   "outputs": [
    {
     "name": "stdout",
     "output_type": "stream",
     "text": [
      "11\n",
      "192\n",
      "17\n",
      "52\n",
      "63\n",
      "2\n",
      "10\n",
      "\n",
      "192\n",
      "52\n",
      "2\n",
      "10\n",
      "11\n",
      "17\n",
      "63\n"
     ]
    }
   ],
   "source": [
    "def divide(head):\n",
    "    even =None\n",
    "    peven=None\n",
    "    odd=None\n",
    "    podd=None\n",
    "    curr=head\n",
    "    while(curr!=None):\n",
    "        if(curr.data%2!=1):\n",
    "            if(even==None):\n",
    "                even=curr\n",
    "                peven=curr\n",
    "            else:\n",
    "                peven.next=curr\n",
    "                peven=curr\n",
    "        else:\n",
    "            if(odd==None):\n",
    "                odd=curr\n",
    "                podd=curr\n",
    "            else:\n",
    "                podd.next=curr\n",
    "                podd=curr\n",
    "        curr=curr.next\n",
    "    if(podd!=None):\n",
    "        podd.next=None\n",
    "    if(peven==None):\n",
    "        return odd\n",
    "    peven.next=odd\n",
    "    return even\n",
    "\n",
    "class Node:\n",
    "    def __init__(self,data):\n",
    "        self.data= data\n",
    "        self.next= None\n",
    "class LinkedList:\n",
    "    def __init__(self):\n",
    "        self.head=None\n",
    "    def push(self,data):\n",
    "        new_node=Node(data)\n",
    "        new_node.next=self.head\n",
    "        self.head=new_node\n",
    "    def printList(self,head):\n",
    "        temp = head\n",
    "        while(temp):\n",
    "            print(temp.data)\n",
    "            temp = temp.next\n",
    "        \n",
    "llist = LinkedList()\n",
    "llist.push(10)\n",
    "llist.push(2)\n",
    "llist.push(63)\n",
    "llist.push(52)\n",
    "llist.push(17)\n",
    "llist.push(192)\n",
    "llist.push(11)\n",
    "llist.printList(llist.head)\n",
    "head=divide(llist.head)\n",
    "print()\n",
    "llist.printList(head)\n",
    "\n"
   ]
  },
  {
   "cell_type": "markdown",
   "metadata": {},
   "source": [
    "# 158.Program for n’th node from the end of a Linked List"
   ]
  },
  {
   "cell_type": "code",
   "execution_count": 4,
   "metadata": {},
   "outputs": [
    {
     "name": "stdout",
     "output_type": "stream",
     "text": [
      "11\n",
      "192\n",
      "17\n",
      "52\n",
      "63\n",
      "2\n",
      "10\n",
      "\n",
      "11\n"
     ]
    }
   ],
   "source": [
    "def getNthFromLast(head,n):\n",
    "    c=0\n",
    "    curr=head\n",
    "    while(curr!=None):\n",
    "        c+=1\n",
    "        curr=curr.next\n",
    "    f=c-n+1\n",
    "    if(f<1):\n",
    "        return -1\n",
    "    else:\n",
    "        curr=head\n",
    "        m=1\n",
    "        while(f!=m):\n",
    "            m+=1\n",
    "            curr=curr.next\n",
    "        return curr.data \n",
    "class Node:\n",
    "    def __init__(self,data):\n",
    "        self.data= data\n",
    "        self.next= None\n",
    "class LinkedList:\n",
    "    def __init__(self):\n",
    "        self.head=None\n",
    "    def push(self,data):\n",
    "        new_node=Node(data)\n",
    "        new_node.next=self.head\n",
    "        self.head=new_node\n",
    "    def printList(self,head):\n",
    "        temp = head\n",
    "        while(temp):\n",
    "            print(temp.data)\n",
    "            temp = temp.next\n",
    "        \n",
    "llist = LinkedList()\n",
    "llist.push(10)\n",
    "llist.push(2)\n",
    "llist.push(63)\n",
    "llist.push(52)\n",
    "llist.push(17)\n",
    "llist.push(192)\n",
    "llist.push(11)\n",
    "llist.printList(llist.head)\n",
    "print()\n",
    "print(getNthFromLast(llist.head,7))"
   ]
  },
  {
   "cell_type": "markdown",
   "metadata": {},
   "source": [
    "# 159.Find the first non-repeating character from a stream of characters"
   ]
  },
  {
   "cell_type": "code",
   "execution_count": 3,
   "metadata": {},
   "outputs": [
    {
     "name": "stdout",
     "output_type": "stream",
     "text": [
      "aab#xx\n"
     ]
    }
   ],
   "source": [
    "def FirstNonRepeating(A):\n",
    "    s=A[0]\n",
    "    non=[A[0]]\n",
    "    repeat=[]\n",
    "    b=A[0]\n",
    "    for i in A[1:]:\n",
    "        if(i in non):\n",
    "            non.remove(i)\n",
    "            repeat.append(i)\n",
    "            if(len(non)==0):\n",
    "                b=\"#\"\n",
    "            else:\n",
    "                b=non[0]\n",
    "        else:\n",
    "            if(i not in repeat):\n",
    "                non.append(i)\n",
    "            if(b==\"#\" and len(non)>0):\n",
    "                b=i\n",
    "        s+=b\n",
    "    return s\n",
    "print(FirstNonRepeating(\"ababxg\"))"
   ]
  },
  {
   "cell_type": "markdown",
   "metadata": {},
   "source": [
    "# -------------------------------------------Binary Tree----------------------------------------------------"
   ]
  },
  {
   "cell_type": "markdown",
   "metadata": {},
   "source": [
    "# 160. level order traversal"
   ]
  },
  {
   "cell_type": "code",
   "execution_count": 12,
   "metadata": {},
   "outputs": [],
   "source": [
    "class Solution:\n",
    "    #Function to return the level order traversal of a tree.\n",
    "    def levelOrder(self,root ):\n",
    "        s=[root]\n",
    "        r=[]\n",
    "        while(len(s)>0):\n",
    "            a=s.pop(0)\n",
    "            r.append(a.data)\n",
    "            if(a.left!=None):\n",
    "                s.append(a.left)\n",
    "            if(a.right!=None):\n",
    "                s.append(a.right)\n",
    "        return r"
   ]
  },
  {
   "cell_type": "markdown",
   "metadata": {},
   "source": [
    "# 161. Reverse Level Order traversal"
   ]
  },
  {
   "cell_type": "code",
   "execution_count": 6,
   "metadata": {},
   "outputs": [],
   "source": [
    "def reverseLevelOrder(root):\n",
    "    # code here\n",
    "    s=[root]\n",
    "    r=[]\n",
    "    while(len(s)>0):\n",
    "        a=s.pop(0)\n",
    "        r.append(a.data)\n",
    "        if(a.right!=None):\n",
    "            s.append(a.right)\n",
    "        if(a.left!=None):\n",
    "            s.append(a.left)\n",
    "    r=r[::-1]\n",
    "    return r"
   ]
  },
  {
   "cell_type": "markdown",
   "metadata": {},
   "source": [
    "# 162. Height of a tree"
   ]
  },
  {
   "cell_type": "code",
   "execution_count": 7,
   "metadata": {},
   "outputs": [],
   "source": [
    "class Solution:\n",
    "    \n",
    "    def height(self, root):\n",
    "        s=[root]\n",
    "        c=[]\n",
    "        h=0\n",
    "        f=1\n",
    "        while(f==1):\n",
    "            h+=1\n",
    "            f=0\n",
    "            while(len(s)>0):\n",
    "                a=s.pop(0)\n",
    "                if(a.left!=None):\n",
    "                    c.append(a.left)\n",
    "                    f=1\n",
    "                if(a.right!=None):\n",
    "                    c.append(a.right)\n",
    "                    f=1\n",
    "            c,s=s,c\n",
    "        return h"
   ]
  },
  {
   "cell_type": "code",
   "execution_count": 8,
   "metadata": {},
   "outputs": [],
   "source": [
    "class Solution:\n",
    "    def height(self, root):\n",
    "        if(root==None):\n",
    "            return 0\n",
    "        x=self.height(root.left)\n",
    "        y=self.height(root.right)\n",
    "        return max(x,y)+1"
   ]
  },
  {
   "cell_type": "markdown",
   "metadata": {},
   "source": [
    "# 163. Diameter of a tree"
   ]
  },
  {
   "cell_type": "code",
   "execution_count": 4,
   "metadata": {},
   "outputs": [],
   "source": [
    "class Solution:\n",
    "    ans=0\n",
    "    def height(self,root):\n",
    "        if(root==None):\n",
    "            return 0\n",
    "        x=self.height(root.left)\n",
    "        y=self.height(root.right)\n",
    "        self.ans=max(self.ans,x+y+1)\n",
    "        return (max(x,y)+1)\n",
    "    #Function to return the diameter of a Binary Tree.\n",
    "    def diameter(self,root):\n",
    "        self.height(root)\n",
    "        return self.ans\n"
   ]
  },
  {
   "cell_type": "markdown",
   "metadata": {},
   "source": [
    "# 164. Mirror of a tree"
   ]
  },
  {
   "cell_type": "code",
   "execution_count": 5,
   "metadata": {},
   "outputs": [],
   "source": [
    "class Solution:\n",
    "    #Function to convert a binary tree into its mirror tree.\n",
    "    def mirror(self,root):\n",
    "        if(root==None):\n",
    "            return\n",
    "        self.mirror(root.left)\n",
    "        self.mirror(root.right)\n",
    "        root.left,root.right=root.right,root.left"
   ]
  },
  {
   "cell_type": "markdown",
   "metadata": {},
   "source": [
    "# 165. Inorder Traversal of a tree both using recursion and Iteration"
   ]
  },
  {
   "cell_type": "markdown",
   "metadata": {},
   "source": [
    "### itertion"
   ]
  },
  {
   "cell_type": "code",
   "execution_count": 9,
   "metadata": {},
   "outputs": [
    {
     "name": "stdout",
     "output_type": "stream",
     "text": [
      "4 2 1 7 5 8 3 6 "
     ]
    }
   ],
   "source": [
    "from collections import deque\n",
    " \n",
    " \n",
    "# Data structure to store a binary tree node\n",
    "class Node:\n",
    "    def __init__(self, data=None, left=None, right=None):\n",
    "        self.data = data\n",
    "        self.left = left\n",
    "        self.right = right\n",
    " \n",
    " \n",
    "# Iterative function to perform inorder traversal on the tree\n",
    "def inorderIterative(root):\n",
    " \n",
    "    # create an empty stack\n",
    "    stack = deque()\n",
    " \n",
    "    # start from the root node (set current node to the root node)\n",
    "    curr = root\n",
    " \n",
    "    # if the current node is None and the stack is also empty, we are done\n",
    "    while stack or curr:\n",
    " \n",
    "        # if the current node exists, push it into the stack (defer it)\n",
    "        # and move to its left child\n",
    "        if curr:\n",
    "            stack.append(curr)\n",
    "            curr = curr.left\n",
    "        else:\n",
    "            # otherwise, if the current node is None, pop an element from the stack,\n",
    "            # print it, and finally set the current node to its right child\n",
    "            curr = stack.pop()\n",
    "            print(curr.data, end=' ')\n",
    " \n",
    "            curr = curr.right\n",
    " \n",
    " \n",
    "if __name__ == '__main__':\n",
    " \n",
    "    ''' Construct the following tree\n",
    "               1\n",
    "             /   \\\n",
    "            /     \\\n",
    "           2       3\n",
    "          /      /   \\\n",
    "         /      /     \\\n",
    "        4      5       6\n",
    "              / \\\n",
    "             /   \\\n",
    "            7     8\n",
    "    '''\n",
    " \n",
    "    root = Node(1)\n",
    "    root.left = Node(2)\n",
    "    root.right = Node(3)\n",
    "    root.left.left = Node(4)\n",
    "    root.right.left = Node(5)\n",
    "    root.right.right = Node(6)\n",
    "    root.right.left.left = Node(7)\n",
    "    root.right.left.right = Node(8)\n",
    " \n",
    "    inorderIterative(root)"
   ]
  },
  {
   "cell_type": "markdown",
   "metadata": {},
   "source": [
    "### recusion"
   ]
  },
  {
   "cell_type": "code",
   "execution_count": 15,
   "metadata": {},
   "outputs": [
    {
     "name": "stdout",
     "output_type": "stream",
     "text": [
      "[4, 2, 1, 7, 5, 8, 3, 6]\n"
     ]
    }
   ],
   "source": [
    "class Node:\n",
    "    def __init__(self, data=None, left=None, right=None):\n",
    "        self.data = data\n",
    "        self.left = left\n",
    "        self.right = right\n",
    " \n",
    " \n",
    "# Iterative function to perform inorder traversal on the tree\n",
    "def inorderrecusive(root):\n",
    "    if(root==None):\n",
    "        return []\n",
    "    # create an empty stack\n",
    "    return inorderrecusive(root.left)+[root.data]+inorderrecusive(root.right)\n",
    " \n",
    " \n",
    "if __name__ == '__main__':\n",
    " \n",
    "    ''' Construct the following tree\n",
    "               1\n",
    "             /   \\\n",
    "            /     \\\n",
    "           2       3\n",
    "          /      /   \\\n",
    "         /      /     \\\n",
    "        4      5       6\n",
    "              / \\\n",
    "             /   \\\n",
    "            7     8\n",
    "    '''\n",
    " \n",
    "    root = Node(1)\n",
    "    root.left = Node(2)\n",
    "    root.right = Node(3)\n",
    "    root.left.left = Node(4)\n",
    "    root.right.left = Node(5)\n",
    "    root.right.right = Node(6)\n",
    "    root.right.left.left = Node(7)\n",
    "    root.right.left.right = Node(8)\n",
    " \n",
    "    print(inorderIterative(root))"
   ]
  },
  {
   "cell_type": "markdown",
   "metadata": {},
   "source": [
    "# 166. Preorder Traversal of a tree both using recursion and Iteration"
   ]
  },
  {
   "cell_type": "markdown",
   "metadata": {},
   "source": [
    "### Iteration"
   ]
  },
  {
   "cell_type": "code",
   "execution_count": 17,
   "metadata": {},
   "outputs": [
    {
     "name": "stdout",
     "output_type": "stream",
     "text": [
      "[1, 2, 4, 3, 5, 7, 8, 6]\n"
     ]
    }
   ],
   "source": [
    "class Node:\n",
    "    def __init__(self, data=None, left=None, right=None):\n",
    "        self.data = data\n",
    "        self.left = left\n",
    "        self.right = right\n",
    "def preOrder(root):\n",
    "    s=[root]\n",
    "    rs=[]\n",
    "    while(len(s)>0):\n",
    "        a=s.pop()\n",
    "        rs+=[a.data]\n",
    "        if(a.right!=None):\n",
    "            s.append(a.right)\n",
    "        if(a.left!=None):\n",
    "            s.append(a.left)\n",
    "    return rs\n",
    "if __name__ == '__main__':\n",
    " \n",
    "    ''' Construct the following tree\n",
    "               1\n",
    "             /   \\\n",
    "            /     \\\n",
    "           2       3\n",
    "          /      /   \\\n",
    "         /      /     \\\n",
    "        4      5       6\n",
    "              / \\\n",
    "             /   \\\n",
    "            7     8\n",
    "    '''\n",
    " \n",
    "    root = Node(1)\n",
    "    root.left = Node(2)\n",
    "    root.right = Node(3)\n",
    "    root.left.left = Node(4)\n",
    "    root.right.left = Node(5)\n",
    "    root.right.right = Node(6)\n",
    "    root.right.left.left = Node(7)\n",
    "    root.right.left.right = Node(8)\n",
    " \n",
    "    print(preOrder(root))"
   ]
  },
  {
   "cell_type": "markdown",
   "metadata": {},
   "source": [
    "### Recursive"
   ]
  },
  {
   "cell_type": "code",
   "execution_count": 18,
   "metadata": {},
   "outputs": [
    {
     "name": "stdout",
     "output_type": "stream",
     "text": [
      "[1, 2, 4, 3, 5, 7, 8, 6]\n"
     ]
    }
   ],
   "source": [
    "class Node:\n",
    "    def __init__(self, data=None, left=None, right=None):\n",
    "        self.data = data\n",
    "        self.left = left\n",
    "        self.right = right\n",
    " \n",
    " \n",
    "# Iterative function to perform inorder traversal on the tree\n",
    "def preorderrecusive(root):\n",
    "    if(root==None):\n",
    "        return []\n",
    "    # create an empty stack\n",
    "    return [root.data]+preorderrecusive(root.left)+preorderrecusive(root.right)\n",
    " \n",
    " \n",
    "if __name__ == '__main__':\n",
    " \n",
    "    ''' Construct the following tree\n",
    "               1\n",
    "             /   \\\n",
    "            /     \\\n",
    "           2       3\n",
    "          /      /   \\\n",
    "         /      /     \\\n",
    "        4      5       6\n",
    "              / \\\n",
    "             /   \\\n",
    "            7     8\n",
    "    '''\n",
    " \n",
    "    root = Node(1)\n",
    "    root.left = Node(2)\n",
    "    root.right = Node(3)\n",
    "    root.left.left = Node(4)\n",
    "    root.right.left = Node(5)\n",
    "    root.right.right = Node(6)\n",
    "    root.right.left.left = Node(7)\n",
    "    root.right.left.right = Node(8)\n",
    " \n",
    "    print(preorderrecusive(root))"
   ]
  },
  {
   "cell_type": "markdown",
   "metadata": {},
   "source": [
    "# 167. Postorder Traversal of a tree both using recursion and Iteration"
   ]
  },
  {
   "cell_type": "markdown",
   "metadata": {},
   "source": [
    "### Itertion"
   ]
  },
  {
   "cell_type": "code",
   "execution_count": 24,
   "metadata": {},
   "outputs": [
    {
     "name": "stdout",
     "output_type": "stream",
     "text": [
      "[4, 2, 7, 8, 5, 6, 3, 1]\n"
     ]
    }
   ],
   "source": [
    "class Node:\n",
    "    def __init__(self, data=None, left=None, right=None):\n",
    "        self.data = data\n",
    "        self.left = left\n",
    "        self.right = right\n",
    "def preOrder(root):\n",
    "    s=[root]\n",
    "    rs=[]\n",
    "    s1=[]\n",
    "    while(len(s)>0):\n",
    "        a=s.pop()\n",
    "        s1.append(a)\n",
    "        if(a.left!=None):\n",
    "            s.append(a.left)\n",
    "        if(a.right!=None):\n",
    "            s.append(a.right)\n",
    "    while(len(s1)>0):\n",
    "        a=s1.pop()\n",
    "        rs.append(a.data)\n",
    "    return rs\n",
    "if __name__ == '__main__':\n",
    " \n",
    "    ''' Construct the following tree\n",
    "               1\n",
    "             /   \\\n",
    "            /     \\\n",
    "           2       3\n",
    "          /      /   \\\n",
    "         /      /     \\\n",
    "        4      5       6\n",
    "              / \\\n",
    "             /   \\\n",
    "            7     8\n",
    "    '''\n",
    " \n",
    "    root = Node(1)\n",
    "    root.left = Node(2)\n",
    "    root.right = Node(3)\n",
    "    root.left.left = Node(4)\n",
    "    root.right.left = Node(5)\n",
    "    root.right.right = Node(6)\n",
    "    root.right.left.left = Node(7)\n",
    "    root.right.left.right = Node(8)\n",
    " \n",
    "    print(preOrder(root))"
   ]
  },
  {
   "cell_type": "markdown",
   "metadata": {},
   "source": [
    "### Recursive"
   ]
  },
  {
   "cell_type": "code",
   "execution_count": 37,
   "metadata": {},
   "outputs": [
    {
     "name": "stdout",
     "output_type": "stream",
     "text": [
      "[4, 2, 7, 8, 5, 6, 3, 1]\n"
     ]
    }
   ],
   "source": [
    "class Node:\n",
    "    def __init__(self, data=None, left=None, right=None):\n",
    "        self.data = data\n",
    "        self.left = left\n",
    "        self.right = right\n",
    " \n",
    " \n",
    "# Iterative function to perform inorder traversal on the tree\n",
    "def postorderrecusive(root):\n",
    "    if(root==None):\n",
    "        return []\n",
    "    # create an empty stack\n",
    "    return postorderrecusive(root.left)+postorderrecusive(root.right)+[root.data]\n",
    " \n",
    " \n",
    "if __name__ == '__main__':\n",
    " \n",
    "    ''' Construct the following tree\n",
    "               1\n",
    "             /   \\\n",
    "            /     \\\n",
    "           2       3\n",
    "          /      /   \\\n",
    "         /      /     \\\n",
    "        4      5       6\n",
    "              / \\\n",
    "             /   \\\n",
    "            7     8\n",
    "    '''\n",
    " \n",
    "    root = Node(1)\n",
    "    root.left = Node(2)\n",
    "    root.right = Node(3)\n",
    "    root.left.left = Node(4)\n",
    "    root.right.left = Node(5)\n",
    "    root.right.right = Node(6)\n",
    "    root.right.left.left = Node(7)\n",
    "    root.right.left.right = Node(8)\n",
    " \n",
    "    print(postorderrecusive(root))"
   ]
  },
  {
   "cell_type": "markdown",
   "metadata": {},
   "source": [
    "# 168. Left View of a tree"
   ]
  },
  {
   "cell_type": "code",
   "execution_count": 35,
   "metadata": {},
   "outputs": [
    {
     "name": "stdout",
     "output_type": "stream",
     "text": [
      "[1, 2, 4, 7]\n"
     ]
    }
   ],
   "source": [
    "def LeftView(root):\n",
    "    if(root==None):\n",
    "        return []\n",
    "    re=[]\n",
    "    s=[root]\n",
    "    c=[]\n",
    "    f=1\n",
    "    while(f>0):\n",
    "        f=0\n",
    "        re.append(s[0].data)\n",
    "        while(len(s)>0):\n",
    "            a=s.pop(0)\n",
    "            if(a.left!=None):\n",
    "                f=1\n",
    "                c.append(a.left)\n",
    "            if(a.right!=None):\n",
    "                f=1\n",
    "                c.append(a.right)\n",
    "        s,c=c,s\n",
    "    return re\n",
    "class Node:\n",
    "    def __init__(self, data=None, left=None, right=None):\n",
    "        self.data = data\n",
    "        self.left = left\n",
    "        self.right = right\n",
    " \n",
    " \n",
    "if __name__ == '__main__':\n",
    " \n",
    "    ''' Construct the following tree\n",
    "               1\n",
    "             /   \\\n",
    "            /     \\\n",
    "           2       3\n",
    "          /      /   \\\n",
    "         /      /     \\\n",
    "        4      5       6\n",
    "              / \\\n",
    "             /   \\\n",
    "            7     8\n",
    "    '''\n",
    " \n",
    "    root = Node(1)\n",
    "    root.left = Node(2)\n",
    "    root.right = Node(3)\n",
    "    root.left.left = Node(4)\n",
    "    root.right.left = Node(5)\n",
    "    root.right.right = Node(6)\n",
    "    root.right.left.left = Node(7)\n",
    "    root.right.left.right = Node(8)\n",
    " \n",
    "    print(LeftView(root))"
   ]
  },
  {
   "cell_type": "markdown",
   "metadata": {},
   "source": [
    "# 169. Right View of a tree"
   ]
  },
  {
   "cell_type": "code",
   "execution_count": 38,
   "metadata": {},
   "outputs": [
    {
     "name": "stdout",
     "output_type": "stream",
     "text": [
      "[1, 3, 6, 8]\n"
     ]
    }
   ],
   "source": [
    "def RightView(root):\n",
    "    if(root==None):\n",
    "        return []\n",
    "    re=[]\n",
    "    s=[root]\n",
    "    c=[]\n",
    "    f=1\n",
    "    while(f>0):\n",
    "        f=0\n",
    "        re.append(s[-1].data)\n",
    "        while(len(s)>0):\n",
    "            a=s.pop(0)\n",
    "            if(a.left!=None):\n",
    "                f=1\n",
    "                c.append(a.left)\n",
    "            if(a.right!=None):\n",
    "                f=1\n",
    "                c.append(a.right)\n",
    "        s,c=c,s\n",
    "    return re\n",
    "class Node:\n",
    "    def __init__(self, data=None, left=None, right=None):\n",
    "        self.data = data\n",
    "        self.left = left\n",
    "        self.right = right\n",
    " \n",
    " \n",
    "if __name__ == '__main__':\n",
    " \n",
    "    ''' Construct the following tree\n",
    "               1\n",
    "             /   \\\n",
    "            /     \\\n",
    "           2       3\n",
    "          /      /   \\\n",
    "         /      /     \\\n",
    "        4      5       6\n",
    "              / \\\n",
    "             /   \\\n",
    "            7     8\n",
    "    '''\n",
    " \n",
    "    root = Node(1)\n",
    "    root.left = Node(2)\n",
    "    root.right = Node(3)\n",
    "    root.left.left = Node(4)\n",
    "    root.right.left = Node(5)\n",
    "    root.right.right = Node(6)\n",
    "    root.right.left.left = Node(7)\n",
    "    root.right.left.right = Node(8)\n",
    " \n",
    "    print(RightView(root))"
   ]
  },
  {
   "cell_type": "markdown",
   "metadata": {},
   "source": [
    "# 170. Top View of a tree"
   ]
  },
  {
   "cell_type": "code",
   "execution_count": 33,
   "metadata": {},
   "outputs": [
    {
     "name": "stdout",
     "output_type": "stream",
     "text": [
      "[4, 2, 1, 3, 6]\n"
     ]
    }
   ],
   "source": [
    "def topView(root):\n",
    "    dic={}\n",
    "    s=[[root,0]]\n",
    "    while(len(s)>0):\n",
    "        a=s.pop(0)\n",
    "        h=a[-1]\n",
    "        node=a[0]\n",
    "        if(h not in dic.keys()):\n",
    "            dic[h]=node.data\n",
    "        if(node.left!=None):\n",
    "            s.append([node.left,h-1])\n",
    "        if(node.right!=None):\n",
    "            s.append([node.right,h+1])\n",
    "    mi=9999999\n",
    "    ma=-9999999\n",
    "    re=[]\n",
    "    for i in dic.keys():\n",
    "        mi=min(mi,i)\n",
    "        ma=max(ma,i)\n",
    "    for i in range(mi,ma+1):\n",
    "        if(dic.get(i,0)):\n",
    "            re.append(dic.get(i))\n",
    "\n",
    "    return re\n",
    "\n",
    "class Node:\n",
    "    def __init__(self, data=None, left=None, right=None):\n",
    "        self.data = data\n",
    "        self.left = left\n",
    "        self.right = right\n",
    " \n",
    " \n",
    "if __name__ == '__main__':\n",
    " \n",
    "    ''' Construct the following tree\n",
    "               1\n",
    "             /   \\\n",
    "            /     \\\n",
    "           2       3\n",
    "          /      /   \\\n",
    "         /      /     \\\n",
    "        4      5       6\n",
    "              / \\\n",
    "             /   \\\n",
    "            7     8\n",
    "    '''\n",
    " \n",
    "    root = Node(1)\n",
    "    root.left = Node(2)\n",
    "    root.right = Node(3)\n",
    "    root.left.left = Node(4)\n",
    "    root.right.left = Node(5)\n",
    "    root.right.right = Node(6)\n",
    "    root.right.left.left = Node(7)\n",
    "    root.right.left.right = Node(8)\n",
    " \n",
    "    print(topView(root))"
   ]
  },
  {
   "cell_type": "markdown",
   "metadata": {},
   "source": [
    "# 171. Bottom  View of the Tree"
   ]
  },
  {
   "cell_type": "code",
   "execution_count": 41,
   "metadata": {},
   "outputs": [
    {
     "name": "stdout",
     "output_type": "stream",
     "text": [
      "[4, 7, 5, 8, 6]\n"
     ]
    }
   ],
   "source": [
    "def bottomView(root):\n",
    "    dic={}\n",
    "    s=[[root,0]]\n",
    "    while(len(s)>0):\n",
    "        a=s.pop(0)\n",
    "        h=a[-1]\n",
    "        node=a[0]\n",
    "        dic[h]=node.data\n",
    "        if(node.left!=None):\n",
    "            s.append([node.left,h-1])\n",
    "        if(node.right!=None):\n",
    "            s.append([node.right,h+1])\n",
    "    mi=9999999\n",
    "    ma=-9999999\n",
    "    re=[]\n",
    "    for i in dic.keys():\n",
    "        mi=min(mi,i)\n",
    "        ma=max(ma,i)\n",
    "    for i in range(mi,ma+1):\n",
    "        if(dic.get(i,0)):\n",
    "            re.append(dic.get(i))\n",
    "\n",
    "    return re\n",
    "\n",
    "class Node:\n",
    "    def __init__(self, data=None, left=None, right=None):\n",
    "        self.data = data\n",
    "        self.left = left\n",
    "        self.right = right\n",
    " \n",
    " \n",
    "if __name__ == '__main__':\n",
    " \n",
    "    ''' Construct the following tree\n",
    "               1\n",
    "             /   \\\n",
    "            /     \\\n",
    "           2       3\n",
    "          /      /   \\\n",
    "         /      /     \\\n",
    "        4      5       6\n",
    "              / \\\n",
    "             /   \\\n",
    "            7     8\n",
    "    '''\n",
    " \n",
    "    root = Node(1)\n",
    "    root.left = Node(2)\n",
    "    root.right = Node(3)\n",
    "    root.left.left = Node(4)\n",
    "    root.right.left = Node(5)\n",
    "    root.right.right = Node(6)\n",
    "    root.right.left.left = Node(7)\n",
    "    root.right.left.right = Node(8)\n",
    " \n",
    "    print(bottomView(root))"
   ]
  },
  {
   "cell_type": "markdown",
   "metadata": {},
   "source": [
    "# 172. Zig-Zag traversal of a binary tree"
   ]
  },
  {
   "cell_type": "code",
   "execution_count": 44,
   "metadata": {},
   "outputs": [
    {
     "name": "stdout",
     "output_type": "stream",
     "text": [
      "[1, 3, 2, 4, 5, 6, 8, 7]\n"
     ]
    }
   ],
   "source": [
    "def zigZagTraversal(root):\n",
    "    re=[]\n",
    "    s=[root]\n",
    "    c=[]\n",
    "    f=1\n",
    "    flag=1\n",
    "    while(f>0):\n",
    "        f=0\n",
    "        while(len(s)>0):\n",
    "            a=s.pop(0)\n",
    "            re.append(a.data)\n",
    "            if(flag==1):\n",
    "                m=[]\n",
    "                if(a.right!=None):\n",
    "                    f=1\n",
    "                    m.append(a.right)\n",
    "                if(a.left!=None):\n",
    "                    f=1\n",
    "                    m.append(a.left)\n",
    "                c=m+c\n",
    "            else:\n",
    "                m=[]\n",
    "                if(a.left!=None):\n",
    "                    f=1\n",
    "                    m.append(a.left)\n",
    "                if(a.right!=None):\n",
    "                    f=1\n",
    "                    m.append(a.right)\n",
    "                c=m+c\n",
    "        if(flag):\n",
    "            flag=0\n",
    "        else:\n",
    "            flag=1\n",
    "        s,c=c,s\n",
    "    return re\n",
    "\n",
    "class Node:\n",
    "    def __init__(self, data=None, left=None, right=None):\n",
    "        self.data = data\n",
    "        self.left = left\n",
    "        self.right = right\n",
    " \n",
    " \n",
    "if __name__ == '__main__':\n",
    " \n",
    "    ''' Construct the following tree\n",
    "               1\n",
    "             /   \\\n",
    "            /     \\\n",
    "           2       3\n",
    "          /      /   \\\n",
    "         /      /     \\\n",
    "        4      5       6\n",
    "              / \\\n",
    "             /   \\\n",
    "            7     8\n",
    "    '''\n",
    " \n",
    "    root = Node(1)\n",
    "    root.left = Node(2)\n",
    "    root.right = Node(3)\n",
    "    root.left.left = Node(4)\n",
    "    root.right.left = Node(5)\n",
    "    root.right.right = Node(6)\n",
    "    root.right.left.left = Node(7)\n",
    "    root.right.left.right = Node(8)\n",
    " \n",
    "    print(zigZagTraversal(root))"
   ]
  },
  {
   "cell_type": "code",
   "execution_count": 45,
   "metadata": {},
   "outputs": [
    {
     "name": "stdout",
     "output_type": "stream",
     "text": [
      "[4, 7, 5, 8, 6]\n"
     ]
    }
   ],
   "source": []
  },
  {
   "cell_type": "code",
   "execution_count": null,
   "metadata": {},
   "outputs": [],
   "source": []
  }
 ],
 "metadata": {
  "kernelspec": {
   "display_name": "Python 3",
   "language": "python",
   "name": "python3"
  },
  "language_info": {
   "codemirror_mode": {
    "name": "ipython",
    "version": 3
   },
   "file_extension": ".py",
   "mimetype": "text/x-python",
   "name": "python",
   "nbconvert_exporter": "python",
   "pygments_lexer": "ipython3",
   "version": "3.7.11"
  }
 },
 "nbformat": 4,
 "nbformat_minor": 4
}
