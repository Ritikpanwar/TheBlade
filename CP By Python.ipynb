{
 "cells": [
  {
   "cell_type": "code",
   "execution_count": null,
   "metadata": {},
   "outputs": [],
   "source": [
    "name=\"banana\"\n",
    "k=10\n",
    "l=[]\n",
    "for i in range(len(name)):\n",
    "    for j in range(i,len(name)):\n",
    "        l.append(name[i:j+1])\n",
    "l=list(set(l))\n",
    "l.sort()\n",
    "l=\"\".join(l) \n",
    "l[k-1]"
   ]
  },
  {
   "cell_type": "code",
   "execution_count": null,
   "metadata": {},
   "outputs": [],
   "source": [
    "l=list(set(l))\n",
    "l.sort()\n",
    "l=\"\".join(l)\n",
    "l[k-1]"
   ]
  },
  {
   "cell_type": "code",
   "execution_count": null,
   "metadata": {},
   "outputs": [],
   "source": [
    "def knapsack(n,W,wt,val):\n",
    "    if(n==0 or W==0):\n",
    "        return 0\n",
    "    if(wt[n-1]>W):\n",
    "        return knapsack(n-1,W,wt,val)\n",
    "    else:\n",
    "        return max(val[n-1] + knapsack(n-1,W-wt[n-1],wt,val),knapsack(n-1,W,wt,val))\n",
    "n=int(input())\n",
    "wt=list(map(int,input().split(\" \")))\n",
    "val=list(map(int,input().split(\" \")))\n",
    "W=int(input())\n",
    "profit=knapsack(n,W,wt,val)\n",
    "print(profit)"
   ]
  },
  {
   "cell_type": "code",
   "execution_count": null,
   "metadata": {},
   "outputs": [],
   "source": [
    "profit\n"
   ]
  },
  {
   "cell_type": "markdown",
   "metadata": {},
   "source": [
    "# 1.Reverse an array\n"
   ]
  },
  {
   "cell_type": "code",
   "execution_count": 2,
   "metadata": {},
   "outputs": [
    {
     "name": "stdout",
     "output_type": "stream",
     "text": [
      "1 2 3 4 5 6\n",
      "6,5,4,3,2,1\n",
      "3\n"
     ]
    }
   ],
   "source": [
    "arr=list(map(int,input().strip().split()))\n",
    "s=0\n",
    "e=len(arr)-1\n",
    "c=0\n",
    "while(s<e):\n",
    "    c+=1\n",
    "    #arr[s],arr[e]=arr[e],arr[s]\n",
    "    arr[s]=arr[s]+arr[e] #a=a+b\n",
    "    arr[e]=arr[s]-arr[e]\n",
    "    arr[s]=arr[s]-arr[e]\n",
    "    s+=1\n",
    "    e-=1\n",
    "print(\",\".join(map(str,arr)))\n",
    "print(c)"
   ]
  },
  {
   "cell_type": "markdown",
   "metadata": {},
   "source": [
    "# 2.Find the maximum and minimum element in an array\n"
   ]
  },
  {
   "cell_type": "markdown",
   "metadata": {},
   "source": [
    "# 1. By linear search"
   ]
  },
  {
   "cell_type": "code",
   "execution_count": null,
   "metadata": {},
   "outputs": [],
   "source": [
    "def linearminmax(arr,n):\n",
    "    mini=arr[0]\n",
    "    maxi=arr[0]\n",
    "    for i in range(1,n):\n",
    "        if(arr[i]>maxi):\n",
    "            maxi=arr[i]\n",
    "        elif(arr[i]<mini):\n",
    "            mini=arr[i]\n",
    "    return [mini,maxi]\n",
    "    \n",
    "\n",
    "arr=[1,72,4,2,83,38,29,84,27,472,74,37,73]\n",
    "mini,maxi=linearminmax(arr,len(arr))\n",
    "print(mini,maxi)"
   ]
  },
  {
   "cell_type": "markdown",
   "metadata": {},
   "source": [
    "# 2.divide array in two parts"
   ]
  },
  {
   "cell_type": "code",
   "execution_count": null,
   "metadata": {},
   "outputs": [],
   "source": [
    "import sys\n",
    "def minmaxdivide(arr,low,high):\n",
    "    mini=-sys.maxsize-1\n",
    "    maxi=sys.maxsize\n",
    "    if(low==high):\n",
    "        mini=arr[low]\n",
    "        maxi=arr[high]\n",
    "        return [mini,maxi]\n",
    "    else:\n",
    "        mid=(low+high)//2\n",
    "        mini,maxi=minmaxdivide(arr,low,mid)\n",
    "        mini1,maxi1=minmaxdivide(arr,mid+1,high)\n",
    "        if(mini>mini1):\n",
    "            mini=mini1\n",
    "        if(maxi1>maxi):\n",
    "            maxi=maxi1\n",
    "        return [mini,maxi]\n",
    "arr=[1,72,4,2,83,38,29,84,27,472,74,37,73]\n",
    "mini,maxi=bytwosteps(arr,len(arr))\n",
    "print(mini,maxi)       "
   ]
  },
  {
   "cell_type": "markdown",
   "metadata": {},
   "source": [
    "# 3. By two steps"
   ]
  },
  {
   "cell_type": "code",
   "execution_count": null,
   "metadata": {},
   "outputs": [],
   "source": [
    "def bytwosteps(arr,n):\n",
    "    if(n%2==1):\n",
    "        maxi=arr[0]\n",
    "        mini=arr[0]\n",
    "        i=1\n",
    "    if(n%2==0):\n",
    "        if(arr[0]>=arr[1]):\n",
    "            mini=arr[1]\n",
    "            maxi=arr[0]\n",
    "        else:\n",
    "            mini=arr[0]\n",
    "            maxi=arr[1]\n",
    "        i=2\n",
    "    while(i<n-1):\n",
    "        if(arr[i]<arr[i+1]):\n",
    "            if(arr[i+1]>maxi):\n",
    "                maxi=arr[i+1]\n",
    "            if(arr[i]<mini):\n",
    "                mini=arr[i]\n",
    "        else:\n",
    "            if(arr[i]>maxi):\n",
    "                maxi=arr[i]\n",
    "            if(arr[i+1]<mini):\n",
    "                mini=arr[i+1]\n",
    "        i+=2\n",
    "    return [mini,maxi]\n",
    "                \n",
    "    \n",
    "arr=[1,72,4,2,83,38,29,84,27,472,74,37,73]\n",
    "mini,maxi=bytwosteps(arr,len(arr))\n",
    "print(mini,maxi)"
   ]
  },
  {
   "cell_type": "code",
   "execution_count": null,
   "metadata": {},
   "outputs": [],
   "source": [
    "import sys\n",
    "print(-sys.maxsize-1)"
   ]
  },
  {
   "cell_type": "code",
   "execution_count": null,
   "metadata": {},
   "outputs": [],
   "source": [
    "a=5\n",
    "b=16\n",
    "a=a+b\n",
    "b=a-b\n",
    "a=a-b"
   ]
  },
  {
   "cell_type": "code",
   "execution_count": null,
   "metadata": {},
   "outputs": [],
   "source": [
    "a,b"
   ]
  },
  {
   "cell_type": "markdown",
   "metadata": {},
   "source": [
    "# 3.Find the \"Kth\" max and min element of an array "
   ]
  },
  {
   "cell_type": "code",
   "execution_count": null,
   "metadata": {},
   "outputs": [],
   "source": [
    "import random\n",
    "def klargest(arr,k):\n",
    "    pivot=random.choice(arr)\n",
    "    left=[i for i in arr if i>pivot]\n",
    "    mid=[i for i in arr if i==pivot]\n",
    "    right=[i for i in arr if i<pivot]\n",
    "    print(left,mid,right)\n",
    "    l,m=len(left),len(mid)\n",
    "    if(k<=l):\n",
    "        return klargest(left,k)\n",
    "    elif(k>(l+m)):\n",
    "        return klargest(right,k-(l+m))\n",
    "    else:\n",
    "        a=mid[0]\n",
    "        return a\n",
    "    \n",
    "arr=[1,72,4,2,83,38,29,84,27,472,74,37,83]\n",
    "print(klargest(arr,3))"
   ]
  },
  {
   "cell_type": "code",
   "execution_count": null,
   "metadata": {},
   "outputs": [],
   "source": [
    "a=random.choice([1,2,3,5])\n",
    "print(a)"
   ]
  },
  {
   "cell_type": "code",
   "execution_count": 1,
   "metadata": {},
   "outputs": [
    {
     "name": "stdout",
     "output_type": "stream",
     "text": [
      "83\n"
     ]
    }
   ],
   "source": [
    "def klargest(arr,k):\n",
    "    #a=sorted(arr)\n",
    "    arr.sort()\n",
    "    return arr[len(arr)-k]\n",
    "arr=[1,72,4,2,83,38,29,84,27,472,74,37,83]\n",
    "print(klargest(arr,3))"
   ]
  },
  {
   "cell_type": "code",
   "execution_count": 22,
   "metadata": {},
   "outputs": [
    {
     "name": "stdout",
     "output_type": "stream",
     "text": [
      "7\n"
     ]
    }
   ],
   "source": [
    "from heapq import *\n",
    "arr=[7,10,4,3,20,15]\n",
    "k=3\n",
    "r=len(arr)-1\n",
    "minheap=[]\n",
    "for i in range(k):\n",
    "    heappush(minheap,-arr[i])\n",
    "\n",
    "for i in range(k,r+1):\n",
    "    if(minheap[0]<-arr[i]):\n",
    "        heappop(minheap)\n",
    "        heappush(minheap,-arr[i])\n",
    "print(-minheap[0])\n"
   ]
  },
  {
   "cell_type": "markdown",
   "metadata": {},
   "source": [
    "\n",
    "\n",
    "# 4.Given an array which consists of only 0, 1 and 2. Sort the array without using any sorting algo"
   ]
  },
  {
   "cell_type": "code",
   "execution_count": null,
   "metadata": {},
   "outputs": [],
   "source": [
    "def sort012(arr):\n",
    "    c0=0\n",
    "    c1=0\n",
    "    c2=0\n",
    "    for i in arr:\n",
    "        if(i==0):\n",
    "            c0+=1\n",
    "        elif(i==1):\n",
    "            c1+=1\n",
    "        else:\n",
    "            c2+=1\n",
    "    i=0\n",
    "    while(c0>0):\n",
    "        arr[i]=0\n",
    "        c0-=1\n",
    "        i+=1\n",
    "    while(c1>0):\n",
    "        arr[i]=1\n",
    "        c1-=1\n",
    "        i+=1\n",
    "    while(c2>0):\n",
    "        arr[i]=2\n",
    "        c2-=1\n",
    "        i+=1\n",
    "    return arr\n",
    "    \n",
    "arr=[1,2,0,2,0,0,1,2,0,1]\n",
    "print(sort012(arr))"
   ]
  },
  {
   "cell_type": "code",
   "execution_count": null,
   "metadata": {},
   "outputs": [],
   "source": [
    "def sort012(arr):\n",
    "    low=0\n",
    "    mid=0\n",
    "    high=len(arr)-1\n",
    "    while(mid<=high):\n",
    "        if(arr[mid]==0):\n",
    "            arr[low],arr[mid]=arr[mid],arr[low]\n",
    "            low+=1\n",
    "            mid+=1\n",
    "        elif(arr[mid]==1):\n",
    "            mid+=1\n",
    "        else:\n",
    "            arr[high],arr[mid]=arr[mid],arr[high]\n",
    "            high-=1\n",
    "        print(arr)\n",
    "    return arr\n",
    "arr=[1,2,0,2,0,0,1,2,0,1]\n",
    "print(sort012(arr))    "
   ]
  },
  {
   "cell_type": "markdown",
   "metadata": {},
   "source": [
    "# 5.Move all the negative elements to one side of the array "
   ]
  },
  {
   "cell_type": "code",
   "execution_count": null,
   "metadata": {},
   "outputs": [],
   "source": [
    "# 1. By transversing element one by one and j points in all itration forst positive"
   ]
  },
  {
   "cell_type": "code",
   "execution_count": null,
   "metadata": {},
   "outputs": [],
   "source": [
    "def shift(arr):\n",
    "    j=0\n",
    "    for i in range(len(arr)):\n",
    "        if(arr[i]<0):\n",
    "            arr[i],arr[j]=arr[j],arr[i]\n",
    "            j+=1\n",
    "    return arr\n",
    "a=[1,-3,4,6,5,-8,-47]\n",
    "print(shift(a))\n",
    "        "
   ]
  },
  {
   "cell_type": "markdown",
   "metadata": {},
   "source": [
    "# 2. By double pointer start and end"
   ]
  },
  {
   "cell_type": "code",
   "execution_count": null,
   "metadata": {},
   "outputs": [],
   "source": [
    "def shift(arr):\n",
    "    s=0\n",
    "    e=len(arr)-1\n",
    "    while(s<e):\n",
    "        if(arr[s]<0 and arr[e]<0):\n",
    "            s+=1\n",
    "        elif(arr[s]>0 and arr[e]<0):\n",
    "            arr[s],arr[e]=arr[e],arr[s]\n",
    "            s+=1\n",
    "            e-=1\n",
    "        elif(arr[s]>0 and arr[e]>0):\n",
    "            e-=1\n",
    "        else:\n",
    "            s+=1\n",
    "            e-=1\n",
    "    return arr\n",
    "a=[1,-3,4,6,5,-8,-47]\n",
    "print(shift(a))"
   ]
  },
  {
   "cell_type": "markdown",
   "metadata": {},
   "source": [
    "# 6.Find the Union and Intersection of the two sorted arrays."
   ]
  },
  {
   "cell_type": "code",
   "execution_count": null,
   "metadata": {},
   "outputs": [],
   "source": [
    "1. For sorted arrry"
   ]
  },
  {
   "cell_type": "code",
   "execution_count": null,
   "metadata": {},
   "outputs": [],
   "source": [
    "def union(arr1,arr2):\n",
    "    i=0\n",
    "    j=0\n",
    "    while(i<len(arr1) and j<len(arr2)):\n",
    "        if(arr1[i]<arr2[j]):\n",
    "            print(arr1[i],end=\" \")\n",
    "            i+=1\n",
    "        elif(arr1[i]>arr2[j]):\n",
    "            print(arr2[j],end=\" \")\n",
    "            j+=1\n",
    "        elif(arr1[i]==arr2[j]):\n",
    "            print(arr1[i],end=\" \")\n",
    "            i+=1\n",
    "            j+=1\n",
    "    while(i<len(arr1)):\n",
    "        print(arr1[i],end=\" \")\n",
    "        i+=1\n",
    "    while(j<len(arr2)):\n",
    "        print(arr2[j])\n",
    "        j+=1\n",
    "def intersection(arr1,arr2):\n",
    "    i=0\n",
    "    j=0\n",
    "    while(i<len(arr1) and j<len(arr2)):\n",
    "        if(arr1[i]<arr2[j]):\n",
    "            i+=1\n",
    "        elif(arr1[i]>arr2[j]):\n",
    "            j+=1\n",
    "        elif(arr1[i]==arr2[j]):\n",
    "            print(arr1[i],end=\" \")\n",
    "            i+=1\n",
    "            j+=1\n",
    "arr1=[3,4,5,8,73,82]\n",
    "arr2=[3,5,7,68,73,84]\n",
    "union(arr1,arr2)\n",
    "intersection(arr1,arr2)"
   ]
  },
  {
   "cell_type": "code",
   "execution_count": null,
   "metadata": {},
   "outputs": [],
   "source": [
    "def binarysearch(arr,low,high,key):\n",
    "    if(low<=high):\n",
    "        mid=(low+high)//2\n",
    "        if(arr[mid]==key):\n",
    "            return 1\n",
    "        elif(arr[mid]<key):\n",
    "            return binarysearch(arr,mid+1,high,key)\n",
    "        elif(arr[mid]>key):\n",
    "            return binarysearch(arr,low,mid-1,key)\n",
    "    return -1\n",
    "        \n",
    "def union(arr1,arr2):\n",
    "    if(len(arr1)>len(arr2)):\n",
    "        temp=arr1\n",
    "        arr1=arr2\n",
    "        arr2=temp\n",
    "    m,n=len(arr1),(arr2)\n",
    "    arr1.sort()\n",
    "    for i in arr1:\n",
    "        print(i,end=\" \")\n",
    "    for i in arr2:\n",
    "        if(binarysearch(arr1,0,m-1,i)==-1):\n",
    "            print(i,end=' ')\n",
    "        \n",
    "def intersection(arr1,arr2):\n",
    "    if(len(arr1)>len(arr2)):\n",
    "        temp=arr1\n",
    "        arr1=arr2\n",
    "        arr2=temp\n",
    "    m,n=len(arr1),(arr2)\n",
    "    arr1.sort()\n",
    "\n",
    "    for i in arr2:\n",
    "        if(binarysearch(arr1,0,m-1,i)==1):\n",
    "            print(i,end=' ')\n",
    "arr1=[3,4,5,8,73,82]\n",
    "arr2=[3,5,7,68,73,84]\n",
    "union(arr1,arr2)\n",
    "print()\n",
    "intersection(arr1,arr2)"
   ]
  },
  {
   "cell_type": "code",
   "execution_count": null,
   "metadata": {},
   "outputs": [],
   "source": [
    "def binarysearch(arr,low,high,key):\n",
    "    if(low<=high):\n",
    "        mid=(low+high)//2\n",
    "        print(low,mid,high)\n",
    "        if(arr[mid]==key):\n",
    "            return mid\n",
    "        elif(arr[mid]<key):\n",
    "            return binarysearch(arr,mid+1,high,key)\n",
    "        elif(arr[mid]>key):\n",
    "            return binarysearch(arr,low,mid-1,key)\n",
    "    return -1\n",
    "arr1=[3,4,5,8,73,82]\n",
    "print(binarysearch(arr1,0,len(arr1)-1,8))\n"
   ]
  },
  {
   "cell_type": "markdown",
   "metadata": {},
   "source": [
    "# 7. Write a program to cyclically rotate an array by one."
   ]
  },
  {
   "cell_type": "markdown",
   "metadata": {},
   "source": [
    "# 1. By storing last element in x.\n"
   ]
  },
  {
   "cell_type": "code",
   "execution_count": null,
   "metadata": {
    "scrolled": true
   },
   "outputs": [],
   "source": [
    "def rotatearrright(arr):\n",
    "    x=arr[len(arr)-1]\n",
    "    for i in range(len(arr)-1,0,-1):\n",
    "        arr[i]=arr[i-1]\n",
    "    arr[0]=x\n",
    "    return arr\n",
    "arr=[12,3,4,5,6,3,4]\n",
    "print(rotatearrright(arr))"
   ]
  },
  {
   "cell_type": "code",
   "execution_count": null,
   "metadata": {},
   "outputs": [],
   "source": [
    "def rotatearrleft(arr):\n",
    "    x=arr[0]\n",
    "    for i in range(0,len(arr)-1):\n",
    "        arr[i]=arr[i+1]\n",
    "    arr[len(arr)-1]=x\n",
    "    return arr\n",
    "arr=[12,3,4,5,6,3,4]\n",
    "print(rotatearrleft(arr))"
   ]
  },
  {
   "cell_type": "markdown",
   "metadata": {},
   "source": [
    "# 2. by swaping"
   ]
  },
  {
   "cell_type": "code",
   "execution_count": null,
   "metadata": {},
   "outputs": [],
   "source": [
    "def rotateright(arr):\n",
    "    j=len(arr)-1\n",
    "    i=0\n",
    "    while(i!=j):\n",
    "        arr[i],arr[j]=arr[j],arr[i]\n",
    "        i+=1    \n",
    "    return arr\n",
    "arr=[12,3,4,5,6,3,4]\n",
    "print(rotate(arr))"
   ]
  },
  {
   "cell_type": "code",
   "execution_count": null,
   "metadata": {},
   "outputs": [],
   "source": [
    "def rotateleft(arr):\n",
    "    j=len(arr)-1\n",
    "    i=0\n",
    "    while(i!=j):\n",
    "        arr[i],arr[j]=arr[j],arr[i]\n",
    "        j-=1    \n",
    "    return arr\n",
    "arr=[12,3,4,5,6,3,4]\n",
    "print(rotateleft(arr))"
   ]
  },
  {
   "cell_type": "markdown",
   "metadata": {},
   "source": [
    "# 8. find Largest sum contiguous Subarray [V. IMP]"
   ]
  },
  {
   "cell_type": "markdown",
   "metadata": {},
   "source": [
    "# 1. Brute force"
   ]
  },
  {
   "cell_type": "code",
   "execution_count": null,
   "metadata": {},
   "outputs": [],
   "source": [
    "import math\n",
    "def SumContiguousSubarray(a):\n",
    "    maxsum=-math.inf\n",
    "    for i in range(len(a)):\n",
    "        curr=0\n",
    "        for j in range(i,len(a)):\n",
    "            curr=curr+a[j]\n",
    "            if(maxsum<curr):\n",
    "                maxsum=curr\n",
    "    return maxsum      \n",
    "a=[1,-2,8,-7,-3,4,6,2,8]\n",
    "print(SumContiguousSubarray(a))"
   ]
  },
  {
   "cell_type": "markdown",
   "metadata": {},
   "source": [
    "# 2.kadane"
   ]
  },
  {
   "cell_type": "code",
   "execution_count": null,
   "metadata": {},
   "outputs": [],
   "source": [
    "def SumContiguousSubarray(a):\n",
    "    maxsum=-math.inf\n",
    "    curr=0\n",
    "    for i in range(len(a)):\n",
    "        curr+=a[i]\n",
    "        if(curr>maxsum):\n",
    "            maxsum=curr\n",
    "        if(curr<0):\n",
    "            curr=0\n",
    "    return maxsum      \n",
    "a=[1,-2,8,-7,-3,4,6,2,8]\n",
    "print(SumContiguousSubarray(a))"
   ]
  },
  {
   "cell_type": "markdown",
   "metadata": {},
   "source": [
    "# 9.Minimise the maximum difference between heights [V.IMP]"
   ]
  },
  {
   "cell_type": "code",
   "execution_count": null,
   "metadata": {},
   "outputs": [],
   "source": [
    "def getMinDiff(arr, n, k):\n",
    "        arr.sort()\n",
    "        minele=0\n",
    "        maxele=0\n",
    "        ans=arr[-1]-arr[0]\n",
    "        for i in range(1,n):\n",
    "            if(arr[i]>=k):\n",
    "                minele=min(arr[0]+k,arr[i]-k)\n",
    "                maxele=max(arr[-1]-k,arr[i-1]+k)\n",
    "                ans=min(ans,maxele-minele)\n",
    "        return ans"
   ]
  },
  {
   "cell_type": "markdown",
   "metadata": {},
   "source": [
    "# 10.Minimum no. of Jumps to reach end of an array"
   ]
  },
  {
   "cell_type": "code",
   "execution_count": null,
   "metadata": {},
   "outputs": [],
   "source": [
    "import math\n",
    "def minJumps(arr, n):\n",
    "    c=[math.inf]*n\n",
    "    c[0]=0\n",
    "    for j in range(1,n):\n",
    "        for i in range(j):\n",
    "            if(j<=(i+arr[i])):\n",
    "                c[j]=min(c[i]+1,c[j])\n",
    "        \n",
    "    return c[-1]\n",
    "n=int(input())\n",
    "arr=list(map(int,input().strip().split()))\n",
    "print(minJumps(arr,n))"
   ]
  },
  {
   "cell_type": "markdown",
   "metadata": {},
   "source": [
    "# 11.find duplicate in an array of N+1 Integers"
   ]
  },
  {
   "cell_type": "code",
   "execution_count": null,
   "metadata": {},
   "outputs": [],
   "source": [
    "# Using set or list\n",
    "def dublicate(a):\n",
    "    l=[]\n",
    "    for i in a:\n",
    "        if(i in l):\n",
    "            return i\n",
    "        else:\n",
    "            l.append(i)\n",
    "a=[1,2,3,7,3,8,5,9,0]\n",
    "print(dublicate(a))"
   ]
  },
  {
   "cell_type": "code",
   "execution_count": null,
   "metadata": {
    "scrolled": true
   },
   "outputs": [],
   "source": [
    "# using index negative\n",
    "def dublicate(a):\n",
    "    for i in a:\n",
    "        curr=abs(i)\n",
    "        if(a[curr]<0):\n",
    "            return abs(curr)\n",
    "        else:\n",
    "            a[curr]=-a[curr]\n",
    "a=[1,2,3,7,2,8,5,4,0]\n",
    "print(dublicate(a))"
   ]
  },
  {
   "cell_type": "markdown",
   "metadata": {},
   "source": [
    "# 12. Merge two sorted array without using extra space"
   ]
  },
  {
   "cell_type": "code",
   "execution_count": null,
   "metadata": {},
   "outputs": [],
   "source": [
    "def merge(arr1,arr2):\n",
    "    n=len(arr1)\n",
    "    m=len(arr2)\n",
    "    i=n-1\n",
    "    j=0\n",
    "    while(i>=0 and j<m):\n",
    "        if(arr1[i]>arr2[j]):\n",
    "            arr1[i],arr2[j]=arr2[j],arr1[i]\n",
    "        i-=1\n",
    "        j+=1\n",
    "    arr1.sort()\n",
    "    arr2.sort()\n",
    "    return arr1,arr2\n",
    "arr1=[1,3,4,7,36,46]\n",
    "arr2=[2,3,7,8,9]\n",
    "print(merge(arr1,arr2))\n",
    "\n",
    "    "
   ]
  },
  {
   "cell_type": "markdown",
   "metadata": {},
   "source": [
    "# 13. Kadane\n"
   ]
  },
  {
   "cell_type": "code",
   "execution_count": null,
   "metadata": {},
   "outputs": [],
   "source": [
    "import math\n",
    "def SumContiguousSubarray(a):\n",
    "    maxsum=-math.inf \n",
    "    curr=0\n",
    "    for i in a:\n",
    "        curr+=i\n",
    "        if(curr>maxsum):\n",
    "            maxsum=curr\n",
    "\n",
    "        if(curr<0):\n",
    "            curr=0\n",
    "    return maxsum\n",
    "        \n",
    "a=[1,-2,10,-7,-3,4,6,2,8]\n",
    "print(SumContiguousSubarray(a))"
   ]
  },
  {
   "cell_type": "markdown",
   "metadata": {},
   "source": [
    "# 14.Merge Intervals\n"
   ]
  },
  {
   "cell_type": "code",
   "execution_count": null,
   "metadata": {},
   "outputs": [],
   "source": [
    "def merge(intervals):\n",
    "    intervals.sort(key= lambda x: x[0])\n",
    "    res=[intervals[0]]\n",
    "    for i in range(1,len(intervals)):\n",
    "        if(res[-1][1]<intervals[i][0]):\n",
    "            res.append(intervals[i])\n",
    "        elif(res[-1][1]<intervals[i][1]):\n",
    "            res[-1][1]=intervals[i][1]\n",
    "    return res\n",
    "a=[[1,3],[2,6],[8,10],[15,18]]\n",
    "print(merge(a))\n",
    "    \n",
    "        "
   ]
  },
  {
   "cell_type": "markdown",
   "metadata": {},
   "source": [
    "# 15.next permution"
   ]
  },
  {
   "cell_type": "code",
   "execution_count": null,
   "metadata": {},
   "outputs": [],
   "source": [
    "def reverse(arr,s):\n",
    "    e=len(arr)-1\n",
    "    while(s<e):\n",
    "        #arr[s],arr[e]=arr[e],arr[s]\n",
    "        arr[s]=arr[s]+arr[e] #a=a+b\n",
    "        arr[e]=arr[s]-arr[e]\n",
    "        arr[s]=arr[s]-arr[e]\n",
    "        s+=1\n",
    "        e-=1\n",
    "    return arr\n",
    "def nextPermutation(num):\n",
    "    i=len(num)-2\n",
    "    while(i>=0 and num[i]>=num[i+1]):\n",
    "        i-=1\n",
    "    print(num[i])\n",
    "    if(i>=0):\n",
    "        j=len(num)-1\n",
    "        while(j>=0 and num[j]<=num[i]):\n",
    "            j-=1\n",
    "        print(num[j])\n",
    "        num[i],num[j]=num[j],num[i]\n",
    "    return reverse(num,i+1)\n",
    "arr=[1,2,3]\n",
    "print(nextPermutation(arr))"
   ]
  },
  {
   "cell_type": "markdown",
   "metadata": {},
   "source": [
    "# 16.Count Inversion"
   ]
  },
  {
   "cell_type": "code",
   "execution_count": null,
   "metadata": {},
   "outputs": [],
   "source": [
    "# By merge sort we count inversion"
   ]
  },
  {
   "cell_type": "code",
   "execution_count": null,
   "metadata": {},
   "outputs": [],
   "source": [
    "\n",
    "def merge(arr, l, m, r):\n",
    "    inversion=0\n",
    "    n1 = m - l + 1\n",
    "    n2 = r- m\n",
    "\n",
    "    # create temp arrays\n",
    "    L = [0] * (n1)\n",
    "    R = [0] * (n2)\n",
    "    for i in range(0 , n1):\n",
    "        L[i] = arr[l + i]\n",
    "\n",
    "    for j in range(0 , n2):\n",
    "        R[j] = arr[m + 1 + j]\n",
    "\n",
    "    i = 0  # Initial index of first subarray\n",
    "    j = 0 # Initial index of second subarray\n",
    "    k = l # Initial index of merged subarray\n",
    "\n",
    "    while i < n1 and j < n2 :\n",
    "        if L[i] <= R[j]:\n",
    "            arr[k] = L[i]\n",
    "            i += 1\n",
    "        else:\n",
    "            inversion+=(n1-i)\n",
    "            arr[k] = R[j]\n",
    "            j += 1\n",
    "        k += 1\n",
    "    while i < n1:\n",
    "        arr[k] = L[i]\n",
    "        i += 1\n",
    "        k += 1\n",
    "    while j < n2:\n",
    "        arr[k] = R[j]\n",
    "        j += 1\n",
    "        k += 1\n",
    "    return inversion\n",
    "\n",
    "# l is for left index and r is right index of the\n",
    "# sub-array of arr to be sorted\n",
    "def mergeSort(arr,l,r):\n",
    "    inv_count=0\n",
    "    if l < r:\n",
    "        \n",
    "        m = (l+r)//2\n",
    "\n",
    "        # Sort first and second halves\n",
    "        inv_count+=mergeSort(arr, l, m)\n",
    "        inv_count+=mergeSort(arr, m+1, r)\n",
    "        inv_count+=merge(arr, l, m, r)\n",
    "    return inv_count\n",
    "\n",
    "# Driver code to test above\n",
    "arr = [12, 11, 13, 5, 6, 7]\n",
    "n = len(arr)\n",
    "print(mergeSort(arr,0,n-1))\n",
    "\n"
   ]
  },
  {
   "cell_type": "code",
   "execution_count": null,
   "metadata": {},
   "outputs": [],
   "source": [
    "# next permution"
   ]
  },
  {
   "cell_type": "code",
   "execution_count": null,
   "metadata": {},
   "outputs": [],
   "source": [
    "def reverse(arr,s):\n",
    "    e=len(arr)-1\n",
    "    while(s<e):\n",
    "        #arr[s],arr[e]=arr[e],arr[s]\n",
    "        arr[s]=arr[s]+arr[e] #a=a+b\n",
    "        arr[e]=arr[s]-arr[e]\n",
    "        arr[s]=arr[s]-arr[e]\n",
    "        s+=1\n",
    "        e-=1\n",
    "    return arr\n",
    "def nextPermutation(num):\n",
    "    i=len(num)-2\n",
    "    while(i>=0 and num[i]>=num[i+1]):\n",
    "        i-=1\n",
    "    print(num[i])\n",
    "    if(i>=0):\n",
    "        j=len(num)-1\n",
    "        while(j>=0 and num[j]<=num[i]):\n",
    "            j-=1\n",
    "        print(num[j])\n",
    "        num[i],num[j]=num[j],num[i]\n",
    "    return reverse(num,i+1)\n",
    "arr=[1,2,3]\n",
    "print(nextPermutation(arr))"
   ]
  },
  {
   "cell_type": "markdown",
   "metadata": {},
   "source": [
    "# 17.Best time to buy and Sell stock"
   ]
  },
  {
   "cell_type": "code",
   "execution_count": null,
   "metadata": {},
   "outputs": [],
   "source": [
    "prices=[7,1,5,3,6,4]\n",
    "maxprofit=0\n",
    "mini=prices[0]\n",
    "for i in range(1,len(prices)):\n",
    "    if(prices[i]>prices[i-1]):\n",
    "        maxprofit=max(maxprofit,prices[i]-mini)\n",
    "    else:\n",
    "        mini=min(mini,prices[i])\n",
    "print(maxprofit)"
   ]
  },
  {
   "cell_type": "code",
   "execution_count": null,
   "metadata": {},
   "outputs": [],
   "source": [
    "# 2.By sliding window"
   ]
  },
  {
   "cell_type": "code",
   "execution_count": null,
   "metadata": {
    "scrolled": true
   },
   "outputs": [],
   "source": [
    "prices=[7,1,5,3,6,4]\n",
    "i=0\n",
    "j=1\n",
    "maxprofit=0\n",
    "while(j<len(prices)):\n",
    "    if(prices[i]>prices[j]):\n",
    "        i=j\n",
    "    else:\n",
    "        maxprofit=max(maxprofit,prices[j]-prices[i])\n",
    "    j+=1   \n",
    "print(maxprofit)"
   ]
  },
  {
   "cell_type": "markdown",
   "metadata": {},
   "source": [
    "# 18. find all pairs on integer array whose sum is equal to given number"
   ]
  },
  {
   "cell_type": "code",
   "execution_count": null,
   "metadata": {},
   "outputs": [],
   "source": [
    "\n",
    "def countpair(arr, n, k):\n",
    "    m=dict()\n",
    "    for i in range(n):\n",
    "        if(arr[i] in m.keys()):\n",
    "            m[arr[i]]+=1\n",
    "        else:\n",
    "            m[arr[i]]=1\n",
    "    t_count=0\n",
    "    for i in range(n):\n",
    "        if(k-arr[i]>0):\n",
    "            if(k-arr[i] in m.keys()):\n",
    "                t_count+=m[k-arr[i]]\n",
    "        if(k-arr[i]==arr[i]):\n",
    "            t_count-=1\n",
    "\n",
    "    return t_count//2\n",
    "arr = list(map(int,\"48 24 99 51 33 39 29 83 74 72 22 46 40 51 67 37 78 76 26 28 76 25 10 65 64 47 34 88 26 49 86 73 73 36 75 5 26 4 39 99 27 12 97 67 63 15 3 92 90\".split()))\n",
    "k=50\n",
    "print(countpair(arr,len(arr),k))"
   ]
  },
  {
   "cell_type": "markdown",
   "metadata": {},
   "source": [
    "# 19. find common elements In 3 sorted arrays"
   ]
  },
  {
   "cell_type": "code",
   "execution_count": null,
   "metadata": {},
   "outputs": [],
   "source": [
    "def commonElements (A, B, C, n1, n2, n3):\n",
    "        i=0\n",
    "        j=0\n",
    "        l=[]\n",
    "        while(i<n1 and j<n2):\n",
    "            if(A[i]>B[j]):\n",
    "                j+=1\n",
    "            elif(A[i]<B[j]):\n",
    "                i+=1\n",
    "            else:\n",
    "                l.append(A[i])\n",
    "                i+=1\n",
    "                j+=1\n",
    "        i=0\n",
    "        j=0\n",
    "        A=[]\n",
    "        while(i<len(l) and j<n3):\n",
    "            if(l[i]>C[j]):\n",
    "                j+=1\n",
    "            elif(l[i]<C[j]):\n",
    "                i+=1\n",
    "            else:\n",
    "                A.append(l[i])\n",
    "                print(A)\n",
    "                i+=1\n",
    "                j+=1\n",
    "        return list(set(A))\n",
    "\n",
    "A=[1,5,10,20,40,80]\n",
    "B=[6,7,20,80,100]\n",
    "C=[3,4,15,20,30,70,80,120]\n",
    "print(commonElements (A, B, C,len(A),len(B),len(C)))"
   ]
  },
  {
   "cell_type": "code",
   "execution_count": null,
   "metadata": {},
   "outputs": [],
   "source": [
    "set([20,80])"
   ]
  },
  {
   "cell_type": "code",
   "execution_count": null,
   "metadata": {},
   "outputs": [],
   "source": [
    "set([20,45,45,54,73,84,92,363])"
   ]
  },
  {
   "cell_type": "markdown",
   "metadata": {},
   "source": [
    "# 20. Rearrange the array in alternating positive and negative items with O(1) extra space"
   ]
  },
  {
   "cell_type": "code",
   "execution_count": null,
   "metadata": {},
   "outputs": [],
   "source": [
    "def rearrange(arr,n):\n",
    "    arr.sort()\n",
    "    print(arr)\n",
    "    j=0\n",
    "    i=1\n",
    "    while(j<n):\n",
    "        if(arr[j]>=0):\n",
    "            break\n",
    "        j+=1\n",
    "    while(arr[i]<0 and j<n):\n",
    "        arr[i],arr[j]=arr[j],arr[i]\n",
    "        i+=2\n",
    "        j+=1\n",
    "    return arr\n",
    "            \n",
    "arr = [-5, -2, 5, -3, 4, -7, -1, 8, 0, -8]\n",
    "ans = rearrange(arr, len(arr))\n",
    "for num in ans:\n",
    "    print(num, end = \" \")"
   ]
  },
  {
   "cell_type": "markdown",
   "metadata": {},
   "source": [
    "# 21.Find if there is any subarray with sum equal to 0"
   ]
  },
  {
   "cell_type": "code",
   "execution_count": null,
   "metadata": {},
   "outputs": [],
   "source": [
    "def subArrayExists(arr,n):\n",
    "        n_sum=0\n",
    "        s=set()\n",
    "        for i in range(n):\n",
    "            n_sum+=arr[i]\n",
    "            if(n_sum==0 or n_sum in s):\n",
    "                return True\n",
    "            s.add(n_sum)\n",
    "        return False\n",
    "arr=[4, 2, -3, 1, 6]\n",
    "print(\"yes\" if(subArrayExists(arr,len(arr))==True) else \"No\")"
   ]
  },
  {
   "cell_type": "markdown",
   "metadata": {},
   "source": [
    "# 22.Find factorial of a large number"
   ]
  },
  {
   "cell_type": "code",
   "execution_count": null,
   "metadata": {},
   "outputs": [],
   "source": [
    "def multiply(arr,n):\n",
    "    l=len(arr)\n",
    "    carry=0\n",
    "    for i in range(l):\n",
    "        a=arr[i]*n +carry\n",
    "        arr[i]=a%10\n",
    "        carry=a//10\n",
    "    carry=list(str(carry))\n",
    "    carry=list(map(int,carry[::-1]))\n",
    "    if(len(carry)==1 and carry[0]==0):\n",
    "        return arr\n",
    "    return arr+carry\n",
    "print(multiply([1,2,3],120))\n",
    "def factorial(n):\n",
    "    arr=[1]\n",
    "    for i in range(1,n+1):\n",
    "        arr=multiply(arr,i)\n",
    "    return arr[::-1]    \n",
    "print(*factorial(100),sep=\"\")"
   ]
  },
  {
   "cell_type": "code",
   "execution_count": null,
   "metadata": {},
   "outputs": [],
   "source": [
    "m=1\n",
    "for i in range(1,1000):\n",
    "    m*=i"
   ]
  },
  {
   "cell_type": "code",
   "execution_count": null,
   "metadata": {},
   "outputs": [],
   "source": [
    "m"
   ]
  },
  {
   "cell_type": "markdown",
   "metadata": {},
   "source": [
    " # 23."
   ]
  },
  {
   "cell_type": "code",
   "execution_count": null,
   "metadata": {},
   "outputs": [],
   "source": [
    "import math\n",
    "def maxProduct(arr, n):\n",
    "    m=-math.inf\n",
    "    curr=1\n",
    "    betneg=1\n",
    "    c=0\n",
    "    for i in range(n):\n",
    "        curr*=arr[i]\n",
    "        if(arr[i]<=0):\n",
    "            betneg=1\n",
    "        else:\n",
    "            betneg*=arr[i]\n",
    "        print(betneg,curr,m)\n",
    "        m=max(m,max(betneg,curr))\n",
    "        print(m)\n",
    "        #if(curr>m):\n",
    "            #m=curr\n",
    "        if(curr==0):\n",
    "            curr=1\n",
    "    print(m)\n",
    "\n",
    "maxProduct([-3,4,6,7,0,2,-1],7)"
   ]
  },
  {
   "cell_type": "code",
   "execution_count": null,
   "metadata": {},
   "outputs": [],
   "source": [
    "# Python 3 program to find maximum \n",
    "# product subarray\n",
    "\n",
    "# Function to find maximum \n",
    "# product subarray\n",
    "def maxProduct(arr, n):\n",
    "    \n",
    "    # Variables to store maximum and \n",
    "    # minimum product till ith index.\n",
    "    minVal = arr[0]\n",
    "    maxVal = arr[0]\n",
    "\n",
    "    maxProduct = arr[0]\n",
    "\n",
    "    for i in range(1, n, 1):\n",
    "        \n",
    "        # When multiplied by -ve number,\n",
    "        # maxVal becomes minVal\n",
    "        # and minVal becomes maxVal.\n",
    "        if (arr[i] < 0):\n",
    "            temp = maxVal\n",
    "            maxVal = minVal\n",
    "            minVal = temp\n",
    "            \n",
    "        # maxVal and minVal stores the\n",
    "        # product of subarray ending at arr[i].\n",
    "        maxVal = max(arr[i], maxVal * arr[i])\n",
    "        minVal = min(arr[i], minVal * arr[i])\n",
    "        print(maxVal,minVal)\n",
    "\n",
    "        # Max Product of array.\n",
    "        maxProduct = max(maxProduct, maxVal)\n",
    "\n",
    "    # Return maximum product \n",
    "    # found in array.\n",
    "    return maxProduct\n",
    "# Driver Code\n",
    "if __name__ == '__main__':\n",
    "    arr = [-1, -3, -10,-8, 0, 60]\n",
    "    n = len(arr)\n",
    "\n",
    "    print(\"Maximum Subarray product is\",\n",
    "                     maxProduct(arr, n))\n",
    "\n",
    "# This code is contributed by\n",
    "# Surendra_Gangwar\n",
    "\n"
   ]
  },
  {
   "cell_type": "code",
   "execution_count": null,
   "metadata": {},
   "outputs": [],
   "source": [
    "import math\n",
    "def maxProduct(arr, n):\n",
    "    m=-math.inf\n",
    "    curr=1\n",
    "    betneg=1\n",
    "    c=0\n",
    "    for i in range(n):\n",
    "        curr*=arr[i]\n",
    "        if(arr[i]<=0):\n",
    "            betneg=1\n",
    "            c=arr[i]\n",
    "    \n",
    "        else:\n",
    "            betneg*=arr[i]\n",
    "        print(betneg,curr,m)\n",
    "        m=max(m,max(betneg,curr))\n",
    "        print(m)\n",
    "        #if(curr>m):\n",
    "            #m=curr\n",
    "        if(curr==0):\n",
    "            curr=1\n",
    "    print(m)\n",
    "\n",
    "maxProduct([9,0,8,-1,-2,-2,6],7)\n",
    "9 0 8 -1 -2 -2 6"
   ]
  },
  {
   "cell_type": "markdown",
   "metadata": {},
   "source": [
    "# 24.Find longest coinsecutive subsequence"
   ]
  },
  {
   "cell_type": "code",
   "execution_count": null,
   "metadata": {},
   "outputs": [],
   "source": [
    "def findLongestConseqSubseq(arr, N):\n",
    "        L=[0]*(max(arr)+1)\n",
    "        \n",
    "        for i in range(N):\n",
    "            L[arr[i]]=1\n",
    "        ans=0\n",
    "        c=0\n",
    "        for i in L:\n",
    "            if(i!=0):\n",
    "                c+=1   \n",
    "                ans=max(ans,c)\n",
    "            else:\n",
    "                c=0\n",
    "        return ans\n",
    "arr=[2,6,1,9,4,5,3]\n",
    "print(findLongestConseqSubseq(arr,len(arr)))\n",
    "    "
   ]
  },
  {
   "cell_type": "code",
   "execution_count": null,
   "metadata": {},
   "outputs": [],
   "source": [
    "def findLongestConseqSubseq(arr, N):\n",
    "    s=set()\n",
    "    for i in range(N):\n",
    "        s.add(arr[i])\n",
    "    ans=0\n",
    "    for i in range(N):\n",
    "        if(arr[i]-1) not in s:\n",
    "            j=arr[i]\n",
    "            c=0\n",
    "            while j in s:\n",
    "                j+=1\n",
    "                c+=1\n",
    "\n",
    "            ans=max(ans,c)\n",
    "    return ans\n",
    "arr=[2,6,1,9,4,5,3]\n",
    "print(findLongestConseqSubseq(arr,len(arr)))"
   ]
  },
  {
   "cell_type": "markdown",
   "metadata": {},
   "source": [
    "# 25.Given an array of size n and a number k, fin all elements that appear more than \" n/k \" times."
   ]
  },
  {
   "cell_type": "code",
   "execution_count": null,
   "metadata": {},
   "outputs": [],
   "source": [
    "import math\n",
    "def moreThanNdK(arr, n, k):\n",
    "    count=math.ceil(n/k)\n",
    "    print(count)\n",
    "    d=dict()\n",
    "    for i in arr:\n",
    "        if(i not in d.keys()):\n",
    "            d[i]=1\n",
    "        else:\n",
    "            d[i]+=1\n",
    "    for i in d.keys():\n",
    "        if(count<=d[i]):\n",
    "            print(f\"Number:{i} Count:{d[i]}\")\n",
    "print(\"First Test\")\n",
    "arr1 = [4, 5, 6, 7, 8, 4, 4]\n",
    "size = len(arr1)\n",
    "k = 3\n",
    "moreThanNdK(arr1, size, k)\n",
    "\n",
    "print(\"Second Test\")\n",
    "arr2 = [4, 2, 2, 7]\n",
    "size = len(arr2)\n",
    "k = 3\n",
    "moreThanNdK(arr2, size, k)\n",
    "\n",
    "print(\"Third Test\")\n",
    "arr3 = [2, 7, 2]\n",
    "size = len(arr3)\n",
    "k = 2\n",
    "moreThanNdK(arr3, size, k)\n",
    "\n",
    "print(\"Fourth Test\")\n",
    "arr4 = [2, 3, 3, 2]\n",
    "size = len(arr4)\n",
    "k = 3\n",
    "moreThanNdK(arr4, size, k)"
   ]
  },
  {
   "cell_type": "code",
   "execution_count": null,
   "metadata": {},
   "outputs": [],
   "source": [
    "list(map(int,\"3 1 2 2 2 1 4 3 3\".split()))"
   ]
  },
  {
   "cell_type": "markdown",
   "metadata": {},
   "source": [
    "# 26.Maximum profit by buying and selling a share atmost twice"
   ]
  },
  {
   "cell_type": "code",
   "execution_count": null,
   "metadata": {},
   "outputs": [],
   "source": []
  },
  {
   "cell_type": "markdown",
   "metadata": {},
   "source": [
    "# 27.Find whether an array is a subset of another array"
   ]
  },
  {
   "cell_type": "code",
   "execution_count": null,
   "metadata": {},
   "outputs": [],
   "source": [
    "def isSubset( a1, a2, n, m):\n",
    "    #if(len(a2)>len(a1)):\n",
    "        #a1,a2=a2,a1\n",
    "        #n,m=m,n\n",
    "    d=dict()\n",
    "    for i in a1:\n",
    "        if(i not in d.keys()):\n",
    "            d[i]=1\n",
    "        else:\n",
    "            d[i]+=1\n",
    "    c=len(a2)\n",
    "    for i in a2:\n",
    "        if(i in d.keys()):\n",
    "            if(d[i]>0):\n",
    "                d[i]-=1\n",
    "                c-=1\n",
    "            else:\n",
    "                return \"No\"\n",
    "        else:\n",
    "            return \"No\"\n",
    "    if(c!=0):\n",
    "        return \"No\"\n",
    "    return \"Yes\"\n",
    "a1 = [11, 1, 13, 21, 3, 7]\n",
    "a2 = [11, 3, 7, 1]\n",
    "print(isSubset(a1,a2,len(a1),len(a2)))"
   ]
  },
  {
   "cell_type": "markdown",
   "metadata": {},
   "source": [
    "# 28. Find the triplet that sum to a given value"
   ]
  },
  {
   "cell_type": "code",
   "execution_count": null,
   "metadata": {},
   "outputs": [],
   "source": [
    "def find3Numbers(A, n, X):\n",
    "    A.sort()\n",
    "    for i in range(n-2):\n",
    "        l=i+1\n",
    "        r=n-1\n",
    "        while(l<r):\n",
    "            if(A[i]+A[l]+A[r]==X):\n",
    "                print(A[i]+A[l]+A[r])\n",
    "                return \"Yes\"\n",
    "            elif(A[i]+A[l]+A[r]<X):\n",
    "                l+=1\n",
    "            else:\n",
    "                r-=1\n",
    "    return \"No\"\n",
    "A = [1, 4, 45, 6, 10, 8]\n",
    "X = 22\n",
    "n= len(A)\n",
    "print(find3Numbers(A, n, X))"
   ]
  },
  {
   "cell_type": "markdown",
   "metadata": {},
   "source": [
    "# 29.Trapping Rain water problem"
   ]
  },
  {
   "cell_type": "code",
   "execution_count": null,
   "metadata": {},
   "outputs": [],
   "source": [
    "def trappingWater(arr,n):\n",
    "        left=[0]*n\n",
    "        right=[0]*n\n",
    "        water=0\n",
    "        left[0]=arr[0]\n",
    "        for i in range(1,n):\n",
    "            left[i]=max(left[i-1],arr[i])\n",
    "        right[n-1]=arr[n-1]\n",
    "        for i in range(n-2,-1,-1):\n",
    "            right[i]=max(right[i+1],arr[i])\n",
    "        for i in range(n):\n",
    "            water=water+(min(left[i],right[i])-arr[i])\n",
    "        return water\n",
    "arr=[7,0,6,2,8,6,5,9]\n",
    "print(trappingWater(arr,len(arr)))"
   ]
  },
  {
   "cell_type": "markdown",
   "metadata": {},
   "source": [
    "# 30.Chocolate Distribution problem"
   ]
  },
  {
   "cell_type": "code",
   "execution_count": null,
   "metadata": {},
   "outputs": [],
   "source": [
    "import math\n",
    "def findMinDiff(A,N,M):\n",
    "        A.sort()\n",
    "        print(A)\n",
    "        i=0\n",
    "        j=i+M-1\n",
    "        mini=math.inf\n",
    "        while(j<N):\n",
    "            mini=min(mini,A[j]-A[i])\n",
    "            i+=1\n",
    "            j+=1\n",
    "        return mini\n",
    "N=84\n",
    "A=list(map(int,\"87 78 16 94 36 87 93 50 22 63 28 91 60 64 27 41 27 73 37 12 69 68 30 83 31 63 24 68 36 30 3 23 59 70 68 94 57 12 43 30 74 22 20 85 38 99 25 16 71 14 27 92 81 57 74 63 71 97 82 6 26 85 28 37 6 47 30 14 58 25 96 83 46 15 68 35 65 44 51 88 9 77 79 89\".split()))\n",
    "M=61\n",
    "print(findMinDiff(A,N,M))"
   ]
  },
  {
   "cell_type": "markdown",
   "metadata": {},
   "source": [
    "# 31.Smallest Subarray with sum greater than a given value"
   ]
  },
  {
   "cell_type": "code",
   "execution_count": null,
   "metadata": {},
   "outputs": [],
   "source": [
    "import math\n",
    "def sb(a, n, x):\n",
    "    curr=0\n",
    "    i=0\n",
    "    minlength=math.inf\n",
    "    for e in range(n):\n",
    "        curr+=a[e]\n",
    "        while(curr>x):\n",
    "            minlength=min(e-i+1,minlength)\n",
    "            curr-=a[i]\n",
    "            i+=1\n",
    "    return minlength\n",
    "            \n",
    "            \n",
    "A=[1, 4, 45, 6, 0, 19]\n",
    "x  =  51\n",
    "print(sb(A,len(A),x))"
   ]
  },
  {
   "cell_type": "markdown",
   "metadata": {},
   "source": [
    "# 32.Three way partitioning of an array around a given value"
   ]
  },
  {
   "cell_type": "code",
   "execution_count": null,
   "metadata": {},
   "outputs": [],
   "source": [
    "def threeWayPartition(array, a, b):\n",
    "    s=0\n",
    "    m=0\n",
    "    e=len(array)-1\n",
    "    while(m<e):\n",
    "        print(array)\n",
    "        print(s,m,e)\n",
    "        if(array[m]<a):\n",
    "            array[s],array[m]=array[m],array[s]\n",
    "            s+=1\n",
    "            m+=1\n",
    "        elif(array[m]>b):\n",
    "            array[e],array[m]=array[m],array[e]\n",
    "            e-=1\n",
    "        else:\n",
    "            m+=1\n",
    "    return array\n",
    "A= [76, 8, 75, 22, 59,96,30,38,36]\n",
    "a, b = [44, 62]\n",
    "print(threeWayPartition(A, a, b))"
   ]
  },
  {
   "cell_type": "markdown",
   "metadata": {},
   "source": [
    "# 33.Minimum swaps required bring elements less equal K together"
   ]
  },
  {
   "cell_type": "code",
   "execution_count": null,
   "metadata": {},
   "outputs": [],
   "source": [
    "def minSwap (arr, n, k) :\n",
    "    bad=0\n",
    "    good=0\n",
    "    for i in range(n):\n",
    "        if(arr[i]<=k):\n",
    "            good+=1\n",
    "    for i in range(good):\n",
    "        if(arr[i]>k):\n",
    "            bad+=1\n",
    "    \n",
    "    i=1\n",
    "    j=i+good-1\n",
    "    ans=bad\n",
    "    while(j<n):\n",
    "        if(arr[i-1]>k):\n",
    "            bad-=1\n",
    "        if(arr[j]>k):\n",
    "            bad+=1\n",
    "        ans=min(ans,bad)\n",
    "        i+=1\n",
    "        j+=1\n",
    "    \n",
    "    return ans\n",
    "arr = [2, 1, 5, 6, 3] \n",
    "k = 3\n",
    "print(minSwap(arr,len(arr),k))"
   ]
  },
  {
   "cell_type": "code",
   "execution_count": null,
   "metadata": {},
   "outputs": [],
   "source": [
    "l=\"titik\"\n",
    "l[0:4]"
   ]
  },
  {
   "cell_type": "markdown",
   "metadata": {},
   "source": [
    "# 34.Minimum no. of operations required to make an array palindrome"
   ]
  },
  {
   "cell_type": "code",
   "execution_count": null,
   "metadata": {},
   "outputs": [],
   "source": [
    "def PalinArray(arr ,n):\n",
    "    for i in arr:\n",
    "        if(i>9):\n",
    "            i=str(i)\n",
    "            l=len(i)//2\n",
    "            if(int(i[:l])!=int((i[len(i)-l:len(i)])[::-1])):\n",
    "                return 0\n",
    "    return 1\n",
    "n=5\n",
    "arr=[111,2,333,444,555]\n",
    "print(PalinArray(arr,n))"
   ]
  },
  {
   "cell_type": "markdown",
   "metadata": {},
   "source": [
    "# 35.Median of 2 sorted arrays of equal size"
   ]
  },
  {
   "cell_type": "code",
   "execution_count": null,
   "metadata": {},
   "outputs": [],
   "source": [
    "def find_median(v):\n",
    "    # Code here\n",
    "    v.sort()\n",
    "    n=len(v)\n",
    "    if(n%2==1):\n",
    "        return v[n//2]\n",
    "    else:\n",
    "        return (v[n//2]+v[(n//2)-1])/2\n",
    "arr = [90,100,78,89,67]\n",
    "print(find_median(arr))"
   ]
  },
  {
   "cell_type": "markdown",
   "metadata": {},
   "source": [
    "# 35.Median of 2 sorted arrays of same"
   ]
  },
  {
   "cell_type": "code",
   "execution_count": null,
   "metadata": {},
   "outputs": [],
   "source": [
    "def median(arr1,arr2,n):\n",
    "    i=0\n",
    "    j=0\n",
    "    k=0\n",
    "    m1=0\n",
    "    m2=0\n",
    "    while(i<n and j<n):\n",
    "        if(arr1[i]<arr2[j]):\n",
    "            temp=arr1[i]\n",
    "            m1=m2\n",
    "            m2=temp\n",
    "            i+=1\n",
    "        else:\n",
    "            temp=arr2[j]\n",
    "            m1=m2\n",
    "            m2=temp\n",
    "            j+=1\n",
    "        if(k==n):\n",
    "            return (m1+m2)>>1\n",
    "        k+=1\n",
    "    while(i<n):\n",
    "        temp=arr1[i]\n",
    "        m1=m2\n",
    "        m2=temp\n",
    "        i+=1\n",
    "        if(k==n):\n",
    "            return (m1+m2)>>1\n",
    "        k+=1\n",
    "    while(j<n):\n",
    "        temp=arr2[j]\n",
    "        m1=m2\n",
    "        m2=temp\n",
    "        j+=1\n",
    "        if(k==n):\n",
    "            return (m1+m2)>>1\n",
    "        k+=1\n",
    "        \n",
    "ar1 = [1, 12, 15, 26, 38]\n",
    "ar2 = [2, 13, 17, 30, 45]\n",
    "print(median(ar1,ar2,5))"
   ]
  },
  {
   "cell_type": "code",
   "execution_count": null,
   "metadata": {},
   "outputs": [],
   "source": [
    "def median(a,b,n):\n",
    "    print(a+b)\n",
    "    i=n-1\n",
    "    j=0\n",
    "    while(i>=0 and j<n):\n",
    "        if(a[i]>b[j]):\n",
    "            a[i],b[j]=b[j],a[i]\n",
    "        i-=1\n",
    "        j+=1\n",
    "    a.sort()\n",
    "    b.sort()\n",
    "    print(a+b)\n",
    "    return (a[-1]+b[0]>>1)\n",
    "ar1 = [1, 12, 15, 26, 38]\n",
    "ar2 = [2, 13, 17, 30, 45]\n",
    "print(median(ar1,ar2,5))"
   ]
  },
  {
   "cell_type": "markdown",
   "metadata": {},
   "source": [
    "# 36.Median of 2 sorted arrays of different size"
   ]
  },
  {
   "cell_type": "code",
   "execution_count": null,
   "metadata": {},
   "outputs": [],
   "source": [
    "\n",
    "def median(arr1,arr2,n1,n2):\n",
    "    n=(n1+n2)//2\n",
    "    print(n)\n",
    "    i=0\n",
    "    j=0\n",
    "    k=0\n",
    "    m1=0\n",
    "    m2=0\n",
    "    while(i<n1 and j<n2):\n",
    "        if(arr1[i]<arr2[j]):\n",
    "            temp=arr1[i]\n",
    "            m1=m2\n",
    "            m2=temp\n",
    "            i+=1\n",
    "        else:\n",
    "            temp=arr2[j]\n",
    "            m1=m2\n",
    "            m2=temp\n",
    "            j+=1\n",
    "        if(k==n):\n",
    "            if((n1+n2)%2==1):\n",
    "                return m2\n",
    "            return (m1+m2)>>1\n",
    "        k+=1\n",
    "    while(i<n1):\n",
    "        temp=arr1[i]\n",
    "        m1=m2\n",
    "        m2=temp\n",
    "        i+=1\n",
    "        if(k==n):\n",
    "            if((n1+n2)%2==1):\n",
    "                return m2\n",
    "            return (m1+m2)>>1\n",
    "        k+=1\n",
    "    while(j<n2):\n",
    "        temp=arr2[j]\n",
    "        m1=m2\n",
    "        m2=temp\n",
    "        j+=1\n",
    "        if(k==n):\n",
    "            if((n1+n2)%2==1):\n",
    "                return m2\n",
    "            return (m1+m2)>>1\n",
    "        k+=1\n",
    "        \n",
    "ar1 = [1, 12, 15, 26, 38,67,87]\n",
    "ar2 = [2, 13, 17, 30, 45,46]\n",
    "a3=ar1+ar2\n",
    "a3.sort()\n",
    "print(a3)\n",
    "\n",
    "print(median(ar1,ar2,7,6))"
   ]
  },
  {
   "cell_type": "code",
   "execution_count": null,
   "metadata": {},
   "outputs": [],
   "source": [
    "def median(a,b,n1,n2):\n",
    "    print(a+b)\n",
    "    i=n1-1\n",
    "    j=0\n",
    "    while(i>=0 and j<n2):\n",
    "        if(a[i]>b[j]):\n",
    "            a[i],b[j]=b[j],a[i]\n",
    "        i-=1\n",
    "        j+=1\n",
    "    a.sort()\n",
    "    b.sort()\n",
    "    print(a+b)\n",
    "    if ((n1+n2)%2)==1:\n",
    "        s=(n1+n2)//2\n",
    "        print(s)\n",
    "        if(s>=n1):\n",
    "            return b[s%n1]\n",
    "        else:\n",
    "            return a[s]\n",
    "    else:\n",
    "        s1=(n1+n2)//2\n",
    "        s2=s1-1\n",
    "        res=0\n",
    "        if(s1>=n1):\n",
    "            res+=b[s1%n1]\n",
    "        else:\n",
    "            res+=a[s1]\n",
    "        if(s2>=n1):\n",
    "            res+=b[s2%n1]\n",
    "        else:\n",
    "            res+=a[s2]\n",
    "        return res>>1\n",
    "ar1 = [1, 12, 15, 26, 38,67,87]\n",
    "ar2 = [2, 13, 17, 30, 45]\n",
    "\n",
    "print(median(ar1,ar2,7,5))"
   ]
  },
  {
   "cell_type": "code",
   "execution_count": null,
   "metadata": {},
   "outputs": [],
   "source": [
    "\n",
    "def findMedianSortedArrays(nums1,nums2):\n",
    "    if(len(nums1)>len(nums2)):\n",
    "        nums1,nums2=nums2,nums1\n",
    "    n=len(nums1)\n",
    "    m=len(nums2)\n",
    "    begin1=0\n",
    "    end1=n\n",
    "    while(begin1<=end1):\n",
    "        i1=(begin1+end1)//2\n",
    "        print(i1)\n",
    "        i2=(n+m+1)//2-i1\n",
    "        print(i2)\n",
    "        min1=float(\"inf\") if(i1==n) else nums1[i1]\n",
    "        max1=-float(\"inf\") if(i1==0) else nums1[i1-1]\n",
    "        min2=float(\"inf\") if(i2==m) else nums2[i2]\n",
    "        max2=-float(\"inf\") if(i2==0) else nums2[i2-1]\n",
    "        print(max1,max2,min1,min2)\n",
    "        if(max1<=min2 and max2<=min1):\n",
    "            if(n+m)%2==0:\n",
    "                return (max(max1,max2)+min(min2,min1))/2\n",
    "            else:\n",
    "                return (max(max1,max2))\n",
    "        elif(max1>min2):\n",
    "            end1=i1-1\n",
    "            print(end1)\n",
    "        else:\n",
    "            begin1=i1+1\n",
    "            print(begin1)\n",
    "        \n",
    "nums1=[1,2]\n",
    "nums2=[1]\n",
    "print(findMedianSortedArrays(nums1,nums2))"
   ]
  },
  {
   "cell_type": "markdown",
   "metadata": {},
   "source": [
    "# -------------------------------------------------MATRIX--------------------------------------------------"
   ]
  },
  {
   "cell_type": "markdown",
   "metadata": {},
   "source": [
    "# 37. Spiral traversal on a Matrix"
   ]
  },
  {
   "cell_type": "code",
   "execution_count": null,
   "metadata": {},
   "outputs": [],
   "source": [
    "def printdata(a,m,n):\n",
    "    j=0\n",
    "    i=0\n",
    "    l=[]\n",
    "    while(i<m and j<n):\n",
    "        for p in range(j,n):\n",
    "            l.append(a[i][p])\n",
    "        i+=1\n",
    "        for p in range(i,m):\n",
    "            l.append(a[p][n-1])\n",
    "        n-=1\n",
    "        if(m>i):\n",
    "            for p in range(n-1,j-1,-1):\n",
    "                l.append(a[m-1][p])\n",
    "            m-=1\n",
    "        if(n>j):\n",
    "            for p in range(m-1,i-1,-1):\n",
    "                l.append(a[p][j])\n",
    "            j+=1\n",
    "    return l     \n",
    "        \n",
    "arr = [[1, 2, 3, 4],\n",
    "       [5, 6, 7, 8],\n",
    "       [9, 10, 11, 12],\n",
    "       [13, 14, 15, 16]]\n",
    "R=4\n",
    "C=3\n",
    " \n",
    "# Function Call\n",
    "printdata(arr,R, C)\n"
   ]
  },
  {
   "cell_type": "code",
   "execution_count": null,
   "metadata": {},
   "outputs": [],
   "source": [
    "def printdata(a,i,j,m,n):\n",
    "    if(i>=m or j>=n):\n",
    "        return\n",
    "    for p in range(j,n):\n",
    "        print(a[i][p],end=\" \")\n",
    "    for p in range(i+1,m):\n",
    "        print(a[p][n-1],end=\" \")\n",
    "    if((m-1)!=i):\n",
    "        for p in range(n-2,j-1,-1):\n",
    "            print(a[m-1][p],end=' ')\n",
    "    if(n-1)!=j:\n",
    "        for p in range(m-2,i,-1):\n",
    "            print(a[p][j],end=\" \")\n",
    "    print([[a[k][s] for s in range(j+1,n-1)] for k in range(i+1,m-1)])\n",
    "    printdata(a,i+1,j+1,m-1,n-1)\n",
    "            \n",
    "        \n",
    "        \n",
    "arr = [[1, 2, 3, 4],\n",
    "       [5, 6, 7, 8],\n",
    "       [9, 10, 11, 12],\n",
    "       [13, 14, 15, 16]]\n",
    "R=4\n",
    "C=3\n",
    " \n",
    "# Function Call\n",
    "printdata(arr, 0, 0, R, C)"
   ]
  },
  {
   "cell_type": "code",
   "execution_count": null,
   "metadata": {},
   "outputs": [],
   "source": [
    "def spirallyTraverse(a,m,n):\n",
    "    j=0\n",
    "    i=0\n",
    "    l=[]\n",
    "    for p in range(j,n):\n",
    "        l.append(a[i][p])\n",
    "    for p in range(i+1,m):\n",
    "        l.append(a[p][n-1])\n",
    "    if((m-1)!=i):\n",
    "        for p in range(n-2,j-1,-1):\n",
    "            l.append(a[m-1][p])\n",
    "    if(n-1)!=j:\n",
    "        for p in range(m-2,i,-1):\n",
    "            l.append(a[p][j])\n",
    "\n",
    "    if(i<m or j<n):\n",
    "        l=l+spirallyTraverse([[a[k][s] for s in range(j+1,n-1)] for k in range(i+1,m-1)],m-2,n-2)\n",
    "    return l\n",
    "arr = [[1, 2, 3, 4],\n",
    "       [5, 6, 7, 8],\n",
    "       [9, 10, 11, 12],\n",
    "       [13, 14, 15, 16]]\n",
    "R=C=4\n",
    "print(spirallyTraverse(arr,R,C))"
   ]
  },
  {
   "cell_type": "markdown",
   "metadata": {},
   "source": [
    "# 38. Search an element in a matrix"
   ]
  },
  {
   "cell_type": "code",
   "execution_count": null,
   "metadata": {},
   "outputs": [],
   "source": [
    "def searchMatrix(a, target):\n",
    "    i=0\n",
    "    while(i<len(a)):\n",
    "        if(a[i][0]<=target and a[i][-1]>=target):\n",
    "            for m in a[i]:\n",
    "                if(target==m):\n",
    "                    return True\n",
    "    return False\n",
    "            \n",
    "                    \n",
    "            \n",
    "    \n",
    "matrix = [[1,3,5,7],[10,11,16,20],[23,30,34,60]]\n",
    "target = 3\n",
    "print(searchMatrix(matrix,3))"
   ]
  },
  {
   "cell_type": "code",
   "execution_count": null,
   "metadata": {},
   "outputs": [],
   "source": [
    "def binarysearch(a,target,l,r):\n",
    "        if(l<=r):\n",
    "            mid=(l+r)//2\n",
    "            if(a[mid]==target):\n",
    "                return True\n",
    "            elif(a[mid]>target):\n",
    "                return binarysearch(a,target,l,mid-1)\n",
    "            else:\n",
    "                return binarysearch(a,target,mid+1,r)\n",
    "        return False\n",
    "def searchMatrix(matrix, target):\n",
    "    l=0\n",
    "    r=len(matrix)-1\n",
    "    while(l<=r):\n",
    "        m=(l+r)//2\n",
    "        print(l,r,m)\n",
    "        if(matrix[m][0]<=target and matrix[m][-1]>=target):\n",
    "            print(matrix[m])\n",
    "            return binarysearch(matrix[m],target,0,len(matrix[m])-1)\n",
    "        elif(matrix[l][0]<=target and matrix[m][0]>target):\n",
    "            r=m-1\n",
    "            print(r)\n",
    "        else:\n",
    "            l=m+1\n",
    "            print(l)\n",
    "a=[[1],[3]]\n",
    "target=3\n",
    "print(searchMatrix(a,target))"
   ]
  },
  {
   "cell_type": "code",
   "execution_count": null,
   "metadata": {},
   "outputs": [],
   "source": [
    "def binarysearch(a,target,l,r):\n",
    "        if(l<=r):\n",
    "            mid=(l+r)//2\n",
    "            if(a[mid]==target):\n",
    "                return True\n",
    "            elif(a[mid]>target):\n",
    "                return binarysearch(a,target,l,mid-1)\n",
    "            else:\n",
    "                return binarysearch(a,target,mid+1,r)\n",
    "        return False\n",
    "a=[1,3]\n",
    "target=3\n",
    "print(binarysearch(a,target,0,1))"
   ]
  },
  {
   "cell_type": "markdown",
   "metadata": {},
   "source": [
    "# 40.Find row with maximum no. of 1's"
   ]
  },
  {
   "cell_type": "code",
   "execution_count": null,
   "metadata": {},
   "outputs": [],
   "source": [
    "def rowWithMax1s(arr, n, m):\n",
    "    index=m-1\n",
    "    no=0\n",
    "    res=0\n",
    "    for i in range(n):\n",
    "        while(index>=0 and arr[i][index]==1):\n",
    "            index-=1\n",
    "        p=(m-1-index)\n",
    "        print(index)\n",
    "        print(p)\n",
    "        if(p>no):\n",
    "            no=p\n",
    "            res=i\n",
    "        print(res)\n",
    "    return res\n",
    "mat = [[0, 1, 1, 1],\n",
    "       [0, 0, 1, 1],\n",
    "       [1, 1, 1, 1],\n",
    "       [0, 0, 0, 0]]\n",
    "n,m=4,4\n",
    "print(rowWithMax1s(mat, n, m))\n"
   ]
  },
  {
   "cell_type": "markdown",
   "metadata": {},
   "source": [
    "# 41. Print elements in sorted order using row-column wise sorted matrix"
   ]
  },
  {
   "cell_type": "code",
   "execution_count": null,
   "metadata": {},
   "outputs": [],
   "source": [
    "def sortedMatrix(N,Mat):\n",
    "        l=[0]*(N*N) \n",
    "        k=0\n",
    "        for i in range(N):\n",
    "            for j in range(N):\n",
    "                l[k]=Mat[i][j]\n",
    "                k+=1\n",
    "        l.sort()\n",
    "        for i in range(N):\n",
    "            Mat[i]=l[0+(i*N):N*(i+1)]\n",
    "        return Mat\n",
    "N=4\n",
    "Mat=[[10,20,30,40],\n",
    "[15,25,35,45],\n",
    "[27,29,37,48],\n",
    "[32,33,39,50]]\n",
    "print(sortedMatrix(N,Mat))"
   ]
  },
  {
   "cell_type": "markdown",
   "metadata": {},
   "source": [
    "# 42.Maximum size rectangle"
   ]
  },
  {
   "cell_type": "code",
   "execution_count": null,
   "metadata": {},
   "outputs": [],
   "source": [
    "# sub question\n",
    "#maximum area rectangle in histogram\n",
    "\n",
    "def max_area_histogram(hist):\n",
    "    n=len(hist)\n",
    "    s=[]\n",
    "    l=[-1]*n\n",
    "    r=[n]*n\n",
    "    area=0\n",
    "    for i in range(n): \n",
    "        while(s and hist[s[-1]]>=hist[i]):\n",
    "            s.pop()\n",
    "        if(len(s)==0):\n",
    "            l[i]=0\n",
    "        else:\n",
    "            l[i]=s[-1]+1\n",
    "        s.append(i)\n",
    "\n",
    "    s=[]\n",
    "    for i in range(n-1,-1,-1): \n",
    "        while(s and hist[s[-1]]>=hist[i]):\n",
    "            s.pop()\n",
    "        if(len(s)==0):\n",
    "            r[i]=n-1\n",
    "        else:\n",
    "            r[i]=s[-1]-1\n",
    "        s.append(i)\n",
    "        area=max(area,hist[i]*(r[i]-l[i]+1))\n",
    "    return area      \n",
    "hist = [6, 2, 8, 4, 5, 1, 6]\n",
    "print(\"Maximum area is\",\n",
    "       max_area_histogram(hist))"
   ]
  },
  {
   "cell_type": "code",
   "execution_count": null,
   "metadata": {},
   "outputs": [],
   "source": [
    "l=[-1]*1\n",
    "l.pop()\n",
    "l"
   ]
  },
  {
   "cell_type": "code",
   "execution_count": null,
   "metadata": {},
   "outputs": [],
   "source": [
    "def getMaxArea(hist):\n",
    "    n=len(hist)\n",
    "    s=[]\n",
    "    l=[-1]*n\n",
    "    r=[n]*n\n",
    "    area=0\n",
    "    for i in range(n): \n",
    "        while(s and hist[s[-1]]>=hist[i]):\n",
    "            s.pop()\n",
    "        if(len(s)==0):\n",
    "            l[i]=0\n",
    "        else:\n",
    "            l[i]=s[-1]+1\n",
    "        s.append(i)\n",
    "\n",
    "    s=[]\n",
    "    for i in range(n-1,-1,-1): \n",
    "        while(s and hist[s[-1]]>=hist[i]):\n",
    "            s.pop()\n",
    "        if(len(s)==0):\n",
    "            r[i]=n-1\n",
    "        else:\n",
    "            r[i]=s[-1]-1\n",
    "        s.append(i)\n",
    "        area=max(area,hist[i]*(r[i]-l[i]+1))\n",
    "    return area\n",
    "def maxArea(M, n, m):\n",
    "    area=0\n",
    "    hist=[0]*m\n",
    "    for i in range(n):\n",
    "        for j in range(m):\n",
    "            if(M[i][j]==0):\n",
    "                hist[j]=0\n",
    "            else:\n",
    "                hist[j]=hist[j]+1\n",
    "        print(hist)\n",
    "        area=max(area,getMaxArea(hist))\n",
    "    return area\n",
    "n = 4\n",
    "m = 4\n",
    "M= [[0,1,1,0],\n",
    "         [1,1,1,1],\n",
    "         [1,1,1,1],\n",
    "         [1,1,0,0]]\n",
    "print(maxArea(M, n, m))"
   ]
  },
  {
   "cell_type": "markdown",
   "metadata": {},
   "source": [
    "# 43.Find a specific pair in matrix"
   ]
  },
  {
   "cell_type": "code",
   "execution_count": null,
   "metadata": {},
   "outputs": [],
   "source": []
  },
  {
   "cell_type": "markdown",
   "metadata": {},
   "source": [
    "# 44.Rotate matrix by 90 degrees"
   ]
  },
  {
   "cell_type": "code",
   "execution_count": null,
   "metadata": {},
   "outputs": [],
   "source": [
    "def rotate(a,N):\n",
    "    for i in range(N//2):\n",
    "        for j in range(i,N-i-1):\n",
    "            temp=a[i][j]\n",
    "            a[i][j]=a[j][N-i-1]\n",
    "            a[j][N-i-1]=a[N-i-1][N-j-1]\n",
    "            a[N-i-1][N-j-1]=a[N-j-1][i]\n",
    "            a[N-j-1][i]=temp\n",
    "    return a\n",
    "    \n",
    "    \n",
    "A = [[1, 2, 3, 4],\n",
    "     [5, 6, 7, 8],\n",
    "     [9, 10, 11, 12],\n",
    "     [13, 14, 15, 16]]\n",
    "print(*rotate(A,len(A)),sep=\"\\n\")"
   ]
  },
  {
   "cell_type": "markdown",
   "metadata": {},
   "source": [
    "# 45.Kth smallest element in a row-column wise sorted matrix"
   ]
  },
  {
   "cell_type": "code",
   "execution_count": null,
   "metadata": {},
   "outputs": [],
   "source": [
    "import sys\n",
    "\n",
    "from heapq import *\n",
    "def kthSmallest(mat, n, k):\n",
    "    minheap=[]\n",
    "    for i in range(len(mat[0])):\n",
    "        heappush(minheap,[mat[0][i],0,i])\n",
    "    for i in range(k):\n",
    "        a=heappop(minheap)\n",
    "        if(a[1]<(n-1)):\n",
    "            heappush(minheap,[mat[a[1]+1][a[2]],a[1]+1,a[2]])\n",
    "        else:\n",
    "            heappush(minheap,[sys.maxsize])\n",
    "        \n",
    "    return a[0]\n",
    "n = 4\n",
    "mat= [[16, 28, 60, 64],\n",
    "    [22, 41, 63, 91],\n",
    "    [27, 50, 87, 93],\n",
    "    [36, 78, 87, 94 ]]\n",
    "print(*mat,sep=\"\\n\")\n",
    "k = 7\n",
    "print(kthSmallest(mat, n, k))"
   ]
  },
  {
   "cell_type": "markdown",
   "metadata": {},
   "source": [
    "# 46. Common elements in all rows of a given matrix\n"
   ]
  },
  {
   "cell_type": "code",
   "execution_count": null,
   "metadata": {},
   "outputs": [],
   "source": [
    "def commonelements(mat):\n",
    "    m={}\n",
    "    l=[]\n",
    "    for i in mat[0]:\n",
    "        m[i]=1\n",
    "    for i in range(1,len(mat)):\n",
    "        for j in range(len(mat[0])):\n",
    "            if(mat[i][j] in m.keys() and m[mat[i][j]]==i):\n",
    "                m[mat[i][j]]+=1\n",
    "    for i in m.keys():\n",
    "        if(m[i]==len(mat)):\n",
    "            l.append(i)\n",
    "    return l\n",
    "mat= [[1, 2, 1, 4, 8],\n",
    "      [3, 7, 8, 5, 1],\n",
    "      [8, 7, 7, 3, 1],\n",
    "      [8, 1, 2, 7, 9]]\n",
    "print(commonelements(mat))"
   ]
  },
  {
   "cell_type": "code",
   "execution_count": null,
   "metadata": {},
   "outputs": [],
   "source": [
    "mat"
   ]
  },
  {
   "cell_type": "code",
   "execution_count": null,
   "metadata": {},
   "outputs": [],
   "source": []
  },
  {
   "cell_type": "markdown",
   "metadata": {},
   "source": [
    "# ----------------------------------------String-------------------------------------------------"
   ]
  },
  {
   "cell_type": "markdown",
   "metadata": {},
   "source": [
    "# 47. Reverse a String"
   ]
  },
  {
   "cell_type": "code",
   "execution_count": null,
   "metadata": {},
   "outputs": [],
   "source": [
    "def reverseString(s):\n",
    "    \"\"\"\n",
    "    Do not return anything, modify s in-place instead.\n",
    "    \"\"\"\n",
    "    i=0\n",
    "    e=len(s)-1\n",
    "    while(i<e):\n",
    "        s[i],s[e]=s[e],s[i]\n",
    "        i+=1\n",
    "        e-=1\n",
    "s= [\"h\",\"e\",\"l\",\"l\",\"o\"]\n",
    "reverseString(s)\n",
    "print(s)"
   ]
  },
  {
   "cell_type": "markdown",
   "metadata": {},
   "source": [
    "# 48. Check whether a String is Palindrome or not"
   ]
  },
  {
   "cell_type": "code",
   "execution_count": null,
   "metadata": {},
   "outputs": [],
   "source": [
    "def isPlaindrome(S):\n",
    "    i=0\n",
    "    e=len(S)-1\n",
    "    while(i<e):\n",
    "        if(S[i]==S[e]):\n",
    "            i+=1\n",
    "            e-=1\n",
    "        else:\n",
    "            return 0\n",
    "    return 1\n",
    "s=\"ababa\"\n",
    "print(isPlaindrome(s))"
   ]
  },
  {
   "cell_type": "markdown",
   "metadata": {},
   "source": [
    "# 49.Find Duplicate characters in a string"
   ]
  },
  {
   "cell_type": "code",
   "execution_count": null,
   "metadata": {},
   "outputs": [],
   "source": [
    "def printDups(st):\n",
    "    d={}\n",
    "    for i in st:\n",
    "        d[i]=d.get(i,0)+1\n",
    "    for i in d.keys():\n",
    "        if(d[i]>1):\n",
    "            print(\"{} : {}\".format(i,d[i]))\n",
    "st = \"test string\"\n",
    "printDups(st)"
   ]
  },
  {
   "cell_type": "markdown",
   "metadata": {},
   "source": [
    "# 50.Why strings are immutable in Java?"
   ]
  },
  {
   "cell_type": "code",
   "execution_count": null,
   "metadata": {},
   "outputs": [],
   "source": []
  },
  {
   "cell_type": "markdown",
   "metadata": {},
   "source": [
    "# 51. Write a Code to check whether one string is a rotation of another"
   ]
  },
  {
   "cell_type": "markdown",
   "metadata": {},
   "source": [
    "### By concatenation of a string in itself "
   ]
  },
  {
   "cell_type": "code",
   "execution_count": null,
   "metadata": {},
   "outputs": [],
   "source": [
    "\"\"\"\n",
    "1. Create a temp string and store concatenation of str1 to\n",
    "       str1 in temp.\n",
    "                          temp = str1.str1\n",
    "    2. If str2 is a substring of temp then str1 and str2 are \n",
    "       rotations of each other.\n",
    "\n",
    "    Example:                 \n",
    "                     str1 = \"ABACD\"\n",
    "                     str2 = \"CDABA\"\n",
    "\n",
    "     temp = str1.str1 = \"ABACDABACD\"\n",
    "     Since str2 is a substring of temp, str1 and str2 are \n",
    "     rotations of each other.\n",
    "\"\"\"\n",
    "def areRotations(string1, string2):\n",
    "    if(string2 in (string1+string1)):\n",
    "        return 1\n",
    "    else:\n",
    "        return 0\n",
    "string1 = \"AACD\"\n",
    "string2 = \"ACDA\"\n",
    " \n",
    "if areRotations(string1, string2):\n",
    "    print(\"Strings are rotations of each other\")\n",
    "else:\n",
    "    print(\"Strings are not rotations of each other\")"
   ]
  },
  {
   "cell_type": "markdown",
   "metadata": {},
   "source": [
    "### By using Queue"
   ]
  },
  {
   "cell_type": "code",
   "execution_count": null,
   "metadata": {},
   "outputs": [],
   "source": [
    "def areRotations(string1, string2):\n",
    "    if(len(string1)!=len(string2)):\n",
    "        return 0\n",
    "    l=list(string2)\n",
    "    for i in range(len(string1)):\n",
    "        ch=l[0]\n",
    "        l.pop(0)\n",
    "        l.append(ch)\n",
    "        if(l==list(string1)):\n",
    "            return 1\n",
    "    return 0\n",
    "        \n",
    "string1 = \"AACD\"\n",
    "string2 = \"ACDA\"\n",
    " \n",
    "if areRotations(string1, string2):\n",
    "    print(\"Strings are rotations of each other\")\n",
    "else:\n",
    "    print(\"Strings are not rotations of each other\")"
   ]
  },
  {
   "cell_type": "markdown",
   "metadata": {},
   "source": [
    "# 52. Write a Program to check whether a string is a valid shuffle of two strings or not"
   ]
  },
  {
   "cell_type": "code",
   "execution_count": null,
   "metadata": {},
   "outputs": [],
   "source": [
    "def checkvalidsuffle(first,second,result):\n",
    "    if(len(result)!=len(first)+len(second)):\n",
    "        return \"not a valid suffle\"\n",
    "    i=0\n",
    "    j=0\n",
    "    first=sorted(first)\n",
    "    second=sorted(second)\n",
    "    result=sorted(result)\n",
    "    for k in range(len(result)):\n",
    "        if(i<len(first) and result[k]==first[i]):\n",
    "            i+=1\n",
    "        elif(j<len(second) and result[k]==second[j]):\n",
    "            j+=1\n",
    "        else:\n",
    "            return \"not a valid suffle\"\n",
    "    return \"a valid suffle\"\n",
    "        \n",
    "        \n",
    "first = \"XY\";\n",
    "second = \"12\";\n",
    "results = [\"1XY2\", \"Y1X2\", \"Y21XX\"]\n",
    "for i in results:\n",
    "    print(f\"{i} is {checkvalidsuffle(first,second,i)} of {first} and {second}\")"
   ]
  },
  {
   "cell_type": "code",
   "execution_count": null,
   "metadata": {},
   "outputs": [],
   "source": []
  },
  {
   "cell_type": "markdown",
   "metadata": {},
   "source": [
    "# 53. Count and Say problem"
   ]
  },
  {
   "cell_type": "code",
   "execution_count": null,
   "metadata": {},
   "outputs": [],
   "source": [
    "def countAndSay(n):\n",
    "        if(n==1):\n",
    "            return \"1\"\n",
    "        else:\n",
    "            a=countAndSay(n-1)\n",
    "            a=list(a)\n",
    "            y=1\n",
    "            s=\"\"\n",
    "            for i in range(1,len(a)):\n",
    "                if(a[i]==a[i-1]):\n",
    "                    y+=1\n",
    "                else:\n",
    "                    s+=(str(y)+a[i-1])\n",
    "                    y=1\n",
    "            s+=(str(y)+a[-1])\n",
    "            return s     \n",
    "            \n",
    "countAndSay(15)"
   ]
  },
  {
   "cell_type": "markdown",
   "metadata": {},
   "source": [
    "# 54.Write a program to find the longest Palindrome in a string.[ Longest palindromic Substring]"
   ]
  },
  {
   "cell_type": "code",
   "execution_count": null,
   "metadata": {},
   "outputs": [],
   "source": [
    "def longestPalin(S):\n",
    "    l=len(S)\n",
    "    res=''\n",
    "    for i in range(len(S)):\n",
    "        p=S[i]\n",
    "        f=i-1\n",
    "        e=i+1\n",
    "        while((f>=0 and e<l) and S[f]==S[e]):\n",
    "            p=S[f]+p+S[e]\n",
    "            f=f-1\n",
    "            e=e+1\n",
    "        m=\"\"\n",
    "        f=i\n",
    "        e=i+1\n",
    "        while((f>=0 and e<l) and S[f]==S[e]):\n",
    "            m=S[f]+m+S[e]\n",
    "            f=f-1\n",
    "            e=e+1\n",
    "        if(len(p)>len(m)):\n",
    "            if(len(p)>len(res)):\n",
    "                res=p\n",
    "        else:\n",
    "            if(len(m)>len(res)):\n",
    "                res=m\n",
    "        print(i)\n",
    "        print(p)\n",
    "        print(m)\n",
    "        print(res)\n",
    "        \n",
    "        \n",
    "    return res\n",
    "        \n",
    "        \n",
    "S = [\"aaaabbaa\",\"abc\"]\n",
    "for i in range(len(S)):\n",
    "    print(longestPalin(S[i]))\n"
   ]
  },
  {
   "cell_type": "markdown",
   "metadata": {},
   "source": [
    "# LCS-Concept"
   ]
  },
  {
   "cell_type": "code",
   "execution_count": null,
   "metadata": {},
   "outputs": [],
   "source": [
    "def lcs(a,b,i,j):\n",
    "    if(i==len(a) or j==len(b)):\n",
    "        return 0\n",
    "    if(a[i]==b[j]):\n",
    "        print(a[i],i,j)\n",
    "        return 1+lcs(a,b,i+1,j+1)\n",
    "    else:\n",
    "        return max(lcs(a,b,i+1,j),lcs(a,b,i,j+1))\n",
    "a = \"axxxy\"\n",
    "b = \"axyxzx\"\n",
    "\n",
    "print(lcs(a,b,0,0))"
   ]
  },
  {
   "cell_type": "code",
   "execution_count": null,
   "metadata": {},
   "outputs": [],
   "source": [
    "def lcs(a,b,i,j):\n",
    "    if(i==len(a) or j==len(b)):\n",
    "        return 0\n",
    "    if(d[i+1][j+1]!=-1):\n",
    "        return d[i+1][j+1]\n",
    "    if(a[i]==b[j]):\n",
    "        d[i+1][j+1]=1+lcs(a,b,i+1,j+1)\n",
    "        return d[i+1][j+1]\n",
    "    else:\n",
    "        d[i+1][j+1]=max(lcs(a,b,i+1,j),lcs(a,b,i,j+1))\n",
    "        return d[i+1][j+1]\n",
    "a = \"axxxy\"\n",
    "b = \"axyxzx\"\n",
    "d=[[-1 for i in range(len(b)+1)] for j in range(len(a)+1)]\n",
    "print(lcs(a,b,0,0))"
   ]
  },
  {
   "cell_type": "code",
   "execution_count": null,
   "metadata": {},
   "outputs": [],
   "source": [
    "def lcs(a,b):\n",
    "    d=[[0 for i in range(len(b)+1)] for j in range(len(a)+1)]\n",
    "    for i in range(len(a)):\n",
    "        for j in range(len(b)):\n",
    "            if(a[i]==b[j]):\n",
    "                d[i+1][j+1]=1+d[i][j]\n",
    "            else:\n",
    "                d[i+1][j+1]=max(d[i][j+1],d[i+1][j])\n",
    "    return d[i][j+1]  \n",
    "a = \"axxxy\"\n",
    "b = \"axyxzx\"\n",
    "print(lcs(a,b))"
   ]
  },
  {
   "cell_type": "markdown",
   "metadata": {},
   "source": [
    "# 55. Find Longest Recurring Subsequence in String"
   ]
  },
  {
   "cell_type": "code",
   "execution_count": null,
   "metadata": {},
   "outputs": [],
   "source": [
    "def lcs(a,i,j):\n",
    "    if(i>=len(a) or j>=len(a)):\n",
    "        return 0\n",
    "    if(a[i]==a[j] and i!=j):\n",
    "        return 1+lcs(a,i+1,j+1)\n",
    "    else:\n",
    "        return max(lcs(a,i+1,j),lcs(a,i,j+1))\n",
    "a = \"axxxy\"\n",
    "print(lcs(a,0,0))"
   ]
  },
  {
   "cell_type": "code",
   "execution_count": null,
   "metadata": {},
   "outputs": [],
   "source": [
    "def lcs(a,i,j):\n",
    "    if(i==len(a) or j==len(a)):\n",
    "        return 0\n",
    "    if(d[i+1][j+1]!=-1):\n",
    "        return d[i+1][j+1]\n",
    "    if(a[i]==a[j] and i!=j):\n",
    "        d[i+1][j+1]=1+lcs(a,i+1,j+1)\n",
    "        return d[i+1][j+1]\n",
    "    else:\n",
    "        d[i+1][j+1]=max(lcs(a,i+1,j),lcs(a,i,j+1))\n",
    "        return d[i+1][j+1]\n",
    "a = \"axxxy\"\n",
    "d=[[-1 for i in range(len(a)+1)] for j in range(len(a)+1)]\n",
    "print(lcs(a,0,0))"
   ]
  },
  {
   "cell_type": "code",
   "execution_count": 1,
   "metadata": {},
   "outputs": [
    {
     "name": "stdout",
     "output_type": "stream",
     "text": [
      "2\n"
     ]
    }
   ],
   "source": [
    "def lcs(a):\n",
    "    d=[[0 for i in range(len(a)+1)] for j in range(len(a)+1)]\n",
    "    for i in range(len(a)):\n",
    "        for j in range(len(a)):\n",
    "            if(a[i]==a[j] and i!=j):\n",
    "                d[i+1][j+1]=1+d[i][j]\n",
    "            else:\n",
    "                d[i+1][j+1]=max(d[i][j+1],d[i+1][j])\n",
    "    return d[len(a)][len(a)]\n",
    "a = \"axxxy\"\n",
    "print(lcs(a))"
   ]
  },
  {
   "cell_type": "markdown",
   "metadata": {},
   "source": [
    "# 56. Print all Subsequences of a string."
   ]
  },
  {
   "cell_type": "code",
   "execution_count": 5,
   "metadata": {},
   "outputs": [
    {
     "name": "stdout",
     "output_type": "stream",
     "text": [
      "D\n",
      "C\n",
      "CD\n",
      "B\n",
      "BD\n",
      "BC\n",
      "BCD\n",
      "A\n",
      "AD\n",
      "AC\n",
      "ACD\n",
      "AB\n",
      "ABD\n",
      "ABC\n",
      "ABCD\n"
     ]
    }
   ],
   "source": [
    "def subseq(s,t,i):\n",
    "    if(i==len(s) and t==\"\"):\n",
    "        return\n",
    "    if(i==len(s)):\n",
    "        print(t)\n",
    "    else:\n",
    "        subseq(s,t,i+1)\n",
    "        subseq(s,t+s[i],i+1)\n",
    "s=\"ABCD\"\n",
    "subseq(s,\"\",0)\n",
    "    "
   ]
  },
  {
   "cell_type": "code",
   "execution_count": 6,
   "metadata": {},
   "outputs": [
    {
     "name": "stdout",
     "output_type": "stream",
     "text": [
      "['A', 'AB', 'ABC', 'ABCD', 'ABD', 'AC', 'ACD', 'AD', 'B', 'BC', 'BCD', 'BD', 'C', 'CD', 'D']\n"
     ]
    }
   ],
   "source": [
    "def subseq(s,t,i):\n",
    "    if(i==len(s) and t==\"\"):\n",
    "        return []\n",
    "    if(i==len(s)):\n",
    "        return [t]\n",
    "    else:\n",
    "        return subseq(s,t,i+1)+subseq(s,t+s[i],i+1)\n",
    "s=\"ABCD\"\n",
    "print(sorted(subseq(s,\"\",0)))"
   ]
  },
  {
   "cell_type": "code",
   "execution_count": null,
   "metadata": {},
   "outputs": [],
   "source": [
    "st"
   ]
  },
  {
   "cell_type": "markdown",
   "metadata": {},
   "source": [
    "# 57. Print all the permutations of the given string"
   ]
  },
  {
   "cell_type": "code",
   "execution_count": 7,
   "metadata": {},
   "outputs": [
    {
     "name": "stdout",
     "output_type": "stream",
     "text": [
      "ljr\n",
      "lrj\n",
      "jlr\n",
      "jrl\n",
      "rjl\n",
      "rlj\n"
     ]
    }
   ],
   "source": [
    "def find_permutation(a,l,r):\n",
    "    if(l==r):\n",
    "        print(\"\".join(a))\n",
    "    for i in range(l,r+1):\n",
    "        a[i],a[l]=a[l],a[i]\n",
    "        find_permutation(a,l+1,r)\n",
    "        a[i],a[l]=a[l],a[i]\n",
    "    \n",
    "    \n",
    "a=\"ljr\"\n",
    "find_permutation(list(a),0,len(a)-1)"
   ]
  },
  {
   "cell_type": "markdown",
   "metadata": {},
   "source": [
    "# 58. Split the Binary string into two substring with equal 0’s and 1’s"
   ]
  },
  {
   "cell_type": "code",
   "execution_count": 8,
   "metadata": {},
   "outputs": [
    {
     "name": "stdout",
     "output_type": "stream",
     "text": [
      "5\n"
     ]
    }
   ],
   "source": [
    "def maxSubStr(s,n):\n",
    "    ones=0 \n",
    "    zeros=0\n",
    "    c=0\n",
    "    for i in range(n):\n",
    "        if(s[i]==\"0\"):\n",
    "            zeros+=1\n",
    "        else:\n",
    "            ones+=1\n",
    "        if(zeros==ones):\n",
    "            c+=1\n",
    "            zeros=0\n",
    "            ones=0\n",
    "    return c if(c>0) else -1\n",
    "s = \"0100110101101\"\n",
    "#s=\"0000000000000\"\n",
    "\n",
    "n = len(s)\n",
    "print(maxSubStr(s, n))"
   ]
  },
  {
   "cell_type": "markdown",
   "metadata": {},
   "source": [
    "# 59. Word Wrap Problem [VERY IMP]."
   ]
  },
  {
   "cell_type": "code",
   "execution_count": 2,
   "metadata": {},
   "outputs": [
    {
     "name": "stdout",
     "output_type": "stream",
     "text": [
      "[4, inf, inf, inf, inf, inf, inf, inf]\n",
      "[0, 36, 0, inf, inf, inf, inf, inf]\n",
      "[0, 0, 49, 9, 1, inf, inf, inf]\n",
      "[0, 0, 0, 81, 49, inf, inf, inf]\n",
      "[0, 0, 0, 0, 121, 0, inf, inf]\n",
      "[0, 0, 0, 0, 0, 4, inf, inf]\n",
      "[0, 0, 0, 0, 0, 0, 16, 1]\n",
      "[0, 0, 0, 0, 0, 0, 0, 0]\n",
      "[1, 2, 5, 5, 6, 6, 8, 8] [45, 41, 5, 53, 0, 4, 0, 0]\n"
     ]
    }
   ],
   "source": [
    "def solveWordWrap(nums, k):\n",
    "    n=len(nums)\n",
    "    cost=[[0 for i in range(n)] for j in range(n)]\n",
    "    for i in range(n):\n",
    "        cost[i][i]=k-arr[i]\n",
    "        for j in range(i+1,n):\n",
    "            cost[i][j]=cost[i][j-1]-(arr[j]+1)\n",
    "    for i in range(n):\n",
    "        for j in range(i,n):\n",
    "            if(i==n-1 and j==n-1):\n",
    "                cost[i][j]=0\n",
    "            if(cost[i][j]<0):\n",
    "                cost[i][j]=float(\"inf\")\n",
    "            else:\n",
    "                cost[i][j]=cost[i][j]*cost[i][j]\n",
    "    print(*cost,sep=\"\\n\")\n",
    "    mincost=[0]*n\n",
    "    ans=[n-1]*n\n",
    "    for i in range(n-1,-1,-1):\n",
    "        mincost[i]=cost[i][n-1]\n",
    "        ans[i]=n\n",
    "        for j in range(n-1,i,-1):\n",
    "            if(mincost[i]>cost[i][j-1]+mincost[j]):\n",
    "                mincost[i]=cost[i][j-1]+mincost[j]\n",
    "                ans[i]=j\n",
    "        if(ans[i]==n):\n",
    "            mincost[i]=0\n",
    "    print(ans,mincost)\n",
    "                \n",
    "                \n",
    "arr = list(map(int,'10 6 5 3 1 10 8 2'.split(\" \")))\n",
    "\n",
    "\n",
    "\n",
    "M=12\n",
    "solveWordWrap(arr, M)"
   ]
  },
  {
   "cell_type": "markdown",
   "metadata": {},
   "source": [
    "# cost"
   ]
  },
  {
   "cell_type": "code",
   "execution_count": 67,
   "metadata": {},
   "outputs": [
    {
     "name": "stdout",
     "output_type": "stream",
     "text": [
      "0 0\n",
      "0 1\n",
      "0 2\n",
      "0 3\n",
      "1 1\n",
      "1 2\n",
      "1 3\n",
      "2 2\n",
      "2 3\n",
      "3 3\n",
      "[[1, 1, 1, 1], [0, 1, 1, 1], [0, 0, 1, 1], [0, 0, 0, 1]]\n"
     ]
    }
   ],
   "source": [
    "n=4\n",
    "cost=[[0 for i in range(n)] for j in range(n)]\n",
    "for i in range(n):\n",
    "    for j in range(i,n):\n",
    "        print(i,j)\n",
    "        cost[i][j]=1\n",
    "print(cost)"
   ]
  },
  {
   "cell_type": "code",
   "execution_count": 68,
   "metadata": {},
   "outputs": [
    {
     "data": {
      "text/plain": [
       "[10, 6, 5, 3, 1, 10, 8, 2]"
      ]
     },
     "execution_count": 68,
     "metadata": {},
     "output_type": "execute_result"
    }
   ],
   "source": [
    "arr"
   ]
  },
  {
   "cell_type": "code",
   "execution_count": 71,
   "metadata": {},
   "outputs": [],
   "source": [
    "a=list(set([1, 2, 5, 5, 6, 6, 8, 8]))"
   ]
  },
  {
   "cell_type": "code",
   "execution_count": 72,
   "metadata": {},
   "outputs": [
    {
     "data": {
      "text/plain": [
       "[1, 2, 5, 6, 8]"
      ]
     },
     "execution_count": 72,
     "metadata": {},
     "output_type": "execute_result"
    }
   ],
   "source": [
    "a"
   ]
  },
  {
   "cell_type": "code",
   "execution_count": 85,
   "metadata": {},
   "outputs": [
    {
     "name": "stdout",
     "output_type": "stream",
     "text": [
      "4\n",
      "36\n",
      "1\n",
      "4\n"
     ]
    },
    {
     "data": {
      "text/plain": [
       "45"
      ]
     },
     "execution_count": 85,
     "metadata": {},
     "output_type": "execute_result"
    }
   ],
   "source": [
    "res=0\n",
    "s=0\n",
    "for i in range(len(a)-1):\n",
    "    m=12-(sum(arr[s:a[i]])+(a[i]-s-1))\n",
    "    print(m*m)\n",
    "    res+=(m*m)\n",
    "    s=a[i]\n",
    "res\n",
    "    "
   ]
  },
  {
   "cell_type": "code",
   "execution_count": 83,
   "metadata": {},
   "outputs": [
    {
     "data": {
      "text/plain": [
       "46"
      ]
     },
     "execution_count": 83,
     "metadata": {},
     "output_type": "execute_result"
    }
   ],
   "source": [
    "res"
   ]
  },
  {
   "cell_type": "code",
   "execution_count": 1,
   "metadata": {},
   "outputs": [
    {
     "ename": "SyntaxError",
     "evalue": "invalid syntax (<ipython-input-1-77eeb564e61e>, line 1)",
     "output_type": "error",
     "traceback": [
      "\u001b[1;36m  File \u001b[1;32m\"<ipython-input-1-77eeb564e61e>\"\u001b[1;36m, line \u001b[1;32m1\u001b[0m\n\u001b[1;33m    4/1AX4XfWg67o_8V9FaykiccHzwT5hIatXDT2JpRaC4NWcE-lQc4KxHejPemZw\u001b[0m\n\u001b[1;37m                                                  ^\u001b[0m\n\u001b[1;31mSyntaxError\u001b[0m\u001b[1;31m:\u001b[0m invalid syntax\n"
     ]
    }
   ],
   "source": [
    "4/1AX4XfWg67o_8V9FaykiccHzwT5hIatXDT2JpRaC4NWcE-lQc4KxHejPemZw"
   ]
  },
  {
   "cell_type": "markdown",
   "metadata": {},
   "source": [
    "# 60. EDIT Distance [Very Imp]"
   ]
  },
  {
   "cell_type": "code",
   "execution_count": 37,
   "metadata": {},
   "outputs": [
    {
     "name": "stdout",
     "output_type": "stream",
     "text": [
      "h\n",
      "i\n",
      "9\n"
     ]
    }
   ],
   "source": [
    "def editDistance(s, t):\n",
    "    if(len(s)==0):\n",
    "        return len(t)\n",
    "    elif(len(t)==0):\n",
    "        return len(s)\n",
    "    elif(s[len(s)-1]==t[len(t)-1]):\n",
    "        return editDistance(s[:len(s)-1],t[:len(t)-1])\n",
    "    else:\n",
    "        return 1+min(editDistance(s,t[:len(t)-1]),editDistance(s[:len(s)-1],t[:len(t)-1]),editDistance(s[:len(s)-1],t))\n",
    "    \n",
    "    \n",
    "s=input()\n",
    "t=input()\n",
    "s=\"ecfbefdcfca\"\n",
    "t=\"badfcbebbf\"\n",
    "print(editDistance(s,t))"
   ]
  },
  {
   "cell_type": "code",
   "execution_count": 36,
   "metadata": {},
   "outputs": [
    {
     "name": "stdout",
     "output_type": "stream",
     "text": [
      "9\n"
     ]
    }
   ],
   "source": [
    "def editDistance(s, t,i,j):\n",
    "    if(len(s)==i):\n",
    "        return len(t)-j\n",
    "    elif(len(t)==j):\n",
    "        return len(s)-i\n",
    "    if(d[i+1][j+1]!=-1):\n",
    "        return d[i+1][j+1]\n",
    "    if(s[i]==t[j]):\n",
    "        d[i+1][j+1]=editDistance(s,t,i+1,j+1)\n",
    "        return d[i+1][j+1]\n",
    "    else:\n",
    "        d[i+1][j+1]=1+min(editDistance(s,t,i,j+1),editDistance(s,t,i+1,j+1),editDistance(s,t,i+1,j))\n",
    "        return d[i+1][j+1]\n",
    "s=\"sunday\"\n",
    "t=\"saturday\"\n",
    "s=\"ecfbefdcfca\"\n",
    "t=\"badfcbebbf\"\n",
    "d=[[-1 for i in range(len(t)+1)] for j in range(len(s)+1)]\n",
    "print(editDistance(s,t,0,0))\n"
   ]
  },
  {
   "cell_type": "code",
   "execution_count": 43,
   "metadata": {},
   "outputs": [
    {
     "name": "stdout",
     "output_type": "stream",
     "text": [
      "[0, 1, 2, 3, 4, 5, 6, 7, 8, 9, 10]\n",
      "[1, 1, 2, 3, 4, 5, 6, 6, 7, 8, 9]\n",
      "[2, 2, 2, 3, 4, 4, 5, 6, 7, 8, 9]\n",
      "[3, 3, 3, 3, 3, 4, 5, 6, 7, 8, 8]\n",
      "[4, 3, 4, 4, 4, 4, 4, 5, 6, 7, 8]\n",
      "[5, 4, 4, 5, 5, 5, 5, 4, 5, 6, 7]\n",
      "[6, 5, 5, 5, 5, 6, 6, 5, 5, 6, 6]\n",
      "[7, 6, 6, 5, 6, 6, 7, 6, 6, 6, 7]\n",
      "[8, 7, 7, 6, 6, 6, 7, 7, 7, 7, 7]\n",
      "[9, 8, 8, 7, 6, 7, 7, 8, 8, 8, 7]\n",
      "[10, 9, 9, 8, 7, 6, 7, 8, 9, 9, 8]\n",
      "[11, 10, 9, 9, 8, 7, 7, 8, 9, 10, 9]\n",
      "9\n"
     ]
    }
   ],
   "source": [
    "def editDistance(s, t):\n",
    "    d=[[0 for i in range(len(t)+1)] for j in range(len(s)+1)]\n",
    "    for i in range(len(s)+1):\n",
    "        for j in range(len(t)+1):\n",
    "            if(i==0):\n",
    "                d[i][j]=j\n",
    "            elif(j==0):\n",
    "                d[i][j]=i\n",
    "            elif(s[i-1]==t[j-1]):\n",
    "                d[i][j]=d[i-1][j-1]\n",
    "            else:\n",
    "                d[i][j]=1+min(d[i-1][j],d[i-1][j-1],d[i][j-1])\n",
    "    print(*d,sep=\"\\n\")\n",
    "    return d[len(s)][len(t)]\n",
    "                \n",
    "    \n",
    "s=\"sunday\"\n",
    "t=\"saturday\"\n",
    "s=\"ecfbefdcfca\"\n",
    "t=\"badfcbebbf\"\n",
    "print(editDistance(s,t))\n"
   ]
  },
  {
   "cell_type": "code",
   "execution_count": 22,
   "metadata": {},
   "outputs": [
    {
     "data": {
      "text/plain": [
       "[[-1, -1, -1, -1, -1, -1, -1, -1, -1],\n",
       " [-1, -1, -1, -1, -1, -1, -1, -1, -1],\n",
       " [-1, -1, -1, -1, -1, -1, -1, -1, -1],\n",
       " [-1, -1, -1, -1, -1, -1, -1, -1, -1],\n",
       " [-1, -1, -1, -1, -1, -1, -1, -1, -1],\n",
       " [-1, -1, -1, -1, -1, -1, -1, -1, -1],\n",
       " [-1, -1, -1, -1, -1, -1, -1, -1, -1]]"
      ]
     },
     "execution_count": 22,
     "metadata": {},
     "output_type": "execute_result"
    }
   ],
   "source": [
    "d"
   ]
  },
  {
   "cell_type": "markdown",
   "metadata": {},
   "source": [
    "# 61. Find next greater number with same set of digits. [Very Very IMP]"
   ]
  },
  {
   "cell_type": "code",
   "execution_count": 47,
   "metadata": {},
   "outputs": [
    {
     "data": {
      "text/plain": [
       "[5, 3, 6, 4, 7, 9]"
      ]
     },
     "execution_count": 47,
     "metadata": {},
     "output_type": "execute_result"
    }
   ],
   "source": [
    "def nextPermutation(N, arr):\n",
    "    i=N-2\n",
    "    while(i>=0 and arr[i]>=arr[i+1]):\n",
    "        i-=1\n",
    "    \n",
    "    if(i>=0):\n",
    "        j=N-1\n",
    "        while(arr[i]>=arr[j]):\n",
    "            j-=1\n",
    "        arr[i],arr[j]=arr[j],arr[i]\n",
    "    e=N-1\n",
    "    s=i+1\n",
    "    while(s<e):\n",
    "        arr[s],arr[e]=arr[e],arr[s]\n",
    "        s+=1\n",
    "        e-=1\n",
    "\n",
    "    return arr\n",
    "arr = [5, 3, 4, 9, 7, 6]\n",
    "nextPermutation(6,arr)"
   ]
  },
  {
   "cell_type": "markdown",
   "metadata": {},
   "source": [
    "# 62.Balanced Parenthesis problem.[Imp]"
   ]
  },
  {
   "cell_type": "code",
   "execution_count": 51,
   "metadata": {},
   "outputs": [
    {
     "name": "stdout",
     "output_type": "stream",
     "text": [
      "Not Balanced\n"
     ]
    }
   ],
   "source": [
    "def ispar(x):\n",
    "    s=[]\n",
    "    #if(len(x)%2==1):\n",
    "        #return False\n",
    "    for i in range(len(x)):\n",
    "        if(x[i]==\"{\" or x[i]==\"[\" or x[i]==\"(\"):\n",
    "            s.append(x[i])\n",
    "        if(x[i]==\"}\" or x[i]==\")\" or x[i]==\"]\"):\n",
    "            if(len(s)==0):\n",
    "                return False\n",
    "            else:\n",
    "                a=s.pop()\n",
    "                if(x[i]==\"}\" and a!=\"{\"):\n",
    "                    return False\n",
    "                if(x[i]==\")\" and a!=\"(\"):\n",
    "                    return False\n",
    "                if(x[i]==\"]\" and a!=\"[\"):\n",
    "                    return False\n",
    "    if(len(s)==0):\n",
    "        return True\n",
    "    else:\n",
    "        return False\n",
    "s=\"([]\"\n",
    "if ispar(s):\n",
    "    print(\"Balanced\")\n",
    "else:\n",
    "    print(\"Not Balanced\")\n",
    "                \n",
    "    \n",
    "    "
   ]
  },
  {
   "cell_type": "markdown",
   "metadata": {},
   "source": [
    "# 63. Word break Problem[ Very Imp]"
   ]
  },
  {
   "cell_type": "code",
   "execution_count": 4,
   "metadata": {},
   "outputs": [
    {
     "data": {
      "text/plain": [
       "True"
      ]
     },
     "execution_count": 4,
     "metadata": {},
     "output_type": "execute_result"
    }
   ],
   "source": [
    "B = [\"i\" , \"like\", \"sam\", \"sung\", \"samsung\", \"mobile\", \"ice\" , \"cream\" , \"icecream\", \"man\" , \"go\" , \"mango\"]\n",
    "A = \"ilike\"\n",
    "def wordBreak(line, dictionary):\n",
    "    if(line==\"\"):\n",
    "        return True\n",
    "    for i in range(1,len(line)+1):\n",
    "        if((line[:i] in dictionary) and wordBreak(line[i:],dictionary)):\n",
    "            return True\n",
    "    return False\n",
    "wordBreak(A,B)"
   ]
  },
  {
   "cell_type": "code",
   "execution_count": null,
   "metadata": {},
   "outputs": [],
   "source": []
  },
  {
   "cell_type": "code",
   "execution_count": null,
   "metadata": {},
   "outputs": [],
   "source": []
  },
  {
   "cell_type": "code",
   "execution_count": null,
   "metadata": {},
   "outputs": [],
   "source": []
  },
  {
   "cell_type": "code",
   "execution_count": null,
   "metadata": {},
   "outputs": [],
   "source": []
  },
  {
   "cell_type": "code",
   "execution_count": null,
   "metadata": {},
   "outputs": [],
   "source": []
  }
 ],
 "metadata": {
  "kernelspec": {
   "display_name": "Python 3",
   "language": "python",
   "name": "python3"
  },
  "language_info": {
   "codemirror_mode": {
    "name": "ipython",
    "version": 3
   },
   "file_extension": ".py",
   "mimetype": "text/x-python",
   "name": "python",
   "nbconvert_exporter": "python",
   "pygments_lexer": "ipython3",
   "version": "3.7.11"
  }
 },
 "nbformat": 4,
 "nbformat_minor": 4
}
